{
  "cells": [
    {
      "attachments": {},
      "cell_type": "markdown",
      "metadata": {},
      "source": [
        "# Lecture 2023-02-13"
      ]
    },
    {
      "attachments": {},
      "cell_type": "markdown",
      "metadata": {
        "id": "4hxxGABbPnAG"
      },
      "source": [
        "# Types of variables\n",
        "\n",
        "Variables can be of type:\n",
        "\n",
        "- *numerical* (`integer` or `float`). \n",
        "- *boolean* (`True` or `False`).\n",
        "- *string* (text, always between `''` or `\"\"`).\n",
        "\n",
        "To check the type of a variable, we just need to use function `type`.\n"
      ]
    },
    {
      "cell_type": "code",
      "execution_count": 2,
      "metadata": {
        "colab": {
          "base_uri": "https://localhost:8080/"
        },
        "id": "fYqwWbyTPrs5",
        "outputId": "80c30cf5-465f-4309-e85a-b3cbeae8c31f"
      },
      "outputs": [
        {
          "data": {
            "text/plain": [
              "10"
            ]
          },
          "execution_count": 2,
          "metadata": {},
          "output_type": "execute_result"
        }
      ],
      "source": [
        "x = 10\n",
        "x"
      ]
    },
    {
      "cell_type": "code",
      "execution_count": 3,
      "metadata": {
        "colab": {
          "base_uri": "https://localhost:8080/"
        },
        "id": "EhxqkWmwP65O",
        "outputId": "9c2c9d87-f531-4be4-b66f-65160ac289af"
      },
      "outputs": [
        {
          "data": {
            "text/plain": [
              "2.3"
            ]
          },
          "execution_count": 3,
          "metadata": {},
          "output_type": "execute_result"
        }
      ],
      "source": [
        "x = 2.3\n",
        "x"
      ]
    },
    {
      "cell_type": "code",
      "execution_count": 4,
      "metadata": {
        "colab": {
          "base_uri": "https://localhost:8080/"
        },
        "id": "dIwSHPBSQWVx",
        "outputId": "789014ed-704c-4af2-9f12-36f11ff60c5f"
      },
      "outputs": [
        {
          "data": {
            "text/plain": [
              "float"
            ]
          },
          "execution_count": 4,
          "metadata": {},
          "output_type": "execute_result"
        }
      ],
      "source": [
        "type(x)"
      ]
    },
    {
      "cell_type": "code",
      "execution_count": 5,
      "metadata": {
        "colab": {
          "base_uri": "https://localhost:8080/"
        },
        "id": "avbzmSy2Qaz_",
        "outputId": "0926b0b0-ab0e-41d2-9436-7c76bc0ab9fa"
      },
      "outputs": [
        {
          "data": {
            "text/plain": [
              "2.3"
            ]
          },
          "execution_count": 5,
          "metadata": {},
          "output_type": "execute_result"
        }
      ],
      "source": [
        "x"
      ]
    },
    {
      "cell_type": "code",
      "execution_count": 6,
      "metadata": {
        "id": "T18wUeFdQhKf"
      },
      "outputs": [],
      "source": [
        "x = 10"
      ]
    },
    {
      "cell_type": "code",
      "execution_count": 7,
      "metadata": {
        "colab": {
          "base_uri": "https://localhost:8080/"
        },
        "id": "8IqIJsroRDNo",
        "outputId": "2606310b-799f-4428-c3f4-dd9ad9dcbd8a"
      },
      "outputs": [
        {
          "data": {
            "text/plain": [
              "int"
            ]
          },
          "execution_count": 7,
          "metadata": {},
          "output_type": "execute_result"
        }
      ],
      "source": [
        "type(x)"
      ]
    },
    {
      "cell_type": "code",
      "execution_count": 8,
      "metadata": {
        "colab": {
          "base_uri": "https://localhost:8080/"
        },
        "id": "MBgfmbCxRGTg",
        "outputId": "69d3b5bf-2a22-46dd-fbb4-1f685d63c98e"
      },
      "outputs": [
        {
          "data": {
            "text/plain": [
              "True"
            ]
          },
          "execution_count": 8,
          "metadata": {},
          "output_type": "execute_result"
        }
      ],
      "source": [
        "y = True\n",
        "y"
      ]
    },
    {
      "cell_type": "code",
      "execution_count": 9,
      "metadata": {
        "colab": {
          "base_uri": "https://localhost:8080/"
        },
        "id": "hIXBkc-WRPeh",
        "outputId": "632b4795-ceb0-40f5-9449-45be11e264b5"
      },
      "outputs": [
        {
          "data": {
            "text/plain": [
              "bool"
            ]
          },
          "execution_count": 9,
          "metadata": {},
          "output_type": "execute_result"
        }
      ],
      "source": [
        "type(y)"
      ]
    },
    {
      "attachments": {},
      "cell_type": "markdown",
      "metadata": {},
      "source": [
        "# Lists\n",
        "\n",
        "- Lists are collections of elements (numbers, strings, etc.).\n",
        "- The elements of a list can be accessed through indexing.\n",
        "- Let `l` be a list. To access the element at position `i` (index `i`), we just use:\n",
        "  `l[i]` "
      ]
    },
    {
      "cell_type": "code",
      "execution_count": 10,
      "metadata": {
        "colab": {
          "base_uri": "https://localhost:8080/"
        },
        "id": "iBZhmHcrRSuR",
        "outputId": "1d718c6f-4e18-46ed-a215-fa6df8c260ba"
      },
      "outputs": [
        {
          "data": {
            "text/plain": [
              "[2, 8, 9, 10]"
            ]
          },
          "execution_count": 10,
          "metadata": {},
          "output_type": "execute_result"
        }
      ],
      "source": [
        "x = [2,8, 9, 10]\n",
        "x"
      ]
    },
    {
      "cell_type": "markdown",
      "metadata": {
        "id": "hTATJQ3ISShU"
      },
      "source": [
        "In the following, we get the first element of x"
      ]
    },
    {
      "cell_type": "code",
      "execution_count": 11,
      "metadata": {
        "colab": {
          "base_uri": "https://localhost:8080/"
        },
        "id": "ozZjEDriRq5I",
        "outputId": "0b31b675-e0f8-4bb0-9af5-60a52e2db50e"
      },
      "outputs": [
        {
          "data": {
            "text/plain": [
              "2"
            ]
          },
          "execution_count": 11,
          "metadata": {},
          "output_type": "execute_result"
        }
      ],
      "source": [
        "x[0]"
      ]
    },
    {
      "cell_type": "code",
      "execution_count": 12,
      "metadata": {
        "colab": {
          "base_uri": "https://localhost:8080/"
        },
        "id": "WOjZDhpQR3rG",
        "outputId": "0e6b91f0-ee38-4239-ae31-cb99405235eb"
      },
      "outputs": [
        {
          "data": {
            "text/plain": [
              "9"
            ]
          },
          "execution_count": 12,
          "metadata": {},
          "output_type": "execute_result"
        }
      ],
      "source": [
        "x[2]"
      ]
    },
    {
      "attachments": {},
      "cell_type": "markdown",
      "metadata": {
        "id": "72bGSfhYSljL"
      },
      "source": [
        "The index of the *last* element of a list is `-1`."
      ]
    },
    {
      "cell_type": "code",
      "execution_count": 13,
      "metadata": {
        "colab": {
          "base_uri": "https://localhost:8080/"
        },
        "id": "t8COnoAFSgAE",
        "outputId": "8c5d34b5-e43a-436f-979f-61250813a0ad"
      },
      "outputs": [
        {
          "data": {
            "text/plain": [
              "10"
            ]
          },
          "execution_count": 13,
          "metadata": {},
          "output_type": "execute_result"
        }
      ],
      "source": [
        "x[-1]"
      ]
    },
    {
      "attachments": {},
      "cell_type": "markdown",
      "metadata": {},
      "source": [
        "The element just before the last one has index `-2`, and so on."
      ]
    },
    {
      "cell_type": "code",
      "execution_count": 14,
      "metadata": {},
      "outputs": [
        {
          "data": {
            "text/plain": [
              "9"
            ]
          },
          "execution_count": 14,
          "metadata": {},
          "output_type": "execute_result"
        }
      ],
      "source": [
        "x[-2]"
      ]
    },
    {
      "cell_type": "code",
      "execution_count": 15,
      "metadata": {
        "colab": {
          "base_uri": "https://localhost:8080/"
        },
        "id": "io_VJKK0Sqnr",
        "outputId": "f2d4d623-f10f-4ca7-96b3-f4bdf3fad1ea"
      },
      "outputs": [
        {
          "data": {
            "text/plain": [
              "10"
            ]
          },
          "execution_count": 15,
          "metadata": {},
          "output_type": "execute_result"
        }
      ],
      "source": [
        "x[3]"
      ]
    },
    {
      "attachments": {},
      "cell_type": "markdown",
      "metadata": {},
      "source": [
        "- To get all elements of a list after index `i`, we just need to run `mylist[i:]`. \n",
        "- Notice that element at index `i` is also returned."
      ]
    },
    {
      "cell_type": "code",
      "execution_count": 16,
      "metadata": {
        "colab": {
          "base_uri": "https://localhost:8080/"
        },
        "id": "mtD5aBsaSyHb",
        "outputId": "194458f5-1c02-4ef5-ef4c-f989517b7d9b"
      },
      "outputs": [
        {
          "data": {
            "text/plain": [
              "[8, 9, 10]"
            ]
          },
          "execution_count": 16,
          "metadata": {},
          "output_type": "execute_result"
        }
      ],
      "source": [
        "x[1:]"
      ]
    },
    {
      "attachments": {},
      "cell_type": "markdown",
      "metadata": {},
      "source": [
        "To get all elements of a list from index i (inclusive) to index j (exclusive): `mylist[i:j]`"
      ]
    },
    {
      "cell_type": "code",
      "execution_count": 17,
      "metadata": {
        "colab": {
          "base_uri": "https://localhost:8080/"
        },
        "id": "7b08xqgMTWer",
        "outputId": "f8fdd884-9a3c-4334-875a-6e4cda96c897"
      },
      "outputs": [
        {
          "data": {
            "text/plain": [
              "[8, 9]"
            ]
          },
          "execution_count": 17,
          "metadata": {},
          "output_type": "execute_result"
        }
      ],
      "source": [
        "x[1:3]"
      ]
    },
    {
      "cell_type": "code",
      "execution_count": null,
      "metadata": {
        "colab": {
          "base_uri": "https://localhost:8080/"
        },
        "id": "uuyC9PyGS87T",
        "outputId": "56bfcc1a-06c4-40df-efc7-f999eb650cef"
      },
      "outputs": [
        {
          "data": {
            "text/plain": [
              "[8, 9]"
            ]
          },
          "execution_count": 16,
          "metadata": {},
          "output_type": "execute_result"
        }
      ],
      "source": [
        "x[1:-1]"
      ]
    },
    {
      "attachments": {},
      "cell_type": "markdown",
      "metadata": {
        "id": "qai2MMRJUCMM"
      },
      "source": [
        "# Very first steps (Exercises booklet)\n",
        "## Exercise 1\n",
        "\n",
        "We can use a variable `msg` or not."
      ]
    },
    {
      "cell_type": "code",
      "execution_count": null,
      "metadata": {
        "colab": {
          "base_uri": "https://localhost:8080/"
        },
        "id": "bQvrIjoKUFHO",
        "outputId": "3c13a890-f6c9-404d-d8b4-6ceac2ee818c"
      },
      "outputs": [
        {
          "name": "stdout",
          "output_type": "stream",
          "text": [
            "Hello world!\n"
          ]
        }
      ],
      "source": [
        "msg = 'Hello world!'\n",
        "print(msg)"
      ]
    },
    {
      "cell_type": "code",
      "execution_count": null,
      "metadata": {
        "colab": {
          "base_uri": "https://localhost:8080/"
        },
        "id": "CfRa5ZRRUTxb",
        "outputId": "8730c7d0-c180-402a-c684-bf37b4557f39"
      },
      "outputs": [
        {
          "name": "stdout",
          "output_type": "stream",
          "text": [
            "Hello world!\n"
          ]
        }
      ],
      "source": [
        "print('Hello world!')"
      ]
    },
    {
      "attachments": {},
      "cell_type": "markdown",
      "metadata": {},
      "source": [
        "# Lists (Exercises booklet)\n",
        "## Exercise 3-a)"
      ]
    },
    {
      "cell_type": "code",
      "execution_count": 22,
      "metadata": {
        "colab": {
          "base_uri": "https://localhost:8080/"
        },
        "id": "hFHmmCS3UavT",
        "outputId": "ddd3431e-122b-407a-9298-740bec4ee99d"
      },
      "outputs": [
        {
          "data": {
            "text/plain": [
              "[0, 1, 2, 3, 4, 5, 6, 7, 8, 9, 10]"
            ]
          },
          "execution_count": 22,
          "metadata": {},
          "output_type": "execute_result"
        }
      ],
      "source": [
        "l = [0, 1, 2, 3, 4, 5, 6, 7, 8, 9, 10]\n",
        "l"
      ]
    },
    {
      "attachments": {},
      "cell_type": "markdown",
      "metadata": {},
      "source": [
        "## Exercise 3-b)\n",
        "\n",
        "Notice that `range(k)` does not include `k` in the range it creates."
      ]
    },
    {
      "cell_type": "code",
      "execution_count": 20,
      "metadata": {
        "colab": {
          "base_uri": "https://localhost:8080/"
        },
        "id": "VVd87OSbUtkz",
        "outputId": "8fb9f574-75f2-4295-caf9-2a8f4e7dfbad"
      },
      "outputs": [
        {
          "data": {
            "text/plain": [
              "[0, 1, 2, 3, 4, 5, 6, 7, 8, 9, 10]"
            ]
          },
          "execution_count": 20,
          "metadata": {},
          "output_type": "execute_result"
        }
      ],
      "source": [
        "l = list(range(10+1))\n",
        "l"
      ]
    },
    {
      "attachments": {},
      "cell_type": "markdown",
      "metadata": {},
      "source": [
        "## Exercise 3-c)"
      ]
    },
    {
      "cell_type": "code",
      "execution_count": 21,
      "metadata": {
        "colab": {
          "base_uri": "https://localhost:8080/"
        },
        "id": "rZtvpSv7VJCC",
        "outputId": "3281c91c-ad7a-421f-976c-95717ff5128a"
      },
      "outputs": [
        {
          "data": {
            "text/plain": [
              "list"
            ]
          },
          "execution_count": 21,
          "metadata": {},
          "output_type": "execute_result"
        }
      ],
      "source": [
        "type(l)"
      ]
    },
    {
      "attachments": {},
      "cell_type": "markdown",
      "metadata": {
        "id": "nEbNNoQpVdQ0"
      },
      "source": [
        "# FOR loop (Exercises booklet)\n",
        "## Exercise 5"
      ]
    },
    {
      "cell_type": "code",
      "execution_count": 18,
      "metadata": {
        "id": "Uu5g4F6yVY3L"
      },
      "outputs": [
        {
          "name": "stdout",
          "output_type": "stream",
          "text": [
            "The score of Mary is 9.\n",
            "The score of John is 18.\n",
            "The score of Catherine is 19.\n"
          ]
        }
      ],
      "source": [
        "names = ['Mary', 'John', 'Catherine']\n",
        "marks = [9, 18, 19]\n",
        "\n",
        "print(f'The score of {names[0]} is {marks[0]}.')\n",
        "print(f'The score of {names[1]} is {marks[1]}.')\n",
        "print(f'The score of {names[2]} is {marks[2]}.')"
      ]
    },
    {
      "attachments": {},
      "cell_type": "markdown",
      "metadata": {},
      "source": [
        "- The `for` loop is central to all programming language, as:\n",
        "  - It allows us to program repetitive operations using a very compact piece of code.\n",
        "\n",
        "- In the following code cell, the variable `i` will successively assume the values in the specified range. \n",
        "- Function `len` gives us the length of the list names.\n",
        "- The length of the list names is `3` (it has 3 elements). Hence, `range(len(names))` is equivalent to `range(3)`.\n",
        "- `range(3)` corresponds to the list `[0, 1, 2]`.\n",
        "- As we can see, `i` will take, successively, the values of the range, i.e., 0, 1 and 3."
      ]
    },
    {
      "cell_type": "code",
      "execution_count": null,
      "metadata": {
        "colab": {
          "base_uri": "https://localhost:8080/"
        },
        "id": "F3Tt8i4uW2g_",
        "outputId": "bf1836b4-88ad-4855-e346-61c0e8f1ae17"
      },
      "outputs": [
        {
          "name": "stdout",
          "output_type": "stream",
          "text": [
            "0\n",
            "1\n",
            "2\n"
          ]
        }
      ],
      "source": [
        "for i in range(len(names)):\n",
        "  print(i)"
      ]
    },
    {
      "cell_type": "code",
      "execution_count": null,
      "metadata": {
        "colab": {
          "base_uri": "https://localhost:8080/"
        },
        "id": "jFESZF0rZghM",
        "outputId": "81f12bd0-84a6-47ed-a715-4e2f0b154dd5"
      },
      "outputs": [
        {
          "name": "stdout",
          "output_type": "stream",
          "text": [
            "The score of Mary is 9.\n",
            "The score of John is 18.\n",
            "The score of Catherine is 19.\n"
          ]
        }
      ],
      "source": [
        "for i in range(len(names)):\n",
        "  print(f'The score of {names[i]} is {marks[i]}.')"
      ]
    },
    {
      "attachments": {},
      "cell_type": "markdown",
      "metadata": {},
      "source": [
        "## Exercise 6\n",
        "\n",
        "- This exercise needs the construction `if ... else`.\n",
        "- This construction works as follows:\n",
        "\n",
        "  `if (logical condition):`\n",
        "\n",
        "   &nbsp;&nbsp;&nbsp;&nbsp;`do this if the logical condition is True`\n",
        "  \n",
        "  `else:`\n",
        "  \n",
        "   &nbsp;&nbsp;&nbsp;&nbsp;`do this if the logical condition is False`"
      ]
    },
    {
      "cell_type": "code",
      "execution_count": null,
      "metadata": {
        "colab": {
          "base_uri": "https://localhost:8080/"
        },
        "id": "PaRW1Rl5aIaw",
        "outputId": "4f2306b4-837d-41b0-b872-74542338e0f9"
      },
      "outputs": [
        {
          "name": "stdout",
          "output_type": "stream",
          "text": [
            "The score of Mary is 9. Keep studying!\n",
            "The score of John is 18. Congratulations!\n",
            "The score of Catherine is 19. Congratulations!\n"
          ]
        }
      ],
      "source": [
        "for i in range(len(names)):\n",
        "  if (marks[i] < 10):\n",
        "    greeting = 'Keep studying!'\n",
        "  else:\n",
        "    greeting = 'Congratulations!'\n",
        "\n",
        "  print(f'The score of {names[i]} is {marks[i]}. {greeting}')\n"
      ]
    },
    {
      "attachments": {},
      "cell_type": "markdown",
      "metadata": {},
      "source": [
        "## Exercise 7"
      ]
    },
    {
      "cell_type": "code",
      "execution_count": null,
      "metadata": {
        "id": "sPfuGvqVfgDT"
      },
      "outputs": [],
      "source": [
        "names = ['Mary', 'John', 'Catherine']\n",
        "course1 = [15, 18, 19]\n",
        "course2 = [18, 19, 14]\n",
        "course3 = [14, 16, 17]\n",
        "credits = [6, 4.5, 3] # of the above courses, respectively"
      ]
    },
    {
      "cell_type": "code",
      "execution_count": null,
      "metadata": {
        "colab": {
          "base_uri": "https://localhost:8080/"
        },
        "id": "Dm0RFBt2g4dD",
        "outputId": "e702576b-131e-45a7-bcad-ac15271069b6"
      },
      "outputs": [
        {
          "data": {
            "text/plain": [
              "15.78"
            ]
          },
          "execution_count": 37,
          "metadata": {},
          "output_type": "execute_result"
        }
      ],
      "source": [
        "w_avg_mary = round((course1[0]*credits[0] +\n",
        "               course2[0]*credits[1] + \n",
        "               course3[0]*credits[2]) / sum(credits), 2)\n",
        "w_avg_mary"
      ]
    },
    {
      "cell_type": "code",
      "execution_count": null,
      "metadata": {
        "colab": {
          "base_uri": "https://localhost:8080/"
        },
        "id": "x61nVuQ3iAuq",
        "outputId": "0e08c80e-c9b2-4480-d0ee-fd1a9400662f"
      },
      "outputs": [
        {
          "data": {
            "text/plain": [
              "14.898"
            ]
          },
          "execution_count": 39,
          "metadata": {},
          "output_type": "execute_result"
        }
      ],
      "source": [
        "round(14.8975,3)"
      ]
    },
    {
      "cell_type": "code",
      "execution_count": null,
      "metadata": {
        "colab": {
          "base_uri": "https://localhost:8080/"
        },
        "id": "L7J1bXQJi8sQ",
        "outputId": "ab667da3-291d-4e00-f883-5285b8030beb"
      },
      "outputs": [
        {
          "name": "stdout",
          "output_type": "stream",
          "text": [
            "The weighted average of Mary is 15.78.\n",
            "The weighted average of John is 17.89.\n",
            "The weighted average of Catherine is 16.89.\n"
          ]
        }
      ],
      "source": [
        "for i in range(len(names)):\n",
        "  w_avg = round((course1[i]*credits[0] +\n",
        "               course2[i]*credits[1] + \n",
        "               course3[i]*credits[2]) / sum(credits), 2)\n",
        "  \n",
        "  print(f'The weighted average of {names[i]} is {w_avg}.')"
      ]
    },
    {
      "attachments": {},
      "cell_type": "markdown",
      "metadata": {},
      "source": [
        "# List comprehension (Exercises booklet)\n",
        "## Exercise 8"
      ]
    },
    {
      "cell_type": "code",
      "execution_count": null,
      "metadata": {
        "colab": {
          "base_uri": "https://localhost:8080/"
        },
        "id": "CyvdmvUkkdq2",
        "outputId": "de4291bd-2617-41e5-9936-8266ee0976eb"
      },
      "outputs": [
        {
          "data": {
            "text/plain": [
              "[4, 3, 1, 5]"
            ]
          },
          "execution_count": 41,
          "metadata": {},
          "output_type": "execute_result"
        }
      ],
      "source": [
        "mylist = [4, 3, 1, 5]\n",
        "mylist"
      ]
    },
    {
      "cell_type": "code",
      "execution_count": null,
      "metadata": {
        "colab": {
          "base_uri": "https://localhost:8080/"
        },
        "id": "BaVIblDCkp6V",
        "outputId": "9ed18c87-f96b-4c54-eb05-194d45e02b1d"
      },
      "outputs": [
        {
          "data": {
            "text/plain": [
              "[16, 9, 1, 25]"
            ]
          },
          "execution_count": 42,
          "metadata": {},
          "output_type": "execute_result"
        }
      ],
      "source": [
        "[x**2 for x in mylist]"
      ]
    },
    {
      "attachments": {},
      "cell_type": "markdown",
      "metadata": {
        "id": "lscWzQQZlsLM"
      },
      "source": [
        "# Dictionaries (Exercises booklet)\n",
        "\n",
        "- Dictionaries are useful, as they can store information that can be retrieved by using a *key*.\n",
        "- For instance, with dictionary `d`, defined as \n",
        "\n",
        "  `d = {'a': 4, 'b': 2, 'c': 5}`\n",
        "\n",
        "  we can access the second element by using is key, `'b'`, in the following way:\n",
        "\n",
        "  `d['b]`\n",
        "\n",
        "## Exercise 9-a)"
      ]
    },
    {
      "cell_type": "code",
      "execution_count": null,
      "metadata": {
        "colab": {
          "base_uri": "https://localhost:8080/"
        },
        "id": "A3ENJHVIk6QN",
        "outputId": "ba1d01f4-be66-472d-ef98-6bef799c684d"
      },
      "outputs": [
        {
          "data": {
            "text/plain": [
              "{'Mary': 15, 'John': 18, 'Catherine': 19}"
            ]
          },
          "execution_count": 43,
          "metadata": {},
          "output_type": "execute_result"
        }
      ],
      "source": [
        "d = {'Mary': 15, 'John': 18, 'Catherine': 19}\n",
        "d"
      ]
    },
    {
      "cell_type": "code",
      "execution_count": null,
      "metadata": {
        "colab": {
          "base_uri": "https://localhost:8080/"
        },
        "id": "JEyaKUOcldd8",
        "outputId": "9b5d0091-d40b-4328-855a-a5be0af472cc"
      },
      "outputs": [
        {
          "data": {
            "text/plain": [
              "18"
            ]
          },
          "execution_count": 44,
          "metadata": {},
          "output_type": "execute_result"
        }
      ],
      "source": [
        "d['John']"
      ]
    },
    {
      "attachments": {},
      "cell_type": "markdown",
      "metadata": {
        "id": "zGDPTAnclxC8"
      },
      "source": [
        "# Tuples\n",
        "\n",
        "- Tuples area very similar to lists, but they area *unchangeable*. We can create them by using `()`.\n",
        "\n",
        "- Indexing works similarly to indexing in lists."
      ]
    },
    {
      "cell_type": "code",
      "execution_count": null,
      "metadata": {
        "colab": {
          "base_uri": "https://localhost:8080/"
        },
        "id": "0iWM5iaJlzCb",
        "outputId": "693adeab-d498-44d6-c567-558ba6e9fca7"
      },
      "outputs": [
        {
          "data": {
            "text/plain": [
              "(4, 7, 9)"
            ]
          },
          "execution_count": 45,
          "metadata": {},
          "output_type": "execute_result"
        }
      ],
      "source": [
        "t = (4, 7, 9)\n",
        "t"
      ]
    },
    {
      "cell_type": "code",
      "execution_count": null,
      "metadata": {
        "colab": {
          "base_uri": "https://localhost:8080/"
        },
        "id": "Zfs1i189l6nj",
        "outputId": "89f8ecfc-48a8-45f4-eb38-346a869dc4a0"
      },
      "outputs": [
        {
          "data": {
            "text/plain": [
              "9"
            ]
          },
          "execution_count": 46,
          "metadata": {},
          "output_type": "execute_result"
        }
      ],
      "source": [
        "t[2]"
      ]
    },
    {
      "attachments": {},
      "cell_type": "markdown",
      "metadata": {},
      "source": [
        "Tuples are *unchangeable*. Therefore, when we try to change them, Python returns an error."
      ]
    },
    {
      "cell_type": "code",
      "execution_count": null,
      "metadata": {
        "colab": {
          "base_uri": "https://localhost:8080/",
          "height": 168
        },
        "id": "e_1s3-MmmG9b",
        "outputId": "e17d1722-9508-4f11-d591-591baefb247f"
      },
      "outputs": [
        {
          "ename": "TypeError",
          "evalue": "ignored",
          "output_type": "error",
          "traceback": [
            "\u001b[0;31m---------------------------------------------------------------------------\u001b[0m",
            "\u001b[0;31mTypeError\u001b[0m                                 Traceback (most recent call last)",
            "\u001b[0;32m<ipython-input-47-07ce4274e407>\u001b[0m in \u001b[0;36m<module>\u001b[0;34m\u001b[0m\n\u001b[0;32m----> 1\u001b[0;31m \u001b[0mt\u001b[0m\u001b[0;34m[\u001b[0m\u001b[0;36m2\u001b[0m\u001b[0;34m]\u001b[0m \u001b[0;34m=\u001b[0m \u001b[0;36m10\u001b[0m\u001b[0;34m\u001b[0m\u001b[0;34m\u001b[0m\u001b[0m\n\u001b[0m",
            "\u001b[0;31mTypeError\u001b[0m: 'tuple' object does not support item assignment"
          ]
        }
      ],
      "source": [
        "t[2] = 10"
      ]
    },
    {
      "attachments": {},
      "cell_type": "markdown",
      "metadata": {
        "id": "59KZ5xwRmSDQ"
      },
      "source": [
        "While tuples *cannot* be changed, lists *can*."
      ]
    },
    {
      "cell_type": "code",
      "execution_count": null,
      "metadata": {
        "colab": {
          "base_uri": "https://localhost:8080/"
        },
        "id": "_dKmAH3gmLxT",
        "outputId": "2a8d144a-8250-4b33-caa4-2bccee643837"
      },
      "outputs": [
        {
          "data": {
            "text/plain": [
              "['Mary', 'John', 'Catherine']"
            ]
          },
          "execution_count": 48,
          "metadata": {},
          "output_type": "execute_result"
        }
      ],
      "source": [
        "names2 = names\n",
        "names2"
      ]
    },
    {
      "cell_type": "code",
      "execution_count": null,
      "metadata": {
        "id": "8xegEPO_mq4r"
      },
      "outputs": [],
      "source": [
        "names2[1] = 'Peter'"
      ]
    },
    {
      "cell_type": "code",
      "execution_count": null,
      "metadata": {
        "colab": {
          "base_uri": "https://localhost:8080/"
        },
        "id": "U_pD0Hoamxjb",
        "outputId": "be0cfae2-a885-47af-b5e0-ec2257b2b0a2"
      },
      "outputs": [
        {
          "data": {
            "text/plain": [
              "['Mary', 'Peter', 'Catherine']"
            ]
          },
          "execution_count": 50,
          "metadata": {},
          "output_type": "execute_result"
        }
      ],
      "source": [
        "names2"
      ]
    },
    {
      "attachments": {},
      "cell_type": "markdown",
      "metadata": {},
      "source": [
        "## Zip function\n",
        "\n",
        "- This function is useful, as it allows us to bind lists together pairwise.\n",
        "\n",
        "- For instance:"
      ]
    },
    {
      "cell_type": "code",
      "execution_count": 23,
      "metadata": {},
      "outputs": [
        {
          "data": {
            "text/plain": [
              "<zip at 0x7f0e781473c0>"
            ]
          },
          "execution_count": 23,
          "metadata": {},
          "output_type": "execute_result"
        }
      ],
      "source": [
        "l1 = ['a', 'b', 'c']\n",
        "l2 = [1, 4, 2]\n",
        "\n",
        "zip(l1, l2)"
      ]
    },
    {
      "attachments": {},
      "cell_type": "markdown",
      "metadata": {},
      "source": [
        "- We do not see the result of `zip` function.\n",
        "\n",
        "- However, we can use list comprehension to see the contents of the result of the `zip` function."
      ]
    },
    {
      "cell_type": "code",
      "execution_count": 24,
      "metadata": {},
      "outputs": [
        {
          "data": {
            "text/plain": [
              "[('a', 1), ('b', 4), ('c', 2)]"
            ]
          },
          "execution_count": 24,
          "metadata": {},
          "output_type": "execute_result"
        }
      ],
      "source": [
        "[x for x in zip(l1, l2)]"
      ]
    },
    {
      "attachments": {},
      "cell_type": "markdown",
      "metadata": {},
      "source": [
        "- As can be seen, each element of the result of the `zip` function is a tuple,\n",
        "\n",
        "  - Which contains the element of `l1` and its *respective* element of `l2`."
      ]
    },
    {
      "cell_type": "code",
      "execution_count": null,
      "metadata": {
        "colab": {
          "base_uri": "https://localhost:8080/"
        },
        "id": "h-mA_lbomzsD",
        "outputId": "e5f93cbd-78e1-4bcf-ea14-b934c34ca7e8"
      },
      "outputs": [
        {
          "data": {
            "text/plain": [
              "[('Mary', 9), ('Peter', 18), ('Catherine', 19)]"
            ]
          },
          "execution_count": 52,
          "metadata": {},
          "output_type": "execute_result"
        }
      ],
      "source": [
        "[x for x in zip(names, marks)]"
      ]
    },
    {
      "attachments": {},
      "cell_type": "markdown",
      "metadata": {},
      "source": [
        "## Exercise 9-d)\n",
        "\n",
        "We see here how to create a dictionary by using functions `dict` and `zip`."
      ]
    },
    {
      "cell_type": "code",
      "execution_count": null,
      "metadata": {
        "colab": {
          "base_uri": "https://localhost:8080/"
        },
        "id": "SmPjuISnnE47",
        "outputId": "f40356d8-a68c-41bf-fd64-f099eb81b837"
      },
      "outputs": [
        {
          "data": {
            "text/plain": [
              "{'Mary': 9, 'Peter': 18, 'Catherine': 19}"
            ]
          },
          "execution_count": 53,
          "metadata": {},
          "output_type": "execute_result"
        }
      ],
      "source": [
        "d2 = dict(zip(names, marks))\n",
        "d2"
      ]
    },
    {
      "attachments": {},
      "cell_type": "markdown",
      "metadata": {
        "id": "PS0VDEPFoztD"
      },
      "source": [
        "## Exercise 9-c)\n",
        "\n",
        "- Dictionary comprehension works similarly to the way list comprehension works.\n",
        "\n",
        "- Since each element of the result of `zip` function is a tuple and tuple indexing is similar to list indexing, \n",
        "\n",
        "  - `x[0]` contains the element of `names`, and\n",
        "\n",
        "  - `x[1]` contains the element of `marks`, when\n",
        "\n",
        "  - `x` is the element of the result of `zip(names, marks)`."
      ]
    },
    {
      "cell_type": "code",
      "execution_count": null,
      "metadata": {
        "colab": {
          "base_uri": "https://localhost:8080/"
        },
        "id": "nkLVE4ElnfB7",
        "outputId": "be39c0fe-4692-4801-e38f-63146f05da36"
      },
      "outputs": [
        {
          "data": {
            "text/plain": [
              "{'Mary': 9, 'Peter': 18, 'Catherine': 19}"
            ]
          },
          "execution_count": 54,
          "metadata": {},
          "output_type": "execute_result"
        }
      ],
      "source": [
        "{x[0]: x[1] for x in zip(names, marks)}"
      ]
    },
    {
      "cell_type": "code",
      "execution_count": null,
      "metadata": {
        "id": "2rRyRPAAnytr"
      },
      "outputs": [],
      "source": []
    }
  ],
  "metadata": {
    "colab": {
      "provenance": []
    },
    "kernelspec": {
      "display_name": "r-reticulate",
      "language": "python",
      "name": "python3"
    },
    "language_info": {
      "codemirror_mode": {
        "name": "ipython",
        "version": 3
      },
      "file_extension": ".py",
      "mimetype": "text/x-python",
      "name": "python",
      "nbconvert_exporter": "python",
      "pygments_lexer": "ipython3",
      "version": "3.11.1"
    },
    "vscode": {
      "interpreter": {
        "hash": "a25e42544e91015ebbdb940eaa0a5ea4d5aa90b04c871b91691d03ed65b76a5a"
      }
    }
  },
  "nbformat": 4,
  "nbformat_minor": 0
}
