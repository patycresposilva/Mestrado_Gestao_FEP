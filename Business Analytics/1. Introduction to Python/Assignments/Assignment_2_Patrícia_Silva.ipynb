{
  "nbformat": 4,
  "nbformat_minor": 0,
  "metadata": {
    "colab": {
      "provenance": []
    },
    "kernelspec": {
      "name": "python3",
      "display_name": "Python 3"
    },
    "language_info": {
      "name": "python"
    }
  },
  "cells": [
    {
      "cell_type": "markdown",
      "source": [
        "EXERCISE 12 d)"
      ],
      "metadata": {
        "id": "7jJ7t6XCVZWJ"
      }
    },
    {
      "cell_type": "code",
      "source": [
        "import numpy as np #do this only once"
      ],
      "metadata": {
        "id": "fWmO5BvHVh9n"
      },
      "execution_count": null,
      "outputs": []
    },
    {
      "cell_type": "code",
      "execution_count": null,
      "metadata": {
        "id": "T1zedfCgUtsR"
      },
      "outputs": [],
      "source": [
        "np.random.seed(7548)\n",
        "a = np.random.randint(2, 30+1, size=3*4)\n",
        "a = a.reshape(3,4)"
      ]
    },
    {
      "cell_type": "markdown",
      "source": [
        "d) Obtain a numpy array, which, per column, counts the number of elements lower than 20"
      ],
      "metadata": {
        "id": "Rzwc_WnbVrWV"
      }
    },
    {
      "cell_type": "code",
      "source": [
        "np.sum(a < 20, axis=0)"
      ],
      "metadata": {
        "colab": {
          "base_uri": "https://localhost:8080/"
        },
        "id": "SW1M61y4VX0e",
        "outputId": "644459a0-dd49-488f-f8db-144d82c38dc7"
      },
      "execution_count": null,
      "outputs": [
        {
          "output_type": "execute_result",
          "data": {
            "text/plain": [
              "array([2, 2, 2, 3])"
            ]
          },
          "metadata": {},
          "execution_count": 4
        }
      ]
    }
  ]
}