{
  "nbformat": 4,
  "nbformat_minor": 0,
  "metadata": {
    "colab": {
      "provenance": []
    },
    "kernelspec": {
      "name": "python3",
      "display_name": "Python 3"
    },
    "language_info": {
      "name": "python"
    }
  },
  "cells": [
    {
      "cell_type": "code",
      "execution_count": null,
      "metadata": {
        "id": "buGJD6wlp8h8"
      },
      "outputs": [],
      "source": [
        "ASSIGNMENT_PATRÍCIA_SILVA"
      ]
    },
    {
      "cell_type": "code",
      "source": [
        "d = {'apple':2, 'orange':10, 'bananas':5}"
      ],
      "metadata": {
        "id": "yQjZ9oqVp_0w"
      },
      "execution_count": null,
      "outputs": []
    },
    {
      "cell_type": "code",
      "source": [
        "fruits = ['apple', 'orange', 'bananas']\n",
        "quantities = [2, 10, 5]"
      ],
      "metadata": {
        "id": "6v8JhpUcqco1"
      },
      "execution_count": null,
      "outputs": []
    },
    {
      "cell_type": "code",
      "source": [
        "fruits_manual_enum = fruits\n",
        "fruits_manual_enum"
      ],
      "metadata": {
        "colab": {
          "base_uri": "https://localhost:8080/"
        },
        "id": "lB9UgrDdqpAn",
        "outputId": "bdddcc43-bda8-4f28-ee0f-bac9a2fbbcd4"
      },
      "execution_count": null,
      "outputs": [
        {
          "output_type": "execute_result",
          "data": {
            "text/plain": [
              "['apple', 'orange', 'bananas']"
            ]
          },
          "metadata": {},
          "execution_count": 8
        }
      ]
    },
    {
      "cell_type": "code",
      "source": [
        "[x for x in zip(fruits, quantities)]"
      ],
      "metadata": {
        "colab": {
          "base_uri": "https://localhost:8080/"
        },
        "id": "6GpSG2terdz_",
        "outputId": "8e83800c-e97f-4c5e-eee3-cc3cd5a11901"
      },
      "execution_count": null,
      "outputs": [
        {
          "output_type": "execute_result",
          "data": {
            "text/plain": [
              "[('apple', 2), ('orange', 10), ('bananas', 5)]"
            ]
          },
          "metadata": {},
          "execution_count": 9
        }
      ]
    },
    {
      "cell_type": "code",
      "source": [
        "fruits_dict = dict(zip(fruits, quantities))\n",
        "fruits_dict"
      ],
      "metadata": {
        "colab": {
          "base_uri": "https://localhost:8080/"
        },
        "id": "75fvqY2qsSJi",
        "outputId": "d18d1078-d4de-46e0-fd1a-4c0316ac0ac2"
      },
      "execution_count": null,
      "outputs": [
        {
          "output_type": "execute_result",
          "data": {
            "text/plain": [
              "{'apple': 2, 'orange': 10, 'bananas': 5}"
            ]
          },
          "metadata": {},
          "execution_count": 10
        }
      ]
    },
    {
      "cell_type": "code",
      "source": [
        "{x[0] : x[1] for x in zip (fruits, quantities)}"
      ],
      "metadata": {
        "colab": {
          "base_uri": "https://localhost:8080/"
        },
        "id": "DB6sf7yMss_s",
        "outputId": "c7dde738-2b3f-4bdd-9bd5-675a57a5a38a"
      },
      "execution_count": null,
      "outputs": [
        {
          "output_type": "execute_result",
          "data": {
            "text/plain": [
              "{'apple': 2, 'orange': 10, 'bananas': 5}"
            ]
          },
          "metadata": {},
          "execution_count": 11
        }
      ]
    }
  ]
}