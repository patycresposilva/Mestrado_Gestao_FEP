{
  "nbformat": 4,
  "nbformat_minor": 0,
  "metadata": {
    "colab": {
      "provenance": []
    },
    "kernelspec": {
      "name": "python3",
      "display_name": "Python 3"
    },
    "language_info": {
      "name": "python"
    }
  },
  "cells": [
    {
      "cell_type": "markdown",
      "source": [
        "# LECTURE 13-02-2023"
      ],
      "metadata": {
        "id": "UZiV4d3tKC45"
      }
    },
    {
      "cell_type": "markdown",
      "source": [
        "## VERY FIRST STEPS"
      ],
      "metadata": {
        "id": "yLskkmDsLuF2"
      }
    },
    {
      "cell_type": "markdown",
      "source": [
        "Exercise 1\n",
        "\n",
        "We can use a variable `msg` or not."
      ],
      "metadata": {
        "id": "C-6OKeARMfcR"
      }
    },
    {
      "cell_type": "code",
      "source": [
        "msg = 'Hello World!'\n",
        "print(msg)"
      ],
      "metadata": {
        "colab": {
          "base_uri": "https://localhost:8080/"
        },
        "id": "RWbjFeeKMywg",
        "outputId": "308f4a9e-6eb4-4d11-e4ff-691358dc6dda"
      },
      "execution_count": null,
      "outputs": [
        {
          "output_type": "stream",
          "name": "stdout",
          "text": [
            "Hello World!\n"
          ]
        }
      ]
    },
    {
      "cell_type": "code",
      "source": [
        "print('Hello World!')"
      ],
      "metadata": {
        "colab": {
          "base_uri": "https://localhost:8080/"
        },
        "id": "CFKzOQ47M5wO",
        "outputId": "8c178d8d-5ce9-4b81-ae1b-1af00791564a"
      },
      "execution_count": null,
      "outputs": [
        {
          "output_type": "stream",
          "name": "stdout",
          "text": [
            "Hello World!\n"
          ]
        }
      ]
    },
    {
      "cell_type": "markdown",
      "source": [
        "# Types of variables\n",
        "\n",
        "Variables can be of type:\n",
        "\n",
        "\n",
        "* *numerical* (`integer` or `float`)\n",
        "* *boolean* (`True` or `False`)\n",
        "* *string* (text always between `''` or `\"\"`)\n",
        "\n",
        "To check the type of the variable we just need to use the function `type`.\n",
        "\n",
        "\n"
      ],
      "metadata": {
        "id": "Z3H-Gd9lKLly"
      }
    },
    {
      "cell_type": "markdown",
      "source": [
        "Exercise 2"
      ],
      "metadata": {
        "id": "37SuU89hOdC_"
      }
    },
    {
      "cell_type": "code",
      "execution_count": null,
      "metadata": {
        "colab": {
          "base_uri": "https://localhost:8080/"
        },
        "id": "VQKpaBvPJ45p",
        "outputId": "b20ec52f-468e-4b87-9d9f-1c369252be1b"
      },
      "outputs": [
        {
          "output_type": "execute_result",
          "data": {
            "text/plain": [
              "10"
            ]
          },
          "metadata": {},
          "execution_count": 1
        }
      ],
      "source": [
        "x = 10\n",
        "x"
      ]
    },
    {
      "cell_type": "code",
      "source": [
        "type(x)"
      ],
      "metadata": {
        "colab": {
          "base_uri": "https://localhost:8080/"
        },
        "id": "J0RynD9MLMLU",
        "outputId": "74efe2b6-b6df-401a-ea66-bc35f44fe8aa"
      },
      "execution_count": null,
      "outputs": [
        {
          "output_type": "execute_result",
          "data": {
            "text/plain": [
              "int"
            ]
          },
          "metadata": {},
          "execution_count": 2
        }
      ]
    },
    {
      "cell_type": "code",
      "source": [
        "x = 2.3\n",
        "x"
      ],
      "metadata": {
        "colab": {
          "base_uri": "https://localhost:8080/"
        },
        "id": "41Wo991lLRT8",
        "outputId": "726ae5b9-3677-4e4c-9634-c8f61448e7fa"
      },
      "execution_count": null,
      "outputs": [
        {
          "output_type": "execute_result",
          "data": {
            "text/plain": [
              "2.3"
            ]
          },
          "metadata": {},
          "execution_count": 3
        }
      ]
    },
    {
      "cell_type": "code",
      "source": [
        "type(x)"
      ],
      "metadata": {
        "colab": {
          "base_uri": "https://localhost:8080/"
        },
        "id": "V57mJcHgLTBa",
        "outputId": "ff8cd730-1f2d-4c23-c252-716b7171ee44"
      },
      "execution_count": null,
      "outputs": [
        {
          "output_type": "execute_result",
          "data": {
            "text/plain": [
              "float"
            ]
          },
          "metadata": {},
          "execution_count": 4
        }
      ]
    },
    {
      "cell_type": "code",
      "source": [
        "w = \"Pedro\"\n",
        "w"
      ],
      "metadata": {
        "colab": {
          "base_uri": "https://localhost:8080/",
          "height": 36
        },
        "id": "lSWLtoQMLeUH",
        "outputId": "5c51fffa-db23-4de8-eeea-2ea24e04c637"
      },
      "execution_count": null,
      "outputs": [
        {
          "output_type": "execute_result",
          "data": {
            "text/plain": [
              "'Pedro'"
            ],
            "application/vnd.google.colaboratory.intrinsic+json": {
              "type": "string"
            }
          },
          "metadata": {},
          "execution_count": 9
        }
      ]
    },
    {
      "cell_type": "code",
      "source": [
        "type(w)"
      ],
      "metadata": {
        "colab": {
          "base_uri": "https://localhost:8080/"
        },
        "id": "VzcdZX8kLm7B",
        "outputId": "8e9ada4e-a222-417f-8c1c-24655b81f891"
      },
      "execution_count": null,
      "outputs": [
        {
          "output_type": "execute_result",
          "data": {
            "text/plain": [
              "str"
            ]
          },
          "metadata": {},
          "execution_count": 10
        }
      ]
    },
    {
      "cell_type": "code",
      "source": [
        "y = True"
      ],
      "metadata": {
        "id": "cHdsqWf-LUIK"
      },
      "execution_count": null,
      "outputs": []
    },
    {
      "cell_type": "code",
      "source": [
        "type(y)"
      ],
      "metadata": {
        "colab": {
          "base_uri": "https://localhost:8080/"
        },
        "id": "ZAB2Z6AZLZ9E",
        "outputId": "c926199d-1a18-45da-cd39-ad0c96cc9aa9"
      },
      "execution_count": null,
      "outputs": [
        {
          "output_type": "execute_result",
          "data": {
            "text/plain": [
              "bool"
            ]
          },
          "metadata": {},
          "execution_count": 7
        }
      ]
    },
    {
      "cell_type": "markdown",
      "source": [
        "## LISTS\n",
        "\n",
        "\n",
        "\n",
        "1. Lists are collections of elements (numbers, strings, etc.)\n",
        "2. The elements of a list can be accessed trhough indexing.\n",
        "3. Let `1` be a list. To access the element at position `i`(index`i`), we just use: `1[i]`\n",
        "\n"
      ],
      "metadata": {
        "id": "oOwdqJalLzBT"
      }
    },
    {
      "cell_type": "code",
      "source": [
        "x = [2,8,9,10]\n",
        "x"
      ],
      "metadata": {
        "colab": {
          "base_uri": "https://localhost:8080/"
        },
        "id": "fLPm6q0PLc8s",
        "outputId": "ac43f2c9-4f33-431f-e8ce-8b6e36e1039f"
      },
      "execution_count": null,
      "outputs": [
        {
          "output_type": "execute_result",
          "data": {
            "text/plain": [
              "[2, 8, 9, 10]"
            ]
          },
          "metadata": {},
          "execution_count": 15
        }
      ]
    },
    {
      "cell_type": "markdown",
      "source": [
        "How to get the first element of the list?"
      ],
      "metadata": {
        "id": "ZQhMb_4aNKSp"
      }
    },
    {
      "cell_type": "code",
      "source": [
        "x[0]"
      ],
      "metadata": {
        "colab": {
          "base_uri": "https://localhost:8080/"
        },
        "id": "PBVuHXmkNIiH",
        "outputId": "2030aa27-392e-473e-b6ef-c7a694fd4d75"
      },
      "execution_count": null,
      "outputs": [
        {
          "output_type": "execute_result",
          "data": {
            "text/plain": [
              "2"
            ]
          },
          "metadata": {},
          "execution_count": 16
        }
      ]
    },
    {
      "cell_type": "markdown",
      "source": [
        "How to get the last element of a list?"
      ],
      "metadata": {
        "id": "I9rfoafXNPkh"
      }
    },
    {
      "cell_type": "code",
      "source": [
        "x[-1]"
      ],
      "metadata": {
        "colab": {
          "base_uri": "https://localhost:8080/"
        },
        "id": "bBGoJUyxNNtj",
        "outputId": "ebb37526-d7ca-4f1e-f6bd-7cc55f01856e"
      },
      "execution_count": null,
      "outputs": [
        {
          "output_type": "execute_result",
          "data": {
            "text/plain": [
              "10"
            ]
          },
          "metadata": {},
          "execution_count": 17
        }
      ]
    },
    {
      "cell_type": "code",
      "source": [
        "x[3]"
      ],
      "metadata": {
        "colab": {
          "base_uri": "https://localhost:8080/"
        },
        "id": "qDCN2Z4xNUYv",
        "outputId": "b15cbe4a-78d3-4b1e-d397-436dea831bf0"
      },
      "execution_count": null,
      "outputs": [
        {
          "output_type": "execute_result",
          "data": {
            "text/plain": [
              "10"
            ]
          },
          "metadata": {},
          "execution_count": 18
        }
      ]
    },
    {
      "cell_type": "markdown",
      "source": [
        "The element just before the last one has index `-2`, and so on."
      ],
      "metadata": {
        "id": "dLEz7LQ5NwYd"
      }
    },
    {
      "cell_type": "markdown",
      "source": [
        "How to get all the elements of a list after index `i`?\n",
        "\n",
        "We just need to run `mylist[i:]`.\n",
        "Note that, in this case, the element at index `i` is also returned."
      ],
      "metadata": {
        "id": "DlPPQ6rRNZuk"
      }
    },
    {
      "cell_type": "code",
      "source": [
        "x[1:]"
      ],
      "metadata": {
        "colab": {
          "base_uri": "https://localhost:8080/"
        },
        "id": "K_4yv-6GNWft",
        "outputId": "c46d03f6-25e4-4c51-a638-efdfed9aa74a"
      },
      "execution_count": null,
      "outputs": [
        {
          "output_type": "execute_result",
          "data": {
            "text/plain": [
              "[8, 9, 10]"
            ]
          },
          "metadata": {},
          "execution_count": 19
        }
      ]
    },
    {
      "cell_type": "markdown",
      "source": [
        "To get all the elements of a list from index `i` (inclusive) to index `j` (exclusive), we just need to run: `mylist[i:j]`"
      ],
      "metadata": {
        "id": "Y-okPuxFN_-s"
      }
    },
    {
      "cell_type": "code",
      "source": [
        "x[1:3]"
      ],
      "metadata": {
        "colab": {
          "base_uri": "https://localhost:8080/"
        },
        "id": "ODZL0DokN6MW",
        "outputId": "8ef9bcd3-cbce-459b-b79c-393e6edcd4f1"
      },
      "execution_count": null,
      "outputs": [
        {
          "output_type": "execute_result",
          "data": {
            "text/plain": [
              "[8, 9]"
            ]
          },
          "metadata": {},
          "execution_count": 21
        }
      ]
    },
    {
      "cell_type": "markdown",
      "source": [
        "Exercise 3,4 a) making explicit all numbers."
      ],
      "metadata": {
        "id": "dzX7iFDlOg6L"
      }
    },
    {
      "cell_type": "code",
      "source": [
        "l = [0,1,2,3,4,5,6,7,8,9,10]\n",
        "l"
      ],
      "metadata": {
        "colab": {
          "base_uri": "https://localhost:8080/"
        },
        "id": "UCt0qyh8OVJc",
        "outputId": "58a31efd-7dcc-43fc-ea7f-d28848681b8e"
      },
      "execution_count": null,
      "outputs": [
        {
          "output_type": "execute_result",
          "data": {
            "text/plain": [
              "[0, 1, 2, 3, 4, 5, 6, 7, 8, 9, 10]"
            ]
          },
          "metadata": {},
          "execution_count": 22
        }
      ]
    },
    {
      "cell_type": "markdown",
      "source": [
        "  Exercise 3,4 b) using function `range`.\n",
        "\n",
        "  Notice that `range(k)` does not include `k` in the range it creates. That's why when we want a list of numbers until 10, we must write 10+1 in order to 10 appears.\n"
      ],
      "metadata": {
        "id": "dig5h__MOvg_"
      }
    },
    {
      "cell_type": "code",
      "source": [
        "l = list(range(10+1))\n",
        "l"
      ],
      "metadata": {
        "colab": {
          "base_uri": "https://localhost:8080/"
        },
        "id": "EC0DlybxOuCC",
        "outputId": "46f8502d-a10c-4ac3-e8f3-950724d31e2f"
      },
      "execution_count": null,
      "outputs": [
        {
          "output_type": "execute_result",
          "data": {
            "text/plain": [
              "[0, 1, 2, 3, 4, 5, 6, 7, 8, 9, 10]"
            ]
          },
          "metadata": {},
          "execution_count": 24
        }
      ]
    },
    {
      "cell_type": "code",
      "source": [
        "m = list(range(210+1))\n",
        "m"
      ],
      "metadata": {
        "colab": {
          "base_uri": "https://localhost:8080/"
        },
        "id": "RCLA6ieUPtvk",
        "outputId": "41afebe4-825a-42c7-be05-46d3504ab4ef"
      },
      "execution_count": null,
      "outputs": [
        {
          "output_type": "execute_result",
          "data": {
            "text/plain": [
              "[0,\n",
              " 1,\n",
              " 2,\n",
              " 3,\n",
              " 4,\n",
              " 5,\n",
              " 6,\n",
              " 7,\n",
              " 8,\n",
              " 9,\n",
              " 10,\n",
              " 11,\n",
              " 12,\n",
              " 13,\n",
              " 14,\n",
              " 15,\n",
              " 16,\n",
              " 17,\n",
              " 18,\n",
              " 19,\n",
              " 20,\n",
              " 21,\n",
              " 22,\n",
              " 23,\n",
              " 24,\n",
              " 25,\n",
              " 26,\n",
              " 27,\n",
              " 28,\n",
              " 29,\n",
              " 30,\n",
              " 31,\n",
              " 32,\n",
              " 33,\n",
              " 34,\n",
              " 35,\n",
              " 36,\n",
              " 37,\n",
              " 38,\n",
              " 39,\n",
              " 40,\n",
              " 41,\n",
              " 42,\n",
              " 43,\n",
              " 44,\n",
              " 45,\n",
              " 46,\n",
              " 47,\n",
              " 48,\n",
              " 49,\n",
              " 50,\n",
              " 51,\n",
              " 52,\n",
              " 53,\n",
              " 54,\n",
              " 55,\n",
              " 56,\n",
              " 57,\n",
              " 58,\n",
              " 59,\n",
              " 60,\n",
              " 61,\n",
              " 62,\n",
              " 63,\n",
              " 64,\n",
              " 65,\n",
              " 66,\n",
              " 67,\n",
              " 68,\n",
              " 69,\n",
              " 70,\n",
              " 71,\n",
              " 72,\n",
              " 73,\n",
              " 74,\n",
              " 75,\n",
              " 76,\n",
              " 77,\n",
              " 78,\n",
              " 79,\n",
              " 80,\n",
              " 81,\n",
              " 82,\n",
              " 83,\n",
              " 84,\n",
              " 85,\n",
              " 86,\n",
              " 87,\n",
              " 88,\n",
              " 89,\n",
              " 90,\n",
              " 91,\n",
              " 92,\n",
              " 93,\n",
              " 94,\n",
              " 95,\n",
              " 96,\n",
              " 97,\n",
              " 98,\n",
              " 99,\n",
              " 100,\n",
              " 101,\n",
              " 102,\n",
              " 103,\n",
              " 104,\n",
              " 105,\n",
              " 106,\n",
              " 107,\n",
              " 108,\n",
              " 109,\n",
              " 110,\n",
              " 111,\n",
              " 112,\n",
              " 113,\n",
              " 114,\n",
              " 115,\n",
              " 116,\n",
              " 117,\n",
              " 118,\n",
              " 119,\n",
              " 120,\n",
              " 121,\n",
              " 122,\n",
              " 123,\n",
              " 124,\n",
              " 125,\n",
              " 126,\n",
              " 127,\n",
              " 128,\n",
              " 129,\n",
              " 130,\n",
              " 131,\n",
              " 132,\n",
              " 133,\n",
              " 134,\n",
              " 135,\n",
              " 136,\n",
              " 137,\n",
              " 138,\n",
              " 139,\n",
              " 140,\n",
              " 141,\n",
              " 142,\n",
              " 143,\n",
              " 144,\n",
              " 145,\n",
              " 146,\n",
              " 147,\n",
              " 148,\n",
              " 149,\n",
              " 150,\n",
              " 151,\n",
              " 152,\n",
              " 153,\n",
              " 154,\n",
              " 155,\n",
              " 156,\n",
              " 157,\n",
              " 158,\n",
              " 159,\n",
              " 160,\n",
              " 161,\n",
              " 162,\n",
              " 163,\n",
              " 164,\n",
              " 165,\n",
              " 166,\n",
              " 167,\n",
              " 168,\n",
              " 169,\n",
              " 170,\n",
              " 171,\n",
              " 172,\n",
              " 173,\n",
              " 174,\n",
              " 175,\n",
              " 176,\n",
              " 177,\n",
              " 178,\n",
              " 179,\n",
              " 180,\n",
              " 181,\n",
              " 182,\n",
              " 183,\n",
              " 184,\n",
              " 185,\n",
              " 186,\n",
              " 187,\n",
              " 188,\n",
              " 189,\n",
              " 190,\n",
              " 191,\n",
              " 192,\n",
              " 193,\n",
              " 194,\n",
              " 195,\n",
              " 196,\n",
              " 197,\n",
              " 198,\n",
              " 199,\n",
              " 200,\n",
              " 201,\n",
              " 202,\n",
              " 203,\n",
              " 204,\n",
              " 205,\n",
              " 206,\n",
              " 207,\n",
              " 208,\n",
              " 209,\n",
              " 210]"
            ]
          },
          "metadata": {},
          "execution_count": 27
        }
      ]
    },
    {
      "cell_type": "markdown",
      "source": [
        "Exercise 3,4 c) confirm that you have really created a list."
      ],
      "metadata": {
        "id": "3UZjv03cPQs4"
      }
    },
    {
      "cell_type": "code",
      "source": [
        "type(l)"
      ],
      "metadata": {
        "colab": {
          "base_uri": "https://localhost:8080/"
        },
        "id": "IhkEiPlnPCMb",
        "outputId": "f2e89c11-1295-4923-a7b0-c22bee5d7f9b"
      },
      "execution_count": null,
      "outputs": [
        {
          "output_type": "execute_result",
          "data": {
            "text/plain": [
              "list"
            ]
          },
          "metadata": {},
          "execution_count": 25
        }
      ]
    },
    {
      "cell_type": "code",
      "source": [
        "type(m)"
      ],
      "metadata": {
        "colab": {
          "base_uri": "https://localhost:8080/"
        },
        "id": "l8yp2QreP2gx",
        "outputId": "885c4836-1d06-48b0-e3d4-27ba75065709"
      },
      "execution_count": null,
      "outputs": [
        {
          "output_type": "execute_result",
          "data": {
            "text/plain": [
              "list"
            ]
          },
          "metadata": {},
          "execution_count": 28
        }
      ]
    },
    {
      "cell_type": "markdown",
      "source": [
        "# FOR LOOP\n",
        "\n",
        "**What does a for loop do?**\n",
        "A for loop is a control flow statement for specifying iteration, which allows code to be executed repeatedly. A for loop has two parts: a header specifying the iteration, and a body which is executed once per iteration."
      ],
      "metadata": {
        "id": "cKfxRmttPbmC"
      }
    },
    {
      "cell_type": "markdown",
      "source": [
        "Exercise 5"
      ],
      "metadata": {
        "id": "j74k_0bZP9sx"
      }
    },
    {
      "cell_type": "code",
      "source": [
        "names = ['Mary', 'John', 'Catherine']\n",
        "marks = [9, 18, 19]"
      ],
      "metadata": {
        "id": "I4n5beh2PYZZ"
      },
      "execution_count": null,
      "outputs": []
    },
    {
      "cell_type": "markdown",
      "source": [
        "The \"f\" in the provided code is an abbreviation for \"formatted string literal\" or \"f-string\" in Python.\n",
        "\n",
        "F-strings provide a concise and convenient way to embed expressions inside string literals, using curly braces {} to indicate where the expressions should be replaced with their values."
      ],
      "metadata": {
        "id": "55nn0ccAQrb3"
      }
    },
    {
      "cell_type": "code",
      "source": [
        "print(f'The score of {names[0]} is {marks[0]}.')\n",
        "print(f'The score of {names[1]} is {marks[1]}.')\n",
        "print(f'The score of {names[2]} is {marks[2]}.')"
      ],
      "metadata": {
        "colab": {
          "base_uri": "https://localhost:8080/"
        },
        "id": "zf4jkcRUQSyr",
        "outputId": "22479c36-0763-4163-bd5e-de87b03037c2"
      },
      "execution_count": null,
      "outputs": [
        {
          "output_type": "stream",
          "name": "stdout",
          "text": [
            "The score of Mary is 9.\n",
            "The score of John is 18.\n",
            "The score of Catherine is 19.\n"
          ]
        }
      ]
    },
    {
      "cell_type": "markdown",
      "source": [
        "* The `for` loop is central to all programming language, as it allows us to program repetitive operations using a very compact piece of code.\n",
        "* In the following code cell, the variable `i` will successively assume the values in the specific range.\n",
        "* Function `len` gives us the length of the list names.\n",
        "* The length of the list names is `3` (it has 3 elements). Hence, `range(len(names))` is equivalent to `range(3)`.\n",
        "* `range(3)` corresponds to the list `[0,1,2]`.\n",
        "*As we can see, `i` will take, successively, the values of the range, i.e, 0,1,2.\n",
        "\n",
        "\n",
        "\n",
        "\n",
        "\n",
        "\n",
        "\n",
        "\n",
        "\n"
      ],
      "metadata": {
        "id": "4HjlxNBSRGIK"
      }
    },
    {
      "cell_type": "code",
      "source": [
        "for i in range(len(names)):\n",
        "  print(i)"
      ],
      "metadata": {
        "colab": {
          "base_uri": "https://localhost:8080/"
        },
        "id": "X4ZnZR5-QsZm",
        "outputId": "b39c2346-4840-4aa1-adf0-f22c4357adc8"
      },
      "execution_count": null,
      "outputs": [
        {
          "output_type": "stream",
          "name": "stdout",
          "text": [
            "0\n",
            "1\n",
            "2\n"
          ]
        }
      ]
    },
    {
      "cell_type": "code",
      "source": [
        "for i in range(len(names)):\n",
        "  print(f'The score of {names[i]} is {marks[i]}.')"
      ],
      "metadata": {
        "colab": {
          "base_uri": "https://localhost:8080/"
        },
        "id": "QMF3PC2MSZiS",
        "outputId": "35cd8d90-ac85-42c7-b52a-2c1cf768fae0"
      },
      "execution_count": null,
      "outputs": [
        {
          "output_type": "stream",
          "name": "stdout",
          "text": [
            "The score of Mary is 9.\n",
            "The score of John is 18.\n",
            "The score of Catherine is 19.\n"
          ]
        }
      ]
    },
    {
      "cell_type": "markdown",
      "source": [
        "Exercise 6\n",
        "\n",
        "This exercise needs the construction `if...else` that works as follows:\n",
        "\n",
        "`if (logical condition):\n",
        "  do this if the logical condition is True\n",
        "else:\n",
        "  do this if the logical condition is False`"
      ],
      "metadata": {
        "id": "BCB9Dfo3SrZn"
      }
    },
    {
      "cell_type": "code",
      "source": [
        "for i in range(len(names)):\n",
        "  if (marks[i] < 10):\n",
        "    greeting = 'Keep studying!'\n",
        "  else:\n",
        "    greeting = 'Congratulations!'\n",
        "\n",
        "print(f'The score of {names[i]} is {marks[i]}. {greeting}')\n"
      ],
      "metadata": {
        "colab": {
          "base_uri": "https://localhost:8080/"
        },
        "id": "IAOmme7NSmVv",
        "outputId": "fcef9053-a237-4c3d-cd50-60b0d468e23b"
      },
      "execution_count": null,
      "outputs": [
        {
          "output_type": "stream",
          "name": "stdout",
          "text": [
            "The score of Catherine is 19. Congratulations!\n"
          ]
        }
      ]
    },
    {
      "cell_type": "markdown",
      "source": [
        "Exercise 7\n",
        "\n",
        "Program that gives us the name and respective weight (by the respective credits) average of the score of each student."
      ],
      "metadata": {
        "id": "u4hs7oJKUrZt"
      }
    },
    {
      "cell_type": "code",
      "source": [
        "names = ['Mary', 'John', 'Catherine']\n",
        "course1 = [15, 18, 19]\n",
        "course2 = [18, 19, 14]\n",
        "course3 = [14, 16, 17]\n",
        "credits = [6, 4.5, 3] # of the above courses, respectively"
      ],
      "metadata": {
        "id": "j31ovreRT4mW"
      },
      "execution_count": null,
      "outputs": []
    },
    {
      "cell_type": "markdown",
      "source": [
        "Code for each individual:"
      ],
      "metadata": {
        "id": "xSSdDcBFVmo4"
      }
    },
    {
      "cell_type": "code",
      "source": [
        "w_avg_mary = round((course1[0]*credits[0] + course2[0]*credits[1] + course3[0]*credits[2]) / sum(credits), 2)\n",
        "w_avg_mary"
      ],
      "metadata": {
        "colab": {
          "base_uri": "https://localhost:8080/"
        },
        "id": "PgqR9noeUxAq",
        "outputId": "4017333d-c2d0-474d-8daa-a2bb8b950e40"
      },
      "execution_count": null,
      "outputs": [
        {
          "output_type": "execute_result",
          "data": {
            "text/plain": [
              "15.78"
            ]
          },
          "metadata": {},
          "execution_count": 40
        }
      ]
    },
    {
      "cell_type": "code",
      "source": [
        "w_avg_john = round((course1[1]*credits[0] + course2[1]*credits[1] + course3[1]*credits[2]) / sum(credits), 2)\n",
        "w_avg_john"
      ],
      "metadata": {
        "colab": {
          "base_uri": "https://localhost:8080/"
        },
        "id": "M1yuKTPmVfmL",
        "outputId": "27835bf8-96ae-43f8-a61e-f7946483a0d8"
      },
      "execution_count": null,
      "outputs": [
        {
          "output_type": "execute_result",
          "data": {
            "text/plain": [
              "17.89"
            ]
          },
          "metadata": {},
          "execution_count": 41
        }
      ]
    },
    {
      "cell_type": "code",
      "source": [
        "w_avg_catherine = round((course1[2]*credits[0] + course2[2]*credits[1] + course3[2]*credits[2]) / sum(credits), 2)\n",
        "w_avg_catherine"
      ],
      "metadata": {
        "colab": {
          "base_uri": "https://localhost:8080/"
        },
        "id": "69-M3jgzVxqW",
        "outputId": "4ae6381a-a1d5-4754-b44c-f5c1bf13dcc0"
      },
      "execution_count": null,
      "outputs": [
        {
          "output_type": "execute_result",
          "data": {
            "text/plain": [
              "16.89"
            ]
          },
          "metadata": {},
          "execution_count": 42
        }
      ]
    },
    {
      "cell_type": "markdown",
      "source": [
        "For all of them in just a code."
      ],
      "metadata": {
        "id": "NX9Ai3fQV5jo"
      }
    },
    {
      "cell_type": "code",
      "source": [
        "for i in range(len(names)):\n",
        "  w_avg = round((course1[i]*credits[0] + course2[i]*credits[1] + course2[i]*credits[2]) / sum(credits), 2)\n",
        "\n",
        "print(f'The weighted average of {names[i]} is {w_avg}.')"
      ],
      "metadata": {
        "colab": {
          "base_uri": "https://localhost:8080/"
        },
        "id": "aE6wbfYnV4gT",
        "outputId": "2a330265-688a-4ff1-87f7-f5e813cebf27"
      },
      "execution_count": null,
      "outputs": [
        {
          "output_type": "stream",
          "name": "stdout",
          "text": [
            "The weighted average of Catherine is 16.22.\n"
          ]
        }
      ]
    },
    {
      "cell_type": "markdown",
      "source": [
        "## LIST COMPREHENSION"
      ],
      "metadata": {
        "id": "Qutm7TOFWlTO"
      }
    },
    {
      "cell_type": "markdown",
      "source": [
        "Exercise 8 Create a list with the square roots of the numbers of a certain list."
      ],
      "metadata": {
        "id": "CTgAjKGnWoh1"
      }
    },
    {
      "cell_type": "code",
      "source": [
        "mylist = [4,3,1,5]\n",
        "mylist"
      ],
      "metadata": {
        "colab": {
          "base_uri": "https://localhost:8080/"
        },
        "id": "8kxfBU2-WcyJ",
        "outputId": "4f8782c8-e0ac-4794-8ea6-f2e79954d5bc"
      },
      "execution_count": null,
      "outputs": [
        {
          "output_type": "execute_result",
          "data": {
            "text/plain": [
              "[4, 3, 1, 5]"
            ]
          },
          "metadata": {},
          "execution_count": 44
        }
      ]
    },
    {
      "cell_type": "code",
      "source": [
        "[x**2 for x in mylist]"
      ],
      "metadata": {
        "colab": {
          "base_uri": "https://localhost:8080/"
        },
        "id": "gTz6faQ6W0Li",
        "outputId": "daaeab19-8c09-4cb5-fd0f-f454ea9f2183"
      },
      "execution_count": null,
      "outputs": [
        {
          "output_type": "execute_result",
          "data": {
            "text/plain": [
              "[16, 9, 1, 25]"
            ]
          },
          "metadata": {},
          "execution_count": 45
        }
      ]
    },
    {
      "cell_type": "markdown",
      "source": [
        "# DICTIONAIRES\n",
        "\n",
        "* Dictionaires are useful, as they can store information that can be retrivied (recuperadas) by using a key.\n",
        "\n",
        "* For instance, with disctionary `d`, defined as \n",
        "\n",
        "`d = {'a': 4, 'b': 2, 'c': 5}`\n",
        "\n",
        "we can access the second element by using is key, `b`, in the following way:\n",
        "\n",
        "`d['b]`"
      ],
      "metadata": {
        "id": "2CIDBE6EW5Qe"
      }
    },
    {
      "cell_type": "markdown",
      "source": [
        "Exercise 9 Create a dictionary with the names as key and the marks as values of the following lists.\n"
      ],
      "metadata": {
        "id": "_mtP3-c5X9sh"
      }
    },
    {
      "cell_type": "code",
      "source": [
        "names = ['Mary', 'John', 'Catherine']\n",
        "marks = [9, 18, 19]"
      ],
      "metadata": {
        "id": "aQhbxO6bW4EJ"
      },
      "execution_count": null,
      "outputs": []
    },
    {
      "cell_type": "markdown",
      "source": [
        "Exercise 9 a) manual enumeration"
      ],
      "metadata": {
        "id": "8Gup7neCYI-L"
      }
    },
    {
      "cell_type": "code",
      "source": [
        "d = {'Mary': 15, 'John': 18, 'Catherine': 19}\n",
        "d"
      ],
      "metadata": {
        "colab": {
          "base_uri": "https://localhost:8080/"
        },
        "id": "xlzn0cjvYG-n",
        "outputId": "6904893d-cca9-4265-8d65-a1f022af8c08"
      },
      "execution_count": null,
      "outputs": [
        {
          "output_type": "execute_result",
          "data": {
            "text/plain": [
              "{'Mary': 15, 'John': 18, 'Catherine': 19}"
            ]
          },
          "metadata": {},
          "execution_count": 47
        }
      ]
    },
    {
      "cell_type": "code",
      "source": [
        "d['Catherine']"
      ],
      "metadata": {
        "colab": {
          "base_uri": "https://localhost:8080/"
        },
        "id": "9uA-jynIYTCI",
        "outputId": "60345eb7-7fa0-46b8-bfcd-49c65b71fe1c"
      },
      "execution_count": null,
      "outputs": [
        {
          "output_type": "execute_result",
          "data": {
            "text/plain": [
              "19"
            ]
          },
          "metadata": {},
          "execution_count": 48
        }
      ]
    },
    {
      "cell_type": "markdown",
      "source": [
        "Exercise 9 b) **ZIP FUNCTION**\n",
        "\n",
        "In Python, zip is a built-in function that is used to combine two or more iterables into a single iterable. It takes multiple iterables (such as lists, tuples, or sets) as input and returns an iterator of tuples where the i-th tuple contains the i-th element from each of the input iterables.\n",
        "\n",
        "* Zip function is useful, as it allows us to blind lists together pairwise (ocultar listas em pares).\n"
      ],
      "metadata": {
        "id": "lNujoVpBYdIw"
      }
    },
    {
      "cell_type": "code",
      "source": [
        "l1 = ['a', 'b', 'c']\n",
        "l2 = [1,4,2]\n",
        "\n",
        "zip(l1, l2)"
      ],
      "metadata": {
        "colab": {
          "base_uri": "https://localhost:8080/"
        },
        "id": "-IApmnuiYXLk",
        "outputId": "ffd52744-01e3-4191-a6f0-6371334b0377"
      },
      "execution_count": null,
      "outputs": [
        {
          "output_type": "execute_result",
          "data": {
            "text/plain": [
              "<zip at 0x7fb4a1af84c0>"
            ]
          },
          "metadata": {},
          "execution_count": 50
        }
      ]
    },
    {
      "cell_type": "markdown",
      "source": [
        "* We do not see the result of `zip` function.\n",
        "* However, we can use list comprehension to see the contents of the result of the `zip` function.\n",
        "\n"
      ],
      "metadata": {
        "id": "0JmWfSmgZLUy"
      }
    },
    {
      "cell_type": "code",
      "source": [
        "[x for x in zip(l1, l2)]"
      ],
      "metadata": {
        "colab": {
          "base_uri": "https://localhost:8080/"
        },
        "id": "hzer7TUTZG8n",
        "outputId": "60c90c94-fead-42a8-86c7-f62393880635"
      },
      "execution_count": null,
      "outputs": [
        {
          "output_type": "execute_result",
          "data": {
            "text/plain": [
              "[('a', 1), ('b', 4), ('c', 2)]"
            ]
          },
          "metadata": {},
          "execution_count": 51
        }
      ]
    },
    {
      "cell_type": "markdown",
      "source": [
        "As we can see, each element of the result of the `zip` function is a tuple, which contains the element of `l1` and its respective element of `l2`."
      ],
      "metadata": {
        "id": "9RmRSEqBZ2-D"
      }
    },
    {
      "cell_type": "code",
      "source": [
        "[x for x in zip(names, marks)]"
      ],
      "metadata": {
        "colab": {
          "base_uri": "https://localhost:8080/"
        },
        "id": "Azf3NhdMZ1yF",
        "outputId": "65317039-a805-472b-9a20-43b2c4bb97ac"
      },
      "execution_count": null,
      "outputs": [
        {
          "output_type": "execute_result",
          "data": {
            "text/plain": [
              "[('Mary', 9), ('John', 18), ('Catherine', 19)]"
            ]
          },
          "metadata": {},
          "execution_count": 52
        }
      ]
    },
    {
      "cell_type": "markdown",
      "source": [
        "Exercise 9 c) using dictionary comprehension.\n",
        "\n",
        "* Dictionary comprehension works similarly to the way list comprehension works.\n",
        "*Since each element of the result of `zip` function is a tuple and tuple indexing is similar to list indexing,\n",
        "** `x[0]` contains the element of `names`, and\n",
        "** `x[1]` contains the element of `marks`, when\n",
        "\n",
        "`x` is the element of the result of `zip(names, marks)`."
      ],
      "metadata": {
        "id": "j_g79CsHbCyZ"
      }
    },
    {
      "cell_type": "code",
      "source": [
        "{x[0]: x[1] for x in zip(names, marks)}"
      ],
      "metadata": {
        "colab": {
          "base_uri": "https://localhost:8080/"
        },
        "id": "xGSl10_1aGQT",
        "outputId": "52fb8d7c-540e-4a3c-c810-489bde698ca5"
      },
      "execution_count": null,
      "outputs": [
        {
          "output_type": "execute_result",
          "data": {
            "text/plain": [
              "{'Mary': 9, 'John': 18, 'Catherine': 19}"
            ]
          },
          "metadata": {},
          "execution_count": 53
        }
      ]
    },
    {
      "cell_type": "markdown",
      "source": [
        "Exercise 9 d) create a dictionary using functions zip and dict."
      ],
      "metadata": {
        "id": "x6VRf4YTcIX_"
      }
    },
    {
      "cell_type": "code",
      "source": [
        "d2 = dict(zip(names, marks))\n",
        "d2"
      ],
      "metadata": {
        "colab": {
          "base_uri": "https://localhost:8080/"
        },
        "id": "XReZDfrrb6Ah",
        "outputId": "2efabbd9-ccd2-4e8b-dbfb-24228bec932e"
      },
      "execution_count": null,
      "outputs": [
        {
          "output_type": "execute_result",
          "data": {
            "text/plain": [
              "{'Mary': 9, 'John': 18, 'Catherine': 19}"
            ]
          },
          "metadata": {},
          "execution_count": 54
        }
      ]
    },
    {
      "cell_type": "markdown",
      "source": [
        "# WHAT ARE TUPLES?\n",
        "\n",
        "* Tuples are very similar to lists, but they are unchangeable. We can create them by using `()`.\n",
        "* Indexing works similarly to indexing in lists.\n",
        " "
      ],
      "metadata": {
        "id": "RtBouhm4ckth"
      }
    },
    {
      "cell_type": "code",
      "source": [
        "t = (4,7,9)\n",
        "t"
      ],
      "metadata": {
        "colab": {
          "base_uri": "https://localhost:8080/"
        },
        "id": "I49AECONcTyZ",
        "outputId": "687aa33a-acbb-45eb-eba5-c587e9b2f75a"
      },
      "execution_count": null,
      "outputs": [
        {
          "output_type": "execute_result",
          "data": {
            "text/plain": [
              "(4, 7, 9)"
            ]
          },
          "metadata": {},
          "execution_count": 56
        }
      ]
    },
    {
      "cell_type": "code",
      "source": [
        "t[2]"
      ],
      "metadata": {
        "colab": {
          "base_uri": "https://localhost:8080/"
        },
        "id": "sGzgx-ksc8s2",
        "outputId": "c8a62ad1-586c-4ea5-8d0c-c3c6b46bc0f8"
      },
      "execution_count": null,
      "outputs": [
        {
          "output_type": "execute_result",
          "data": {
            "text/plain": [
              "9"
            ]
          },
          "metadata": {},
          "execution_count": 57
        }
      ]
    },
    {
      "cell_type": "markdown",
      "source": [
        "Tuples are unchangeable. Therefore, when we try to change them, Python returns an error."
      ],
      "metadata": {
        "id": "SQxAL69rdBhx"
      }
    },
    {
      "cell_type": "code",
      "source": [
        "t[2] = 10"
      ],
      "metadata": {
        "colab": {
          "base_uri": "https://localhost:8080/",
          "height": 165
        },
        "id": "RE--zR8ic___",
        "outputId": "bdf5060e-f3dc-4720-8de0-259e371179ca"
      },
      "execution_count": null,
      "outputs": [
        {
          "output_type": "error",
          "ename": "TypeError",
          "evalue": "ignored",
          "traceback": [
            "\u001b[0;31m---------------------------------------------------------------------------\u001b[0m",
            "\u001b[0;31mTypeError\u001b[0m                                 Traceback (most recent call last)",
            "\u001b[0;32m<ipython-input-58-07ce4274e407>\u001b[0m in \u001b[0;36m<module>\u001b[0;34m\u001b[0m\n\u001b[0;32m----> 1\u001b[0;31m \u001b[0mt\u001b[0m\u001b[0;34m[\u001b[0m\u001b[0;36m2\u001b[0m\u001b[0;34m]\u001b[0m \u001b[0;34m=\u001b[0m \u001b[0;36m10\u001b[0m\u001b[0;34m\u001b[0m\u001b[0;34m\u001b[0m\u001b[0m\n\u001b[0m",
            "\u001b[0;31mTypeError\u001b[0m: 'tuple' object does not support item assignment"
          ]
        }
      ]
    },
    {
      "cell_type": "markdown",
      "source": [
        "While tuples cannot be changed, lists can."
      ],
      "metadata": {
        "id": "sYNQU6vQdKRD"
      }
    },
    {
      "cell_type": "code",
      "source": [
        "names2 = names\n",
        "names2"
      ],
      "metadata": {
        "colab": {
          "base_uri": "https://localhost:8080/"
        },
        "id": "cRmwQjiKdJA_",
        "outputId": "a98561bc-3d0c-4b15-88cd-15da87c6601b"
      },
      "execution_count": null,
      "outputs": [
        {
          "output_type": "execute_result",
          "data": {
            "text/plain": [
              "['Mary', 'John', 'Catherine']"
            ]
          },
          "metadata": {},
          "execution_count": 60
        }
      ]
    },
    {
      "cell_type": "code",
      "source": [
        "names2[1] = 'Peter'\n",
        "names2"
      ],
      "metadata": {
        "colab": {
          "base_uri": "https://localhost:8080/"
        },
        "id": "VPKA5W9AdQfa",
        "outputId": "a68c11de-7f43-4ef1-e226-cd3c4971d690"
      },
      "execution_count": null,
      "outputs": [
        {
          "output_type": "execute_result",
          "data": {
            "text/plain": [
              "['Mary', 'Peter', 'Catherine']"
            ]
          },
          "metadata": {},
          "execution_count": 61
        }
      ]
    },
    {
      "cell_type": "markdown",
      "source": [
        "## LECTURE 20-02-2023"
      ],
      "metadata": {
        "id": "avJIuX9neOrE"
      }
    },
    {
      "cell_type": "markdown",
      "source": [
        "# NUMPY ARRAYS\n",
        "\n",
        "A NumPy array is a multi-dimensional data structure used for storing and manipulating numerical data in Python. It is a fundamental component of the scientific Python ecosystem, and is used extensively in fields such as machine learning, data science, and scientific computing.\n",
        "\n",
        "NumPy arrays are similar to Python lists, but they offer several advantages in terms of performance and functionality.\n",
        "\n",
        "In order to use NumPy, you first need to import the numpy module. Once imported, you can create a NumPy array by passing a Python list or tuple to the numpy.array() function.\n",
        "\n",
        "NOTE: Numpy can create ranges with all statistical distribution, but we only want this:\n",
        "=> discrete uniform distribution: all numbers have the same probability of showing up - this means that with an array with 1, 2, 3, the numbers have the same probability of showing up"
      ],
      "metadata": {
        "id": "BDvdNOdhf-_H"
      }
    },
    {
      "cell_type": "code",
      "source": [
        "import numpy as np #do this only once"
      ],
      "metadata": {
        "id": "HcCU09cDg2b7"
      },
      "execution_count": 5,
      "outputs": []
    },
    {
      "cell_type": "markdown",
      "source": [
        "Exercise 10 a) Create a **1D** numpy array using manual numeration."
      ],
      "metadata": {
        "id": "_01dsiIjgr4c"
      }
    },
    {
      "cell_type": "code",
      "source": [
        "a = np.array([1,2,3,4])\n",
        "a"
      ],
      "metadata": {
        "colab": {
          "base_uri": "https://localhost:8080/"
        },
        "id": "xovcSowxdW4k",
        "outputId": "d3364829-f56e-493c-f693-94b7f43b43da"
      },
      "execution_count": null,
      "outputs": [
        {
          "output_type": "execute_result",
          "data": {
            "text/plain": [
              "array([1, 2, 3, 4])"
            ]
          },
          "metadata": {},
          "execution_count": 63
        }
      ]
    },
    {
      "cell_type": "markdown",
      "source": [
        "Exercise 10 b) using function `range`.\n",
        "\n",
        "(if numbers are consecutive we can use this function)"
      ],
      "metadata": {
        "id": "W4I9YgFshBkO"
      }
    },
    {
      "cell_type": "code",
      "source": [
        "a = np.array(range(1,4+1))\n",
        "a"
      ],
      "metadata": {
        "colab": {
          "base_uri": "https://localhost:8080/"
        },
        "id": "KJkzWYD-hAar",
        "outputId": "771a2249-5d22-47fa-e7d9-69636843bee0"
      },
      "execution_count": null,
      "outputs": [
        {
          "output_type": "execute_result",
          "data": {
            "text/plain": [
              "array([1, 2, 3, 4])"
            ]
          },
          "metadata": {},
          "execution_count": 65
        }
      ]
    },
    {
      "cell_type": "markdown",
      "source": [
        "NOTE: in the range function with interval the firts number is always included, i.e., will show up, but the second number, i.e., the last of the interval is not included => so we need to put the number we want plus 1. in this case we want 4, so 5 (4+1)"
      ],
      "metadata": {
        "id": "NE1lXo1QhW7Z"
      }
    },
    {
      "cell_type": "markdown",
      "source": [
        "Exercise 10 c) using function `np.arange`.\n",
        "\n",
        "`np.arange()` is a NumPy function that creates an array of evenly spaced values within a specified range. It is similar to the built-in range() function in Python, but it returns a NumPy array instead of a Python list."
      ],
      "metadata": {
        "id": "ltgVo981hYc_"
      }
    },
    {
      "cell_type": "code",
      "source": [
        "a = np.arange(1,4+1)\n",
        "a"
      ],
      "metadata": {
        "colab": {
          "base_uri": "https://localhost:8080/"
        },
        "id": "ue2pADfAhTTA",
        "outputId": "f70f855e-f4ec-4bca-d2af-39d67e0cfa45"
      },
      "execution_count": null,
      "outputs": [
        {
          "output_type": "execute_result",
          "data": {
            "text/plain": [
              "array([1, 2, 3, 4])"
            ]
          },
          "metadata": {},
          "execution_count": 66
        }
      ]
    },
    {
      "cell_type": "markdown",
      "source": [
        "Exercise 11 a) Create a **2D** numpy array suing manual numeration."
      ],
      "metadata": {
        "id": "1r5QZxKkh9KO"
      }
    },
    {
      "cell_type": "code",
      "source": [
        "a = np.array([[1, 2, 3, 4],\n",
        "              [8, 9, 6, 5]])"
      ],
      "metadata": {
        "id": "na_XSD-niF-W"
      },
      "execution_count": null,
      "outputs": []
    },
    {
      "cell_type": "markdown",
      "source": [
        "Exercise 11 b) using manual function np.reshape."
      ],
      "metadata": {
        "id": "KXPCjnZwipxh"
      }
    },
    {
      "cell_type": "code",
      "source": [
        "a = a.reshape(2,4)\n",
        "a"
      ],
      "metadata": {
        "colab": {
          "base_uri": "https://localhost:8080/"
        },
        "id": "nT2NUck7iaZi",
        "outputId": "e82226e6-a1b6-48fc-db3c-7f232f4ba8d7"
      },
      "execution_count": null,
      "outputs": [
        {
          "output_type": "execute_result",
          "data": {
            "text/plain": [
              "array([[1, 2, 3, 4],\n",
              "       [8, 9, 6, 5]])"
            ]
          },
          "metadata": {},
          "execution_count": 71
        }
      ]
    },
    {
      "cell_type": "markdown",
      "source": [
        "Exercise 12 create a 2D numpy array (3 x 4), whose elements are randomly drawn from the discrete uniform distribution between 2 (inclusive) and 30 (inclusive)"
      ],
      "metadata": {
        "id": "vrodczn_i-sL"
      }
    },
    {
      "cell_type": "code",
      "source": [
        "np.random.seed(7548)\n",
        "a = np.random.randint(2, 30+1, size=3*4)\n",
        "a = a.reshape(3,4)\n",
        "a"
      ],
      "metadata": {
        "colab": {
          "base_uri": "https://localhost:8080/"
        },
        "id": "-lIVl7nsi0kj",
        "outputId": "931b6b4a-acb0-4e92-d501-382c51bf4b8e"
      },
      "execution_count": null,
      "outputs": [
        {
          "output_type": "execute_result",
          "data": {
            "text/plain": [
              "array([[10,  7, 20, 15],\n",
              "       [21, 10, 10,  8],\n",
              "       [13, 20, 10, 19]])"
            ]
          },
          "metadata": {},
          "execution_count": 72
        }
      ]
    },
    {
      "cell_type": "markdown",
      "source": [
        "NOTE: the reshape function allow us to present the array as a matrix."
      ],
      "metadata": {
        "id": "J5yi9EE3jjVA"
      }
    },
    {
      "cell_type": "markdown",
      "source": [
        "Exercise 12 a) numpy array that contains the sum of each row of the numpy array.\n",
        "\n",
        "TIP => row is represented by axis=1"
      ],
      "metadata": {
        "id": "3SueTZtgjplp"
      }
    },
    {
      "cell_type": "code",
      "source": [
        "a.sum(axis=1)"
      ],
      "metadata": {
        "colab": {
          "base_uri": "https://localhost:8080/"
        },
        "id": "OGYLDcfNjhH6",
        "outputId": "bc5249b3-6440-4a88-a9db-81791639ffa3"
      },
      "execution_count": null,
      "outputs": [
        {
          "output_type": "execute_result",
          "data": {
            "text/plain": [
              "array([52, 49, 62])"
            ]
          },
          "metadata": {},
          "execution_count": 74
        }
      ]
    },
    {
      "cell_type": "markdown",
      "source": [
        "Exercise 12 b) numpy array that contains the sums of each column of the numpy array.\n",
        "\n",
        "TIP => columns are represented by axis=0"
      ],
      "metadata": {
        "id": "P8EuZsrVj8_b"
      }
    },
    {
      "cell_type": "code",
      "source": [
        "a.sum(axis=0)"
      ],
      "metadata": {
        "colab": {
          "base_uri": "https://localhost:8080/"
        },
        "id": "VrdVdAh_j6oM",
        "outputId": "9b0bc73a-e9f5-463c-91d3-6b978c7242eb"
      },
      "execution_count": null,
      "outputs": [
        {
          "output_type": "execute_result",
          "data": {
            "text/plain": [
              "array([44, 37, 40, 42])"
            ]
          },
          "metadata": {},
          "execution_count": 75
        }
      ]
    },
    {
      "cell_type": "markdown",
      "source": [
        "What about the mean of the rows or colums?"
      ],
      "metadata": {
        "id": "uihAl077kaA8"
      }
    },
    {
      "cell_type": "code",
      "source": [
        "a.mean(axis=1)"
      ],
      "metadata": {
        "colab": {
          "base_uri": "https://localhost:8080/"
        },
        "id": "YoneAUhZkJ3z",
        "outputId": "8b547827-93a2-4031-f1c0-a642624e5b9a"
      },
      "execution_count": null,
      "outputs": [
        {
          "output_type": "execute_result",
          "data": {
            "text/plain": [
              "array([13.  , 12.25, 15.5 ])"
            ]
          },
          "metadata": {},
          "execution_count": 76
        }
      ]
    },
    {
      "cell_type": "code",
      "source": [
        "a.mean(axis=0)"
      ],
      "metadata": {
        "colab": {
          "base_uri": "https://localhost:8080/"
        },
        "id": "COOyhR_3kgG_",
        "outputId": "e2c96ba1-37ea-4ee5-9053-3632ad1ea751"
      },
      "execution_count": null,
      "outputs": [
        {
          "output_type": "execute_result",
          "data": {
            "text/plain": [
              "array([14.66666667, 12.33333333, 13.33333333, 14.        ])"
            ]
          },
          "metadata": {},
          "execution_count": 77
        }
      ]
    },
    {
      "cell_type": "markdown",
      "source": [
        "# CURIOSITY\n",
        "In Python, in sums, true becomes 1 and false becomes 0."
      ],
      "metadata": {
        "id": "L2LLHsUllCDr"
      }
    },
    {
      "cell_type": "code",
      "source": [
        "np.sum(True)"
      ],
      "metadata": {
        "colab": {
          "base_uri": "https://localhost:8080/"
        },
        "id": "3_R6uZkOlW8Y",
        "outputId": "497ac990-1bba-4685-e58e-6568938f5e58"
      },
      "execution_count": null,
      "outputs": [
        {
          "output_type": "execute_result",
          "data": {
            "text/plain": [
              "1"
            ]
          },
          "metadata": {},
          "execution_count": 78
        }
      ]
    },
    {
      "cell_type": "code",
      "source": [
        "np.sum(False)"
      ],
      "metadata": {
        "colab": {
          "base_uri": "https://localhost:8080/"
        },
        "id": "e-cKu475lZ7D",
        "outputId": "aa7b1314-c20b-471c-904d-4beb2a3dd215"
      },
      "execution_count": null,
      "outputs": [
        {
          "output_type": "execute_result",
          "data": {
            "text/plain": [
              "0"
            ]
          },
          "metadata": {},
          "execution_count": 79
        }
      ]
    },
    {
      "cell_type": "markdown",
      "source": [
        "Exercise 12 c) numpy array that per row counts the number of elements greater than 15."
      ],
      "metadata": {
        "id": "TjLxjne6kjJ2"
      }
    },
    {
      "cell_type": "code",
      "source": [
        "np.sum(a > 15, axis=1)"
      ],
      "metadata": {
        "colab": {
          "base_uri": "https://localhost:8080/"
        },
        "id": "NxUF7z92k62G",
        "outputId": "ccc9f7ee-4112-4ee7-93f0-8d6c9b629cf1"
      },
      "execution_count": null,
      "outputs": [
        {
          "output_type": "execute_result",
          "data": {
            "text/plain": [
              "array([1, 1, 2])"
            ]
          },
          "metadata": {},
          "execution_count": 80
        }
      ]
    },
    {
      "cell_type": "markdown",
      "source": [
        "Exercise 12 d) numpy array that per column counts the number of elements lower than 20."
      ],
      "metadata": {
        "id": "PkaT5OqoljTi"
      }
    },
    {
      "cell_type": "code",
      "source": [
        "np.sum(a < 20, axis=0)"
      ],
      "metadata": {
        "colab": {
          "base_uri": "https://localhost:8080/"
        },
        "id": "UvT87n0Rlh1y",
        "outputId": "5a28eb8f-354c-4f97-9087-4b50c448201b"
      },
      "execution_count": null,
      "outputs": [
        {
          "output_type": "execute_result",
          "data": {
            "text/plain": [
              "array([2, 2, 2, 3])"
            ]
          },
          "metadata": {},
          "execution_count": 81
        }
      ]
    },
    {
      "cell_type": "markdown",
      "source": [
        "Exercise 13\n"
      ],
      "metadata": {
        "id": "RTpeL1myl2xJ"
      }
    },
    {
      "cell_type": "code",
      "source": [
        "names = ['Mary', 'John', 'Catherine']\n",
        "course1 = [15, 18, 19]\n",
        "course2 = [18, 19, 14]\n",
        "course3 = [14, 16, 17]\n",
        "credits = [6, 4.5, 3] # of the above courses, respectively"
      ],
      "metadata": {
        "id": "eTJNYfsllv51"
      },
      "execution_count": 2,
      "outputs": []
    },
    {
      "cell_type": "markdown",
      "source": [
        "Let's put the courses in the same array."
      ],
      "metadata": {
        "id": "r2EMjDx5mpKS"
      }
    },
    {
      "cell_type": "code",
      "source": [
        "np.array([course1, course2, course3])"
      ],
      "metadata": {
        "colab": {
          "base_uri": "https://localhost:8080/"
        },
        "id": "Q45RB5OimEqG",
        "outputId": "a67538e7-e3ad-45b0-92f9-6985b569eff8"
      },
      "execution_count": 6,
      "outputs": [
        {
          "output_type": "execute_result",
          "data": {
            "text/plain": [
              "array([[15, 18, 19],\n",
              "       [18, 19, 14],\n",
              "       [14, 16, 17]])"
            ]
          },
          "metadata": {},
          "execution_count": 6
        }
      ]
    },
    {
      "cell_type": "markdown",
      "source": [
        "NOTE: this array is not the same as have a table (a ordem dos dados) because the first row corresponds to the 1st column in the table (1st column is course1) So we need to transpose the marks (.T)\n"
      ],
      "metadata": {
        "id": "D9Rrnq-Am3QQ"
      }
    },
    {
      "cell_type": "code",
      "source": [
        "marks = np.array([course1, course2, course3])\n",
        "marks = marks.T\n",
        "marks"
      ],
      "metadata": {
        "colab": {
          "base_uri": "https://localhost:8080/"
        },
        "id": "QyY2KLm3mwYm",
        "outputId": "dd55f719-5c48-4e51-8805-64ce5cd6344e"
      },
      "execution_count": 7,
      "outputs": [
        {
          "output_type": "execute_result",
          "data": {
            "text/plain": [
              "array([[15, 18, 14],\n",
              "       [18, 19, 16],\n",
              "       [19, 14, 17]])"
            ]
          },
          "metadata": {},
          "execution_count": 7
        }
      ]
    },
    {
      "cell_type": "markdown",
      "source": [
        "Linhas => Notas da Maria em cada curso\n",
        "Colunas => Notas dos três em cada curso"
      ],
      "metadata": {
        "id": "qeew6kOAqVkO"
      }
    },
    {
      "cell_type": "code",
      "source": [
        "num_rows = len(marks)\n",
        "num_cols = len(marks[0])\n",
        "\n",
        "print(\"Number of rows:\", num_rows)\n",
        "print(\"Number of columns:\", num_cols)"
      ],
      "metadata": {
        "colab": {
          "base_uri": "https://localhost:8080/"
        },
        "id": "B-hQ_8Zoo1ik",
        "outputId": "54be4bda-8b25-4983-a507-e3f17858e844"
      },
      "execution_count": null,
      "outputs": [
        {
          "output_type": "stream",
          "name": "stdout",
          "text": [
            "Number of rows: 3\n",
            "Number of columns: 3\n"
          ]
        }
      ]
    },
    {
      "cell_type": "markdown",
      "source": [
        "NOTE: agora os valores do course 1 estão presentes na primeira coluna."
      ],
      "metadata": {
        "id": "dAb7b6SDn_eG"
      }
    },
    {
      "cell_type": "markdown",
      "source": [
        "Let's multiply each course by its credits (course1*credits1), being credits 1=6\n",
        "\n",
        "NOTE: notas do course1 estão na primeira coluna que é 3x3 e matriz dos credits é 3x1"
      ],
      "metadata": {
        "id": "nLQ9fjdJnXJy"
      }
    },
    {
      "cell_type": "code",
      "source": [
        "credits = np.array([6, 4.5, 3])\n",
        "\n",
        "marks*credits"
      ],
      "metadata": {
        "colab": {
          "base_uri": "https://localhost:8080/"
        },
        "id": "S_AQJqA8nD9a",
        "outputId": "8d6c17a6-0b99-4c81-fa3a-59022bce9ca3"
      },
      "execution_count": 8,
      "outputs": [
        {
          "output_type": "execute_result",
          "data": {
            "text/plain": [
              "array([[ 90. ,  81. ,  42. ],\n",
              "       [108. ,  85.5,  48. ],\n",
              "       [114. ,  63. ,  51. ]])"
            ]
          },
          "metadata": {},
          "execution_count": 8
        }
      ]
    },
    {
      "cell_type": "markdown",
      "source": [
        "Linhas => credits*marks de cada um dos alunos\n",
        "Colunas => credits*marks dos alunos em cada um dos cursos"
      ],
      "metadata": {
        "id": "wWnYPIgiqso0"
      }
    },
    {
      "cell_type": "markdown",
      "source": [
        "Let's do the average f each student (rows)."
      ],
      "metadata": {
        "id": "UM2PSrEOnnXZ"
      }
    },
    {
      "cell_type": "code",
      "source": [
        "np.sum(marks * credits, axis=1)/ np.sum(credits)"
      ],
      "metadata": {
        "colab": {
          "base_uri": "https://localhost:8080/"
        },
        "id": "SYX_8uxDnkqB",
        "outputId": "5dd755fe-423c-4502-beab-7aee54efaaa5"
      },
      "execution_count": 9,
      "outputs": [
        {
          "output_type": "execute_result",
          "data": {
            "text/plain": [
              "array([15.77777778, 17.88888889, 16.88888889])"
            ]
          },
          "metadata": {},
          "execution_count": 9
        }
      ]
    },
    {
      "cell_type": "markdown",
      "source": [
        "Let's round these values to 2 decimal digits."
      ],
      "metadata": {
        "id": "3IQaw88HrSSG"
      }
    },
    {
      "cell_type": "code",
      "source": [
        "np.round(np.sum(marks * credits, axis=1)/ np.sum(credits),2)"
      ],
      "metadata": {
        "colab": {
          "base_uri": "https://localhost:8080/"
        },
        "id": "aNjNyZ8rrW7X",
        "outputId": "08a79a85-14f9-423a-8000-31d860efd5a8"
      },
      "execution_count": 10,
      "outputs": [
        {
          "output_type": "execute_result",
          "data": {
            "text/plain": [
              "array([15.78, 17.89, 16.89])"
            ]
          },
          "metadata": {},
          "execution_count": 10
        }
      ]
    },
    {
      "cell_type": "markdown",
      "source": [
        "Let's do the average of each course (colums) axis=0"
      ],
      "metadata": {
        "id": "k_Sm4R3rrBXO"
      }
    },
    {
      "cell_type": "code",
      "source": [
        "np.sum(marks * credits, axis=0) / np.sum(credits)"
      ],
      "metadata": {
        "colab": {
          "base_uri": "https://localhost:8080/"
        },
        "id": "WETJvQkuq_rj",
        "outputId": "fd2a8508-36d3-49ca-aa1f-859234709a2d"
      },
      "execution_count": 11,
      "outputs": [
        {
          "output_type": "execute_result",
          "data": {
            "text/plain": [
              "array([23.11111111, 17.        , 10.44444444])"
            ]
          },
          "metadata": {},
          "execution_count": 11
        }
      ]
    },
    {
      "cell_type": "markdown",
      "source": [
        "Let's round these values in 2 decimal digits"
      ],
      "metadata": {
        "id": "puTlpPhqrc2X"
      }
    },
    {
      "cell_type": "code",
      "source": [
        "np.round(np.sum(marks * credits, axis=0) / np.sum(credits),2)"
      ],
      "metadata": {
        "colab": {
          "base_uri": "https://localhost:8080/"
        },
        "id": "dweC4QMrrGuV",
        "outputId": "c3081ef9-e027-4f18-a7f4-a13cc5dfc045"
      },
      "execution_count": 12,
      "outputs": [
        {
          "output_type": "execute_result",
          "data": {
            "text/plain": [
              "array([23.11, 17.  , 10.44])"
            ]
          },
          "metadata": {},
          "execution_count": 12
        }
      ]
    },
    {
      "cell_type": "markdown",
      "source": [
        "Exercise 14  create a 3D numpy array (4x2x5) whose elements are randomly drawn from the integer uniform distribution between 2 (inclusive) and 30 (exclusive)\n",
        "\n",
        "Use np.random.seed(124)\n",
        "\n",
        "3D numpy arrays are necessary for image processing for example (we will not use this application)"
      ],
      "metadata": {
        "id": "1v_o3_cgr47J"
      }
    },
    {
      "cell_type": "code",
      "source": [
        "np.random.seed(124)\n",
        "\n",
        "a = np.random.randint(2, 30+1, size=4*2*5)\n",
        "a = a.reshape(4,2,5)\n",
        "a\n"
      ],
      "metadata": {
        "id": "lsZOlfUAri1f",
        "colab": {
          "base_uri": "https://localhost:8080/"
        },
        "outputId": "026dc7ee-34b4-49f8-f9e7-a00b4196108d"
      },
      "execution_count": null,
      "outputs": [
        {
          "output_type": "execute_result",
          "data": {
            "text/plain": [
              "array([[[16, 30, 19,  9,  4],\n",
              "        [11,  2, 22, 22, 30]],\n",
              "\n",
              "       [[16, 23, 23, 24, 30],\n",
              "        [29, 11, 24, 16, 18]],\n",
              "\n",
              "       [[10, 11, 11,  2,  4],\n",
              "        [20, 19,  3, 11, 15]],\n",
              "\n",
              "       [[13,  3, 27, 12,  6],\n",
              "        [28,  3, 21, 23, 24]]])"
            ]
          },
          "metadata": {},
          "execution_count": 3
        }
      ]
    },
    {
      "cell_type": "markdown",
      "source": [
        "Exercise 14 a) looking at the random numpy array we created what instruction leads to this numpy array\n",
        "\n",
        "array([[55, 67, 80, 47, 44], \n",
        "       [88, 35, 70, 72, 87]])\n",
        "\n",
        "É possível verificar que para obter o primeiro número da primeira linha temos que somar todos os 1os números da primeira linha tbm e assim consecutivamente.\n",
        "Ou seja, o que estamos a fazer é somar os valores por coluna, então temos que usar axis=0.\n"
      ],
      "metadata": {
        "id": "j4TV8pM4xGf8"
      }
    },
    {
      "cell_type": "code",
      "source": [
        "a.sum(axis=0)"
      ],
      "metadata": {
        "colab": {
          "base_uri": "https://localhost:8080/"
        },
        "id": "WlK0lD1_xdyX",
        "outputId": "f908e666-dc15-493f-9a0f-411abd0fa7dc"
      },
      "execution_count": null,
      "outputs": [
        {
          "output_type": "execute_result",
          "data": {
            "text/plain": [
              "array([[55, 67, 80, 47, 44],\n",
              "       [88, 35, 70, 72, 87]])"
            ]
          },
          "metadata": {},
          "execution_count": 5
        }
      ]
    },
    {
      "cell_type": "markdown",
      "source": [
        "Exercise 14 b) to create the following numpy array what instruction we need to use?\n",
        "\n",
        "array([[27, 32, 41, 31, 34],\n",
        "       [45, 34, 47, 40, 48],\n",
        "       [30, 30, 14, 13, 19],\n",
        "       [41,  6, 48, 35, 30]])\n",
        "\n",
        "Aqui estamos a somar o primeiro elemento da primeira linha com o primeiro elemento da segunda linhas, então temos de usar axis=1"
      ],
      "metadata": {
        "id": "Qs4LSZN2yhzg"
      }
    },
    {
      "cell_type": "code",
      "source": [
        "a.sum(axis=1)"
      ],
      "metadata": {
        "colab": {
          "base_uri": "https://localhost:8080/"
        },
        "id": "wCqKsaAby67Z",
        "outputId": "81a8adbf-1c94-4360-ee30-a4521e2ba2c7"
      },
      "execution_count": null,
      "outputs": [
        {
          "output_type": "execute_result",
          "data": {
            "text/plain": [
              "array([[27, 32, 41, 31, 34],\n",
              "       [45, 34, 47, 40, 48],\n",
              "       [30, 30, 14, 13, 19],\n",
              "       [41,  6, 48, 35, 30]])"
            ]
          },
          "metadata": {},
          "execution_count": 6
        }
      ]
    },
    {
      "cell_type": "markdown",
      "source": [
        "Exercise 13 c) to create the following numpy array what instruction we need to use?\n",
        "\n",
        "array([[ 78,  87],\n",
        "       [116,  98],\n",
        "       [ 38,  68],\n",
        "       [ 61,  99]])\n",
        "\n",
        "O que estamos a fazer é somar todos os elementos de cada linha, então temos de usar axis=2\n",
        "\n"
      ],
      "metadata": {
        "id": "dhcetCcuy-ER"
      }
    },
    {
      "cell_type": "code",
      "source": [
        "a.sum(axis=2)\n"
      ],
      "metadata": {
        "colab": {
          "base_uri": "https://localhost:8080/"
        },
        "id": "TpZiE2c1zORo",
        "outputId": "1be9a6f2-c9ec-4a26-fc72-70412a71b312"
      },
      "execution_count": null,
      "outputs": [
        {
          "output_type": "execute_result",
          "data": {
            "text/plain": [
              "array([[ 78,  87],\n",
              "       [116,  98],\n",
              "       [ 38,  68],\n",
              "       [ 61,  99]])"
            ]
          },
          "metadata": {},
          "execution_count": 7
        }
      ]
    },
    {
      "cell_type": "markdown",
      "source": [
        "Exercise 15 very similar to exercise 14"
      ],
      "metadata": {
        "id": "VZ5QuS_0sDqf"
      }
    },
    {
      "cell_type": "code",
      "source": [
        "np.random.seed(212)\n",
        "\n",
        "a = np.random.randint(2, 30+1, size=2*4*3)\n",
        "a = a.reshape(2,4,3)\n",
        "a"
      ],
      "metadata": {
        "id": "HZOYru6MsEcl",
        "colab": {
          "base_uri": "https://localhost:8080/"
        },
        "outputId": "b4e7e353-6019-48fd-987e-86207cf895a5"
      },
      "execution_count": null,
      "outputs": [
        {
          "output_type": "execute_result",
          "data": {
            "text/plain": [
              "array([[[26,  4,  6],\n",
              "        [11, 16,  3],\n",
              "        [27, 14, 21],\n",
              "        [17, 18, 17]],\n",
              "\n",
              "       [[15, 18, 14],\n",
              "        [ 3, 12, 24],\n",
              "        [28, 19,  5],\n",
              "        [14,  2,  7]]])"
            ]
          },
          "metadata": {},
          "execution_count": 8
        }
      ]
    },
    {
      "cell_type": "markdown",
      "source": [
        "Somatório de todos os primeiros elementos de cada linha."
      ],
      "metadata": {
        "id": "3oVa08Xqzzcg"
      }
    },
    {
      "cell_type": "code",
      "source": [
        "a.sum(axis=1)"
      ],
      "metadata": {
        "colab": {
          "base_uri": "https://localhost:8080/"
        },
        "id": "oB0TqOyJztF2",
        "outputId": "d23734e7-c4d2-4c99-9d0e-80aa3f98ac1d"
      },
      "execution_count": null,
      "outputs": [
        {
          "output_type": "execute_result",
          "data": {
            "text/plain": [
              "array([[81, 52, 47],\n",
              "       [60, 51, 50]])"
            ]
          },
          "metadata": {},
          "execution_count": 10
        }
      ]
    },
    {
      "cell_type": "markdown",
      "source": [
        "Somatório de todos os elementos de cada linha."
      ],
      "metadata": {
        "id": "yzOtiL8T0Deh"
      }
    },
    {
      "cell_type": "code",
      "source": [
        "a.sum(axis=2)"
      ],
      "metadata": {
        "colab": {
          "base_uri": "https://localhost:8080/"
        },
        "id": "JjZeyxNEz7EQ",
        "outputId": "0d51126d-95a9-4246-82e9-39dfedac9a2f"
      },
      "execution_count": null,
      "outputs": [
        {
          "output_type": "execute_result",
          "data": {
            "text/plain": [
              "array([[36, 30, 62, 52],\n",
              "       [47, 39, 52, 23]])"
            ]
          },
          "metadata": {},
          "execution_count": 11
        }
      ]
    },
    {
      "cell_type": "markdown",
      "source": [
        "Somatório do primeiro elemento de cada linha de cada matriz com o primeiro elemento da primeira linha com a segunda matriz."
      ],
      "metadata": {
        "id": "IVS5t5eez5SL"
      }
    },
    {
      "cell_type": "code",
      "source": [
        "a.sum(axis=0)"
      ],
      "metadata": {
        "colab": {
          "base_uri": "https://localhost:8080/"
        },
        "id": "G_LpBWE1zpnT",
        "outputId": "70ae5e25-c695-4598-e3ea-3d48b1d1a345"
      },
      "execution_count": null,
      "outputs": [
        {
          "output_type": "execute_result",
          "data": {
            "text/plain": [
              "array([[41, 22, 20],\n",
              "       [14, 28, 27],\n",
              "       [55, 33, 26],\n",
              "       [31, 20, 24]])"
            ]
          },
          "metadata": {},
          "execution_count": 9
        }
      ]
    },
    {
      "cell_type": "markdown",
      "source": [
        "# PANDA DATAFRAMES\n",
        "\n",
        "Pandas is a popular open-source data analysis library for Python. It provides data structures for efficient data manipulation and analysis. One of the key data structures in pandas is the DataFrame, which is a two-dimensional table-like data structure.\n",
        "\n",
        "A DataFrame is a collection of rows and columns, similar to a spreadsheet or SQL table. It has an index that labels the rows and a set of columns that label the columns. Each column in a DataFrame can have a different data type, such as integers, floating-point numbers, and strings."
      ],
      "metadata": {
        "id": "onDxWEBZsE9H"
      }
    },
    {
      "cell_type": "markdown",
      "source": [
        "Exercise 16 a) program that creates a dataframe, `df`, using a dictionary."
      ],
      "metadata": {
        "id": "ZaoM2524sXxv"
      }
    },
    {
      "cell_type": "code",
      "source": [
        "import pandas as pd\n",
        "\n",
        "df = pd.DataFrame({'Students': ['John', 'Catherine', 'Mary'],\n",
        "                   'Ages': [18,30,25]})\n",
        "\n",
        "df"
      ],
      "metadata": {
        "colab": {
          "base_uri": "https://localhost:8080/",
          "height": 143
        },
        "id": "joULmAP2sSGn",
        "outputId": "dbd6efb0-3505-420d-e7c8-eb1121b7b050"
      },
      "execution_count": null,
      "outputs": [
        {
          "output_type": "execute_result",
          "data": {
            "text/plain": [
              "    Students  Ages\n",
              "0       John    18\n",
              "1  Catherine    30\n",
              "2       Mary    25"
            ],
            "text/html": [
              "\n",
              "  <div id=\"df-c39973f7-cecd-44af-948c-3fda26efbc13\">\n",
              "    <div class=\"colab-df-container\">\n",
              "      <div>\n",
              "<style scoped>\n",
              "    .dataframe tbody tr th:only-of-type {\n",
              "        vertical-align: middle;\n",
              "    }\n",
              "\n",
              "    .dataframe tbody tr th {\n",
              "        vertical-align: top;\n",
              "    }\n",
              "\n",
              "    .dataframe thead th {\n",
              "        text-align: right;\n",
              "    }\n",
              "</style>\n",
              "<table border=\"1\" class=\"dataframe\">\n",
              "  <thead>\n",
              "    <tr style=\"text-align: right;\">\n",
              "      <th></th>\n",
              "      <th>Students</th>\n",
              "      <th>Ages</th>\n",
              "    </tr>\n",
              "  </thead>\n",
              "  <tbody>\n",
              "    <tr>\n",
              "      <th>0</th>\n",
              "      <td>John</td>\n",
              "      <td>18</td>\n",
              "    </tr>\n",
              "    <tr>\n",
              "      <th>1</th>\n",
              "      <td>Catherine</td>\n",
              "      <td>30</td>\n",
              "    </tr>\n",
              "    <tr>\n",
              "      <th>2</th>\n",
              "      <td>Mary</td>\n",
              "      <td>25</td>\n",
              "    </tr>\n",
              "  </tbody>\n",
              "</table>\n",
              "</div>\n",
              "      <button class=\"colab-df-convert\" onclick=\"convertToInteractive('df-c39973f7-cecd-44af-948c-3fda26efbc13')\"\n",
              "              title=\"Convert this dataframe to an interactive table.\"\n",
              "              style=\"display:none;\">\n",
              "        \n",
              "  <svg xmlns=\"http://www.w3.org/2000/svg\" height=\"24px\"viewBox=\"0 0 24 24\"\n",
              "       width=\"24px\">\n",
              "    <path d=\"M0 0h24v24H0V0z\" fill=\"none\"/>\n",
              "    <path d=\"M18.56 5.44l.94 2.06.94-2.06 2.06-.94-2.06-.94-.94-2.06-.94 2.06-2.06.94zm-11 1L8.5 8.5l.94-2.06 2.06-.94-2.06-.94L8.5 2.5l-.94 2.06-2.06.94zm10 10l.94 2.06.94-2.06 2.06-.94-2.06-.94-.94-2.06-.94 2.06-2.06.94z\"/><path d=\"M17.41 7.96l-1.37-1.37c-.4-.4-.92-.59-1.43-.59-.52 0-1.04.2-1.43.59L10.3 9.45l-7.72 7.72c-.78.78-.78 2.05 0 2.83L4 21.41c.39.39.9.59 1.41.59.51 0 1.02-.2 1.41-.59l7.78-7.78 2.81-2.81c.8-.78.8-2.07 0-2.86zM5.41 20L4 18.59l7.72-7.72 1.47 1.35L5.41 20z\"/>\n",
              "  </svg>\n",
              "      </button>\n",
              "      \n",
              "  <style>\n",
              "    .colab-df-container {\n",
              "      display:flex;\n",
              "      flex-wrap:wrap;\n",
              "      gap: 12px;\n",
              "    }\n",
              "\n",
              "    .colab-df-convert {\n",
              "      background-color: #E8F0FE;\n",
              "      border: none;\n",
              "      border-radius: 50%;\n",
              "      cursor: pointer;\n",
              "      display: none;\n",
              "      fill: #1967D2;\n",
              "      height: 32px;\n",
              "      padding: 0 0 0 0;\n",
              "      width: 32px;\n",
              "    }\n",
              "\n",
              "    .colab-df-convert:hover {\n",
              "      background-color: #E2EBFA;\n",
              "      box-shadow: 0px 1px 2px rgba(60, 64, 67, 0.3), 0px 1px 3px 1px rgba(60, 64, 67, 0.15);\n",
              "      fill: #174EA6;\n",
              "    }\n",
              "\n",
              "    [theme=dark] .colab-df-convert {\n",
              "      background-color: #3B4455;\n",
              "      fill: #D2E3FC;\n",
              "    }\n",
              "\n",
              "    [theme=dark] .colab-df-convert:hover {\n",
              "      background-color: #434B5C;\n",
              "      box-shadow: 0px 1px 3px 1px rgba(0, 0, 0, 0.15);\n",
              "      filter: drop-shadow(0px 1px 2px rgba(0, 0, 0, 0.3));\n",
              "      fill: #FFFFFF;\n",
              "    }\n",
              "  </style>\n",
              "\n",
              "      <script>\n",
              "        const buttonEl =\n",
              "          document.querySelector('#df-c39973f7-cecd-44af-948c-3fda26efbc13 button.colab-df-convert');\n",
              "        buttonEl.style.display =\n",
              "          google.colab.kernel.accessAllowed ? 'block' : 'none';\n",
              "\n",
              "        async function convertToInteractive(key) {\n",
              "          const element = document.querySelector('#df-c39973f7-cecd-44af-948c-3fda26efbc13');\n",
              "          const dataTable =\n",
              "            await google.colab.kernel.invokeFunction('convertToInteractive',\n",
              "                                                     [key], {});\n",
              "          if (!dataTable) return;\n",
              "\n",
              "          const docLinkHtml = 'Like what you see? Visit the ' +\n",
              "            '<a target=\"_blank\" href=https://colab.research.google.com/notebooks/data_table.ipynb>data table notebook</a>'\n",
              "            + ' to learn more about interactive tables.';\n",
              "          element.innerHTML = '';\n",
              "          dataTable['output_type'] = 'display_data';\n",
              "          await google.colab.output.renderOutput(dataTable, element);\n",
              "          const docLink = document.createElement('div');\n",
              "          docLink.innerHTML = docLinkHtml;\n",
              "          element.appendChild(docLink);\n",
              "        }\n",
              "      </script>\n",
              "    </div>\n",
              "  </div>\n",
              "  "
            ]
          },
          "metadata": {},
          "execution_count": 5
        }
      ]
    },
    {
      "cell_type": "markdown",
      "source": [
        "Exercise 16 b) using a 2D numpy array"
      ],
      "metadata": {
        "id": "vXC0feFHtEL-"
      }
    },
    {
      "cell_type": "code",
      "source": [
        "a = np.array([df['Students'].values, df['Ages'].values])\n",
        "a"
      ],
      "metadata": {
        "colab": {
          "base_uri": "https://localhost:8080/"
        },
        "id": "kMQI0f_q1T_a",
        "outputId": "ca9b88ae-dd67-4958-f0e4-778fa08e47d5"
      },
      "execution_count": null,
      "outputs": [
        {
          "output_type": "execute_result",
          "data": {
            "text/plain": [
              "array([['John', 'Catherine', 'Mary'],\n",
              "       [18, 30, 25]], dtype=object)"
            ]
          },
          "metadata": {},
          "execution_count": 16
        }
      ]
    },
    {
      "cell_type": "markdown",
      "source": [
        "Transpose the array to make the students and ages as rows."
      ],
      "metadata": {
        "id": "9ODDhuDX1Yzj"
      }
    },
    {
      "cell_type": "code",
      "source": [
        "a = a.T\n",
        "\n",
        "print(a)"
      ],
      "metadata": {
        "colab": {
          "base_uri": "https://localhost:8080/"
        },
        "id": "7IDyH6yO0y56",
        "outputId": "e344a78d-0795-4d53-bd5c-82c383effc36"
      },
      "execution_count": null,
      "outputs": [
        {
          "output_type": "stream",
          "name": "stdout",
          "text": [
            "[['John' 18]\n",
            " ['Catherine' 30]\n",
            " ['Mary' 25]]\n"
          ]
        }
      ]
    },
    {
      "cell_type": "markdown",
      "source": [
        "## READING AND WRITING DATA FILES"
      ],
      "metadata": {
        "id": "JALsrQkxtIyS"
      }
    },
    {
      "cell_type": "markdown",
      "source": [
        "Exercise 17"
      ],
      "metadata": {
        "id": "vXBF0U5Iuw9V"
      }
    },
    {
      "cell_type": "code",
      "source": [
        "df_carradios = pd.read_excel('/content/data_carradios.xlsx')\n",
        "df_carradios"
      ],
      "metadata": {
        "colab": {
          "base_uri": "https://localhost:8080/",
          "height": 423
        },
        "id": "HUew_z-StlMg",
        "outputId": "bf5503cf-5096-4985-9050-46a96aac77d9"
      },
      "execution_count": null,
      "outputs": [
        {
          "output_type": "execute_result",
          "data": {
            "text/plain": [
              "     perc_defec      bdate  team  training      datep  prizeq  prized\n",
              "0          0.00 1981-07-02     8         1 2021-07-01       0       0\n",
              "1         36.32 1992-06-14     6         0 2021-07-02       0       0\n",
              "2         48.91 2003-05-28     7         0 2021-07-05     500       0\n",
              "3         20.36 1992-06-14    10         0 2021-07-06       0       0\n",
              "4         42.07 2003-05-28     7         0 2021-07-07     500       0\n",
              "..          ...        ...   ...       ...        ...     ...     ...\n",
              "995       21.50 1981-07-02     1         0 2021-12-13       0       0\n",
              "996        7.53 1981-07-02     2         0 2021-12-14     500     600\n",
              "997       27.70 1997-12-05    10         0 2021-12-15       0       0\n",
              "998        0.00 1986-12-23     5         0 2021-12-16       0     600\n",
              "999       38.39 1986-12-23     6         0 2021-12-17       0       0\n",
              "\n",
              "[1000 rows x 7 columns]"
            ],
            "text/html": [
              "\n",
              "  <div id=\"df-0f50fe02-528a-4df0-8754-8307b8cadf35\">\n",
              "    <div class=\"colab-df-container\">\n",
              "      <div>\n",
              "<style scoped>\n",
              "    .dataframe tbody tr th:only-of-type {\n",
              "        vertical-align: middle;\n",
              "    }\n",
              "\n",
              "    .dataframe tbody tr th {\n",
              "        vertical-align: top;\n",
              "    }\n",
              "\n",
              "    .dataframe thead th {\n",
              "        text-align: right;\n",
              "    }\n",
              "</style>\n",
              "<table border=\"1\" class=\"dataframe\">\n",
              "  <thead>\n",
              "    <tr style=\"text-align: right;\">\n",
              "      <th></th>\n",
              "      <th>perc_defec</th>\n",
              "      <th>bdate</th>\n",
              "      <th>team</th>\n",
              "      <th>training</th>\n",
              "      <th>datep</th>\n",
              "      <th>prizeq</th>\n",
              "      <th>prized</th>\n",
              "    </tr>\n",
              "  </thead>\n",
              "  <tbody>\n",
              "    <tr>\n",
              "      <th>0</th>\n",
              "      <td>0.00</td>\n",
              "      <td>1981-07-02</td>\n",
              "      <td>8</td>\n",
              "      <td>1</td>\n",
              "      <td>2021-07-01</td>\n",
              "      <td>0</td>\n",
              "      <td>0</td>\n",
              "    </tr>\n",
              "    <tr>\n",
              "      <th>1</th>\n",
              "      <td>36.32</td>\n",
              "      <td>1992-06-14</td>\n",
              "      <td>6</td>\n",
              "      <td>0</td>\n",
              "      <td>2021-07-02</td>\n",
              "      <td>0</td>\n",
              "      <td>0</td>\n",
              "    </tr>\n",
              "    <tr>\n",
              "      <th>2</th>\n",
              "      <td>48.91</td>\n",
              "      <td>2003-05-28</td>\n",
              "      <td>7</td>\n",
              "      <td>0</td>\n",
              "      <td>2021-07-05</td>\n",
              "      <td>500</td>\n",
              "      <td>0</td>\n",
              "    </tr>\n",
              "    <tr>\n",
              "      <th>3</th>\n",
              "      <td>20.36</td>\n",
              "      <td>1992-06-14</td>\n",
              "      <td>10</td>\n",
              "      <td>0</td>\n",
              "      <td>2021-07-06</td>\n",
              "      <td>0</td>\n",
              "      <td>0</td>\n",
              "    </tr>\n",
              "    <tr>\n",
              "      <th>4</th>\n",
              "      <td>42.07</td>\n",
              "      <td>2003-05-28</td>\n",
              "      <td>7</td>\n",
              "      <td>0</td>\n",
              "      <td>2021-07-07</td>\n",
              "      <td>500</td>\n",
              "      <td>0</td>\n",
              "    </tr>\n",
              "    <tr>\n",
              "      <th>...</th>\n",
              "      <td>...</td>\n",
              "      <td>...</td>\n",
              "      <td>...</td>\n",
              "      <td>...</td>\n",
              "      <td>...</td>\n",
              "      <td>...</td>\n",
              "      <td>...</td>\n",
              "    </tr>\n",
              "    <tr>\n",
              "      <th>995</th>\n",
              "      <td>21.50</td>\n",
              "      <td>1981-07-02</td>\n",
              "      <td>1</td>\n",
              "      <td>0</td>\n",
              "      <td>2021-12-13</td>\n",
              "      <td>0</td>\n",
              "      <td>0</td>\n",
              "    </tr>\n",
              "    <tr>\n",
              "      <th>996</th>\n",
              "      <td>7.53</td>\n",
              "      <td>1981-07-02</td>\n",
              "      <td>2</td>\n",
              "      <td>0</td>\n",
              "      <td>2021-12-14</td>\n",
              "      <td>500</td>\n",
              "      <td>600</td>\n",
              "    </tr>\n",
              "    <tr>\n",
              "      <th>997</th>\n",
              "      <td>27.70</td>\n",
              "      <td>1997-12-05</td>\n",
              "      <td>10</td>\n",
              "      <td>0</td>\n",
              "      <td>2021-12-15</td>\n",
              "      <td>0</td>\n",
              "      <td>0</td>\n",
              "    </tr>\n",
              "    <tr>\n",
              "      <th>998</th>\n",
              "      <td>0.00</td>\n",
              "      <td>1986-12-23</td>\n",
              "      <td>5</td>\n",
              "      <td>0</td>\n",
              "      <td>2021-12-16</td>\n",
              "      <td>0</td>\n",
              "      <td>600</td>\n",
              "    </tr>\n",
              "    <tr>\n",
              "      <th>999</th>\n",
              "      <td>38.39</td>\n",
              "      <td>1986-12-23</td>\n",
              "      <td>6</td>\n",
              "      <td>0</td>\n",
              "      <td>2021-12-17</td>\n",
              "      <td>0</td>\n",
              "      <td>0</td>\n",
              "    </tr>\n",
              "  </tbody>\n",
              "</table>\n",
              "<p>1000 rows × 7 columns</p>\n",
              "</div>\n",
              "      <button class=\"colab-df-convert\" onclick=\"convertToInteractive('df-0f50fe02-528a-4df0-8754-8307b8cadf35')\"\n",
              "              title=\"Convert this dataframe to an interactive table.\"\n",
              "              style=\"display:none;\">\n",
              "        \n",
              "  <svg xmlns=\"http://www.w3.org/2000/svg\" height=\"24px\"viewBox=\"0 0 24 24\"\n",
              "       width=\"24px\">\n",
              "    <path d=\"M0 0h24v24H0V0z\" fill=\"none\"/>\n",
              "    <path d=\"M18.56 5.44l.94 2.06.94-2.06 2.06-.94-2.06-.94-.94-2.06-.94 2.06-2.06.94zm-11 1L8.5 8.5l.94-2.06 2.06-.94-2.06-.94L8.5 2.5l-.94 2.06-2.06.94zm10 10l.94 2.06.94-2.06 2.06-.94-2.06-.94-.94-2.06-.94 2.06-2.06.94z\"/><path d=\"M17.41 7.96l-1.37-1.37c-.4-.4-.92-.59-1.43-.59-.52 0-1.04.2-1.43.59L10.3 9.45l-7.72 7.72c-.78.78-.78 2.05 0 2.83L4 21.41c.39.39.9.59 1.41.59.51 0 1.02-.2 1.41-.59l7.78-7.78 2.81-2.81c.8-.78.8-2.07 0-2.86zM5.41 20L4 18.59l7.72-7.72 1.47 1.35L5.41 20z\"/>\n",
              "  </svg>\n",
              "      </button>\n",
              "      \n",
              "  <style>\n",
              "    .colab-df-container {\n",
              "      display:flex;\n",
              "      flex-wrap:wrap;\n",
              "      gap: 12px;\n",
              "    }\n",
              "\n",
              "    .colab-df-convert {\n",
              "      background-color: #E8F0FE;\n",
              "      border: none;\n",
              "      border-radius: 50%;\n",
              "      cursor: pointer;\n",
              "      display: none;\n",
              "      fill: #1967D2;\n",
              "      height: 32px;\n",
              "      padding: 0 0 0 0;\n",
              "      width: 32px;\n",
              "    }\n",
              "\n",
              "    .colab-df-convert:hover {\n",
              "      background-color: #E2EBFA;\n",
              "      box-shadow: 0px 1px 2px rgba(60, 64, 67, 0.3), 0px 1px 3px 1px rgba(60, 64, 67, 0.15);\n",
              "      fill: #174EA6;\n",
              "    }\n",
              "\n",
              "    [theme=dark] .colab-df-convert {\n",
              "      background-color: #3B4455;\n",
              "      fill: #D2E3FC;\n",
              "    }\n",
              "\n",
              "    [theme=dark] .colab-df-convert:hover {\n",
              "      background-color: #434B5C;\n",
              "      box-shadow: 0px 1px 3px 1px rgba(0, 0, 0, 0.15);\n",
              "      filter: drop-shadow(0px 1px 2px rgba(0, 0, 0, 0.3));\n",
              "      fill: #FFFFFF;\n",
              "    }\n",
              "  </style>\n",
              "\n",
              "      <script>\n",
              "        const buttonEl =\n",
              "          document.querySelector('#df-0f50fe02-528a-4df0-8754-8307b8cadf35 button.colab-df-convert');\n",
              "        buttonEl.style.display =\n",
              "          google.colab.kernel.accessAllowed ? 'block' : 'none';\n",
              "\n",
              "        async function convertToInteractive(key) {\n",
              "          const element = document.querySelector('#df-0f50fe02-528a-4df0-8754-8307b8cadf35');\n",
              "          const dataTable =\n",
              "            await google.colab.kernel.invokeFunction('convertToInteractive',\n",
              "                                                     [key], {});\n",
              "          if (!dataTable) return;\n",
              "\n",
              "          const docLinkHtml = 'Like what you see? Visit the ' +\n",
              "            '<a target=\"_blank\" href=https://colab.research.google.com/notebooks/data_table.ipynb>data table notebook</a>'\n",
              "            + ' to learn more about interactive tables.';\n",
              "          element.innerHTML = '';\n",
              "          dataTable['output_type'] = 'display_data';\n",
              "          await google.colab.output.renderOutput(dataTable, element);\n",
              "          const docLink = document.createElement('div');\n",
              "          docLink.innerHTML = docLinkHtml;\n",
              "          element.appendChild(docLink);\n",
              "        }\n",
              "      </script>\n",
              "    </div>\n",
              "  </div>\n",
              "  "
            ]
          },
          "metadata": {},
          "execution_count": 11
        }
      ]
    },
    {
      "cell_type": "markdown",
      "source": [
        "Exercise 18"
      ],
      "metadata": {
        "id": "Jf_MXwQktOf_"
      }
    },
    {
      "cell_type": "code",
      "source": [
        "df_marks = pd.read_csv('/content/course_marks.csv')\n",
        "df_marks"
      ],
      "metadata": {
        "colab": {
          "base_uri": "https://localhost:8080/",
          "height": 676
        },
        "id": "Ys8Nk692tMKO",
        "outputId": "050c69a7-90ff-491e-fc4d-d7028963957e"
      },
      "execution_count": null,
      "outputs": [
        {
          "output_type": "execute_result",
          "data": {
            "text/plain": [
              "               Names  Test 1  Test 2  Test 3\n",
              "0           Troy Day   12.43   14.13   14.65\n",
              "1   Daniel Hernandez   13.22   14.47   11.95\n",
              "2    Michelle Wilson   12.82   16.11   14.95\n",
              "3         Sarah Moon   13.68   15.36   16.61\n",
              "4       Devin Carter   13.28   15.77   15.46\n",
              "5       John Griffin   14.97   16.13   14.81\n",
              "6         Maria Gray   12.89   19.02   14.06\n",
              "7    William Mcclure   14.06   16.47   14.32\n",
              "8       Darrell King   10.21   15.13   14.20\n",
              "9     Valerie Holder   15.58   15.38   16.66\n",
              "10   Brandon Mullins   14.17   17.35   14.97\n",
              "11   Makayla Whitney   15.86   19.20   18.45\n",
              "12     David Higgins   13.73   15.41   13.81\n",
              "13       Samuel Vega   13.39   18.90   15.70\n",
              "14     Melissa Berry   17.61   18.39   16.60\n",
              "15   Brandon Johnson   13.36   17.44   17.64\n",
              "16        Ryan Weber   15.58   19.56   17.17\n",
              "17     Karen Stanley   13.12   17.72   14.89\n",
              "18       Ryan Spence   14.41   16.79   15.89\n",
              "19     Ryan Harrison   13.10   17.23   15.67"
            ],
            "text/html": [
              "\n",
              "  <div id=\"df-f63e9117-1b53-4ef6-9622-90a3cd16c9c5\">\n",
              "    <div class=\"colab-df-container\">\n",
              "      <div>\n",
              "<style scoped>\n",
              "    .dataframe tbody tr th:only-of-type {\n",
              "        vertical-align: middle;\n",
              "    }\n",
              "\n",
              "    .dataframe tbody tr th {\n",
              "        vertical-align: top;\n",
              "    }\n",
              "\n",
              "    .dataframe thead th {\n",
              "        text-align: right;\n",
              "    }\n",
              "</style>\n",
              "<table border=\"1\" class=\"dataframe\">\n",
              "  <thead>\n",
              "    <tr style=\"text-align: right;\">\n",
              "      <th></th>\n",
              "      <th>Names</th>\n",
              "      <th>Test 1</th>\n",
              "      <th>Test 2</th>\n",
              "      <th>Test 3</th>\n",
              "    </tr>\n",
              "  </thead>\n",
              "  <tbody>\n",
              "    <tr>\n",
              "      <th>0</th>\n",
              "      <td>Troy Day</td>\n",
              "      <td>12.43</td>\n",
              "      <td>14.13</td>\n",
              "      <td>14.65</td>\n",
              "    </tr>\n",
              "    <tr>\n",
              "      <th>1</th>\n",
              "      <td>Daniel Hernandez</td>\n",
              "      <td>13.22</td>\n",
              "      <td>14.47</td>\n",
              "      <td>11.95</td>\n",
              "    </tr>\n",
              "    <tr>\n",
              "      <th>2</th>\n",
              "      <td>Michelle Wilson</td>\n",
              "      <td>12.82</td>\n",
              "      <td>16.11</td>\n",
              "      <td>14.95</td>\n",
              "    </tr>\n",
              "    <tr>\n",
              "      <th>3</th>\n",
              "      <td>Sarah Moon</td>\n",
              "      <td>13.68</td>\n",
              "      <td>15.36</td>\n",
              "      <td>16.61</td>\n",
              "    </tr>\n",
              "    <tr>\n",
              "      <th>4</th>\n",
              "      <td>Devin Carter</td>\n",
              "      <td>13.28</td>\n",
              "      <td>15.77</td>\n",
              "      <td>15.46</td>\n",
              "    </tr>\n",
              "    <tr>\n",
              "      <th>5</th>\n",
              "      <td>John Griffin</td>\n",
              "      <td>14.97</td>\n",
              "      <td>16.13</td>\n",
              "      <td>14.81</td>\n",
              "    </tr>\n",
              "    <tr>\n",
              "      <th>6</th>\n",
              "      <td>Maria Gray</td>\n",
              "      <td>12.89</td>\n",
              "      <td>19.02</td>\n",
              "      <td>14.06</td>\n",
              "    </tr>\n",
              "    <tr>\n",
              "      <th>7</th>\n",
              "      <td>William Mcclure</td>\n",
              "      <td>14.06</td>\n",
              "      <td>16.47</td>\n",
              "      <td>14.32</td>\n",
              "    </tr>\n",
              "    <tr>\n",
              "      <th>8</th>\n",
              "      <td>Darrell King</td>\n",
              "      <td>10.21</td>\n",
              "      <td>15.13</td>\n",
              "      <td>14.20</td>\n",
              "    </tr>\n",
              "    <tr>\n",
              "      <th>9</th>\n",
              "      <td>Valerie Holder</td>\n",
              "      <td>15.58</td>\n",
              "      <td>15.38</td>\n",
              "      <td>16.66</td>\n",
              "    </tr>\n",
              "    <tr>\n",
              "      <th>10</th>\n",
              "      <td>Brandon Mullins</td>\n",
              "      <td>14.17</td>\n",
              "      <td>17.35</td>\n",
              "      <td>14.97</td>\n",
              "    </tr>\n",
              "    <tr>\n",
              "      <th>11</th>\n",
              "      <td>Makayla Whitney</td>\n",
              "      <td>15.86</td>\n",
              "      <td>19.20</td>\n",
              "      <td>18.45</td>\n",
              "    </tr>\n",
              "    <tr>\n",
              "      <th>12</th>\n",
              "      <td>David Higgins</td>\n",
              "      <td>13.73</td>\n",
              "      <td>15.41</td>\n",
              "      <td>13.81</td>\n",
              "    </tr>\n",
              "    <tr>\n",
              "      <th>13</th>\n",
              "      <td>Samuel Vega</td>\n",
              "      <td>13.39</td>\n",
              "      <td>18.90</td>\n",
              "      <td>15.70</td>\n",
              "    </tr>\n",
              "    <tr>\n",
              "      <th>14</th>\n",
              "      <td>Melissa Berry</td>\n",
              "      <td>17.61</td>\n",
              "      <td>18.39</td>\n",
              "      <td>16.60</td>\n",
              "    </tr>\n",
              "    <tr>\n",
              "      <th>15</th>\n",
              "      <td>Brandon Johnson</td>\n",
              "      <td>13.36</td>\n",
              "      <td>17.44</td>\n",
              "      <td>17.64</td>\n",
              "    </tr>\n",
              "    <tr>\n",
              "      <th>16</th>\n",
              "      <td>Ryan Weber</td>\n",
              "      <td>15.58</td>\n",
              "      <td>19.56</td>\n",
              "      <td>17.17</td>\n",
              "    </tr>\n",
              "    <tr>\n",
              "      <th>17</th>\n",
              "      <td>Karen Stanley</td>\n",
              "      <td>13.12</td>\n",
              "      <td>17.72</td>\n",
              "      <td>14.89</td>\n",
              "    </tr>\n",
              "    <tr>\n",
              "      <th>18</th>\n",
              "      <td>Ryan Spence</td>\n",
              "      <td>14.41</td>\n",
              "      <td>16.79</td>\n",
              "      <td>15.89</td>\n",
              "    </tr>\n",
              "    <tr>\n",
              "      <th>19</th>\n",
              "      <td>Ryan Harrison</td>\n",
              "      <td>13.10</td>\n",
              "      <td>17.23</td>\n",
              "      <td>15.67</td>\n",
              "    </tr>\n",
              "  </tbody>\n",
              "</table>\n",
              "</div>\n",
              "      <button class=\"colab-df-convert\" onclick=\"convertToInteractive('df-f63e9117-1b53-4ef6-9622-90a3cd16c9c5')\"\n",
              "              title=\"Convert this dataframe to an interactive table.\"\n",
              "              style=\"display:none;\">\n",
              "        \n",
              "  <svg xmlns=\"http://www.w3.org/2000/svg\" height=\"24px\"viewBox=\"0 0 24 24\"\n",
              "       width=\"24px\">\n",
              "    <path d=\"M0 0h24v24H0V0z\" fill=\"none\"/>\n",
              "    <path d=\"M18.56 5.44l.94 2.06.94-2.06 2.06-.94-2.06-.94-.94-2.06-.94 2.06-2.06.94zm-11 1L8.5 8.5l.94-2.06 2.06-.94-2.06-.94L8.5 2.5l-.94 2.06-2.06.94zm10 10l.94 2.06.94-2.06 2.06-.94-2.06-.94-.94-2.06-.94 2.06-2.06.94z\"/><path d=\"M17.41 7.96l-1.37-1.37c-.4-.4-.92-.59-1.43-.59-.52 0-1.04.2-1.43.59L10.3 9.45l-7.72 7.72c-.78.78-.78 2.05 0 2.83L4 21.41c.39.39.9.59 1.41.59.51 0 1.02-.2 1.41-.59l7.78-7.78 2.81-2.81c.8-.78.8-2.07 0-2.86zM5.41 20L4 18.59l7.72-7.72 1.47 1.35L5.41 20z\"/>\n",
              "  </svg>\n",
              "      </button>\n",
              "      \n",
              "  <style>\n",
              "    .colab-df-container {\n",
              "      display:flex;\n",
              "      flex-wrap:wrap;\n",
              "      gap: 12px;\n",
              "    }\n",
              "\n",
              "    .colab-df-convert {\n",
              "      background-color: #E8F0FE;\n",
              "      border: none;\n",
              "      border-radius: 50%;\n",
              "      cursor: pointer;\n",
              "      display: none;\n",
              "      fill: #1967D2;\n",
              "      height: 32px;\n",
              "      padding: 0 0 0 0;\n",
              "      width: 32px;\n",
              "    }\n",
              "\n",
              "    .colab-df-convert:hover {\n",
              "      background-color: #E2EBFA;\n",
              "      box-shadow: 0px 1px 2px rgba(60, 64, 67, 0.3), 0px 1px 3px 1px rgba(60, 64, 67, 0.15);\n",
              "      fill: #174EA6;\n",
              "    }\n",
              "\n",
              "    [theme=dark] .colab-df-convert {\n",
              "      background-color: #3B4455;\n",
              "      fill: #D2E3FC;\n",
              "    }\n",
              "\n",
              "    [theme=dark] .colab-df-convert:hover {\n",
              "      background-color: #434B5C;\n",
              "      box-shadow: 0px 1px 3px 1px rgba(0, 0, 0, 0.15);\n",
              "      filter: drop-shadow(0px 1px 2px rgba(0, 0, 0, 0.3));\n",
              "      fill: #FFFFFF;\n",
              "    }\n",
              "  </style>\n",
              "\n",
              "      <script>\n",
              "        const buttonEl =\n",
              "          document.querySelector('#df-f63e9117-1b53-4ef6-9622-90a3cd16c9c5 button.colab-df-convert');\n",
              "        buttonEl.style.display =\n",
              "          google.colab.kernel.accessAllowed ? 'block' : 'none';\n",
              "\n",
              "        async function convertToInteractive(key) {\n",
              "          const element = document.querySelector('#df-f63e9117-1b53-4ef6-9622-90a3cd16c9c5');\n",
              "          const dataTable =\n",
              "            await google.colab.kernel.invokeFunction('convertToInteractive',\n",
              "                                                     [key], {});\n",
              "          if (!dataTable) return;\n",
              "\n",
              "          const docLinkHtml = 'Like what you see? Visit the ' +\n",
              "            '<a target=\"_blank\" href=https://colab.research.google.com/notebooks/data_table.ipynb>data table notebook</a>'\n",
              "            + ' to learn more about interactive tables.';\n",
              "          element.innerHTML = '';\n",
              "          dataTable['output_type'] = 'display_data';\n",
              "          await google.colab.output.renderOutput(dataTable, element);\n",
              "          const docLink = document.createElement('div');\n",
              "          docLink.innerHTML = docLinkHtml;\n",
              "          element.appendChild(docLink);\n",
              "        }\n",
              "      </script>\n",
              "    </div>\n",
              "  </div>\n",
              "  "
            ]
          },
          "metadata": {},
          "execution_count": 12
        }
      ]
    },
    {
      "cell_type": "markdown",
      "source": [
        "Exercise 19 Write a program that writes the pandas dataframe df created in Question 16 to csv file.\n",
        "\n",
        "Index = True appears like this:\n",
        "\n",
        "  name  age gender\n",
        "\n",
        "0  Bob   25   male\n",
        "\n",
        "1  Amy   30 female\n",
        "\n",
        "2  Tim   35   male\n",
        "\n",
        "index = False, exclude the index 0, 1 and 2\n",
        "\n",
        "also, we can set the index we want, for example, 'name'\n",
        "\n",
        "`df = df.set_index('name')`\n",
        "\n",
        "it appears like this:\n",
        "\n",
        "name  age gender\n",
        "           \n",
        "Bob    25   male\n",
        "\n",
        "Amy    30 female\n",
        "\n",
        "Tim    35   male"
      ],
      "metadata": {
        "id": "BCzjGaoSu9BZ"
      }
    },
    {
      "cell_type": "code",
      "source": [
        "df.to_csv('mydf.csv', index=False)"
      ],
      "metadata": {
        "id": "3McS3KC-uaNz"
      },
      "execution_count": null,
      "outputs": []
    },
    {
      "cell_type": "markdown",
      "source": [
        "Exercise 20"
      ],
      "metadata": {
        "id": "clgu0iyQu-lu"
      }
    },
    {
      "cell_type": "code",
      "source": [
        "df.to_excel('mydf.xlsx', index=False)"
      ],
      "metadata": {
        "id": "gtufg_Blu_Vm"
      },
      "execution_count": null,
      "outputs": []
    },
    {
      "cell_type": "markdown",
      "source": [
        "## FUNCTIONS\n",
        "\n",
        "```\n",
        "def name_of_function(parameters):\n",
        "  line of code\n",
        "  line of code\n",
        "  line of code\n",
        "  ...\n",
        "  return result\n",
        "```\n",
        "\n",
        "DON'T FORGET THE : IN THE FUNCTIONS"
      ],
      "metadata": {
        "id": "hfWrR24JvAdX"
      }
    },
    {
      "cell_type": "markdown",
      "source": [
        "Exercise 21 Consider the dataset course_marks.csv. The three tests have the weights 25%, 40% and 35%, respectively.\n",
        "\n",
        "Exercise 21 a) Write a function that adds a column, named Final, to the dataframe with the final marks for each student.\n",
        "ou seja, 15* 0.25+18* 0.4+12*0.35"
      ],
      "metadata": {
        "id": "p6x9Gvc-vI68"
      }
    },
    {
      "cell_type": "code",
      "source": [
        "##Creating the function\n",
        "def calc_score(t1, t2, t3):\n",
        "  score = t1*0.25 + t2*0.4 + t3*0.35\n",
        "  return score"
      ],
      "metadata": {
        "id": "fo8KOPJbvLQ9"
      },
      "execution_count": null,
      "outputs": []
    },
    {
      "cell_type": "markdown",
      "source": [
        "Giving values to the function..."
      ],
      "metadata": {
        "id": "fVif0gbt4_R5"
      }
    },
    {
      "cell_type": "code",
      "source": [
        "#MAKING AN EXAMPLE\n",
        "calc_score(15,18,12)"
      ],
      "metadata": {
        "colab": {
          "base_uri": "https://localhost:8080/"
        },
        "id": "GkEHGMqI5Bjx",
        "outputId": "88e112f3-676c-4e7b-c147-9d8b1c406fa9"
      },
      "execution_count": null,
      "outputs": [
        {
          "output_type": "execute_result",
          "data": {
            "text/plain": [
              "15.149999999999999"
            ]
          },
          "metadata": {},
          "execution_count": 8
        }
      ]
    },
    {
      "cell_type": "code",
      "source": [
        "#ADDING THE COLUMN FINAL\n",
        "df_marks['Score'] = [calc_score(x[0], x[1], x[2]) for x in zip(df_marks['Test 1'], df_marks['Test 2'], df_marks['Test 3'])]\n",
        "df_marks                            "
      ],
      "metadata": {
        "colab": {
          "base_uri": "https://localhost:8080/",
          "height": 676
        },
        "id": "LP71PDK354EP",
        "outputId": "a3660d95-c16b-44f8-c26e-acee6ed9f5ae"
      },
      "execution_count": null,
      "outputs": [
        {
          "output_type": "execute_result",
          "data": {
            "text/plain": [
              "               Names  Test 1  Test 2  Test 3    Score\n",
              "0           Troy Day   12.43   14.13   14.65  13.8870\n",
              "1   Daniel Hernandez   13.22   14.47   11.95  13.2755\n",
              "2    Michelle Wilson   12.82   16.11   14.95  14.8815\n",
              "3         Sarah Moon   13.68   15.36   16.61  15.3775\n",
              "4       Devin Carter   13.28   15.77   15.46  15.0390\n",
              "5       John Griffin   14.97   16.13   14.81  15.3780\n",
              "6         Maria Gray   12.89   19.02   14.06  15.7515\n",
              "7    William Mcclure   14.06   16.47   14.32  15.1150\n",
              "8       Darrell King   10.21   15.13   14.20  13.5745\n",
              "9     Valerie Holder   15.58   15.38   16.66  15.8780\n",
              "10   Brandon Mullins   14.17   17.35   14.97  15.7220\n",
              "11   Makayla Whitney   15.86   19.20   18.45  18.1025\n",
              "12     David Higgins   13.73   15.41   13.81  14.4300\n",
              "13       Samuel Vega   13.39   18.90   15.70  16.4025\n",
              "14     Melissa Berry   17.61   18.39   16.60  17.5685\n",
              "15   Brandon Johnson   13.36   17.44   17.64  16.4900\n",
              "16        Ryan Weber   15.58   19.56   17.17  17.7285\n",
              "17     Karen Stanley   13.12   17.72   14.89  15.5795\n",
              "18       Ryan Spence   14.41   16.79   15.89  15.8800\n",
              "19     Ryan Harrison   13.10   17.23   15.67  15.6515"
            ],
            "text/html": [
              "\n",
              "  <div id=\"df-0fdf2321-eb69-406d-9566-ceedfe88c4fd\">\n",
              "    <div class=\"colab-df-container\">\n",
              "      <div>\n",
              "<style scoped>\n",
              "    .dataframe tbody tr th:only-of-type {\n",
              "        vertical-align: middle;\n",
              "    }\n",
              "\n",
              "    .dataframe tbody tr th {\n",
              "        vertical-align: top;\n",
              "    }\n",
              "\n",
              "    .dataframe thead th {\n",
              "        text-align: right;\n",
              "    }\n",
              "</style>\n",
              "<table border=\"1\" class=\"dataframe\">\n",
              "  <thead>\n",
              "    <tr style=\"text-align: right;\">\n",
              "      <th></th>\n",
              "      <th>Names</th>\n",
              "      <th>Test 1</th>\n",
              "      <th>Test 2</th>\n",
              "      <th>Test 3</th>\n",
              "      <th>Score</th>\n",
              "    </tr>\n",
              "  </thead>\n",
              "  <tbody>\n",
              "    <tr>\n",
              "      <th>0</th>\n",
              "      <td>Troy Day</td>\n",
              "      <td>12.43</td>\n",
              "      <td>14.13</td>\n",
              "      <td>14.65</td>\n",
              "      <td>13.8870</td>\n",
              "    </tr>\n",
              "    <tr>\n",
              "      <th>1</th>\n",
              "      <td>Daniel Hernandez</td>\n",
              "      <td>13.22</td>\n",
              "      <td>14.47</td>\n",
              "      <td>11.95</td>\n",
              "      <td>13.2755</td>\n",
              "    </tr>\n",
              "    <tr>\n",
              "      <th>2</th>\n",
              "      <td>Michelle Wilson</td>\n",
              "      <td>12.82</td>\n",
              "      <td>16.11</td>\n",
              "      <td>14.95</td>\n",
              "      <td>14.8815</td>\n",
              "    </tr>\n",
              "    <tr>\n",
              "      <th>3</th>\n",
              "      <td>Sarah Moon</td>\n",
              "      <td>13.68</td>\n",
              "      <td>15.36</td>\n",
              "      <td>16.61</td>\n",
              "      <td>15.3775</td>\n",
              "    </tr>\n",
              "    <tr>\n",
              "      <th>4</th>\n",
              "      <td>Devin Carter</td>\n",
              "      <td>13.28</td>\n",
              "      <td>15.77</td>\n",
              "      <td>15.46</td>\n",
              "      <td>15.0390</td>\n",
              "    </tr>\n",
              "    <tr>\n",
              "      <th>5</th>\n",
              "      <td>John Griffin</td>\n",
              "      <td>14.97</td>\n",
              "      <td>16.13</td>\n",
              "      <td>14.81</td>\n",
              "      <td>15.3780</td>\n",
              "    </tr>\n",
              "    <tr>\n",
              "      <th>6</th>\n",
              "      <td>Maria Gray</td>\n",
              "      <td>12.89</td>\n",
              "      <td>19.02</td>\n",
              "      <td>14.06</td>\n",
              "      <td>15.7515</td>\n",
              "    </tr>\n",
              "    <tr>\n",
              "      <th>7</th>\n",
              "      <td>William Mcclure</td>\n",
              "      <td>14.06</td>\n",
              "      <td>16.47</td>\n",
              "      <td>14.32</td>\n",
              "      <td>15.1150</td>\n",
              "    </tr>\n",
              "    <tr>\n",
              "      <th>8</th>\n",
              "      <td>Darrell King</td>\n",
              "      <td>10.21</td>\n",
              "      <td>15.13</td>\n",
              "      <td>14.20</td>\n",
              "      <td>13.5745</td>\n",
              "    </tr>\n",
              "    <tr>\n",
              "      <th>9</th>\n",
              "      <td>Valerie Holder</td>\n",
              "      <td>15.58</td>\n",
              "      <td>15.38</td>\n",
              "      <td>16.66</td>\n",
              "      <td>15.8780</td>\n",
              "    </tr>\n",
              "    <tr>\n",
              "      <th>10</th>\n",
              "      <td>Brandon Mullins</td>\n",
              "      <td>14.17</td>\n",
              "      <td>17.35</td>\n",
              "      <td>14.97</td>\n",
              "      <td>15.7220</td>\n",
              "    </tr>\n",
              "    <tr>\n",
              "      <th>11</th>\n",
              "      <td>Makayla Whitney</td>\n",
              "      <td>15.86</td>\n",
              "      <td>19.20</td>\n",
              "      <td>18.45</td>\n",
              "      <td>18.1025</td>\n",
              "    </tr>\n",
              "    <tr>\n",
              "      <th>12</th>\n",
              "      <td>David Higgins</td>\n",
              "      <td>13.73</td>\n",
              "      <td>15.41</td>\n",
              "      <td>13.81</td>\n",
              "      <td>14.4300</td>\n",
              "    </tr>\n",
              "    <tr>\n",
              "      <th>13</th>\n",
              "      <td>Samuel Vega</td>\n",
              "      <td>13.39</td>\n",
              "      <td>18.90</td>\n",
              "      <td>15.70</td>\n",
              "      <td>16.4025</td>\n",
              "    </tr>\n",
              "    <tr>\n",
              "      <th>14</th>\n",
              "      <td>Melissa Berry</td>\n",
              "      <td>17.61</td>\n",
              "      <td>18.39</td>\n",
              "      <td>16.60</td>\n",
              "      <td>17.5685</td>\n",
              "    </tr>\n",
              "    <tr>\n",
              "      <th>15</th>\n",
              "      <td>Brandon Johnson</td>\n",
              "      <td>13.36</td>\n",
              "      <td>17.44</td>\n",
              "      <td>17.64</td>\n",
              "      <td>16.4900</td>\n",
              "    </tr>\n",
              "    <tr>\n",
              "      <th>16</th>\n",
              "      <td>Ryan Weber</td>\n",
              "      <td>15.58</td>\n",
              "      <td>19.56</td>\n",
              "      <td>17.17</td>\n",
              "      <td>17.7285</td>\n",
              "    </tr>\n",
              "    <tr>\n",
              "      <th>17</th>\n",
              "      <td>Karen Stanley</td>\n",
              "      <td>13.12</td>\n",
              "      <td>17.72</td>\n",
              "      <td>14.89</td>\n",
              "      <td>15.5795</td>\n",
              "    </tr>\n",
              "    <tr>\n",
              "      <th>18</th>\n",
              "      <td>Ryan Spence</td>\n",
              "      <td>14.41</td>\n",
              "      <td>16.79</td>\n",
              "      <td>15.89</td>\n",
              "      <td>15.8800</td>\n",
              "    </tr>\n",
              "    <tr>\n",
              "      <th>19</th>\n",
              "      <td>Ryan Harrison</td>\n",
              "      <td>13.10</td>\n",
              "      <td>17.23</td>\n",
              "      <td>15.67</td>\n",
              "      <td>15.6515</td>\n",
              "    </tr>\n",
              "  </tbody>\n",
              "</table>\n",
              "</div>\n",
              "      <button class=\"colab-df-convert\" onclick=\"convertToInteractive('df-0fdf2321-eb69-406d-9566-ceedfe88c4fd')\"\n",
              "              title=\"Convert this dataframe to an interactive table.\"\n",
              "              style=\"display:none;\">\n",
              "        \n",
              "  <svg xmlns=\"http://www.w3.org/2000/svg\" height=\"24px\"viewBox=\"0 0 24 24\"\n",
              "       width=\"24px\">\n",
              "    <path d=\"M0 0h24v24H0V0z\" fill=\"none\"/>\n",
              "    <path d=\"M18.56 5.44l.94 2.06.94-2.06 2.06-.94-2.06-.94-.94-2.06-.94 2.06-2.06.94zm-11 1L8.5 8.5l.94-2.06 2.06-.94-2.06-.94L8.5 2.5l-.94 2.06-2.06.94zm10 10l.94 2.06.94-2.06 2.06-.94-2.06-.94-.94-2.06-.94 2.06-2.06.94z\"/><path d=\"M17.41 7.96l-1.37-1.37c-.4-.4-.92-.59-1.43-.59-.52 0-1.04.2-1.43.59L10.3 9.45l-7.72 7.72c-.78.78-.78 2.05 0 2.83L4 21.41c.39.39.9.59 1.41.59.51 0 1.02-.2 1.41-.59l7.78-7.78 2.81-2.81c.8-.78.8-2.07 0-2.86zM5.41 20L4 18.59l7.72-7.72 1.47 1.35L5.41 20z\"/>\n",
              "  </svg>\n",
              "      </button>\n",
              "      \n",
              "  <style>\n",
              "    .colab-df-container {\n",
              "      display:flex;\n",
              "      flex-wrap:wrap;\n",
              "      gap: 12px;\n",
              "    }\n",
              "\n",
              "    .colab-df-convert {\n",
              "      background-color: #E8F0FE;\n",
              "      border: none;\n",
              "      border-radius: 50%;\n",
              "      cursor: pointer;\n",
              "      display: none;\n",
              "      fill: #1967D2;\n",
              "      height: 32px;\n",
              "      padding: 0 0 0 0;\n",
              "      width: 32px;\n",
              "    }\n",
              "\n",
              "    .colab-df-convert:hover {\n",
              "      background-color: #E2EBFA;\n",
              "      box-shadow: 0px 1px 2px rgba(60, 64, 67, 0.3), 0px 1px 3px 1px rgba(60, 64, 67, 0.15);\n",
              "      fill: #174EA6;\n",
              "    }\n",
              "\n",
              "    [theme=dark] .colab-df-convert {\n",
              "      background-color: #3B4455;\n",
              "      fill: #D2E3FC;\n",
              "    }\n",
              "\n",
              "    [theme=dark] .colab-df-convert:hover {\n",
              "      background-color: #434B5C;\n",
              "      box-shadow: 0px 1px 3px 1px rgba(0, 0, 0, 0.15);\n",
              "      filter: drop-shadow(0px 1px 2px rgba(0, 0, 0, 0.3));\n",
              "      fill: #FFFFFF;\n",
              "    }\n",
              "  </style>\n",
              "\n",
              "      <script>\n",
              "        const buttonEl =\n",
              "          document.querySelector('#df-0fdf2321-eb69-406d-9566-ceedfe88c4fd button.colab-df-convert');\n",
              "        buttonEl.style.display =\n",
              "          google.colab.kernel.accessAllowed ? 'block' : 'none';\n",
              "\n",
              "        async function convertToInteractive(key) {\n",
              "          const element = document.querySelector('#df-0fdf2321-eb69-406d-9566-ceedfe88c4fd');\n",
              "          const dataTable =\n",
              "            await google.colab.kernel.invokeFunction('convertToInteractive',\n",
              "                                                     [key], {});\n",
              "          if (!dataTable) return;\n",
              "\n",
              "          const docLinkHtml = 'Like what you see? Visit the ' +\n",
              "            '<a target=\"_blank\" href=https://colab.research.google.com/notebooks/data_table.ipynb>data table notebook</a>'\n",
              "            + ' to learn more about interactive tables.';\n",
              "          element.innerHTML = '';\n",
              "          dataTable['output_type'] = 'display_data';\n",
              "          await google.colab.output.renderOutput(dataTable, element);\n",
              "          const docLink = document.createElement('div');\n",
              "          docLink.innerHTML = docLinkHtml;\n",
              "          element.appendChild(docLink);\n",
              "        }\n",
              "      </script>\n",
              "    </div>\n",
              "  </div>\n",
              "  "
            ]
          },
          "metadata": {},
          "execution_count": 15
        }
      ]
    },
    {
      "cell_type": "markdown",
      "source": [
        "Exercise 21 b) add the same column using pandas only"
      ],
      "metadata": {
        "id": "VmVY1_Ti8EU2"
      }
    },
    {
      "cell_type": "code",
      "source": [
        "df_marks['Score2'] = df_marks['Test 1'].mul(0.25)+df_marks['Test 2'].mul(0.4)+df_marks['Test 3'].mul(0.35)\n",
        "df_marks"
      ],
      "metadata": {
        "colab": {
          "base_uri": "https://localhost:8080/",
          "height": 676
        },
        "id": "GLMlWOxH8Ih7",
        "outputId": "d063a44c-c6b5-44ad-caf3-986b77d3ee5e"
      },
      "execution_count": null,
      "outputs": [
        {
          "output_type": "execute_result",
          "data": {
            "text/plain": [
              "               Names  Test 1  Test 2  Test 3    Score   Score2\n",
              "0           Troy Day   12.43   14.13   14.65  13.8870  13.8870\n",
              "1   Daniel Hernandez   13.22   14.47   11.95  13.2755  13.2755\n",
              "2    Michelle Wilson   12.82   16.11   14.95  14.8815  14.8815\n",
              "3         Sarah Moon   13.68   15.36   16.61  15.3775  15.3775\n",
              "4       Devin Carter   13.28   15.77   15.46  15.0390  15.0390\n",
              "5       John Griffin   14.97   16.13   14.81  15.3780  15.3780\n",
              "6         Maria Gray   12.89   19.02   14.06  15.7515  15.7515\n",
              "7    William Mcclure   14.06   16.47   14.32  15.1150  15.1150\n",
              "8       Darrell King   10.21   15.13   14.20  13.5745  13.5745\n",
              "9     Valerie Holder   15.58   15.38   16.66  15.8780  15.8780\n",
              "10   Brandon Mullins   14.17   17.35   14.97  15.7220  15.7220\n",
              "11   Makayla Whitney   15.86   19.20   18.45  18.1025  18.1025\n",
              "12     David Higgins   13.73   15.41   13.81  14.4300  14.4300\n",
              "13       Samuel Vega   13.39   18.90   15.70  16.4025  16.4025\n",
              "14     Melissa Berry   17.61   18.39   16.60  17.5685  17.5685\n",
              "15   Brandon Johnson   13.36   17.44   17.64  16.4900  16.4900\n",
              "16        Ryan Weber   15.58   19.56   17.17  17.7285  17.7285\n",
              "17     Karen Stanley   13.12   17.72   14.89  15.5795  15.5795\n",
              "18       Ryan Spence   14.41   16.79   15.89  15.8800  15.8800\n",
              "19     Ryan Harrison   13.10   17.23   15.67  15.6515  15.6515"
            ],
            "text/html": [
              "\n",
              "  <div id=\"df-cd97c660-27da-4782-98e1-1fb465186906\">\n",
              "    <div class=\"colab-df-container\">\n",
              "      <div>\n",
              "<style scoped>\n",
              "    .dataframe tbody tr th:only-of-type {\n",
              "        vertical-align: middle;\n",
              "    }\n",
              "\n",
              "    .dataframe tbody tr th {\n",
              "        vertical-align: top;\n",
              "    }\n",
              "\n",
              "    .dataframe thead th {\n",
              "        text-align: right;\n",
              "    }\n",
              "</style>\n",
              "<table border=\"1\" class=\"dataframe\">\n",
              "  <thead>\n",
              "    <tr style=\"text-align: right;\">\n",
              "      <th></th>\n",
              "      <th>Names</th>\n",
              "      <th>Test 1</th>\n",
              "      <th>Test 2</th>\n",
              "      <th>Test 3</th>\n",
              "      <th>Score</th>\n",
              "      <th>Score2</th>\n",
              "    </tr>\n",
              "  </thead>\n",
              "  <tbody>\n",
              "    <tr>\n",
              "      <th>0</th>\n",
              "      <td>Troy Day</td>\n",
              "      <td>12.43</td>\n",
              "      <td>14.13</td>\n",
              "      <td>14.65</td>\n",
              "      <td>13.8870</td>\n",
              "      <td>13.8870</td>\n",
              "    </tr>\n",
              "    <tr>\n",
              "      <th>1</th>\n",
              "      <td>Daniel Hernandez</td>\n",
              "      <td>13.22</td>\n",
              "      <td>14.47</td>\n",
              "      <td>11.95</td>\n",
              "      <td>13.2755</td>\n",
              "      <td>13.2755</td>\n",
              "    </tr>\n",
              "    <tr>\n",
              "      <th>2</th>\n",
              "      <td>Michelle Wilson</td>\n",
              "      <td>12.82</td>\n",
              "      <td>16.11</td>\n",
              "      <td>14.95</td>\n",
              "      <td>14.8815</td>\n",
              "      <td>14.8815</td>\n",
              "    </tr>\n",
              "    <tr>\n",
              "      <th>3</th>\n",
              "      <td>Sarah Moon</td>\n",
              "      <td>13.68</td>\n",
              "      <td>15.36</td>\n",
              "      <td>16.61</td>\n",
              "      <td>15.3775</td>\n",
              "      <td>15.3775</td>\n",
              "    </tr>\n",
              "    <tr>\n",
              "      <th>4</th>\n",
              "      <td>Devin Carter</td>\n",
              "      <td>13.28</td>\n",
              "      <td>15.77</td>\n",
              "      <td>15.46</td>\n",
              "      <td>15.0390</td>\n",
              "      <td>15.0390</td>\n",
              "    </tr>\n",
              "    <tr>\n",
              "      <th>5</th>\n",
              "      <td>John Griffin</td>\n",
              "      <td>14.97</td>\n",
              "      <td>16.13</td>\n",
              "      <td>14.81</td>\n",
              "      <td>15.3780</td>\n",
              "      <td>15.3780</td>\n",
              "    </tr>\n",
              "    <tr>\n",
              "      <th>6</th>\n",
              "      <td>Maria Gray</td>\n",
              "      <td>12.89</td>\n",
              "      <td>19.02</td>\n",
              "      <td>14.06</td>\n",
              "      <td>15.7515</td>\n",
              "      <td>15.7515</td>\n",
              "    </tr>\n",
              "    <tr>\n",
              "      <th>7</th>\n",
              "      <td>William Mcclure</td>\n",
              "      <td>14.06</td>\n",
              "      <td>16.47</td>\n",
              "      <td>14.32</td>\n",
              "      <td>15.1150</td>\n",
              "      <td>15.1150</td>\n",
              "    </tr>\n",
              "    <tr>\n",
              "      <th>8</th>\n",
              "      <td>Darrell King</td>\n",
              "      <td>10.21</td>\n",
              "      <td>15.13</td>\n",
              "      <td>14.20</td>\n",
              "      <td>13.5745</td>\n",
              "      <td>13.5745</td>\n",
              "    </tr>\n",
              "    <tr>\n",
              "      <th>9</th>\n",
              "      <td>Valerie Holder</td>\n",
              "      <td>15.58</td>\n",
              "      <td>15.38</td>\n",
              "      <td>16.66</td>\n",
              "      <td>15.8780</td>\n",
              "      <td>15.8780</td>\n",
              "    </tr>\n",
              "    <tr>\n",
              "      <th>10</th>\n",
              "      <td>Brandon Mullins</td>\n",
              "      <td>14.17</td>\n",
              "      <td>17.35</td>\n",
              "      <td>14.97</td>\n",
              "      <td>15.7220</td>\n",
              "      <td>15.7220</td>\n",
              "    </tr>\n",
              "    <tr>\n",
              "      <th>11</th>\n",
              "      <td>Makayla Whitney</td>\n",
              "      <td>15.86</td>\n",
              "      <td>19.20</td>\n",
              "      <td>18.45</td>\n",
              "      <td>18.1025</td>\n",
              "      <td>18.1025</td>\n",
              "    </tr>\n",
              "    <tr>\n",
              "      <th>12</th>\n",
              "      <td>David Higgins</td>\n",
              "      <td>13.73</td>\n",
              "      <td>15.41</td>\n",
              "      <td>13.81</td>\n",
              "      <td>14.4300</td>\n",
              "      <td>14.4300</td>\n",
              "    </tr>\n",
              "    <tr>\n",
              "      <th>13</th>\n",
              "      <td>Samuel Vega</td>\n",
              "      <td>13.39</td>\n",
              "      <td>18.90</td>\n",
              "      <td>15.70</td>\n",
              "      <td>16.4025</td>\n",
              "      <td>16.4025</td>\n",
              "    </tr>\n",
              "    <tr>\n",
              "      <th>14</th>\n",
              "      <td>Melissa Berry</td>\n",
              "      <td>17.61</td>\n",
              "      <td>18.39</td>\n",
              "      <td>16.60</td>\n",
              "      <td>17.5685</td>\n",
              "      <td>17.5685</td>\n",
              "    </tr>\n",
              "    <tr>\n",
              "      <th>15</th>\n",
              "      <td>Brandon Johnson</td>\n",
              "      <td>13.36</td>\n",
              "      <td>17.44</td>\n",
              "      <td>17.64</td>\n",
              "      <td>16.4900</td>\n",
              "      <td>16.4900</td>\n",
              "    </tr>\n",
              "    <tr>\n",
              "      <th>16</th>\n",
              "      <td>Ryan Weber</td>\n",
              "      <td>15.58</td>\n",
              "      <td>19.56</td>\n",
              "      <td>17.17</td>\n",
              "      <td>17.7285</td>\n",
              "      <td>17.7285</td>\n",
              "    </tr>\n",
              "    <tr>\n",
              "      <th>17</th>\n",
              "      <td>Karen Stanley</td>\n",
              "      <td>13.12</td>\n",
              "      <td>17.72</td>\n",
              "      <td>14.89</td>\n",
              "      <td>15.5795</td>\n",
              "      <td>15.5795</td>\n",
              "    </tr>\n",
              "    <tr>\n",
              "      <th>18</th>\n",
              "      <td>Ryan Spence</td>\n",
              "      <td>14.41</td>\n",
              "      <td>16.79</td>\n",
              "      <td>15.89</td>\n",
              "      <td>15.8800</td>\n",
              "      <td>15.8800</td>\n",
              "    </tr>\n",
              "    <tr>\n",
              "      <th>19</th>\n",
              "      <td>Ryan Harrison</td>\n",
              "      <td>13.10</td>\n",
              "      <td>17.23</td>\n",
              "      <td>15.67</td>\n",
              "      <td>15.6515</td>\n",
              "      <td>15.6515</td>\n",
              "    </tr>\n",
              "  </tbody>\n",
              "</table>\n",
              "</div>\n",
              "      <button class=\"colab-df-convert\" onclick=\"convertToInteractive('df-cd97c660-27da-4782-98e1-1fb465186906')\"\n",
              "              title=\"Convert this dataframe to an interactive table.\"\n",
              "              style=\"display:none;\">\n",
              "        \n",
              "  <svg xmlns=\"http://www.w3.org/2000/svg\" height=\"24px\"viewBox=\"0 0 24 24\"\n",
              "       width=\"24px\">\n",
              "    <path d=\"M0 0h24v24H0V0z\" fill=\"none\"/>\n",
              "    <path d=\"M18.56 5.44l.94 2.06.94-2.06 2.06-.94-2.06-.94-.94-2.06-.94 2.06-2.06.94zm-11 1L8.5 8.5l.94-2.06 2.06-.94-2.06-.94L8.5 2.5l-.94 2.06-2.06.94zm10 10l.94 2.06.94-2.06 2.06-.94-2.06-.94-.94-2.06-.94 2.06-2.06.94z\"/><path d=\"M17.41 7.96l-1.37-1.37c-.4-.4-.92-.59-1.43-.59-.52 0-1.04.2-1.43.59L10.3 9.45l-7.72 7.72c-.78.78-.78 2.05 0 2.83L4 21.41c.39.39.9.59 1.41.59.51 0 1.02-.2 1.41-.59l7.78-7.78 2.81-2.81c.8-.78.8-2.07 0-2.86zM5.41 20L4 18.59l7.72-7.72 1.47 1.35L5.41 20z\"/>\n",
              "  </svg>\n",
              "      </button>\n",
              "      \n",
              "  <style>\n",
              "    .colab-df-container {\n",
              "      display:flex;\n",
              "      flex-wrap:wrap;\n",
              "      gap: 12px;\n",
              "    }\n",
              "\n",
              "    .colab-df-convert {\n",
              "      background-color: #E8F0FE;\n",
              "      border: none;\n",
              "      border-radius: 50%;\n",
              "      cursor: pointer;\n",
              "      display: none;\n",
              "      fill: #1967D2;\n",
              "      height: 32px;\n",
              "      padding: 0 0 0 0;\n",
              "      width: 32px;\n",
              "    }\n",
              "\n",
              "    .colab-df-convert:hover {\n",
              "      background-color: #E2EBFA;\n",
              "      box-shadow: 0px 1px 2px rgba(60, 64, 67, 0.3), 0px 1px 3px 1px rgba(60, 64, 67, 0.15);\n",
              "      fill: #174EA6;\n",
              "    }\n",
              "\n",
              "    [theme=dark] .colab-df-convert {\n",
              "      background-color: #3B4455;\n",
              "      fill: #D2E3FC;\n",
              "    }\n",
              "\n",
              "    [theme=dark] .colab-df-convert:hover {\n",
              "      background-color: #434B5C;\n",
              "      box-shadow: 0px 1px 3px 1px rgba(0, 0, 0, 0.15);\n",
              "      filter: drop-shadow(0px 1px 2px rgba(0, 0, 0, 0.3));\n",
              "      fill: #FFFFFF;\n",
              "    }\n",
              "  </style>\n",
              "\n",
              "      <script>\n",
              "        const buttonEl =\n",
              "          document.querySelector('#df-cd97c660-27da-4782-98e1-1fb465186906 button.colab-df-convert');\n",
              "        buttonEl.style.display =\n",
              "          google.colab.kernel.accessAllowed ? 'block' : 'none';\n",
              "\n",
              "        async function convertToInteractive(key) {\n",
              "          const element = document.querySelector('#df-cd97c660-27da-4782-98e1-1fb465186906');\n",
              "          const dataTable =\n",
              "            await google.colab.kernel.invokeFunction('convertToInteractive',\n",
              "                                                     [key], {});\n",
              "          if (!dataTable) return;\n",
              "\n",
              "          const docLinkHtml = 'Like what you see? Visit the ' +\n",
              "            '<a target=\"_blank\" href=https://colab.research.google.com/notebooks/data_table.ipynb>data table notebook</a>'\n",
              "            + ' to learn more about interactive tables.';\n",
              "          element.innerHTML = '';\n",
              "          dataTable['output_type'] = 'display_data';\n",
              "          await google.colab.output.renderOutput(dataTable, element);\n",
              "          const docLink = document.createElement('div');\n",
              "          docLink.innerHTML = docLinkHtml;\n",
              "          element.appendChild(docLink);\n",
              "        }\n",
              "      </script>\n",
              "    </div>\n",
              "  </div>\n",
              "  "
            ]
          },
          "metadata": {},
          "execution_count": 16
        }
      ]
    },
    {
      "cell_type": "markdown",
      "source": [
        "Exercise 21 c) add the same column, using numpy only."
      ],
      "metadata": {
        "id": "FstWKDBFOSRx"
      }
    },
    {
      "cell_type": "code",
      "source": [
        "import numpy as np\n",
        "import pandas as pd"
      ],
      "metadata": {
        "id": "9AFQuiKpPjKy"
      },
      "execution_count": null,
      "outputs": []
    },
    {
      "cell_type": "code",
      "source": [
        "df_marks2 = pd.read_csv('/content/course_marks.csv')\n",
        "df_marks2"
      ],
      "metadata": {
        "colab": {
          "base_uri": "https://localhost:8080/",
          "height": 676
        },
        "id": "dRAAgIbv2AjB",
        "outputId": "ec7a1440-85e6-408a-e026-07c60644a75a"
      },
      "execution_count": null,
      "outputs": [
        {
          "output_type": "execute_result",
          "data": {
            "text/plain": [
              "               Names  Test 1  Test 2  Test 3\n",
              "0           Troy Day   12.43   14.13   14.65\n",
              "1   Daniel Hernandez   13.22   14.47   11.95\n",
              "2    Michelle Wilson   12.82   16.11   14.95\n",
              "3         Sarah Moon   13.68   15.36   16.61\n",
              "4       Devin Carter   13.28   15.77   15.46\n",
              "5       John Griffin   14.97   16.13   14.81\n",
              "6         Maria Gray   12.89   19.02   14.06\n",
              "7    William Mcclure   14.06   16.47   14.32\n",
              "8       Darrell King   10.21   15.13   14.20\n",
              "9     Valerie Holder   15.58   15.38   16.66\n",
              "10   Brandon Mullins   14.17   17.35   14.97\n",
              "11   Makayla Whitney   15.86   19.20   18.45\n",
              "12     David Higgins   13.73   15.41   13.81\n",
              "13       Samuel Vega   13.39   18.90   15.70\n",
              "14     Melissa Berry   17.61   18.39   16.60\n",
              "15   Brandon Johnson   13.36   17.44   17.64\n",
              "16        Ryan Weber   15.58   19.56   17.17\n",
              "17     Karen Stanley   13.12   17.72   14.89\n",
              "18       Ryan Spence   14.41   16.79   15.89\n",
              "19     Ryan Harrison   13.10   17.23   15.67"
            ],
            "text/html": [
              "\n",
              "  <div id=\"df-19ccd804-bbfc-4c12-9425-e73ded347dc6\">\n",
              "    <div class=\"colab-df-container\">\n",
              "      <div>\n",
              "<style scoped>\n",
              "    .dataframe tbody tr th:only-of-type {\n",
              "        vertical-align: middle;\n",
              "    }\n",
              "\n",
              "    .dataframe tbody tr th {\n",
              "        vertical-align: top;\n",
              "    }\n",
              "\n",
              "    .dataframe thead th {\n",
              "        text-align: right;\n",
              "    }\n",
              "</style>\n",
              "<table border=\"1\" class=\"dataframe\">\n",
              "  <thead>\n",
              "    <tr style=\"text-align: right;\">\n",
              "      <th></th>\n",
              "      <th>Names</th>\n",
              "      <th>Test 1</th>\n",
              "      <th>Test 2</th>\n",
              "      <th>Test 3</th>\n",
              "    </tr>\n",
              "  </thead>\n",
              "  <tbody>\n",
              "    <tr>\n",
              "      <th>0</th>\n",
              "      <td>Troy Day</td>\n",
              "      <td>12.43</td>\n",
              "      <td>14.13</td>\n",
              "      <td>14.65</td>\n",
              "    </tr>\n",
              "    <tr>\n",
              "      <th>1</th>\n",
              "      <td>Daniel Hernandez</td>\n",
              "      <td>13.22</td>\n",
              "      <td>14.47</td>\n",
              "      <td>11.95</td>\n",
              "    </tr>\n",
              "    <tr>\n",
              "      <th>2</th>\n",
              "      <td>Michelle Wilson</td>\n",
              "      <td>12.82</td>\n",
              "      <td>16.11</td>\n",
              "      <td>14.95</td>\n",
              "    </tr>\n",
              "    <tr>\n",
              "      <th>3</th>\n",
              "      <td>Sarah Moon</td>\n",
              "      <td>13.68</td>\n",
              "      <td>15.36</td>\n",
              "      <td>16.61</td>\n",
              "    </tr>\n",
              "    <tr>\n",
              "      <th>4</th>\n",
              "      <td>Devin Carter</td>\n",
              "      <td>13.28</td>\n",
              "      <td>15.77</td>\n",
              "      <td>15.46</td>\n",
              "    </tr>\n",
              "    <tr>\n",
              "      <th>5</th>\n",
              "      <td>John Griffin</td>\n",
              "      <td>14.97</td>\n",
              "      <td>16.13</td>\n",
              "      <td>14.81</td>\n",
              "    </tr>\n",
              "    <tr>\n",
              "      <th>6</th>\n",
              "      <td>Maria Gray</td>\n",
              "      <td>12.89</td>\n",
              "      <td>19.02</td>\n",
              "      <td>14.06</td>\n",
              "    </tr>\n",
              "    <tr>\n",
              "      <th>7</th>\n",
              "      <td>William Mcclure</td>\n",
              "      <td>14.06</td>\n",
              "      <td>16.47</td>\n",
              "      <td>14.32</td>\n",
              "    </tr>\n",
              "    <tr>\n",
              "      <th>8</th>\n",
              "      <td>Darrell King</td>\n",
              "      <td>10.21</td>\n",
              "      <td>15.13</td>\n",
              "      <td>14.20</td>\n",
              "    </tr>\n",
              "    <tr>\n",
              "      <th>9</th>\n",
              "      <td>Valerie Holder</td>\n",
              "      <td>15.58</td>\n",
              "      <td>15.38</td>\n",
              "      <td>16.66</td>\n",
              "    </tr>\n",
              "    <tr>\n",
              "      <th>10</th>\n",
              "      <td>Brandon Mullins</td>\n",
              "      <td>14.17</td>\n",
              "      <td>17.35</td>\n",
              "      <td>14.97</td>\n",
              "    </tr>\n",
              "    <tr>\n",
              "      <th>11</th>\n",
              "      <td>Makayla Whitney</td>\n",
              "      <td>15.86</td>\n",
              "      <td>19.20</td>\n",
              "      <td>18.45</td>\n",
              "    </tr>\n",
              "    <tr>\n",
              "      <th>12</th>\n",
              "      <td>David Higgins</td>\n",
              "      <td>13.73</td>\n",
              "      <td>15.41</td>\n",
              "      <td>13.81</td>\n",
              "    </tr>\n",
              "    <tr>\n",
              "      <th>13</th>\n",
              "      <td>Samuel Vega</td>\n",
              "      <td>13.39</td>\n",
              "      <td>18.90</td>\n",
              "      <td>15.70</td>\n",
              "    </tr>\n",
              "    <tr>\n",
              "      <th>14</th>\n",
              "      <td>Melissa Berry</td>\n",
              "      <td>17.61</td>\n",
              "      <td>18.39</td>\n",
              "      <td>16.60</td>\n",
              "    </tr>\n",
              "    <tr>\n",
              "      <th>15</th>\n",
              "      <td>Brandon Johnson</td>\n",
              "      <td>13.36</td>\n",
              "      <td>17.44</td>\n",
              "      <td>17.64</td>\n",
              "    </tr>\n",
              "    <tr>\n",
              "      <th>16</th>\n",
              "      <td>Ryan Weber</td>\n",
              "      <td>15.58</td>\n",
              "      <td>19.56</td>\n",
              "      <td>17.17</td>\n",
              "    </tr>\n",
              "    <tr>\n",
              "      <th>17</th>\n",
              "      <td>Karen Stanley</td>\n",
              "      <td>13.12</td>\n",
              "      <td>17.72</td>\n",
              "      <td>14.89</td>\n",
              "    </tr>\n",
              "    <tr>\n",
              "      <th>18</th>\n",
              "      <td>Ryan Spence</td>\n",
              "      <td>14.41</td>\n",
              "      <td>16.79</td>\n",
              "      <td>15.89</td>\n",
              "    </tr>\n",
              "    <tr>\n",
              "      <th>19</th>\n",
              "      <td>Ryan Harrison</td>\n",
              "      <td>13.10</td>\n",
              "      <td>17.23</td>\n",
              "      <td>15.67</td>\n",
              "    </tr>\n",
              "  </tbody>\n",
              "</table>\n",
              "</div>\n",
              "      <button class=\"colab-df-convert\" onclick=\"convertToInteractive('df-19ccd804-bbfc-4c12-9425-e73ded347dc6')\"\n",
              "              title=\"Convert this dataframe to an interactive table.\"\n",
              "              style=\"display:none;\">\n",
              "        \n",
              "  <svg xmlns=\"http://www.w3.org/2000/svg\" height=\"24px\"viewBox=\"0 0 24 24\"\n",
              "       width=\"24px\">\n",
              "    <path d=\"M0 0h24v24H0V0z\" fill=\"none\"/>\n",
              "    <path d=\"M18.56 5.44l.94 2.06.94-2.06 2.06-.94-2.06-.94-.94-2.06-.94 2.06-2.06.94zm-11 1L8.5 8.5l.94-2.06 2.06-.94-2.06-.94L8.5 2.5l-.94 2.06-2.06.94zm10 10l.94 2.06.94-2.06 2.06-.94-2.06-.94-.94-2.06-.94 2.06-2.06.94z\"/><path d=\"M17.41 7.96l-1.37-1.37c-.4-.4-.92-.59-1.43-.59-.52 0-1.04.2-1.43.59L10.3 9.45l-7.72 7.72c-.78.78-.78 2.05 0 2.83L4 21.41c.39.39.9.59 1.41.59.51 0 1.02-.2 1.41-.59l7.78-7.78 2.81-2.81c.8-.78.8-2.07 0-2.86zM5.41 20L4 18.59l7.72-7.72 1.47 1.35L5.41 20z\"/>\n",
              "  </svg>\n",
              "      </button>\n",
              "      \n",
              "  <style>\n",
              "    .colab-df-container {\n",
              "      display:flex;\n",
              "      flex-wrap:wrap;\n",
              "      gap: 12px;\n",
              "    }\n",
              "\n",
              "    .colab-df-convert {\n",
              "      background-color: #E8F0FE;\n",
              "      border: none;\n",
              "      border-radius: 50%;\n",
              "      cursor: pointer;\n",
              "      display: none;\n",
              "      fill: #1967D2;\n",
              "      height: 32px;\n",
              "      padding: 0 0 0 0;\n",
              "      width: 32px;\n",
              "    }\n",
              "\n",
              "    .colab-df-convert:hover {\n",
              "      background-color: #E2EBFA;\n",
              "      box-shadow: 0px 1px 2px rgba(60, 64, 67, 0.3), 0px 1px 3px 1px rgba(60, 64, 67, 0.15);\n",
              "      fill: #174EA6;\n",
              "    }\n",
              "\n",
              "    [theme=dark] .colab-df-convert {\n",
              "      background-color: #3B4455;\n",
              "      fill: #D2E3FC;\n",
              "    }\n",
              "\n",
              "    [theme=dark] .colab-df-convert:hover {\n",
              "      background-color: #434B5C;\n",
              "      box-shadow: 0px 1px 3px 1px rgba(0, 0, 0, 0.15);\n",
              "      filter: drop-shadow(0px 1px 2px rgba(0, 0, 0, 0.3));\n",
              "      fill: #FFFFFF;\n",
              "    }\n",
              "  </style>\n",
              "\n",
              "      <script>\n",
              "        const buttonEl =\n",
              "          document.querySelector('#df-19ccd804-bbfc-4c12-9425-e73ded347dc6 button.colab-df-convert');\n",
              "        buttonEl.style.display =\n",
              "          google.colab.kernel.accessAllowed ? 'block' : 'none';\n",
              "\n",
              "        async function convertToInteractive(key) {\n",
              "          const element = document.querySelector('#df-19ccd804-bbfc-4c12-9425-e73ded347dc6');\n",
              "          const dataTable =\n",
              "            await google.colab.kernel.invokeFunction('convertToInteractive',\n",
              "                                                     [key], {});\n",
              "          if (!dataTable) return;\n",
              "\n",
              "          const docLinkHtml = 'Like what you see? Visit the ' +\n",
              "            '<a target=\"_blank\" href=https://colab.research.google.com/notebooks/data_table.ipynb>data table notebook</a>'\n",
              "            + ' to learn more about interactive tables.';\n",
              "          element.innerHTML = '';\n",
              "          dataTable['output_type'] = 'display_data';\n",
              "          await google.colab.output.renderOutput(dataTable, element);\n",
              "          const docLink = document.createElement('div');\n",
              "          docLink.innerHTML = docLinkHtml;\n",
              "          element.appendChild(docLink);\n",
              "        }\n",
              "      </script>\n",
              "    </div>\n",
              "  </div>\n",
              "  "
            ]
          },
          "metadata": {},
          "execution_count": 20
        }
      ]
    },
    {
      "cell_type": "markdown",
      "source": [
        "Transform the dataframe into a numpy array"
      ],
      "metadata": {
        "id": "wMLb0yg38zb3"
      }
    },
    {
      "cell_type": "code",
      "source": [
        "df_marks2.values\n"
      ],
      "metadata": {
        "colab": {
          "base_uri": "https://localhost:8080/"
        },
        "id": "k8zPCChYOz_S",
        "outputId": "1d7efe2a-926c-4b56-c2ca-aa37597a7527"
      },
      "execution_count": null,
      "outputs": [
        {
          "output_type": "execute_result",
          "data": {
            "text/plain": [
              "array([['Troy Day', 12.43, 14.13, 14.65],\n",
              "       ['Daniel Hernandez', 13.22, 14.47, 11.95],\n",
              "       ['Michelle Wilson', 12.82, 16.11, 14.95],\n",
              "       ['Sarah Moon', 13.68, 15.36, 16.61],\n",
              "       ['Devin Carter', 13.28, 15.77, 15.46],\n",
              "       ['John Griffin', 14.97, 16.13, 14.81],\n",
              "       ['Maria Gray', 12.89, 19.02, 14.06],\n",
              "       ['William Mcclure', 14.06, 16.47, 14.32],\n",
              "       ['Darrell King', 10.21, 15.13, 14.2],\n",
              "       ['Valerie Holder', 15.58, 15.38, 16.66],\n",
              "       ['Brandon Mullins', 14.17, 17.35, 14.97],\n",
              "       ['Makayla Whitney', 15.86, 19.2, 18.45],\n",
              "       ['David Higgins', 13.73, 15.41, 13.81],\n",
              "       ['Samuel Vega', 13.39, 18.9, 15.7],\n",
              "       ['Melissa Berry', 17.61, 18.39, 16.6],\n",
              "       ['Brandon Johnson', 13.36, 17.44, 17.64],\n",
              "       ['Ryan Weber', 15.58, 19.56, 17.17],\n",
              "       ['Karen Stanley', 13.12, 17.72, 14.89],\n",
              "       ['Ryan Spence', 14.41, 16.79, 15.89],\n",
              "       ['Ryan Harrison', 13.1, 17.23, 15.67]], dtype=object)"
            ]
          },
          "metadata": {},
          "execution_count": 24
        }
      ]
    },
    {
      "cell_type": "markdown",
      "source": [
        ": => means every rows\n",
        "\n",
        "1: => the column of index 1 and all columns on the right\n",
        "\n",
        "df.values[:, 1:] (df.values means numpy array and [] means all rows and the column of index 1 and all columns on the right."
      ],
      "metadata": {
        "id": "opypMhAZPyiK"
      }
    },
    {
      "cell_type": "markdown",
      "source": [
        "Multiplicar as notas de cada um dos três testes pelo peso de cada um..."
      ],
      "metadata": {
        "id": "ruLDFV5B9Cq4"
      }
    },
    {
      "cell_type": "code",
      "source": [
        "df_marks2.values[:, 1:] * np.array([0.25, 0.4, 0.35])"
      ],
      "metadata": {
        "colab": {
          "base_uri": "https://localhost:8080/"
        },
        "id": "YETrJ4ZvQLOX",
        "outputId": "5c7971f6-5c71-45fa-971d-1bd3ff1faa83"
      },
      "execution_count": null,
      "outputs": [
        {
          "output_type": "execute_result",
          "data": {
            "text/plain": [
              "array([[3.1075, 5.652000000000001, 5.1274999999999995],\n",
              "       [3.305, 5.788, 4.182499999999999],\n",
              "       [3.205, 6.444, 5.232499999999999],\n",
              "       [3.42, 6.144, 5.8134999999999994],\n",
              "       [3.32, 6.308, 5.411],\n",
              "       [3.7425, 6.452, 5.1834999999999996],\n",
              "       [3.2225, 7.6080000000000005, 4.921],\n",
              "       [3.515, 6.588, 5.012],\n",
              "       [2.5525, 6.0520000000000005, 4.97],\n",
              "       [3.895, 6.152000000000001, 5.8309999999999995],\n",
              "       [3.5425, 6.940000000000001, 5.2395],\n",
              "       [3.965, 7.68, 6.4575],\n",
              "       [3.4325, 6.164000000000001, 4.8335],\n",
              "       [3.3475, 7.56, 5.494999999999999],\n",
              "       [4.4025, 7.356000000000001, 5.8100000000000005],\n",
              "       [3.34, 6.976000000000001, 6.1739999999999995],\n",
              "       [3.895, 7.824, 6.0095],\n",
              "       [3.28, 7.088, 5.2115],\n",
              "       [3.6025, 6.716, 5.5615],\n",
              "       [3.275, 6.892, 5.4845]], dtype=object)"
            ]
          },
          "metadata": {},
          "execution_count": 25
        }
      ]
    },
    {
      "cell_type": "markdown",
      "source": [
        "Somar os três valores de cada linha para termos a nota final..."
      ],
      "metadata": {
        "id": "jdYa4pxt9JSz"
      }
    },
    {
      "cell_type": "code",
      "source": [
        "np.sum(df_marks2.values[:, 1:] * np.array([0.25, 0.4, 0.35]), axis=1)"
      ],
      "metadata": {
        "colab": {
          "base_uri": "https://localhost:8080/"
        },
        "id": "IyEx14ShQet6",
        "outputId": "61e500a2-9c70-440e-97be-fa11c56e827e"
      },
      "execution_count": null,
      "outputs": [
        {
          "output_type": "execute_result",
          "data": {
            "text/plain": [
              "array([13.887, 13.2755, 14.881499999999999, 15.3775, 15.039, 15.378,\n",
              "       15.7515, 15.114999999999998, 13.5745, 15.878, 15.722000000000001,\n",
              "       18.1025, 14.43, 16.402499999999996, 17.5685, 16.490000000000002,\n",
              "       17.7285, 15.5795, 15.879999999999999, 15.651499999999999],\n",
              "      dtype=object)"
            ]
          },
          "metadata": {},
          "execution_count": 26
        }
      ]
    },
    {
      "cell_type": "markdown",
      "source": [
        "Turn Final3 into a dataframe."
      ],
      "metadata": {
        "id": "xxVtec-QQmoh"
      }
    },
    {
      "cell_type": "code",
      "source": [
        "df_marks2['Final3'] = np.sum(df_marks2.values[:, 1:] * np.array([0.25, 0.4, 0.35]), axis=1)\n",
        "df_marks2\n"
      ],
      "metadata": {
        "colab": {
          "base_uri": "https://localhost:8080/",
          "height": 676
        },
        "id": "aCl6vOeeQoBd",
        "outputId": "2e403056-20bf-4fc2-f62a-a1d2c80684ff"
      },
      "execution_count": null,
      "outputs": [
        {
          "output_type": "execute_result",
          "data": {
            "text/plain": [
              "               Names  Test 1  Test 2  Test 3   Final3\n",
              "0           Troy Day   12.43   14.13   14.65   13.887\n",
              "1   Daniel Hernandez   13.22   14.47   11.95  13.2755\n",
              "2    Michelle Wilson   12.82   16.11   14.95  14.8815\n",
              "3         Sarah Moon   13.68   15.36   16.61  15.3775\n",
              "4       Devin Carter   13.28   15.77   15.46   15.039\n",
              "5       John Griffin   14.97   16.13   14.81   15.378\n",
              "6         Maria Gray   12.89   19.02   14.06  15.7515\n",
              "7    William Mcclure   14.06   16.47   14.32   15.115\n",
              "8       Darrell King   10.21   15.13   14.20  13.5745\n",
              "9     Valerie Holder   15.58   15.38   16.66   15.878\n",
              "10   Brandon Mullins   14.17   17.35   14.97   15.722\n",
              "11   Makayla Whitney   15.86   19.20   18.45  18.1025\n",
              "12     David Higgins   13.73   15.41   13.81    14.43\n",
              "13       Samuel Vega   13.39   18.90   15.70  16.4025\n",
              "14     Melissa Berry   17.61   18.39   16.60  17.5685\n",
              "15   Brandon Johnson   13.36   17.44   17.64    16.49\n",
              "16        Ryan Weber   15.58   19.56   17.17  17.7285\n",
              "17     Karen Stanley   13.12   17.72   14.89  15.5795\n",
              "18       Ryan Spence   14.41   16.79   15.89    15.88\n",
              "19     Ryan Harrison   13.10   17.23   15.67  15.6515"
            ],
            "text/html": [
              "\n",
              "  <div id=\"df-746cca48-91c4-408a-b0e2-071e0a8a3a19\">\n",
              "    <div class=\"colab-df-container\">\n",
              "      <div>\n",
              "<style scoped>\n",
              "    .dataframe tbody tr th:only-of-type {\n",
              "        vertical-align: middle;\n",
              "    }\n",
              "\n",
              "    .dataframe tbody tr th {\n",
              "        vertical-align: top;\n",
              "    }\n",
              "\n",
              "    .dataframe thead th {\n",
              "        text-align: right;\n",
              "    }\n",
              "</style>\n",
              "<table border=\"1\" class=\"dataframe\">\n",
              "  <thead>\n",
              "    <tr style=\"text-align: right;\">\n",
              "      <th></th>\n",
              "      <th>Names</th>\n",
              "      <th>Test 1</th>\n",
              "      <th>Test 2</th>\n",
              "      <th>Test 3</th>\n",
              "      <th>Final3</th>\n",
              "    </tr>\n",
              "  </thead>\n",
              "  <tbody>\n",
              "    <tr>\n",
              "      <th>0</th>\n",
              "      <td>Troy Day</td>\n",
              "      <td>12.43</td>\n",
              "      <td>14.13</td>\n",
              "      <td>14.65</td>\n",
              "      <td>13.887</td>\n",
              "    </tr>\n",
              "    <tr>\n",
              "      <th>1</th>\n",
              "      <td>Daniel Hernandez</td>\n",
              "      <td>13.22</td>\n",
              "      <td>14.47</td>\n",
              "      <td>11.95</td>\n",
              "      <td>13.2755</td>\n",
              "    </tr>\n",
              "    <tr>\n",
              "      <th>2</th>\n",
              "      <td>Michelle Wilson</td>\n",
              "      <td>12.82</td>\n",
              "      <td>16.11</td>\n",
              "      <td>14.95</td>\n",
              "      <td>14.8815</td>\n",
              "    </tr>\n",
              "    <tr>\n",
              "      <th>3</th>\n",
              "      <td>Sarah Moon</td>\n",
              "      <td>13.68</td>\n",
              "      <td>15.36</td>\n",
              "      <td>16.61</td>\n",
              "      <td>15.3775</td>\n",
              "    </tr>\n",
              "    <tr>\n",
              "      <th>4</th>\n",
              "      <td>Devin Carter</td>\n",
              "      <td>13.28</td>\n",
              "      <td>15.77</td>\n",
              "      <td>15.46</td>\n",
              "      <td>15.039</td>\n",
              "    </tr>\n",
              "    <tr>\n",
              "      <th>5</th>\n",
              "      <td>John Griffin</td>\n",
              "      <td>14.97</td>\n",
              "      <td>16.13</td>\n",
              "      <td>14.81</td>\n",
              "      <td>15.378</td>\n",
              "    </tr>\n",
              "    <tr>\n",
              "      <th>6</th>\n",
              "      <td>Maria Gray</td>\n",
              "      <td>12.89</td>\n",
              "      <td>19.02</td>\n",
              "      <td>14.06</td>\n",
              "      <td>15.7515</td>\n",
              "    </tr>\n",
              "    <tr>\n",
              "      <th>7</th>\n",
              "      <td>William Mcclure</td>\n",
              "      <td>14.06</td>\n",
              "      <td>16.47</td>\n",
              "      <td>14.32</td>\n",
              "      <td>15.115</td>\n",
              "    </tr>\n",
              "    <tr>\n",
              "      <th>8</th>\n",
              "      <td>Darrell King</td>\n",
              "      <td>10.21</td>\n",
              "      <td>15.13</td>\n",
              "      <td>14.20</td>\n",
              "      <td>13.5745</td>\n",
              "    </tr>\n",
              "    <tr>\n",
              "      <th>9</th>\n",
              "      <td>Valerie Holder</td>\n",
              "      <td>15.58</td>\n",
              "      <td>15.38</td>\n",
              "      <td>16.66</td>\n",
              "      <td>15.878</td>\n",
              "    </tr>\n",
              "    <tr>\n",
              "      <th>10</th>\n",
              "      <td>Brandon Mullins</td>\n",
              "      <td>14.17</td>\n",
              "      <td>17.35</td>\n",
              "      <td>14.97</td>\n",
              "      <td>15.722</td>\n",
              "    </tr>\n",
              "    <tr>\n",
              "      <th>11</th>\n",
              "      <td>Makayla Whitney</td>\n",
              "      <td>15.86</td>\n",
              "      <td>19.20</td>\n",
              "      <td>18.45</td>\n",
              "      <td>18.1025</td>\n",
              "    </tr>\n",
              "    <tr>\n",
              "      <th>12</th>\n",
              "      <td>David Higgins</td>\n",
              "      <td>13.73</td>\n",
              "      <td>15.41</td>\n",
              "      <td>13.81</td>\n",
              "      <td>14.43</td>\n",
              "    </tr>\n",
              "    <tr>\n",
              "      <th>13</th>\n",
              "      <td>Samuel Vega</td>\n",
              "      <td>13.39</td>\n",
              "      <td>18.90</td>\n",
              "      <td>15.70</td>\n",
              "      <td>16.4025</td>\n",
              "    </tr>\n",
              "    <tr>\n",
              "      <th>14</th>\n",
              "      <td>Melissa Berry</td>\n",
              "      <td>17.61</td>\n",
              "      <td>18.39</td>\n",
              "      <td>16.60</td>\n",
              "      <td>17.5685</td>\n",
              "    </tr>\n",
              "    <tr>\n",
              "      <th>15</th>\n",
              "      <td>Brandon Johnson</td>\n",
              "      <td>13.36</td>\n",
              "      <td>17.44</td>\n",
              "      <td>17.64</td>\n",
              "      <td>16.49</td>\n",
              "    </tr>\n",
              "    <tr>\n",
              "      <th>16</th>\n",
              "      <td>Ryan Weber</td>\n",
              "      <td>15.58</td>\n",
              "      <td>19.56</td>\n",
              "      <td>17.17</td>\n",
              "      <td>17.7285</td>\n",
              "    </tr>\n",
              "    <tr>\n",
              "      <th>17</th>\n",
              "      <td>Karen Stanley</td>\n",
              "      <td>13.12</td>\n",
              "      <td>17.72</td>\n",
              "      <td>14.89</td>\n",
              "      <td>15.5795</td>\n",
              "    </tr>\n",
              "    <tr>\n",
              "      <th>18</th>\n",
              "      <td>Ryan Spence</td>\n",
              "      <td>14.41</td>\n",
              "      <td>16.79</td>\n",
              "      <td>15.89</td>\n",
              "      <td>15.88</td>\n",
              "    </tr>\n",
              "    <tr>\n",
              "      <th>19</th>\n",
              "      <td>Ryan Harrison</td>\n",
              "      <td>13.10</td>\n",
              "      <td>17.23</td>\n",
              "      <td>15.67</td>\n",
              "      <td>15.6515</td>\n",
              "    </tr>\n",
              "  </tbody>\n",
              "</table>\n",
              "</div>\n",
              "      <button class=\"colab-df-convert\" onclick=\"convertToInteractive('df-746cca48-91c4-408a-b0e2-071e0a8a3a19')\"\n",
              "              title=\"Convert this dataframe to an interactive table.\"\n",
              "              style=\"display:none;\">\n",
              "        \n",
              "  <svg xmlns=\"http://www.w3.org/2000/svg\" height=\"24px\"viewBox=\"0 0 24 24\"\n",
              "       width=\"24px\">\n",
              "    <path d=\"M0 0h24v24H0V0z\" fill=\"none\"/>\n",
              "    <path d=\"M18.56 5.44l.94 2.06.94-2.06 2.06-.94-2.06-.94-.94-2.06-.94 2.06-2.06.94zm-11 1L8.5 8.5l.94-2.06 2.06-.94-2.06-.94L8.5 2.5l-.94 2.06-2.06.94zm10 10l.94 2.06.94-2.06 2.06-.94-2.06-.94-.94-2.06-.94 2.06-2.06.94z\"/><path d=\"M17.41 7.96l-1.37-1.37c-.4-.4-.92-.59-1.43-.59-.52 0-1.04.2-1.43.59L10.3 9.45l-7.72 7.72c-.78.78-.78 2.05 0 2.83L4 21.41c.39.39.9.59 1.41.59.51 0 1.02-.2 1.41-.59l7.78-7.78 2.81-2.81c.8-.78.8-2.07 0-2.86zM5.41 20L4 18.59l7.72-7.72 1.47 1.35L5.41 20z\"/>\n",
              "  </svg>\n",
              "      </button>\n",
              "      \n",
              "  <style>\n",
              "    .colab-df-container {\n",
              "      display:flex;\n",
              "      flex-wrap:wrap;\n",
              "      gap: 12px;\n",
              "    }\n",
              "\n",
              "    .colab-df-convert {\n",
              "      background-color: #E8F0FE;\n",
              "      border: none;\n",
              "      border-radius: 50%;\n",
              "      cursor: pointer;\n",
              "      display: none;\n",
              "      fill: #1967D2;\n",
              "      height: 32px;\n",
              "      padding: 0 0 0 0;\n",
              "      width: 32px;\n",
              "    }\n",
              "\n",
              "    .colab-df-convert:hover {\n",
              "      background-color: #E2EBFA;\n",
              "      box-shadow: 0px 1px 2px rgba(60, 64, 67, 0.3), 0px 1px 3px 1px rgba(60, 64, 67, 0.15);\n",
              "      fill: #174EA6;\n",
              "    }\n",
              "\n",
              "    [theme=dark] .colab-df-convert {\n",
              "      background-color: #3B4455;\n",
              "      fill: #D2E3FC;\n",
              "    }\n",
              "\n",
              "    [theme=dark] .colab-df-convert:hover {\n",
              "      background-color: #434B5C;\n",
              "      box-shadow: 0px 1px 3px 1px rgba(0, 0, 0, 0.15);\n",
              "      filter: drop-shadow(0px 1px 2px rgba(0, 0, 0, 0.3));\n",
              "      fill: #FFFFFF;\n",
              "    }\n",
              "  </style>\n",
              "\n",
              "      <script>\n",
              "        const buttonEl =\n",
              "          document.querySelector('#df-746cca48-91c4-408a-b0e2-071e0a8a3a19 button.colab-df-convert');\n",
              "        buttonEl.style.display =\n",
              "          google.colab.kernel.accessAllowed ? 'block' : 'none';\n",
              "\n",
              "        async function convertToInteractive(key) {\n",
              "          const element = document.querySelector('#df-746cca48-91c4-408a-b0e2-071e0a8a3a19');\n",
              "          const dataTable =\n",
              "            await google.colab.kernel.invokeFunction('convertToInteractive',\n",
              "                                                     [key], {});\n",
              "          if (!dataTable) return;\n",
              "\n",
              "          const docLinkHtml = 'Like what you see? Visit the ' +\n",
              "            '<a target=\"_blank\" href=https://colab.research.google.com/notebooks/data_table.ipynb>data table notebook</a>'\n",
              "            + ' to learn more about interactive tables.';\n",
              "          element.innerHTML = '';\n",
              "          dataTable['output_type'] = 'display_data';\n",
              "          await google.colab.output.renderOutput(dataTable, element);\n",
              "          const docLink = document.createElement('div');\n",
              "          docLink.innerHTML = docLinkHtml;\n",
              "          element.appendChild(docLink);\n",
              "        }\n",
              "      </script>\n",
              "    </div>\n",
              "  </div>\n",
              "  "
            ]
          },
          "metadata": {},
          "execution_count": 30
        }
      ]
    },
    {
      "cell_type": "markdown",
      "source": [
        "# DIFFERENT WAYS TO SELECT THE COLUMNS WE WANT"
      ],
      "metadata": {
        "id": "1MdQWArr9eUJ"
      }
    },
    {
      "cell_type": "markdown",
      "source": [
        "Another way is to use pandas to select the columns we need.\n",
        "\n",
        "df.iloc[:,1:] <= this only works with numerical indexing.\n",
        "\n",
        "df.loc[:, [ ] ] <=  [ ] means list of columns <= it works with columns\n"
      ],
      "metadata": {
        "id": "zitpPzpHQ626"
      }
    },
    {
      "cell_type": "code",
      "source": [
        "df_marks2.iloc[:, 1:]"
      ],
      "metadata": {
        "colab": {
          "base_uri": "https://localhost:8080/",
          "height": 676
        },
        "id": "MEh5912CRWfI",
        "outputId": "2136b409-02e0-4399-c3b7-8cae2f9e9b24"
      },
      "execution_count": null,
      "outputs": [
        {
          "output_type": "execute_result",
          "data": {
            "text/plain": [
              "    Test 1  Test 2  Test 3   Final3\n",
              "0    12.43   14.13   14.65   13.887\n",
              "1    13.22   14.47   11.95  13.2755\n",
              "2    12.82   16.11   14.95  14.8815\n",
              "3    13.68   15.36   16.61  15.3775\n",
              "4    13.28   15.77   15.46   15.039\n",
              "5    14.97   16.13   14.81   15.378\n",
              "6    12.89   19.02   14.06  15.7515\n",
              "7    14.06   16.47   14.32   15.115\n",
              "8    10.21   15.13   14.20  13.5745\n",
              "9    15.58   15.38   16.66   15.878\n",
              "10   14.17   17.35   14.97   15.722\n",
              "11   15.86   19.20   18.45  18.1025\n",
              "12   13.73   15.41   13.81    14.43\n",
              "13   13.39   18.90   15.70  16.4025\n",
              "14   17.61   18.39   16.60  17.5685\n",
              "15   13.36   17.44   17.64    16.49\n",
              "16   15.58   19.56   17.17  17.7285\n",
              "17   13.12   17.72   14.89  15.5795\n",
              "18   14.41   16.79   15.89    15.88\n",
              "19   13.10   17.23   15.67  15.6515"
            ],
            "text/html": [
              "\n",
              "  <div id=\"df-2826ffbe-3886-48f5-bde5-a5db8f361c4a\">\n",
              "    <div class=\"colab-df-container\">\n",
              "      <div>\n",
              "<style scoped>\n",
              "    .dataframe tbody tr th:only-of-type {\n",
              "        vertical-align: middle;\n",
              "    }\n",
              "\n",
              "    .dataframe tbody tr th {\n",
              "        vertical-align: top;\n",
              "    }\n",
              "\n",
              "    .dataframe thead th {\n",
              "        text-align: right;\n",
              "    }\n",
              "</style>\n",
              "<table border=\"1\" class=\"dataframe\">\n",
              "  <thead>\n",
              "    <tr style=\"text-align: right;\">\n",
              "      <th></th>\n",
              "      <th>Test 1</th>\n",
              "      <th>Test 2</th>\n",
              "      <th>Test 3</th>\n",
              "      <th>Final3</th>\n",
              "    </tr>\n",
              "  </thead>\n",
              "  <tbody>\n",
              "    <tr>\n",
              "      <th>0</th>\n",
              "      <td>12.43</td>\n",
              "      <td>14.13</td>\n",
              "      <td>14.65</td>\n",
              "      <td>13.887</td>\n",
              "    </tr>\n",
              "    <tr>\n",
              "      <th>1</th>\n",
              "      <td>13.22</td>\n",
              "      <td>14.47</td>\n",
              "      <td>11.95</td>\n",
              "      <td>13.2755</td>\n",
              "    </tr>\n",
              "    <tr>\n",
              "      <th>2</th>\n",
              "      <td>12.82</td>\n",
              "      <td>16.11</td>\n",
              "      <td>14.95</td>\n",
              "      <td>14.8815</td>\n",
              "    </tr>\n",
              "    <tr>\n",
              "      <th>3</th>\n",
              "      <td>13.68</td>\n",
              "      <td>15.36</td>\n",
              "      <td>16.61</td>\n",
              "      <td>15.3775</td>\n",
              "    </tr>\n",
              "    <tr>\n",
              "      <th>4</th>\n",
              "      <td>13.28</td>\n",
              "      <td>15.77</td>\n",
              "      <td>15.46</td>\n",
              "      <td>15.039</td>\n",
              "    </tr>\n",
              "    <tr>\n",
              "      <th>5</th>\n",
              "      <td>14.97</td>\n",
              "      <td>16.13</td>\n",
              "      <td>14.81</td>\n",
              "      <td>15.378</td>\n",
              "    </tr>\n",
              "    <tr>\n",
              "      <th>6</th>\n",
              "      <td>12.89</td>\n",
              "      <td>19.02</td>\n",
              "      <td>14.06</td>\n",
              "      <td>15.7515</td>\n",
              "    </tr>\n",
              "    <tr>\n",
              "      <th>7</th>\n",
              "      <td>14.06</td>\n",
              "      <td>16.47</td>\n",
              "      <td>14.32</td>\n",
              "      <td>15.115</td>\n",
              "    </tr>\n",
              "    <tr>\n",
              "      <th>8</th>\n",
              "      <td>10.21</td>\n",
              "      <td>15.13</td>\n",
              "      <td>14.20</td>\n",
              "      <td>13.5745</td>\n",
              "    </tr>\n",
              "    <tr>\n",
              "      <th>9</th>\n",
              "      <td>15.58</td>\n",
              "      <td>15.38</td>\n",
              "      <td>16.66</td>\n",
              "      <td>15.878</td>\n",
              "    </tr>\n",
              "    <tr>\n",
              "      <th>10</th>\n",
              "      <td>14.17</td>\n",
              "      <td>17.35</td>\n",
              "      <td>14.97</td>\n",
              "      <td>15.722</td>\n",
              "    </tr>\n",
              "    <tr>\n",
              "      <th>11</th>\n",
              "      <td>15.86</td>\n",
              "      <td>19.20</td>\n",
              "      <td>18.45</td>\n",
              "      <td>18.1025</td>\n",
              "    </tr>\n",
              "    <tr>\n",
              "      <th>12</th>\n",
              "      <td>13.73</td>\n",
              "      <td>15.41</td>\n",
              "      <td>13.81</td>\n",
              "      <td>14.43</td>\n",
              "    </tr>\n",
              "    <tr>\n",
              "      <th>13</th>\n",
              "      <td>13.39</td>\n",
              "      <td>18.90</td>\n",
              "      <td>15.70</td>\n",
              "      <td>16.4025</td>\n",
              "    </tr>\n",
              "    <tr>\n",
              "      <th>14</th>\n",
              "      <td>17.61</td>\n",
              "      <td>18.39</td>\n",
              "      <td>16.60</td>\n",
              "      <td>17.5685</td>\n",
              "    </tr>\n",
              "    <tr>\n",
              "      <th>15</th>\n",
              "      <td>13.36</td>\n",
              "      <td>17.44</td>\n",
              "      <td>17.64</td>\n",
              "      <td>16.49</td>\n",
              "    </tr>\n",
              "    <tr>\n",
              "      <th>16</th>\n",
              "      <td>15.58</td>\n",
              "      <td>19.56</td>\n",
              "      <td>17.17</td>\n",
              "      <td>17.7285</td>\n",
              "    </tr>\n",
              "    <tr>\n",
              "      <th>17</th>\n",
              "      <td>13.12</td>\n",
              "      <td>17.72</td>\n",
              "      <td>14.89</td>\n",
              "      <td>15.5795</td>\n",
              "    </tr>\n",
              "    <tr>\n",
              "      <th>18</th>\n",
              "      <td>14.41</td>\n",
              "      <td>16.79</td>\n",
              "      <td>15.89</td>\n",
              "      <td>15.88</td>\n",
              "    </tr>\n",
              "    <tr>\n",
              "      <th>19</th>\n",
              "      <td>13.10</td>\n",
              "      <td>17.23</td>\n",
              "      <td>15.67</td>\n",
              "      <td>15.6515</td>\n",
              "    </tr>\n",
              "  </tbody>\n",
              "</table>\n",
              "</div>\n",
              "      <button class=\"colab-df-convert\" onclick=\"convertToInteractive('df-2826ffbe-3886-48f5-bde5-a5db8f361c4a')\"\n",
              "              title=\"Convert this dataframe to an interactive table.\"\n",
              "              style=\"display:none;\">\n",
              "        \n",
              "  <svg xmlns=\"http://www.w3.org/2000/svg\" height=\"24px\"viewBox=\"0 0 24 24\"\n",
              "       width=\"24px\">\n",
              "    <path d=\"M0 0h24v24H0V0z\" fill=\"none\"/>\n",
              "    <path d=\"M18.56 5.44l.94 2.06.94-2.06 2.06-.94-2.06-.94-.94-2.06-.94 2.06-2.06.94zm-11 1L8.5 8.5l.94-2.06 2.06-.94-2.06-.94L8.5 2.5l-.94 2.06-2.06.94zm10 10l.94 2.06.94-2.06 2.06-.94-2.06-.94-.94-2.06-.94 2.06-2.06.94z\"/><path d=\"M17.41 7.96l-1.37-1.37c-.4-.4-.92-.59-1.43-.59-.52 0-1.04.2-1.43.59L10.3 9.45l-7.72 7.72c-.78.78-.78 2.05 0 2.83L4 21.41c.39.39.9.59 1.41.59.51 0 1.02-.2 1.41-.59l7.78-7.78 2.81-2.81c.8-.78.8-2.07 0-2.86zM5.41 20L4 18.59l7.72-7.72 1.47 1.35L5.41 20z\"/>\n",
              "  </svg>\n",
              "      </button>\n",
              "      \n",
              "  <style>\n",
              "    .colab-df-container {\n",
              "      display:flex;\n",
              "      flex-wrap:wrap;\n",
              "      gap: 12px;\n",
              "    }\n",
              "\n",
              "    .colab-df-convert {\n",
              "      background-color: #E8F0FE;\n",
              "      border: none;\n",
              "      border-radius: 50%;\n",
              "      cursor: pointer;\n",
              "      display: none;\n",
              "      fill: #1967D2;\n",
              "      height: 32px;\n",
              "      padding: 0 0 0 0;\n",
              "      width: 32px;\n",
              "    }\n",
              "\n",
              "    .colab-df-convert:hover {\n",
              "      background-color: #E2EBFA;\n",
              "      box-shadow: 0px 1px 2px rgba(60, 64, 67, 0.3), 0px 1px 3px 1px rgba(60, 64, 67, 0.15);\n",
              "      fill: #174EA6;\n",
              "    }\n",
              "\n",
              "    [theme=dark] .colab-df-convert {\n",
              "      background-color: #3B4455;\n",
              "      fill: #D2E3FC;\n",
              "    }\n",
              "\n",
              "    [theme=dark] .colab-df-convert:hover {\n",
              "      background-color: #434B5C;\n",
              "      box-shadow: 0px 1px 3px 1px rgba(0, 0, 0, 0.15);\n",
              "      filter: drop-shadow(0px 1px 2px rgba(0, 0, 0, 0.3));\n",
              "      fill: #FFFFFF;\n",
              "    }\n",
              "  </style>\n",
              "\n",
              "      <script>\n",
              "        const buttonEl =\n",
              "          document.querySelector('#df-2826ffbe-3886-48f5-bde5-a5db8f361c4a button.colab-df-convert');\n",
              "        buttonEl.style.display =\n",
              "          google.colab.kernel.accessAllowed ? 'block' : 'none';\n",
              "\n",
              "        async function convertToInteractive(key) {\n",
              "          const element = document.querySelector('#df-2826ffbe-3886-48f5-bde5-a5db8f361c4a');\n",
              "          const dataTable =\n",
              "            await google.colab.kernel.invokeFunction('convertToInteractive',\n",
              "                                                     [key], {});\n",
              "          if (!dataTable) return;\n",
              "\n",
              "          const docLinkHtml = 'Like what you see? Visit the ' +\n",
              "            '<a target=\"_blank\" href=https://colab.research.google.com/notebooks/data_table.ipynb>data table notebook</a>'\n",
              "            + ' to learn more about interactive tables.';\n",
              "          element.innerHTML = '';\n",
              "          dataTable['output_type'] = 'display_data';\n",
              "          await google.colab.output.renderOutput(dataTable, element);\n",
              "          const docLink = document.createElement('div');\n",
              "          docLink.innerHTML = docLinkHtml;\n",
              "          element.appendChild(docLink);\n",
              "        }\n",
              "      </script>\n",
              "    </div>\n",
              "  </div>\n",
              "  "
            ]
          },
          "metadata": {},
          "execution_count": 31
        }
      ]
    },
    {
      "cell_type": "markdown",
      "source": [
        "In values..."
      ],
      "metadata": {
        "id": "DR4kdK1FTWpP"
      }
    },
    {
      "cell_type": "code",
      "source": [
        "df_marks2.iloc[:, 1:].values"
      ],
      "metadata": {
        "colab": {
          "base_uri": "https://localhost:8080/"
        },
        "id": "eblmgmRmRepU",
        "outputId": "b43d64a9-c181-4f62-9211-8fb1bc3e2253"
      },
      "execution_count": null,
      "outputs": [
        {
          "output_type": "execute_result",
          "data": {
            "text/plain": [
              "array([[12.43, 14.13, 14.65, 13.887],\n",
              "       [13.22, 14.47, 11.95, 13.2755],\n",
              "       [12.82, 16.11, 14.95, 14.881499999999999],\n",
              "       [13.68, 15.36, 16.61, 15.3775],\n",
              "       [13.28, 15.77, 15.46, 15.039],\n",
              "       [14.97, 16.13, 14.81, 15.378],\n",
              "       [12.89, 19.02, 14.06, 15.7515],\n",
              "       [14.06, 16.47, 14.32, 15.114999999999998],\n",
              "       [10.21, 15.13, 14.2, 13.5745],\n",
              "       [15.58, 15.38, 16.66, 15.878],\n",
              "       [14.17, 17.35, 14.97, 15.722000000000001],\n",
              "       [15.86, 19.2, 18.45, 18.1025],\n",
              "       [13.73, 15.41, 13.81, 14.43],\n",
              "       [13.39, 18.9, 15.7, 16.402499999999996],\n",
              "       [17.61, 18.39, 16.6, 17.5685],\n",
              "       [13.36, 17.44, 17.64, 16.490000000000002],\n",
              "       [15.58, 19.56, 17.17, 17.7285],\n",
              "       [13.12, 17.72, 14.89, 15.5795],\n",
              "       [14.41, 16.79, 15.89, 15.879999999999999],\n",
              "       [13.1, 17.23, 15.67, 15.651499999999999]], dtype=object)"
            ]
          },
          "metadata": {},
          "execution_count": 32
        }
      ]
    },
    {
      "cell_type": "markdown",
      "source": [
        "Another way to do the same thing..."
      ],
      "metadata": {
        "id": "20iI5tLvTmMp"
      }
    },
    {
      "cell_type": "code",
      "source": [
        "df.loc[:, ['Test 1', 'Test 2', 'Test 3']]"
      ],
      "metadata": {
        "colab": {
          "base_uri": "https://localhost:8080/",
          "height": 676
        },
        "id": "ImO54s52TZ4E",
        "outputId": "dec5a171-7ac9-42b7-bf18-5b0b4e9ef73f"
      },
      "execution_count": null,
      "outputs": [
        {
          "output_type": "execute_result",
          "data": {
            "text/plain": [
              "    Test 1  Test 2  Test 3\n",
              "0    12.43   14.13   14.65\n",
              "1    13.22   14.47   11.95\n",
              "2    12.82   16.11   14.95\n",
              "3    13.68   15.36   16.61\n",
              "4    13.28   15.77   15.46\n",
              "5    14.97   16.13   14.81\n",
              "6    12.89   19.02   14.06\n",
              "7    14.06   16.47   14.32\n",
              "8    10.21   15.13   14.20\n",
              "9    15.58   15.38   16.66\n",
              "10   14.17   17.35   14.97\n",
              "11   15.86   19.20   18.45\n",
              "12   13.73   15.41   13.81\n",
              "13   13.39   18.90   15.70\n",
              "14   17.61   18.39   16.60\n",
              "15   13.36   17.44   17.64\n",
              "16   15.58   19.56   17.17\n",
              "17   13.12   17.72   14.89\n",
              "18   14.41   16.79   15.89\n",
              "19   13.10   17.23   15.67"
            ],
            "text/html": [
              "\n",
              "  <div id=\"df-b52f1a11-ee52-49d2-bee5-272a3f89b538\">\n",
              "    <div class=\"colab-df-container\">\n",
              "      <div>\n",
              "<style scoped>\n",
              "    .dataframe tbody tr th:only-of-type {\n",
              "        vertical-align: middle;\n",
              "    }\n",
              "\n",
              "    .dataframe tbody tr th {\n",
              "        vertical-align: top;\n",
              "    }\n",
              "\n",
              "    .dataframe thead th {\n",
              "        text-align: right;\n",
              "    }\n",
              "</style>\n",
              "<table border=\"1\" class=\"dataframe\">\n",
              "  <thead>\n",
              "    <tr style=\"text-align: right;\">\n",
              "      <th></th>\n",
              "      <th>Test 1</th>\n",
              "      <th>Test 2</th>\n",
              "      <th>Test 3</th>\n",
              "    </tr>\n",
              "  </thead>\n",
              "  <tbody>\n",
              "    <tr>\n",
              "      <th>0</th>\n",
              "      <td>12.43</td>\n",
              "      <td>14.13</td>\n",
              "      <td>14.65</td>\n",
              "    </tr>\n",
              "    <tr>\n",
              "      <th>1</th>\n",
              "      <td>13.22</td>\n",
              "      <td>14.47</td>\n",
              "      <td>11.95</td>\n",
              "    </tr>\n",
              "    <tr>\n",
              "      <th>2</th>\n",
              "      <td>12.82</td>\n",
              "      <td>16.11</td>\n",
              "      <td>14.95</td>\n",
              "    </tr>\n",
              "    <tr>\n",
              "      <th>3</th>\n",
              "      <td>13.68</td>\n",
              "      <td>15.36</td>\n",
              "      <td>16.61</td>\n",
              "    </tr>\n",
              "    <tr>\n",
              "      <th>4</th>\n",
              "      <td>13.28</td>\n",
              "      <td>15.77</td>\n",
              "      <td>15.46</td>\n",
              "    </tr>\n",
              "    <tr>\n",
              "      <th>5</th>\n",
              "      <td>14.97</td>\n",
              "      <td>16.13</td>\n",
              "      <td>14.81</td>\n",
              "    </tr>\n",
              "    <tr>\n",
              "      <th>6</th>\n",
              "      <td>12.89</td>\n",
              "      <td>19.02</td>\n",
              "      <td>14.06</td>\n",
              "    </tr>\n",
              "    <tr>\n",
              "      <th>7</th>\n",
              "      <td>14.06</td>\n",
              "      <td>16.47</td>\n",
              "      <td>14.32</td>\n",
              "    </tr>\n",
              "    <tr>\n",
              "      <th>8</th>\n",
              "      <td>10.21</td>\n",
              "      <td>15.13</td>\n",
              "      <td>14.20</td>\n",
              "    </tr>\n",
              "    <tr>\n",
              "      <th>9</th>\n",
              "      <td>15.58</td>\n",
              "      <td>15.38</td>\n",
              "      <td>16.66</td>\n",
              "    </tr>\n",
              "    <tr>\n",
              "      <th>10</th>\n",
              "      <td>14.17</td>\n",
              "      <td>17.35</td>\n",
              "      <td>14.97</td>\n",
              "    </tr>\n",
              "    <tr>\n",
              "      <th>11</th>\n",
              "      <td>15.86</td>\n",
              "      <td>19.20</td>\n",
              "      <td>18.45</td>\n",
              "    </tr>\n",
              "    <tr>\n",
              "      <th>12</th>\n",
              "      <td>13.73</td>\n",
              "      <td>15.41</td>\n",
              "      <td>13.81</td>\n",
              "    </tr>\n",
              "    <tr>\n",
              "      <th>13</th>\n",
              "      <td>13.39</td>\n",
              "      <td>18.90</td>\n",
              "      <td>15.70</td>\n",
              "    </tr>\n",
              "    <tr>\n",
              "      <th>14</th>\n",
              "      <td>17.61</td>\n",
              "      <td>18.39</td>\n",
              "      <td>16.60</td>\n",
              "    </tr>\n",
              "    <tr>\n",
              "      <th>15</th>\n",
              "      <td>13.36</td>\n",
              "      <td>17.44</td>\n",
              "      <td>17.64</td>\n",
              "    </tr>\n",
              "    <tr>\n",
              "      <th>16</th>\n",
              "      <td>15.58</td>\n",
              "      <td>19.56</td>\n",
              "      <td>17.17</td>\n",
              "    </tr>\n",
              "    <tr>\n",
              "      <th>17</th>\n",
              "      <td>13.12</td>\n",
              "      <td>17.72</td>\n",
              "      <td>14.89</td>\n",
              "    </tr>\n",
              "    <tr>\n",
              "      <th>18</th>\n",
              "      <td>14.41</td>\n",
              "      <td>16.79</td>\n",
              "      <td>15.89</td>\n",
              "    </tr>\n",
              "    <tr>\n",
              "      <th>19</th>\n",
              "      <td>13.10</td>\n",
              "      <td>17.23</td>\n",
              "      <td>15.67</td>\n",
              "    </tr>\n",
              "  </tbody>\n",
              "</table>\n",
              "</div>\n",
              "      <button class=\"colab-df-convert\" onclick=\"convertToInteractive('df-b52f1a11-ee52-49d2-bee5-272a3f89b538')\"\n",
              "              title=\"Convert this dataframe to an interactive table.\"\n",
              "              style=\"display:none;\">\n",
              "        \n",
              "  <svg xmlns=\"http://www.w3.org/2000/svg\" height=\"24px\"viewBox=\"0 0 24 24\"\n",
              "       width=\"24px\">\n",
              "    <path d=\"M0 0h24v24H0V0z\" fill=\"none\"/>\n",
              "    <path d=\"M18.56 5.44l.94 2.06.94-2.06 2.06-.94-2.06-.94-.94-2.06-.94 2.06-2.06.94zm-11 1L8.5 8.5l.94-2.06 2.06-.94-2.06-.94L8.5 2.5l-.94 2.06-2.06.94zm10 10l.94 2.06.94-2.06 2.06-.94-2.06-.94-.94-2.06-.94 2.06-2.06.94z\"/><path d=\"M17.41 7.96l-1.37-1.37c-.4-.4-.92-.59-1.43-.59-.52 0-1.04.2-1.43.59L10.3 9.45l-7.72 7.72c-.78.78-.78 2.05 0 2.83L4 21.41c.39.39.9.59 1.41.59.51 0 1.02-.2 1.41-.59l7.78-7.78 2.81-2.81c.8-.78.8-2.07 0-2.86zM5.41 20L4 18.59l7.72-7.72 1.47 1.35L5.41 20z\"/>\n",
              "  </svg>\n",
              "      </button>\n",
              "      \n",
              "  <style>\n",
              "    .colab-df-container {\n",
              "      display:flex;\n",
              "      flex-wrap:wrap;\n",
              "      gap: 12px;\n",
              "    }\n",
              "\n",
              "    .colab-df-convert {\n",
              "      background-color: #E8F0FE;\n",
              "      border: none;\n",
              "      border-radius: 50%;\n",
              "      cursor: pointer;\n",
              "      display: none;\n",
              "      fill: #1967D2;\n",
              "      height: 32px;\n",
              "      padding: 0 0 0 0;\n",
              "      width: 32px;\n",
              "    }\n",
              "\n",
              "    .colab-df-convert:hover {\n",
              "      background-color: #E2EBFA;\n",
              "      box-shadow: 0px 1px 2px rgba(60, 64, 67, 0.3), 0px 1px 3px 1px rgba(60, 64, 67, 0.15);\n",
              "      fill: #174EA6;\n",
              "    }\n",
              "\n",
              "    [theme=dark] .colab-df-convert {\n",
              "      background-color: #3B4455;\n",
              "      fill: #D2E3FC;\n",
              "    }\n",
              "\n",
              "    [theme=dark] .colab-df-convert:hover {\n",
              "      background-color: #434B5C;\n",
              "      box-shadow: 0px 1px 3px 1px rgba(0, 0, 0, 0.15);\n",
              "      filter: drop-shadow(0px 1px 2px rgba(0, 0, 0, 0.3));\n",
              "      fill: #FFFFFF;\n",
              "    }\n",
              "  </style>\n",
              "\n",
              "      <script>\n",
              "        const buttonEl =\n",
              "          document.querySelector('#df-b52f1a11-ee52-49d2-bee5-272a3f89b538 button.colab-df-convert');\n",
              "        buttonEl.style.display =\n",
              "          google.colab.kernel.accessAllowed ? 'block' : 'none';\n",
              "\n",
              "        async function convertToInteractive(key) {\n",
              "          const element = document.querySelector('#df-b52f1a11-ee52-49d2-bee5-272a3f89b538');\n",
              "          const dataTable =\n",
              "            await google.colab.kernel.invokeFunction('convertToInteractive',\n",
              "                                                     [key], {});\n",
              "          if (!dataTable) return;\n",
              "\n",
              "          const docLinkHtml = 'Like what you see? Visit the ' +\n",
              "            '<a target=\"_blank\" href=https://colab.research.google.com/notebooks/data_table.ipynb>data table notebook</a>'\n",
              "            + ' to learn more about interactive tables.';\n",
              "          element.innerHTML = '';\n",
              "          dataTable['output_type'] = 'display_data';\n",
              "          await google.colab.output.renderOutput(dataTable, element);\n",
              "          const docLink = document.createElement('div');\n",
              "          docLink.innerHTML = docLinkHtml;\n",
              "          element.appendChild(docLink);\n",
              "        }\n",
              "      </script>\n",
              "    </div>\n",
              "  </div>\n",
              "  "
            ]
          },
          "metadata": {},
          "execution_count": 18
        }
      ]
    },
    {
      "cell_type": "markdown",
      "source": [
        "Exercise 22 Consider the dataset warehouse_sales.csv\n",
        "\n"
      ],
      "metadata": {
        "id": "O7Vavnn296eF"
      }
    },
    {
      "cell_type": "code",
      "source": [
        "df_sales = pd.read_csv('/content/warehouse_sales.csv')\n",
        "df_sales"
      ],
      "metadata": {
        "colab": {
          "base_uri": "https://localhost:8080/",
          "height": 423
        },
        "id": "X_r6__MO5HBS",
        "outputId": "28dd616b-0c3f-45ec-974d-f6ebd72efbcf"
      },
      "execution_count": null,
      "outputs": [
        {
          "output_type": "execute_result",
          "data": {
            "text/plain": [
              "                      Product   Price        Date  Vat Rate\n",
              "0     For repair Cotton Pizza  356.00  2022-12-30      0.20\n",
              "1               Plastic Chair  909.56  2022-12-01      0.15\n",
              "2                       Table  520.65  2022-10-23      0.20\n",
              "3               Plastic Salad  277.53  2022-11-01      0.20\n",
              "4                        Fish   89.94  2022-10-21      0.05\n",
              "...                       ...     ...         ...       ...\n",
              "9995                Soft Bike  311.18  2022-11-10      0.10\n",
              "9996              Wooden Tuna  726.36  2022-10-21      0.10\n",
              "9997   Practical Wooden Pizza  749.95  2023-01-19      0.15\n",
              "9998          Rubber Sausages  674.20  2022-11-05      0.20\n",
              "9999          Wooden Sausages  508.32  2023-01-08      0.05\n",
              "\n",
              "[10000 rows x 4 columns]"
            ],
            "text/html": [
              "\n",
              "  <div id=\"df-6e63ae43-7cf3-405a-839b-c966247ff0ba\">\n",
              "    <div class=\"colab-df-container\">\n",
              "      <div>\n",
              "<style scoped>\n",
              "    .dataframe tbody tr th:only-of-type {\n",
              "        vertical-align: middle;\n",
              "    }\n",
              "\n",
              "    .dataframe tbody tr th {\n",
              "        vertical-align: top;\n",
              "    }\n",
              "\n",
              "    .dataframe thead th {\n",
              "        text-align: right;\n",
              "    }\n",
              "</style>\n",
              "<table border=\"1\" class=\"dataframe\">\n",
              "  <thead>\n",
              "    <tr style=\"text-align: right;\">\n",
              "      <th></th>\n",
              "      <th>Product</th>\n",
              "      <th>Price</th>\n",
              "      <th>Date</th>\n",
              "      <th>Vat Rate</th>\n",
              "    </tr>\n",
              "  </thead>\n",
              "  <tbody>\n",
              "    <tr>\n",
              "      <th>0</th>\n",
              "      <td>For repair Cotton Pizza</td>\n",
              "      <td>356.00</td>\n",
              "      <td>2022-12-30</td>\n",
              "      <td>0.20</td>\n",
              "    </tr>\n",
              "    <tr>\n",
              "      <th>1</th>\n",
              "      <td>Plastic Chair</td>\n",
              "      <td>909.56</td>\n",
              "      <td>2022-12-01</td>\n",
              "      <td>0.15</td>\n",
              "    </tr>\n",
              "    <tr>\n",
              "      <th>2</th>\n",
              "      <td>Table</td>\n",
              "      <td>520.65</td>\n",
              "      <td>2022-10-23</td>\n",
              "      <td>0.20</td>\n",
              "    </tr>\n",
              "    <tr>\n",
              "      <th>3</th>\n",
              "      <td>Plastic Salad</td>\n",
              "      <td>277.53</td>\n",
              "      <td>2022-11-01</td>\n",
              "      <td>0.20</td>\n",
              "    </tr>\n",
              "    <tr>\n",
              "      <th>4</th>\n",
              "      <td>Fish</td>\n",
              "      <td>89.94</td>\n",
              "      <td>2022-10-21</td>\n",
              "      <td>0.05</td>\n",
              "    </tr>\n",
              "    <tr>\n",
              "      <th>...</th>\n",
              "      <td>...</td>\n",
              "      <td>...</td>\n",
              "      <td>...</td>\n",
              "      <td>...</td>\n",
              "    </tr>\n",
              "    <tr>\n",
              "      <th>9995</th>\n",
              "      <td>Soft Bike</td>\n",
              "      <td>311.18</td>\n",
              "      <td>2022-11-10</td>\n",
              "      <td>0.10</td>\n",
              "    </tr>\n",
              "    <tr>\n",
              "      <th>9996</th>\n",
              "      <td>Wooden Tuna</td>\n",
              "      <td>726.36</td>\n",
              "      <td>2022-10-21</td>\n",
              "      <td>0.10</td>\n",
              "    </tr>\n",
              "    <tr>\n",
              "      <th>9997</th>\n",
              "      <td>Practical Wooden Pizza</td>\n",
              "      <td>749.95</td>\n",
              "      <td>2023-01-19</td>\n",
              "      <td>0.15</td>\n",
              "    </tr>\n",
              "    <tr>\n",
              "      <th>9998</th>\n",
              "      <td>Rubber Sausages</td>\n",
              "      <td>674.20</td>\n",
              "      <td>2022-11-05</td>\n",
              "      <td>0.20</td>\n",
              "    </tr>\n",
              "    <tr>\n",
              "      <th>9999</th>\n",
              "      <td>Wooden Sausages</td>\n",
              "      <td>508.32</td>\n",
              "      <td>2023-01-08</td>\n",
              "      <td>0.05</td>\n",
              "    </tr>\n",
              "  </tbody>\n",
              "</table>\n",
              "<p>10000 rows × 4 columns</p>\n",
              "</div>\n",
              "      <button class=\"colab-df-convert\" onclick=\"convertToInteractive('df-6e63ae43-7cf3-405a-839b-c966247ff0ba')\"\n",
              "              title=\"Convert this dataframe to an interactive table.\"\n",
              "              style=\"display:none;\">\n",
              "        \n",
              "  <svg xmlns=\"http://www.w3.org/2000/svg\" height=\"24px\"viewBox=\"0 0 24 24\"\n",
              "       width=\"24px\">\n",
              "    <path d=\"M0 0h24v24H0V0z\" fill=\"none\"/>\n",
              "    <path d=\"M18.56 5.44l.94 2.06.94-2.06 2.06-.94-2.06-.94-.94-2.06-.94 2.06-2.06.94zm-11 1L8.5 8.5l.94-2.06 2.06-.94-2.06-.94L8.5 2.5l-.94 2.06-2.06.94zm10 10l.94 2.06.94-2.06 2.06-.94-2.06-.94-.94-2.06-.94 2.06-2.06.94z\"/><path d=\"M17.41 7.96l-1.37-1.37c-.4-.4-.92-.59-1.43-.59-.52 0-1.04.2-1.43.59L10.3 9.45l-7.72 7.72c-.78.78-.78 2.05 0 2.83L4 21.41c.39.39.9.59 1.41.59.51 0 1.02-.2 1.41-.59l7.78-7.78 2.81-2.81c.8-.78.8-2.07 0-2.86zM5.41 20L4 18.59l7.72-7.72 1.47 1.35L5.41 20z\"/>\n",
              "  </svg>\n",
              "      </button>\n",
              "      \n",
              "  <style>\n",
              "    .colab-df-container {\n",
              "      display:flex;\n",
              "      flex-wrap:wrap;\n",
              "      gap: 12px;\n",
              "    }\n",
              "\n",
              "    .colab-df-convert {\n",
              "      background-color: #E8F0FE;\n",
              "      border: none;\n",
              "      border-radius: 50%;\n",
              "      cursor: pointer;\n",
              "      display: none;\n",
              "      fill: #1967D2;\n",
              "      height: 32px;\n",
              "      padding: 0 0 0 0;\n",
              "      width: 32px;\n",
              "    }\n",
              "\n",
              "    .colab-df-convert:hover {\n",
              "      background-color: #E2EBFA;\n",
              "      box-shadow: 0px 1px 2px rgba(60, 64, 67, 0.3), 0px 1px 3px 1px rgba(60, 64, 67, 0.15);\n",
              "      fill: #174EA6;\n",
              "    }\n",
              "\n",
              "    [theme=dark] .colab-df-convert {\n",
              "      background-color: #3B4455;\n",
              "      fill: #D2E3FC;\n",
              "    }\n",
              "\n",
              "    [theme=dark] .colab-df-convert:hover {\n",
              "      background-color: #434B5C;\n",
              "      box-shadow: 0px 1px 3px 1px rgba(0, 0, 0, 0.15);\n",
              "      filter: drop-shadow(0px 1px 2px rgba(0, 0, 0, 0.3));\n",
              "      fill: #FFFFFF;\n",
              "    }\n",
              "  </style>\n",
              "\n",
              "      <script>\n",
              "        const buttonEl =\n",
              "          document.querySelector('#df-6e63ae43-7cf3-405a-839b-c966247ff0ba button.colab-df-convert');\n",
              "        buttonEl.style.display =\n",
              "          google.colab.kernel.accessAllowed ? 'block' : 'none';\n",
              "\n",
              "        async function convertToInteractive(key) {\n",
              "          const element = document.querySelector('#df-6e63ae43-7cf3-405a-839b-c966247ff0ba');\n",
              "          const dataTable =\n",
              "            await google.colab.kernel.invokeFunction('convertToInteractive',\n",
              "                                                     [key], {});\n",
              "          if (!dataTable) return;\n",
              "\n",
              "          const docLinkHtml = 'Like what you see? Visit the ' +\n",
              "            '<a target=\"_blank\" href=https://colab.research.google.com/notebooks/data_table.ipynb>data table notebook</a>'\n",
              "            + ' to learn more about interactive tables.';\n",
              "          element.innerHTML = '';\n",
              "          dataTable['output_type'] = 'display_data';\n",
              "          await google.colab.output.renderOutput(dataTable, element);\n",
              "          const docLink = document.createElement('div');\n",
              "          docLink.innerHTML = docLinkHtml;\n",
              "          element.appendChild(docLink);\n",
              "        }\n",
              "      </script>\n",
              "    </div>\n",
              "  </div>\n",
              "  "
            ]
          },
          "metadata": {},
          "execution_count": 33
        }
      ]
    },
    {
      "cell_type": "markdown",
      "source": [
        "a) write a function that adds a column named Total to the dataframe, which contains for each sale the total amount to pay including VAT"
      ],
      "metadata": {
        "id": "4ufjdUw05F1A"
      }
    },
    {
      "cell_type": "code",
      "source": [
        "def total_amount(p, vat):\n",
        "  amount = p+p*vat\n",
        "  return amount"
      ],
      "metadata": {
        "id": "yDbfAnnQ-A_y"
      },
      "execution_count": null,
      "outputs": []
    },
    {
      "cell_type": "code",
      "source": [
        "total_amount(5, 5)"
      ],
      "metadata": {
        "colab": {
          "base_uri": "https://localhost:8080/"
        },
        "id": "tcLpiOhT6MhM",
        "outputId": "f864e34d-3797-4830-87ec-32948eea8197"
      },
      "execution_count": null,
      "outputs": [
        {
          "output_type": "execute_result",
          "data": {
            "text/plain": [
              "30"
            ]
          },
          "metadata": {},
          "execution_count": 37
        }
      ]
    },
    {
      "cell_type": "code",
      "source": [
        "df_sales['Total'] = [total_amount(x[0], x[1]) for x in zip(df_sales['Price'], df_sales['Vat Rate'])]\n",
        "df_sales"
      ],
      "metadata": {
        "colab": {
          "base_uri": "https://localhost:8080/",
          "height": 423
        },
        "id": "tFdEpSm86SWY",
        "outputId": "c7ef0b68-64f1-44f4-a233-31aa8540d109"
      },
      "execution_count": null,
      "outputs": [
        {
          "output_type": "execute_result",
          "data": {
            "text/plain": [
              "                      Product   Price        Date  Vat Rate      Total\n",
              "0     For repair Cotton Pizza  356.00  2022-12-30      0.20   427.2000\n",
              "1               Plastic Chair  909.56  2022-12-01      0.15  1045.9940\n",
              "2                       Table  520.65  2022-10-23      0.20   624.7800\n",
              "3               Plastic Salad  277.53  2022-11-01      0.20   333.0360\n",
              "4                        Fish   89.94  2022-10-21      0.05    94.4370\n",
              "...                       ...     ...         ...       ...        ...\n",
              "9995                Soft Bike  311.18  2022-11-10      0.10   342.2980\n",
              "9996              Wooden Tuna  726.36  2022-10-21      0.10   798.9960\n",
              "9997   Practical Wooden Pizza  749.95  2023-01-19      0.15   862.4425\n",
              "9998          Rubber Sausages  674.20  2022-11-05      0.20   809.0400\n",
              "9999          Wooden Sausages  508.32  2023-01-08      0.05   533.7360\n",
              "\n",
              "[10000 rows x 5 columns]"
            ],
            "text/html": [
              "\n",
              "  <div id=\"df-e0ad6e48-e646-4488-9c3e-e46af2b26bfa\">\n",
              "    <div class=\"colab-df-container\">\n",
              "      <div>\n",
              "<style scoped>\n",
              "    .dataframe tbody tr th:only-of-type {\n",
              "        vertical-align: middle;\n",
              "    }\n",
              "\n",
              "    .dataframe tbody tr th {\n",
              "        vertical-align: top;\n",
              "    }\n",
              "\n",
              "    .dataframe thead th {\n",
              "        text-align: right;\n",
              "    }\n",
              "</style>\n",
              "<table border=\"1\" class=\"dataframe\">\n",
              "  <thead>\n",
              "    <tr style=\"text-align: right;\">\n",
              "      <th></th>\n",
              "      <th>Product</th>\n",
              "      <th>Price</th>\n",
              "      <th>Date</th>\n",
              "      <th>Vat Rate</th>\n",
              "      <th>Total</th>\n",
              "    </tr>\n",
              "  </thead>\n",
              "  <tbody>\n",
              "    <tr>\n",
              "      <th>0</th>\n",
              "      <td>For repair Cotton Pizza</td>\n",
              "      <td>356.00</td>\n",
              "      <td>2022-12-30</td>\n",
              "      <td>0.20</td>\n",
              "      <td>427.2000</td>\n",
              "    </tr>\n",
              "    <tr>\n",
              "      <th>1</th>\n",
              "      <td>Plastic Chair</td>\n",
              "      <td>909.56</td>\n",
              "      <td>2022-12-01</td>\n",
              "      <td>0.15</td>\n",
              "      <td>1045.9940</td>\n",
              "    </tr>\n",
              "    <tr>\n",
              "      <th>2</th>\n",
              "      <td>Table</td>\n",
              "      <td>520.65</td>\n",
              "      <td>2022-10-23</td>\n",
              "      <td>0.20</td>\n",
              "      <td>624.7800</td>\n",
              "    </tr>\n",
              "    <tr>\n",
              "      <th>3</th>\n",
              "      <td>Plastic Salad</td>\n",
              "      <td>277.53</td>\n",
              "      <td>2022-11-01</td>\n",
              "      <td>0.20</td>\n",
              "      <td>333.0360</td>\n",
              "    </tr>\n",
              "    <tr>\n",
              "      <th>4</th>\n",
              "      <td>Fish</td>\n",
              "      <td>89.94</td>\n",
              "      <td>2022-10-21</td>\n",
              "      <td>0.05</td>\n",
              "      <td>94.4370</td>\n",
              "    </tr>\n",
              "    <tr>\n",
              "      <th>...</th>\n",
              "      <td>...</td>\n",
              "      <td>...</td>\n",
              "      <td>...</td>\n",
              "      <td>...</td>\n",
              "      <td>...</td>\n",
              "    </tr>\n",
              "    <tr>\n",
              "      <th>9995</th>\n",
              "      <td>Soft Bike</td>\n",
              "      <td>311.18</td>\n",
              "      <td>2022-11-10</td>\n",
              "      <td>0.10</td>\n",
              "      <td>342.2980</td>\n",
              "    </tr>\n",
              "    <tr>\n",
              "      <th>9996</th>\n",
              "      <td>Wooden Tuna</td>\n",
              "      <td>726.36</td>\n",
              "      <td>2022-10-21</td>\n",
              "      <td>0.10</td>\n",
              "      <td>798.9960</td>\n",
              "    </tr>\n",
              "    <tr>\n",
              "      <th>9997</th>\n",
              "      <td>Practical Wooden Pizza</td>\n",
              "      <td>749.95</td>\n",
              "      <td>2023-01-19</td>\n",
              "      <td>0.15</td>\n",
              "      <td>862.4425</td>\n",
              "    </tr>\n",
              "    <tr>\n",
              "      <th>9998</th>\n",
              "      <td>Rubber Sausages</td>\n",
              "      <td>674.20</td>\n",
              "      <td>2022-11-05</td>\n",
              "      <td>0.20</td>\n",
              "      <td>809.0400</td>\n",
              "    </tr>\n",
              "    <tr>\n",
              "      <th>9999</th>\n",
              "      <td>Wooden Sausages</td>\n",
              "      <td>508.32</td>\n",
              "      <td>2023-01-08</td>\n",
              "      <td>0.05</td>\n",
              "      <td>533.7360</td>\n",
              "    </tr>\n",
              "  </tbody>\n",
              "</table>\n",
              "<p>10000 rows × 5 columns</p>\n",
              "</div>\n",
              "      <button class=\"colab-df-convert\" onclick=\"convertToInteractive('df-e0ad6e48-e646-4488-9c3e-e46af2b26bfa')\"\n",
              "              title=\"Convert this dataframe to an interactive table.\"\n",
              "              style=\"display:none;\">\n",
              "        \n",
              "  <svg xmlns=\"http://www.w3.org/2000/svg\" height=\"24px\"viewBox=\"0 0 24 24\"\n",
              "       width=\"24px\">\n",
              "    <path d=\"M0 0h24v24H0V0z\" fill=\"none\"/>\n",
              "    <path d=\"M18.56 5.44l.94 2.06.94-2.06 2.06-.94-2.06-.94-.94-2.06-.94 2.06-2.06.94zm-11 1L8.5 8.5l.94-2.06 2.06-.94-2.06-.94L8.5 2.5l-.94 2.06-2.06.94zm10 10l.94 2.06.94-2.06 2.06-.94-2.06-.94-.94-2.06-.94 2.06-2.06.94z\"/><path d=\"M17.41 7.96l-1.37-1.37c-.4-.4-.92-.59-1.43-.59-.52 0-1.04.2-1.43.59L10.3 9.45l-7.72 7.72c-.78.78-.78 2.05 0 2.83L4 21.41c.39.39.9.59 1.41.59.51 0 1.02-.2 1.41-.59l7.78-7.78 2.81-2.81c.8-.78.8-2.07 0-2.86zM5.41 20L4 18.59l7.72-7.72 1.47 1.35L5.41 20z\"/>\n",
              "  </svg>\n",
              "      </button>\n",
              "      \n",
              "  <style>\n",
              "    .colab-df-container {\n",
              "      display:flex;\n",
              "      flex-wrap:wrap;\n",
              "      gap: 12px;\n",
              "    }\n",
              "\n",
              "    .colab-df-convert {\n",
              "      background-color: #E8F0FE;\n",
              "      border: none;\n",
              "      border-radius: 50%;\n",
              "      cursor: pointer;\n",
              "      display: none;\n",
              "      fill: #1967D2;\n",
              "      height: 32px;\n",
              "      padding: 0 0 0 0;\n",
              "      width: 32px;\n",
              "    }\n",
              "\n",
              "    .colab-df-convert:hover {\n",
              "      background-color: #E2EBFA;\n",
              "      box-shadow: 0px 1px 2px rgba(60, 64, 67, 0.3), 0px 1px 3px 1px rgba(60, 64, 67, 0.15);\n",
              "      fill: #174EA6;\n",
              "    }\n",
              "\n",
              "    [theme=dark] .colab-df-convert {\n",
              "      background-color: #3B4455;\n",
              "      fill: #D2E3FC;\n",
              "    }\n",
              "\n",
              "    [theme=dark] .colab-df-convert:hover {\n",
              "      background-color: #434B5C;\n",
              "      box-shadow: 0px 1px 3px 1px rgba(0, 0, 0, 0.15);\n",
              "      filter: drop-shadow(0px 1px 2px rgba(0, 0, 0, 0.3));\n",
              "      fill: #FFFFFF;\n",
              "    }\n",
              "  </style>\n",
              "\n",
              "      <script>\n",
              "        const buttonEl =\n",
              "          document.querySelector('#df-e0ad6e48-e646-4488-9c3e-e46af2b26bfa button.colab-df-convert');\n",
              "        buttonEl.style.display =\n",
              "          google.colab.kernel.accessAllowed ? 'block' : 'none';\n",
              "\n",
              "        async function convertToInteractive(key) {\n",
              "          const element = document.querySelector('#df-e0ad6e48-e646-4488-9c3e-e46af2b26bfa');\n",
              "          const dataTable =\n",
              "            await google.colab.kernel.invokeFunction('convertToInteractive',\n",
              "                                                     [key], {});\n",
              "          if (!dataTable) return;\n",
              "\n",
              "          const docLinkHtml = 'Like what you see? Visit the ' +\n",
              "            '<a target=\"_blank\" href=https://colab.research.google.com/notebooks/data_table.ipynb>data table notebook</a>'\n",
              "            + ' to learn more about interactive tables.';\n",
              "          element.innerHTML = '';\n",
              "          dataTable['output_type'] = 'display_data';\n",
              "          await google.colab.output.renderOutput(dataTable, element);\n",
              "          const docLink = document.createElement('div');\n",
              "          docLink.innerHTML = docLinkHtml;\n",
              "          element.appendChild(docLink);\n",
              "        }\n",
              "      </script>\n",
              "    </div>\n",
              "  </div>\n",
              "  "
            ]
          },
          "metadata": {},
          "execution_count": 41
        }
      ]
    },
    {
      "cell_type": "markdown",
      "source": [
        "Exercise 22 b) add the same column using pandas only"
      ],
      "metadata": {
        "id": "IxHCMso3-Lz_"
      }
    },
    {
      "cell_type": "code",
      "source": [
        "df_sales['Total2'] = df_sales['Price']+df_sales['Price'].mul(df_sales['Vat Rate'])\n",
        "df_sales"
      ],
      "metadata": {
        "id": "YGakF7ab-PIf",
        "colab": {
          "base_uri": "https://localhost:8080/",
          "height": 423
        },
        "outputId": "c919625d-7a84-4fda-8276-4f8a984448ea"
      },
      "execution_count": null,
      "outputs": [
        {
          "output_type": "execute_result",
          "data": {
            "text/plain": [
              "                      Product   Price        Date  Vat Rate      Total  \\\n",
              "0     For repair Cotton Pizza  356.00  2022-12-30      0.20   427.2000   \n",
              "1               Plastic Chair  909.56  2022-12-01      0.15  1045.9940   \n",
              "2                       Table  520.65  2022-10-23      0.20   624.7800   \n",
              "3               Plastic Salad  277.53  2022-11-01      0.20   333.0360   \n",
              "4                        Fish   89.94  2022-10-21      0.05    94.4370   \n",
              "...                       ...     ...         ...       ...        ...   \n",
              "9995                Soft Bike  311.18  2022-11-10      0.10   342.2980   \n",
              "9996              Wooden Tuna  726.36  2022-10-21      0.10   798.9960   \n",
              "9997   Practical Wooden Pizza  749.95  2023-01-19      0.15   862.4425   \n",
              "9998          Rubber Sausages  674.20  2022-11-05      0.20   809.0400   \n",
              "9999          Wooden Sausages  508.32  2023-01-08      0.05   533.7360   \n",
              "\n",
              "         Total2  \n",
              "0      427.2000  \n",
              "1     1045.9940  \n",
              "2      624.7800  \n",
              "3      333.0360  \n",
              "4       94.4370  \n",
              "...         ...  \n",
              "9995   342.2980  \n",
              "9996   798.9960  \n",
              "9997   862.4425  \n",
              "9998   809.0400  \n",
              "9999   533.7360  \n",
              "\n",
              "[10000 rows x 6 columns]"
            ],
            "text/html": [
              "\n",
              "  <div id=\"df-a8a4b061-ae8b-410d-a7c4-7bf121c1b054\">\n",
              "    <div class=\"colab-df-container\">\n",
              "      <div>\n",
              "<style scoped>\n",
              "    .dataframe tbody tr th:only-of-type {\n",
              "        vertical-align: middle;\n",
              "    }\n",
              "\n",
              "    .dataframe tbody tr th {\n",
              "        vertical-align: top;\n",
              "    }\n",
              "\n",
              "    .dataframe thead th {\n",
              "        text-align: right;\n",
              "    }\n",
              "</style>\n",
              "<table border=\"1\" class=\"dataframe\">\n",
              "  <thead>\n",
              "    <tr style=\"text-align: right;\">\n",
              "      <th></th>\n",
              "      <th>Product</th>\n",
              "      <th>Price</th>\n",
              "      <th>Date</th>\n",
              "      <th>Vat Rate</th>\n",
              "      <th>Total</th>\n",
              "      <th>Total2</th>\n",
              "    </tr>\n",
              "  </thead>\n",
              "  <tbody>\n",
              "    <tr>\n",
              "      <th>0</th>\n",
              "      <td>For repair Cotton Pizza</td>\n",
              "      <td>356.00</td>\n",
              "      <td>2022-12-30</td>\n",
              "      <td>0.20</td>\n",
              "      <td>427.2000</td>\n",
              "      <td>427.2000</td>\n",
              "    </tr>\n",
              "    <tr>\n",
              "      <th>1</th>\n",
              "      <td>Plastic Chair</td>\n",
              "      <td>909.56</td>\n",
              "      <td>2022-12-01</td>\n",
              "      <td>0.15</td>\n",
              "      <td>1045.9940</td>\n",
              "      <td>1045.9940</td>\n",
              "    </tr>\n",
              "    <tr>\n",
              "      <th>2</th>\n",
              "      <td>Table</td>\n",
              "      <td>520.65</td>\n",
              "      <td>2022-10-23</td>\n",
              "      <td>0.20</td>\n",
              "      <td>624.7800</td>\n",
              "      <td>624.7800</td>\n",
              "    </tr>\n",
              "    <tr>\n",
              "      <th>3</th>\n",
              "      <td>Plastic Salad</td>\n",
              "      <td>277.53</td>\n",
              "      <td>2022-11-01</td>\n",
              "      <td>0.20</td>\n",
              "      <td>333.0360</td>\n",
              "      <td>333.0360</td>\n",
              "    </tr>\n",
              "    <tr>\n",
              "      <th>4</th>\n",
              "      <td>Fish</td>\n",
              "      <td>89.94</td>\n",
              "      <td>2022-10-21</td>\n",
              "      <td>0.05</td>\n",
              "      <td>94.4370</td>\n",
              "      <td>94.4370</td>\n",
              "    </tr>\n",
              "    <tr>\n",
              "      <th>...</th>\n",
              "      <td>...</td>\n",
              "      <td>...</td>\n",
              "      <td>...</td>\n",
              "      <td>...</td>\n",
              "      <td>...</td>\n",
              "      <td>...</td>\n",
              "    </tr>\n",
              "    <tr>\n",
              "      <th>9995</th>\n",
              "      <td>Soft Bike</td>\n",
              "      <td>311.18</td>\n",
              "      <td>2022-11-10</td>\n",
              "      <td>0.10</td>\n",
              "      <td>342.2980</td>\n",
              "      <td>342.2980</td>\n",
              "    </tr>\n",
              "    <tr>\n",
              "      <th>9996</th>\n",
              "      <td>Wooden Tuna</td>\n",
              "      <td>726.36</td>\n",
              "      <td>2022-10-21</td>\n",
              "      <td>0.10</td>\n",
              "      <td>798.9960</td>\n",
              "      <td>798.9960</td>\n",
              "    </tr>\n",
              "    <tr>\n",
              "      <th>9997</th>\n",
              "      <td>Practical Wooden Pizza</td>\n",
              "      <td>749.95</td>\n",
              "      <td>2023-01-19</td>\n",
              "      <td>0.15</td>\n",
              "      <td>862.4425</td>\n",
              "      <td>862.4425</td>\n",
              "    </tr>\n",
              "    <tr>\n",
              "      <th>9998</th>\n",
              "      <td>Rubber Sausages</td>\n",
              "      <td>674.20</td>\n",
              "      <td>2022-11-05</td>\n",
              "      <td>0.20</td>\n",
              "      <td>809.0400</td>\n",
              "      <td>809.0400</td>\n",
              "    </tr>\n",
              "    <tr>\n",
              "      <th>9999</th>\n",
              "      <td>Wooden Sausages</td>\n",
              "      <td>508.32</td>\n",
              "      <td>2023-01-08</td>\n",
              "      <td>0.05</td>\n",
              "      <td>533.7360</td>\n",
              "      <td>533.7360</td>\n",
              "    </tr>\n",
              "  </tbody>\n",
              "</table>\n",
              "<p>10000 rows × 6 columns</p>\n",
              "</div>\n",
              "      <button class=\"colab-df-convert\" onclick=\"convertToInteractive('df-a8a4b061-ae8b-410d-a7c4-7bf121c1b054')\"\n",
              "              title=\"Convert this dataframe to an interactive table.\"\n",
              "              style=\"display:none;\">\n",
              "        \n",
              "  <svg xmlns=\"http://www.w3.org/2000/svg\" height=\"24px\"viewBox=\"0 0 24 24\"\n",
              "       width=\"24px\">\n",
              "    <path d=\"M0 0h24v24H0V0z\" fill=\"none\"/>\n",
              "    <path d=\"M18.56 5.44l.94 2.06.94-2.06 2.06-.94-2.06-.94-.94-2.06-.94 2.06-2.06.94zm-11 1L8.5 8.5l.94-2.06 2.06-.94-2.06-.94L8.5 2.5l-.94 2.06-2.06.94zm10 10l.94 2.06.94-2.06 2.06-.94-2.06-.94-.94-2.06-.94 2.06-2.06.94z\"/><path d=\"M17.41 7.96l-1.37-1.37c-.4-.4-.92-.59-1.43-.59-.52 0-1.04.2-1.43.59L10.3 9.45l-7.72 7.72c-.78.78-.78 2.05 0 2.83L4 21.41c.39.39.9.59 1.41.59.51 0 1.02-.2 1.41-.59l7.78-7.78 2.81-2.81c.8-.78.8-2.07 0-2.86zM5.41 20L4 18.59l7.72-7.72 1.47 1.35L5.41 20z\"/>\n",
              "  </svg>\n",
              "      </button>\n",
              "      \n",
              "  <style>\n",
              "    .colab-df-container {\n",
              "      display:flex;\n",
              "      flex-wrap:wrap;\n",
              "      gap: 12px;\n",
              "    }\n",
              "\n",
              "    .colab-df-convert {\n",
              "      background-color: #E8F0FE;\n",
              "      border: none;\n",
              "      border-radius: 50%;\n",
              "      cursor: pointer;\n",
              "      display: none;\n",
              "      fill: #1967D2;\n",
              "      height: 32px;\n",
              "      padding: 0 0 0 0;\n",
              "      width: 32px;\n",
              "    }\n",
              "\n",
              "    .colab-df-convert:hover {\n",
              "      background-color: #E2EBFA;\n",
              "      box-shadow: 0px 1px 2px rgba(60, 64, 67, 0.3), 0px 1px 3px 1px rgba(60, 64, 67, 0.15);\n",
              "      fill: #174EA6;\n",
              "    }\n",
              "\n",
              "    [theme=dark] .colab-df-convert {\n",
              "      background-color: #3B4455;\n",
              "      fill: #D2E3FC;\n",
              "    }\n",
              "\n",
              "    [theme=dark] .colab-df-convert:hover {\n",
              "      background-color: #434B5C;\n",
              "      box-shadow: 0px 1px 3px 1px rgba(0, 0, 0, 0.15);\n",
              "      filter: drop-shadow(0px 1px 2px rgba(0, 0, 0, 0.3));\n",
              "      fill: #FFFFFF;\n",
              "    }\n",
              "  </style>\n",
              "\n",
              "      <script>\n",
              "        const buttonEl =\n",
              "          document.querySelector('#df-a8a4b061-ae8b-410d-a7c4-7bf121c1b054 button.colab-df-convert');\n",
              "        buttonEl.style.display =\n",
              "          google.colab.kernel.accessAllowed ? 'block' : 'none';\n",
              "\n",
              "        async function convertToInteractive(key) {\n",
              "          const element = document.querySelector('#df-a8a4b061-ae8b-410d-a7c4-7bf121c1b054');\n",
              "          const dataTable =\n",
              "            await google.colab.kernel.invokeFunction('convertToInteractive',\n",
              "                                                     [key], {});\n",
              "          if (!dataTable) return;\n",
              "\n",
              "          const docLinkHtml = 'Like what you see? Visit the ' +\n",
              "            '<a target=\"_blank\" href=https://colab.research.google.com/notebooks/data_table.ipynb>data table notebook</a>'\n",
              "            + ' to learn more about interactive tables.';\n",
              "          element.innerHTML = '';\n",
              "          dataTable['output_type'] = 'display_data';\n",
              "          await google.colab.output.renderOutput(dataTable, element);\n",
              "          const docLink = document.createElement('div');\n",
              "          docLink.innerHTML = docLinkHtml;\n",
              "          element.appendChild(docLink);\n",
              "        }\n",
              "      </script>\n",
              "    </div>\n",
              "  </div>\n",
              "  "
            ]
          },
          "metadata": {},
          "execution_count": 44
        }
      ]
    },
    {
      "cell_type": "markdown",
      "source": [
        "Exercise 22 c) add the same column using numpy only"
      ],
      "metadata": {
        "id": "nUFQe2ka-Pi1"
      }
    },
    {
      "cell_type": "code",
      "source": [
        "df_sales.values"
      ],
      "metadata": {
        "id": "zu9q9Sa9-Slw",
        "colab": {
          "base_uri": "https://localhost:8080/"
        },
        "outputId": "2efaf2ee-37d1-4101-c8e7-f9b55287ce7e"
      },
      "execution_count": null,
      "outputs": [
        {
          "output_type": "execute_result",
          "data": {
            "text/plain": [
              "array([['For repair Cotton Pizza', 356.0, '2022-12-30', 0.2, 427.2,\n",
              "        427.2],\n",
              "       ['Plastic Chair', 909.56, '2022-12-01', 0.15, 1045.994, 1045.994],\n",
              "       ['Table', 520.65, '2022-10-23', 0.2, 624.78, 624.78],\n",
              "       ...,\n",
              "       ['Practical Wooden Pizza', 749.95, '2023-01-19', 0.15,\n",
              "        862.4425000000001, 862.4425000000001],\n",
              "       ['Rubber Sausages', 674.2, '2022-11-05', 0.2, 809.0400000000001,\n",
              "        809.0400000000001],\n",
              "       ['Wooden Sausages', 508.32, '2023-01-08', 0.05, 533.736, 533.736]],\n",
              "      dtype=object)"
            ]
          },
          "metadata": {},
          "execution_count": 45
        }
      ]
    },
    {
      "cell_type": "code",
      "source": [
        "df_sales.values[:,1:]"
      ],
      "metadata": {
        "colab": {
          "base_uri": "https://localhost:8080/"
        },
        "id": "I7sWRI-q9MwL",
        "outputId": "e46eee31-06d7-4db3-d0c5-0d4b861c3cad"
      },
      "execution_count": null,
      "outputs": [
        {
          "output_type": "execute_result",
          "data": {
            "text/plain": [
              "array([[356.0, '2022-12-30', 0.2, 427.2, 427.2],\n",
              "       [909.56, '2022-12-01', 0.15, 1045.994, 1045.994],\n",
              "       [520.65, '2022-10-23', 0.2, 624.78, 624.78],\n",
              "       ...,\n",
              "       [749.95, '2023-01-19', 0.15, 862.4425000000001, 862.4425000000001],\n",
              "       [674.2, '2022-11-05', 0.2, 809.0400000000001, 809.0400000000001],\n",
              "       [508.32, '2023-01-08', 0.05, 533.736, 533.736]], dtype=object)"
            ]
          },
          "metadata": {},
          "execution_count": 47
        }
      ]
    },
    {
      "cell_type": "code",
      "source": [
        "df_sales.loc[:, ['Price', 'Vat Rate']]"
      ],
      "metadata": {
        "colab": {
          "base_uri": "https://localhost:8080/",
          "height": 423
        },
        "id": "0zrAPvYdAUWw",
        "outputId": "02ef38a1-c39b-4608-ebd0-2324e811bf29"
      },
      "execution_count": null,
      "outputs": [
        {
          "output_type": "execute_result",
          "data": {
            "text/plain": [
              "       Price  Vat Rate\n",
              "0     356.00      0.20\n",
              "1     909.56      0.15\n",
              "2     520.65      0.20\n",
              "3     277.53      0.20\n",
              "4      89.94      0.05\n",
              "...      ...       ...\n",
              "9995  311.18      0.10\n",
              "9996  726.36      0.10\n",
              "9997  749.95      0.15\n",
              "9998  674.20      0.20\n",
              "9999  508.32      0.05\n",
              "\n",
              "[10000 rows x 2 columns]"
            ],
            "text/html": [
              "\n",
              "  <div id=\"df-c6584bb6-8952-4af0-994f-939aa973d15f\">\n",
              "    <div class=\"colab-df-container\">\n",
              "      <div>\n",
              "<style scoped>\n",
              "    .dataframe tbody tr th:only-of-type {\n",
              "        vertical-align: middle;\n",
              "    }\n",
              "\n",
              "    .dataframe tbody tr th {\n",
              "        vertical-align: top;\n",
              "    }\n",
              "\n",
              "    .dataframe thead th {\n",
              "        text-align: right;\n",
              "    }\n",
              "</style>\n",
              "<table border=\"1\" class=\"dataframe\">\n",
              "  <thead>\n",
              "    <tr style=\"text-align: right;\">\n",
              "      <th></th>\n",
              "      <th>Price</th>\n",
              "      <th>Vat Rate</th>\n",
              "    </tr>\n",
              "  </thead>\n",
              "  <tbody>\n",
              "    <tr>\n",
              "      <th>0</th>\n",
              "      <td>356.00</td>\n",
              "      <td>0.20</td>\n",
              "    </tr>\n",
              "    <tr>\n",
              "      <th>1</th>\n",
              "      <td>909.56</td>\n",
              "      <td>0.15</td>\n",
              "    </tr>\n",
              "    <tr>\n",
              "      <th>2</th>\n",
              "      <td>520.65</td>\n",
              "      <td>0.20</td>\n",
              "    </tr>\n",
              "    <tr>\n",
              "      <th>3</th>\n",
              "      <td>277.53</td>\n",
              "      <td>0.20</td>\n",
              "    </tr>\n",
              "    <tr>\n",
              "      <th>4</th>\n",
              "      <td>89.94</td>\n",
              "      <td>0.05</td>\n",
              "    </tr>\n",
              "    <tr>\n",
              "      <th>...</th>\n",
              "      <td>...</td>\n",
              "      <td>...</td>\n",
              "    </tr>\n",
              "    <tr>\n",
              "      <th>9995</th>\n",
              "      <td>311.18</td>\n",
              "      <td>0.10</td>\n",
              "    </tr>\n",
              "    <tr>\n",
              "      <th>9996</th>\n",
              "      <td>726.36</td>\n",
              "      <td>0.10</td>\n",
              "    </tr>\n",
              "    <tr>\n",
              "      <th>9997</th>\n",
              "      <td>749.95</td>\n",
              "      <td>0.15</td>\n",
              "    </tr>\n",
              "    <tr>\n",
              "      <th>9998</th>\n",
              "      <td>674.20</td>\n",
              "      <td>0.20</td>\n",
              "    </tr>\n",
              "    <tr>\n",
              "      <th>9999</th>\n",
              "      <td>508.32</td>\n",
              "      <td>0.05</td>\n",
              "    </tr>\n",
              "  </tbody>\n",
              "</table>\n",
              "<p>10000 rows × 2 columns</p>\n",
              "</div>\n",
              "      <button class=\"colab-df-convert\" onclick=\"convertToInteractive('df-c6584bb6-8952-4af0-994f-939aa973d15f')\"\n",
              "              title=\"Convert this dataframe to an interactive table.\"\n",
              "              style=\"display:none;\">\n",
              "        \n",
              "  <svg xmlns=\"http://www.w3.org/2000/svg\" height=\"24px\"viewBox=\"0 0 24 24\"\n",
              "       width=\"24px\">\n",
              "    <path d=\"M0 0h24v24H0V0z\" fill=\"none\"/>\n",
              "    <path d=\"M18.56 5.44l.94 2.06.94-2.06 2.06-.94-2.06-.94-.94-2.06-.94 2.06-2.06.94zm-11 1L8.5 8.5l.94-2.06 2.06-.94-2.06-.94L8.5 2.5l-.94 2.06-2.06.94zm10 10l.94 2.06.94-2.06 2.06-.94-2.06-.94-.94-2.06-.94 2.06-2.06.94z\"/><path d=\"M17.41 7.96l-1.37-1.37c-.4-.4-.92-.59-1.43-.59-.52 0-1.04.2-1.43.59L10.3 9.45l-7.72 7.72c-.78.78-.78 2.05 0 2.83L4 21.41c.39.39.9.59 1.41.59.51 0 1.02-.2 1.41-.59l7.78-7.78 2.81-2.81c.8-.78.8-2.07 0-2.86zM5.41 20L4 18.59l7.72-7.72 1.47 1.35L5.41 20z\"/>\n",
              "  </svg>\n",
              "      </button>\n",
              "      \n",
              "  <style>\n",
              "    .colab-df-container {\n",
              "      display:flex;\n",
              "      flex-wrap:wrap;\n",
              "      gap: 12px;\n",
              "    }\n",
              "\n",
              "    .colab-df-convert {\n",
              "      background-color: #E8F0FE;\n",
              "      border: none;\n",
              "      border-radius: 50%;\n",
              "      cursor: pointer;\n",
              "      display: none;\n",
              "      fill: #1967D2;\n",
              "      height: 32px;\n",
              "      padding: 0 0 0 0;\n",
              "      width: 32px;\n",
              "    }\n",
              "\n",
              "    .colab-df-convert:hover {\n",
              "      background-color: #E2EBFA;\n",
              "      box-shadow: 0px 1px 2px rgba(60, 64, 67, 0.3), 0px 1px 3px 1px rgba(60, 64, 67, 0.15);\n",
              "      fill: #174EA6;\n",
              "    }\n",
              "\n",
              "    [theme=dark] .colab-df-convert {\n",
              "      background-color: #3B4455;\n",
              "      fill: #D2E3FC;\n",
              "    }\n",
              "\n",
              "    [theme=dark] .colab-df-convert:hover {\n",
              "      background-color: #434B5C;\n",
              "      box-shadow: 0px 1px 3px 1px rgba(0, 0, 0, 0.15);\n",
              "      filter: drop-shadow(0px 1px 2px rgba(0, 0, 0, 0.3));\n",
              "      fill: #FFFFFF;\n",
              "    }\n",
              "  </style>\n",
              "\n",
              "      <script>\n",
              "        const buttonEl =\n",
              "          document.querySelector('#df-c6584bb6-8952-4af0-994f-939aa973d15f button.colab-df-convert');\n",
              "        buttonEl.style.display =\n",
              "          google.colab.kernel.accessAllowed ? 'block' : 'none';\n",
              "\n",
              "        async function convertToInteractive(key) {\n",
              "          const element = document.querySelector('#df-c6584bb6-8952-4af0-994f-939aa973d15f');\n",
              "          const dataTable =\n",
              "            await google.colab.kernel.invokeFunction('convertToInteractive',\n",
              "                                                     [key], {});\n",
              "          if (!dataTable) return;\n",
              "\n",
              "          const docLinkHtml = 'Like what you see? Visit the ' +\n",
              "            '<a target=\"_blank\" href=https://colab.research.google.com/notebooks/data_table.ipynb>data table notebook</a>'\n",
              "            + ' to learn more about interactive tables.';\n",
              "          element.innerHTML = '';\n",
              "          dataTable['output_type'] = 'display_data';\n",
              "          await google.colab.output.renderOutput(dataTable, element);\n",
              "          const docLink = document.createElement('div');\n",
              "          docLink.innerHTML = docLinkHtml;\n",
              "          element.appendChild(docLink);\n",
              "        }\n",
              "      </script>\n",
              "    </div>\n",
              "  </div>\n",
              "  "
            ]
          },
          "metadata": {},
          "execution_count": 65
        }
      ]
    },
    {
      "cell_type": "code",
      "source": [
        "np.price = df_sales.loc[:, ['Price']]\n",
        "np.vatRate = df_sales.loc[:, ['Vat Rate']]"
      ],
      "metadata": {
        "id": "1oM-9dadBNrH"
      },
      "execution_count": null,
      "outputs": []
    },
    {
      "cell_type": "code",
      "source": [
        "np.price.values"
      ],
      "metadata": {
        "colab": {
          "base_uri": "https://localhost:8080/"
        },
        "id": "Rq7EP3K1BWA4",
        "outputId": "cdfbf100-c6b6-47aa-cf22-2e74d3ed9b98"
      },
      "execution_count": null,
      "outputs": [
        {
          "output_type": "execute_result",
          "data": {
            "text/plain": [
              "array([[356.  ],\n",
              "       [909.56],\n",
              "       [520.65],\n",
              "       ...,\n",
              "       [749.95],\n",
              "       [674.2 ],\n",
              "       [508.32]])"
            ]
          },
          "metadata": {},
          "execution_count": 77
        }
      ]
    },
    {
      "cell_type": "code",
      "source": [
        "np.vatRate.values"
      ],
      "metadata": {
        "colab": {
          "base_uri": "https://localhost:8080/"
        },
        "id": "QJrtiDbVDTfB",
        "outputId": "f3357c65-d5d3-4cca-d648-c1d0908976f9"
      },
      "execution_count": null,
      "outputs": [
        {
          "output_type": "execute_result",
          "data": {
            "text/plain": [
              "array([[0.2 ],\n",
              "       [0.15],\n",
              "       [0.2 ],\n",
              "       ...,\n",
              "       [0.15],\n",
              "       [0.2 ],\n",
              "       [0.05]])"
            ]
          },
          "metadata": {},
          "execution_count": 78
        }
      ]
    },
    {
      "cell_type": "code",
      "source": [
        "np.price.values+np.price.values*np.vatRate.values"
      ],
      "metadata": {
        "colab": {
          "base_uri": "https://localhost:8080/"
        },
        "id": "a--7Je57DqSV",
        "outputId": "50a0537b-3f57-4d68-e1fe-8172d55b8ec0"
      },
      "execution_count": null,
      "outputs": [
        {
          "output_type": "execute_result",
          "data": {
            "text/plain": [
              "array([[ 427.2   ],\n",
              "       [1045.994 ],\n",
              "       [ 624.78  ],\n",
              "       ...,\n",
              "       [ 862.4425],\n",
              "       [ 809.04  ],\n",
              "       [ 533.736 ]])"
            ]
          },
          "metadata": {},
          "execution_count": 79
        }
      ]
    },
    {
      "cell_type": "code",
      "source": [
        "df_sales['Total3'] = np.price.values+np.price.values*np.vatRate.values\n",
        "df_sales\n"
      ],
      "metadata": {
        "colab": {
          "base_uri": "https://localhost:8080/",
          "height": 423
        },
        "id": "G7b1v7DaB714",
        "outputId": "242924fb-6d35-4818-d77a-00761ceedcb4"
      },
      "execution_count": null,
      "outputs": [
        {
          "output_type": "execute_result",
          "data": {
            "text/plain": [
              "                      Product   Price        Date  Vat Rate      Total  \\\n",
              "0     For repair Cotton Pizza  356.00  2022-12-30      0.20   427.2000   \n",
              "1               Plastic Chair  909.56  2022-12-01      0.15  1045.9940   \n",
              "2                       Table  520.65  2022-10-23      0.20   624.7800   \n",
              "3               Plastic Salad  277.53  2022-11-01      0.20   333.0360   \n",
              "4                        Fish   89.94  2022-10-21      0.05    94.4370   \n",
              "...                       ...     ...         ...       ...        ...   \n",
              "9995                Soft Bike  311.18  2022-11-10      0.10   342.2980   \n",
              "9996              Wooden Tuna  726.36  2022-10-21      0.10   798.9960   \n",
              "9997   Practical Wooden Pizza  749.95  2023-01-19      0.15   862.4425   \n",
              "9998          Rubber Sausages  674.20  2022-11-05      0.20   809.0400   \n",
              "9999          Wooden Sausages  508.32  2023-01-08      0.05   533.7360   \n",
              "\n",
              "         Total2     Total3  \n",
              "0      427.2000   427.2000  \n",
              "1     1045.9940  1045.9940  \n",
              "2      624.7800   624.7800  \n",
              "3      333.0360   333.0360  \n",
              "4       94.4370    94.4370  \n",
              "...         ...        ...  \n",
              "9995   342.2980   342.2980  \n",
              "9996   798.9960   798.9960  \n",
              "9997   862.4425   862.4425  \n",
              "9998   809.0400   809.0400  \n",
              "9999   533.7360   533.7360  \n",
              "\n",
              "[10000 rows x 7 columns]"
            ],
            "text/html": [
              "\n",
              "  <div id=\"df-76f937cb-cfcb-4b4b-8ab7-4a7398c54557\">\n",
              "    <div class=\"colab-df-container\">\n",
              "      <div>\n",
              "<style scoped>\n",
              "    .dataframe tbody tr th:only-of-type {\n",
              "        vertical-align: middle;\n",
              "    }\n",
              "\n",
              "    .dataframe tbody tr th {\n",
              "        vertical-align: top;\n",
              "    }\n",
              "\n",
              "    .dataframe thead th {\n",
              "        text-align: right;\n",
              "    }\n",
              "</style>\n",
              "<table border=\"1\" class=\"dataframe\">\n",
              "  <thead>\n",
              "    <tr style=\"text-align: right;\">\n",
              "      <th></th>\n",
              "      <th>Product</th>\n",
              "      <th>Price</th>\n",
              "      <th>Date</th>\n",
              "      <th>Vat Rate</th>\n",
              "      <th>Total</th>\n",
              "      <th>Total2</th>\n",
              "      <th>Total3</th>\n",
              "    </tr>\n",
              "  </thead>\n",
              "  <tbody>\n",
              "    <tr>\n",
              "      <th>0</th>\n",
              "      <td>For repair Cotton Pizza</td>\n",
              "      <td>356.00</td>\n",
              "      <td>2022-12-30</td>\n",
              "      <td>0.20</td>\n",
              "      <td>427.2000</td>\n",
              "      <td>427.2000</td>\n",
              "      <td>427.2000</td>\n",
              "    </tr>\n",
              "    <tr>\n",
              "      <th>1</th>\n",
              "      <td>Plastic Chair</td>\n",
              "      <td>909.56</td>\n",
              "      <td>2022-12-01</td>\n",
              "      <td>0.15</td>\n",
              "      <td>1045.9940</td>\n",
              "      <td>1045.9940</td>\n",
              "      <td>1045.9940</td>\n",
              "    </tr>\n",
              "    <tr>\n",
              "      <th>2</th>\n",
              "      <td>Table</td>\n",
              "      <td>520.65</td>\n",
              "      <td>2022-10-23</td>\n",
              "      <td>0.20</td>\n",
              "      <td>624.7800</td>\n",
              "      <td>624.7800</td>\n",
              "      <td>624.7800</td>\n",
              "    </tr>\n",
              "    <tr>\n",
              "      <th>3</th>\n",
              "      <td>Plastic Salad</td>\n",
              "      <td>277.53</td>\n",
              "      <td>2022-11-01</td>\n",
              "      <td>0.20</td>\n",
              "      <td>333.0360</td>\n",
              "      <td>333.0360</td>\n",
              "      <td>333.0360</td>\n",
              "    </tr>\n",
              "    <tr>\n",
              "      <th>4</th>\n",
              "      <td>Fish</td>\n",
              "      <td>89.94</td>\n",
              "      <td>2022-10-21</td>\n",
              "      <td>0.05</td>\n",
              "      <td>94.4370</td>\n",
              "      <td>94.4370</td>\n",
              "      <td>94.4370</td>\n",
              "    </tr>\n",
              "    <tr>\n",
              "      <th>...</th>\n",
              "      <td>...</td>\n",
              "      <td>...</td>\n",
              "      <td>...</td>\n",
              "      <td>...</td>\n",
              "      <td>...</td>\n",
              "      <td>...</td>\n",
              "      <td>...</td>\n",
              "    </tr>\n",
              "    <tr>\n",
              "      <th>9995</th>\n",
              "      <td>Soft Bike</td>\n",
              "      <td>311.18</td>\n",
              "      <td>2022-11-10</td>\n",
              "      <td>0.10</td>\n",
              "      <td>342.2980</td>\n",
              "      <td>342.2980</td>\n",
              "      <td>342.2980</td>\n",
              "    </tr>\n",
              "    <tr>\n",
              "      <th>9996</th>\n",
              "      <td>Wooden Tuna</td>\n",
              "      <td>726.36</td>\n",
              "      <td>2022-10-21</td>\n",
              "      <td>0.10</td>\n",
              "      <td>798.9960</td>\n",
              "      <td>798.9960</td>\n",
              "      <td>798.9960</td>\n",
              "    </tr>\n",
              "    <tr>\n",
              "      <th>9997</th>\n",
              "      <td>Practical Wooden Pizza</td>\n",
              "      <td>749.95</td>\n",
              "      <td>2023-01-19</td>\n",
              "      <td>0.15</td>\n",
              "      <td>862.4425</td>\n",
              "      <td>862.4425</td>\n",
              "      <td>862.4425</td>\n",
              "    </tr>\n",
              "    <tr>\n",
              "      <th>9998</th>\n",
              "      <td>Rubber Sausages</td>\n",
              "      <td>674.20</td>\n",
              "      <td>2022-11-05</td>\n",
              "      <td>0.20</td>\n",
              "      <td>809.0400</td>\n",
              "      <td>809.0400</td>\n",
              "      <td>809.0400</td>\n",
              "    </tr>\n",
              "    <tr>\n",
              "      <th>9999</th>\n",
              "      <td>Wooden Sausages</td>\n",
              "      <td>508.32</td>\n",
              "      <td>2023-01-08</td>\n",
              "      <td>0.05</td>\n",
              "      <td>533.7360</td>\n",
              "      <td>533.7360</td>\n",
              "      <td>533.7360</td>\n",
              "    </tr>\n",
              "  </tbody>\n",
              "</table>\n",
              "<p>10000 rows × 7 columns</p>\n",
              "</div>\n",
              "      <button class=\"colab-df-convert\" onclick=\"convertToInteractive('df-76f937cb-cfcb-4b4b-8ab7-4a7398c54557')\"\n",
              "              title=\"Convert this dataframe to an interactive table.\"\n",
              "              style=\"display:none;\">\n",
              "        \n",
              "  <svg xmlns=\"http://www.w3.org/2000/svg\" height=\"24px\"viewBox=\"0 0 24 24\"\n",
              "       width=\"24px\">\n",
              "    <path d=\"M0 0h24v24H0V0z\" fill=\"none\"/>\n",
              "    <path d=\"M18.56 5.44l.94 2.06.94-2.06 2.06-.94-2.06-.94-.94-2.06-.94 2.06-2.06.94zm-11 1L8.5 8.5l.94-2.06 2.06-.94-2.06-.94L8.5 2.5l-.94 2.06-2.06.94zm10 10l.94 2.06.94-2.06 2.06-.94-2.06-.94-.94-2.06-.94 2.06-2.06.94z\"/><path d=\"M17.41 7.96l-1.37-1.37c-.4-.4-.92-.59-1.43-.59-.52 0-1.04.2-1.43.59L10.3 9.45l-7.72 7.72c-.78.78-.78 2.05 0 2.83L4 21.41c.39.39.9.59 1.41.59.51 0 1.02-.2 1.41-.59l7.78-7.78 2.81-2.81c.8-.78.8-2.07 0-2.86zM5.41 20L4 18.59l7.72-7.72 1.47 1.35L5.41 20z\"/>\n",
              "  </svg>\n",
              "      </button>\n",
              "      \n",
              "  <style>\n",
              "    .colab-df-container {\n",
              "      display:flex;\n",
              "      flex-wrap:wrap;\n",
              "      gap: 12px;\n",
              "    }\n",
              "\n",
              "    .colab-df-convert {\n",
              "      background-color: #E8F0FE;\n",
              "      border: none;\n",
              "      border-radius: 50%;\n",
              "      cursor: pointer;\n",
              "      display: none;\n",
              "      fill: #1967D2;\n",
              "      height: 32px;\n",
              "      padding: 0 0 0 0;\n",
              "      width: 32px;\n",
              "    }\n",
              "\n",
              "    .colab-df-convert:hover {\n",
              "      background-color: #E2EBFA;\n",
              "      box-shadow: 0px 1px 2px rgba(60, 64, 67, 0.3), 0px 1px 3px 1px rgba(60, 64, 67, 0.15);\n",
              "      fill: #174EA6;\n",
              "    }\n",
              "\n",
              "    [theme=dark] .colab-df-convert {\n",
              "      background-color: #3B4455;\n",
              "      fill: #D2E3FC;\n",
              "    }\n",
              "\n",
              "    [theme=dark] .colab-df-convert:hover {\n",
              "      background-color: #434B5C;\n",
              "      box-shadow: 0px 1px 3px 1px rgba(0, 0, 0, 0.15);\n",
              "      filter: drop-shadow(0px 1px 2px rgba(0, 0, 0, 0.3));\n",
              "      fill: #FFFFFF;\n",
              "    }\n",
              "  </style>\n",
              "\n",
              "      <script>\n",
              "        const buttonEl =\n",
              "          document.querySelector('#df-76f937cb-cfcb-4b4b-8ab7-4a7398c54557 button.colab-df-convert');\n",
              "        buttonEl.style.display =\n",
              "          google.colab.kernel.accessAllowed ? 'block' : 'none';\n",
              "\n",
              "        async function convertToInteractive(key) {\n",
              "          const element = document.querySelector('#df-76f937cb-cfcb-4b4b-8ab7-4a7398c54557');\n",
              "          const dataTable =\n",
              "            await google.colab.kernel.invokeFunction('convertToInteractive',\n",
              "                                                     [key], {});\n",
              "          if (!dataTable) return;\n",
              "\n",
              "          const docLinkHtml = 'Like what you see? Visit the ' +\n",
              "            '<a target=\"_blank\" href=https://colab.research.google.com/notebooks/data_table.ipynb>data table notebook</a>'\n",
              "            + ' to learn more about interactive tables.';\n",
              "          element.innerHTML = '';\n",
              "          dataTable['output_type'] = 'display_data';\n",
              "          await google.colab.output.renderOutput(dataTable, element);\n",
              "          const docLink = document.createElement('div');\n",
              "          docLink.innerHTML = docLinkHtml;\n",
              "          element.appendChild(docLink);\n",
              "        }\n",
              "      </script>\n",
              "    </div>\n",
              "  </div>\n",
              "  "
            ]
          },
          "metadata": {},
          "execution_count": 80
        }
      ]
    }
  ]
}