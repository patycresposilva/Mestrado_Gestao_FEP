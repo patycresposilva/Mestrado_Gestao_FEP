{
  "nbformat": 4,
  "nbformat_minor": 0,
  "metadata": {
    "colab": {
      "provenance": []
    },
    "kernelspec": {
      "name": "python3",
      "display_name": "Python 3"
    },
    "language_info": {
      "name": "python"
    }
  },
  "cells": [
    {
      "cell_type": "markdown",
      "source": [
        "Types of Variables"
      ],
      "metadata": {
        "id": "wAvw1rQ9PsKU"
      }
    },
    {
      "cell_type": "code",
      "source": [
        "x = 10\n",
        "x"
      ],
      "metadata": {
        "colab": {
          "base_uri": "https://localhost:8080/"
        },
        "id": "oQHY8rArPy-q",
        "outputId": "69c43047-88f3-4972-b896-5224dc5aab92"
      },
      "execution_count": null,
      "outputs": [
        {
          "output_type": "execute_result",
          "data": {
            "text/plain": [
              "10"
            ]
          },
          "metadata": {},
          "execution_count": 1
        }
      ]
    },
    {
      "cell_type": "code",
      "source": [
        "x = 2.3\n",
        "x"
      ],
      "metadata": {
        "colab": {
          "base_uri": "https://localhost:8080/"
        },
        "id": "wJysVn9XQKqW",
        "outputId": "0291a1ad-3bd4-4808-a06c-52bee57ef0a1"
      },
      "execution_count": null,
      "outputs": [
        {
          "output_type": "execute_result",
          "data": {
            "text/plain": [
              "2.3"
            ]
          },
          "metadata": {},
          "execution_count": 2
        }
      ]
    },
    {
      "cell_type": "code",
      "source": [
        "type(x)"
      ],
      "metadata": {
        "colab": {
          "base_uri": "https://localhost:8080/"
        },
        "id": "pAHXjMDLQVBf",
        "outputId": "0d3c5fa4-2e60-4455-a4c6-9b4163185b01"
      },
      "execution_count": null,
      "outputs": [
        {
          "output_type": "execute_result",
          "data": {
            "text/plain": [
              "float"
            ]
          },
          "metadata": {},
          "execution_count": 3
        }
      ]
    },
    {
      "cell_type": "code",
      "source": [
        "x = 10"
      ],
      "metadata": {
        "id": "trZG2t2RQZXI"
      },
      "execution_count": null,
      "outputs": []
    },
    {
      "cell_type": "code",
      "source": [
        "type(x)"
      ],
      "metadata": {
        "colab": {
          "base_uri": "https://localhost:8080/"
        },
        "id": "Luwd3z1mRG80",
        "outputId": "1711d342-0298-4035-9384-60846644187b"
      },
      "execution_count": null,
      "outputs": [
        {
          "output_type": "execute_result",
          "data": {
            "text/plain": [
              "int"
            ]
          },
          "metadata": {},
          "execution_count": 5
        }
      ]
    },
    {
      "cell_type": "code",
      "source": [
        "x = (10, 5, 13, 7, 21, 22)\n",
        "x"
      ],
      "metadata": {
        "colab": {
          "base_uri": "https://localhost:8080/"
        },
        "id": "JBiCqkrkRhZi",
        "outputId": "c36522a1-fca4-4a00-ebb9-e7db24947129"
      },
      "execution_count": null,
      "outputs": [
        {
          "output_type": "execute_result",
          "data": {
            "text/plain": [
              "(10, 5, 13, 7, 21, 22)"
            ]
          },
          "metadata": {},
          "execution_count": 6
        }
      ]
    },
    {
      "cell_type": "code",
      "source": [
        "x[0]"
      ],
      "metadata": {
        "colab": {
          "base_uri": "https://localhost:8080/"
        },
        "id": "B90Z2XoDRxhX",
        "outputId": "89dd6aba-d2ed-4611-c50d-af2b5e794c57"
      },
      "execution_count": null,
      "outputs": [
        {
          "output_type": "execute_result",
          "data": {
            "text/plain": [
              "10"
            ]
          },
          "metadata": {},
          "execution_count": 7
        }
      ]
    },
    {
      "cell_type": "code",
      "source": [
        "y = True"
      ],
      "metadata": {
        "id": "asruF2aiS0lS"
      },
      "execution_count": null,
      "outputs": []
    },
    {
      "cell_type": "code",
      "source": [
        "y=True"
      ],
      "metadata": {
        "id": "KTdim4DlTZI_"
      },
      "execution_count": null,
      "outputs": []
    },
    {
      "cell_type": "code",
      "source": [
        "type(y)"
      ],
      "metadata": {
        "colab": {
          "base_uri": "https://localhost:8080/"
        },
        "id": "02yzboAQTei9",
        "outputId": "71b3f0a4-b473-438c-e896-ffedbde9bd9c"
      },
      "execution_count": null,
      "outputs": [
        {
          "output_type": "execute_result",
          "data": {
            "text/plain": [
              "bool"
            ]
          },
          "metadata": {},
          "execution_count": 12
        }
      ]
    },
    {
      "cell_type": "code",
      "source": [
        "x=[2, 0, 9, 10]"
      ],
      "metadata": {
        "id": "PStHT6GYTicv"
      },
      "execution_count": null,
      "outputs": []
    },
    {
      "cell_type": "code",
      "source": [
        "x[0]"
      ],
      "metadata": {
        "colab": {
          "base_uri": "https://localhost:8080/"
        },
        "id": "quW4ZvRLTp5Q",
        "outputId": "61a7aab1-6f76-456c-e3f9-6cf5aeb9dd48"
      },
      "execution_count": null,
      "outputs": [
        {
          "output_type": "execute_result",
          "data": {
            "text/plain": [
              "2"
            ]
          },
          "metadata": {},
          "execution_count": 14
        }
      ]
    },
    {
      "cell_type": "code",
      "source": [
        "x[-1]"
      ],
      "metadata": {
        "colab": {
          "base_uri": "https://localhost:8080/"
        },
        "id": "ka1agXfITrdk",
        "outputId": "e26ccdf4-9672-481c-bd5f-ca22b746cf67"
      },
      "execution_count": null,
      "outputs": [
        {
          "output_type": "execute_result",
          "data": {
            "text/plain": [
              "10"
            ]
          },
          "metadata": {},
          "execution_count": 15
        }
      ]
    },
    {
      "cell_type": "code",
      "source": [
        "x[3]"
      ],
      "metadata": {
        "colab": {
          "base_uri": "https://localhost:8080/"
        },
        "id": "8yWCT25nTtpb",
        "outputId": "5d7da8be-12ba-4a08-de8c-33e20e3fa80e"
      },
      "execution_count": null,
      "outputs": [
        {
          "output_type": "execute_result",
          "data": {
            "text/plain": [
              "10"
            ]
          },
          "metadata": {},
          "execution_count": 16
        }
      ]
    },
    {
      "cell_type": "code",
      "source": [
        "x[1:]"
      ],
      "metadata": {
        "colab": {
          "base_uri": "https://localhost:8080/"
        },
        "id": "UC4phSBTTxWv",
        "outputId": "0361936f-2e8b-4b4d-84cf-75f973e89695"
      },
      "execution_count": null,
      "outputs": [
        {
          "output_type": "execute_result",
          "data": {
            "text/plain": [
              "[0, 9, 10]"
            ]
          },
          "metadata": {},
          "execution_count": 17
        }
      ]
    },
    {
      "cell_type": "code",
      "source": [
        "x[1:3]"
      ],
      "metadata": {
        "colab": {
          "base_uri": "https://localhost:8080/"
        },
        "id": "xcsKaERVT3Iu",
        "outputId": "9be08985-151b-4b90-e725-d65e16a15522"
      },
      "execution_count": null,
      "outputs": [
        {
          "output_type": "execute_result",
          "data": {
            "text/plain": [
              "[0, 9]"
            ]
          },
          "metadata": {},
          "execution_count": 19
        }
      ]
    },
    {
      "cell_type": "markdown",
      "source": [
        "EXERCISE 1"
      ],
      "metadata": {
        "id": "7xomF0LcUCGd"
      }
    },
    {
      "cell_type": "code",
      "source": [
        "print (\"Hello World!\")"
      ],
      "metadata": {
        "id": "5zyeI3QuXUpp",
        "colab": {
          "base_uri": "https://localhost:8080/"
        },
        "outputId": "49681b05-0fc6-44be-d169-94422b18beb9"
      },
      "execution_count": null,
      "outputs": [
        {
          "output_type": "stream",
          "name": "stdout",
          "text": [
            "Hello World!\n"
          ]
        }
      ]
    },
    {
      "cell_type": "markdown",
      "source": [
        "LISTS"
      ],
      "metadata": {
        "id": "R86gRfn0XmWV"
      }
    },
    {
      "cell_type": "code",
      "source": [
        "list(range(10))"
      ],
      "metadata": {
        "colab": {
          "base_uri": "https://localhost:8080/"
        },
        "id": "8siylUCTYMpX",
        "outputId": "2b27650d-beaf-4ce7-8691-de3ea5fccc8b"
      },
      "execution_count": null,
      "outputs": [
        {
          "output_type": "execute_result",
          "data": {
            "text/plain": [
              "[0, 1, 2, 3, 4, 5, 6, 7, 8, 9]"
            ]
          },
          "metadata": {},
          "execution_count": 31
        }
      ]
    },
    {
      "cell_type": "markdown",
      "source": [
        "FOR loop"
      ],
      "metadata": {
        "id": "gnMDvjihXnul"
      }
    },
    {
      "cell_type": "code",
      "source": [
        "names = ['Mary', 'John', 'Catherine']\n",
        "marks = [9, 18, 19]"
      ],
      "metadata": {
        "id": "jy4m6nehWH6V"
      },
      "execution_count": null,
      "outputs": []
    },
    {
      "cell_type": "code",
      "source": [
        "print (f'The score of {names[0]} is {marks[0]}')"
      ],
      "metadata": {
        "colab": {
          "base_uri": "https://localhost:8080/"
        },
        "id": "lQFVuHYYYGB7",
        "outputId": "287d5d4c-0e8d-402f-e468-a25d7595ad02"
      },
      "execution_count": null,
      "outputs": [
        {
          "output_type": "stream",
          "name": "stdout",
          "text": [
            "The score of Mary is 9\n"
          ]
        }
      ]
    },
    {
      "cell_type": "code",
      "source": [
        "for i in range (len(names)):\n",
        "  print(i)"
      ],
      "metadata": {
        "colab": {
          "base_uri": "https://localhost:8080/"
        },
        "id": "7yq0Lx99ZBdn",
        "outputId": "f61acdde-e360-4deb-ca2f-9fbeca7de85a"
      },
      "execution_count": null,
      "outputs": [
        {
          "output_type": "stream",
          "name": "stdout",
          "text": [
            "0\n",
            "1\n",
            "2\n"
          ]
        }
      ]
    },
    {
      "cell_type": "code",
      "source": [
        "for i in range (len(names)):\n",
        "  print(f'The score of {names[i]} is {marks[i]}')"
      ],
      "metadata": {
        "colab": {
          "base_uri": "https://localhost:8080/"
        },
        "id": "eLBI3fhbZUEL",
        "outputId": "55a856ab-3886-4469-a7fa-9d5636f75a0f"
      },
      "execution_count": null,
      "outputs": [
        {
          "output_type": "stream",
          "name": "stdout",
          "text": [
            "The score of Mary is 9\n",
            "The score of John is 18\n",
            "The score of Catherine is 19\n"
          ]
        }
      ]
    },
    {
      "cell_type": "code",
      "source": [
        "for i in range(len(names)):\n",
        "  if(marks[i] < 10):\n",
        "    greating = 'Keep studying'\n",
        "  else:\n",
        "    greating = 'Congratulations!'\n",
        "\n",
        "print (f'The score of {names[i]} is {marks[i]}, {greating}')"
      ],
      "metadata": {
        "colab": {
          "base_uri": "https://localhost:8080/"
        },
        "id": "XGtojFnIaRq3",
        "outputId": "895025f6-55d7-4e52-f5bb-eea1c7180238"
      },
      "execution_count": null,
      "outputs": [
        {
          "output_type": "stream",
          "name": "stdout",
          "text": [
            "The score of Catherine is 19, Congratulations!\n"
          ]
        }
      ]
    },
    {
      "cell_type": "code",
      "source": [
        "names = ['Mary', 'John', 'Catherine']\n",
        "course1 = [15, 18, 19]\n",
        "course2 = [18, 19, 14]\n",
        "course3 = [14, 16, 17]\n",
        "credits = [6, 4.5, 3] # of the above courses, respectively"
      ],
      "metadata": {
        "id": "oZpP2blRhcas"
      },
      "execution_count": null,
      "outputs": []
    },
    {
      "cell_type": "code",
      "source": [
        "w_ave_mary = round((course1[0]*credits[0] +\n",
        "              course2[0]*credits[1] +\n",
        "              course3[0]*credits[2]) /sum(credits), 2)\n",
        "w_ave_mary"
      ],
      "metadata": {
        "colab": {
          "base_uri": "https://localhost:8080/"
        },
        "id": "1IVJ6gVTfhjE",
        "outputId": "fb4c145f-9dde-4354-afe6-f3d2503b1776"
      },
      "execution_count": null,
      "outputs": [
        {
          "output_type": "execute_result",
          "data": {
            "text/plain": [
              "15.78"
            ]
          },
          "metadata": {},
          "execution_count": 57
        }
      ]
    },
    {
      "cell_type": "code",
      "source": [
        "for i in range(len(names)):\n",
        " w_ave = round((course1[i]*credits[0] +\n",
        "              course2[i]*credits[1] +\n",
        "              course3[i]*credits[2]) /sum(credits), 2)\n"
      ],
      "metadata": {
        "id": "dSnV2l-xh9XU"
      },
      "execution_count": null,
      "outputs": []
    },
    {
      "cell_type": "code",
      "source": [
        " print(f' The weighted average of {names[i]}' is (w_avg).')\n"
      ],
      "metadata": {
        "colab": {
          "base_uri": "https://localhost:8080/",
          "height": 130
        },
        "id": "2lVg0krTkP44",
        "outputId": "1388f811-809a-49d8-be6c-b9f2a5edcf70"
      },
      "execution_count": null,
      "outputs": [
        {
          "output_type": "error",
          "ename": "SyntaxError",
          "evalue": "ignored",
          "traceback": [
            "\u001b[0;36m  File \u001b[0;32m\"<ipython-input-71-7445d87cb6c4>\"\u001b[0;36m, line \u001b[0;32m1\u001b[0m\n\u001b[0;31m    print(f' The weighted average of {names[i]}' is (w_avg).')\u001b[0m\n\u001b[0m                                                              ^\u001b[0m\n\u001b[0;31mSyntaxError\u001b[0m\u001b[0;31m:\u001b[0m EOL while scanning string literal\n"
          ]
        }
      ]
    },
    {
      "cell_type": "markdown",
      "source": [
        "COMPREHENSION"
      ],
      "metadata": {
        "id": "DyNJqUsVkv6X"
      }
    },
    {
      "cell_type": "code",
      "source": [
        "mylist = [4, 3, 1, 5]"
      ],
      "metadata": {
        "id": "0Vdq5J8Ek2HZ"
      },
      "execution_count": null,
      "outputs": []
    },
    {
      "cell_type": "code",
      "source": [
        "mylist"
      ],
      "metadata": {
        "colab": {
          "base_uri": "https://localhost:8080/"
        },
        "id": "8QrTpRprk3os",
        "outputId": "8524d445-4cbe-4951-8d30-7a42442d5c10"
      },
      "execution_count": null,
      "outputs": [
        {
          "output_type": "execute_result",
          "data": {
            "text/plain": [
              "[4, 3, 1, 5]"
            ]
          },
          "metadata": {},
          "execution_count": 67
        }
      ]
    },
    {
      "cell_type": "code",
      "source": [
        "[x**2 for x in mylist]"
      ],
      "metadata": {
        "colab": {
          "base_uri": "https://localhost:8080/"
        },
        "id": "VBKyEC2xk554",
        "outputId": "9d515ebb-22fd-4cb1-cc92-e232c14a3cca"
      },
      "execution_count": null,
      "outputs": [
        {
          "output_type": "execute_result",
          "data": {
            "text/plain": [
              "[16, 9, 1, 25]"
            ]
          },
          "metadata": {},
          "execution_count": 68
        }
      ]
    },
    {
      "cell_type": "markdown",
      "source": [
        "DICTIONAIRES"
      ],
      "metadata": {
        "id": "CMgycqbRlKVb"
      }
    },
    {
      "cell_type": "code",
      "source": [
        "d ={'Mary':15, 'John':18, 'Catherine':19}\n",
        "d"
      ],
      "metadata": {
        "colab": {
          "base_uri": "https://localhost:8080/"
        },
        "id": "XjsPPO85lIil",
        "outputId": "bdd26490-f84f-43f8-ce88-0e9050c1abb8"
      },
      "execution_count": null,
      "outputs": [
        {
          "output_type": "execute_result",
          "data": {
            "text/plain": [
              "{'Mary': 15, 'John': 18, 'Catherine': 19}"
            ]
          },
          "metadata": {},
          "execution_count": 87
        }
      ]
    },
    {
      "cell_type": "code",
      "source": [
        "d {'John'} "
      ],
      "metadata": {
        "colab": {
          "base_uri": "https://localhost:8080/",
          "height": 130
        },
        "id": "lzQ31yBXlxsZ",
        "outputId": "c446f58f-8f8e-4b9e-80ee-9a4bda700358"
      },
      "execution_count": null,
      "outputs": [
        {
          "output_type": "error",
          "ename": "SyntaxError",
          "evalue": "ignored",
          "traceback": [
            "\u001b[0;36m  File \u001b[0;32m\"<ipython-input-89-7b3d4b00f63b>\"\u001b[0;36m, line \u001b[0;32m1\u001b[0m\n\u001b[0;31m    d {'John'}\u001b[0m\n\u001b[0m      ^\u001b[0m\n\u001b[0;31mSyntaxError\u001b[0m\u001b[0;31m:\u001b[0m invalid syntax\n"
          ]
        }
      ]
    },
    {
      "cell_type": "markdown",
      "source": [
        "TUPLES"
      ],
      "metadata": {
        "id": "7ZYNn6MZl7yt"
      }
    },
    {
      "cell_type": "code",
      "source": [
        "t = (4, 7, 9)\n",
        "t"
      ],
      "metadata": {
        "colab": {
          "base_uri": "https://localhost:8080/"
        },
        "id": "xYjRH_hDl0wq",
        "outputId": "81232ae3-ada5-436d-d0ee-e911198d8cf2"
      },
      "execution_count": null,
      "outputs": [
        {
          "output_type": "execute_result",
          "data": {
            "text/plain": [
              "(4, 7, 9)"
            ]
          },
          "metadata": {},
          "execution_count": 75
        }
      ]
    },
    {
      "cell_type": "code",
      "source": [
        "t[2]"
      ],
      "metadata": {
        "colab": {
          "base_uri": "https://localhost:8080/"
        },
        "id": "wOH0hz0bmC9i",
        "outputId": "74b92b46-fffc-4263-90b9-7bd9e50aef15"
      },
      "execution_count": null,
      "outputs": [
        {
          "output_type": "execute_result",
          "data": {
            "text/plain": [
              "9"
            ]
          },
          "metadata": {},
          "execution_count": 77
        }
      ]
    },
    {
      "cell_type": "code",
      "source": [
        "t[2] = 10"
      ],
      "metadata": {
        "colab": {
          "base_uri": "https://localhost:8080/",
          "height": 165
        },
        "id": "nWVBfIF_mFV7",
        "outputId": "07820eeb-dc89-44b2-f394-bc5e13564976"
      },
      "execution_count": null,
      "outputs": [
        {
          "output_type": "error",
          "ename": "TypeError",
          "evalue": "ignored",
          "traceback": [
            "\u001b[0;31m---------------------------------------------------------------------------\u001b[0m",
            "\u001b[0;31mTypeError\u001b[0m                                 Traceback (most recent call last)",
            "\u001b[0;32m<ipython-input-78-07ce4274e407>\u001b[0m in \u001b[0;36m<module>\u001b[0;34m\u001b[0m\n\u001b[0;32m----> 1\u001b[0;31m \u001b[0mt\u001b[0m\u001b[0;34m[\u001b[0m\u001b[0;36m2\u001b[0m\u001b[0;34m]\u001b[0m \u001b[0;34m=\u001b[0m \u001b[0;36m10\u001b[0m\u001b[0;34m\u001b[0m\u001b[0;34m\u001b[0m\u001b[0m\n\u001b[0m",
            "\u001b[0;31mTypeError\u001b[0m: 'tuple' object does not support item assignment"
          ]
        }
      ]
    },
    {
      "cell_type": "markdown",
      "source": [
        "Tuples \"cannot\" be changed, contrary to lists."
      ],
      "metadata": {
        "id": "wM8lKBwTmbRr"
      }
    },
    {
      "cell_type": "code",
      "source": [
        "names2 = names"
      ],
      "metadata": {
        "id": "v7wbYV9XmN9m"
      },
      "execution_count": null,
      "outputs": []
    },
    {
      "cell_type": "code",
      "source": [
        "names2"
      ],
      "metadata": {
        "colab": {
          "base_uri": "https://localhost:8080/"
        },
        "id": "oRUTw1jCm812",
        "outputId": "cae052ca-f2be-4fb5-b21f-68bab3a1eca6"
      },
      "execution_count": null,
      "outputs": [
        {
          "output_type": "execute_result",
          "data": {
            "text/plain": [
              "['Mary', 'John', 'Catherine']"
            ]
          },
          "metadata": {},
          "execution_count": 80
        }
      ]
    },
    {
      "cell_type": "code",
      "source": [
        "[x for x in zip(names, marks)]"
      ],
      "metadata": {
        "colab": {
          "base_uri": "https://localhost:8080/"
        },
        "id": "cqGDi44pm9sM",
        "outputId": "7edcdb7f-d688-4a39-b475-63706bcd6950"
      },
      "execution_count": null,
      "outputs": [
        {
          "output_type": "execute_result",
          "data": {
            "text/plain": [
              "[('Mary', 9), ('John', 18), ('Catherine', 19)]"
            ]
          },
          "metadata": {},
          "execution_count": 82
        }
      ]
    },
    {
      "cell_type": "code",
      "source": [
        "d2 = dict(zip(names, marks))\n",
        "d2"
      ],
      "metadata": {
        "colab": {
          "base_uri": "https://localhost:8080/"
        },
        "id": "mTJY9x63nNEQ",
        "outputId": "c469596a-770e-4ef9-8160-bf502b4e7100"
      },
      "execution_count": null,
      "outputs": [
        {
          "output_type": "execute_result",
          "data": {
            "text/plain": [
              "{'Mary': 9, 'John': 18, 'Catherine': 19}"
            ]
          },
          "metadata": {},
          "execution_count": 83
        }
      ]
    },
    {
      "cell_type": "code",
      "source": [
        "{x[0] : x[1] for x in zip (names, marks)}"
      ],
      "metadata": {
        "colab": {
          "base_uri": "https://localhost:8080/"
        },
        "id": "_CDJgLQXnnng",
        "outputId": "d4d3a43b-0b57-4ab3-ce86-1957a8d0132a"
      },
      "execution_count": null,
      "outputs": [
        {
          "output_type": "execute_result",
          "data": {
            "text/plain": [
              "{'Mary': 9, 'John': 18, 'Catherine': 19}"
            ]
          },
          "metadata": {},
          "execution_count": 84
        }
      ]
    }
  ]
}