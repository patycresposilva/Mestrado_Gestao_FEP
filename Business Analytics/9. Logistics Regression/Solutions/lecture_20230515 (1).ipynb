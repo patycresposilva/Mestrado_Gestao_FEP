{
  "nbformat": 4,
  "nbformat_minor": 0,
  "metadata": {
    "colab": {
      "provenance": []
    },
    "kernelspec": {
      "name": "python3",
      "display_name": "Python 3"
    },
    "language_info": {
      "name": "python"
    }
  },
  "cells": [
    {
      "cell_type": "markdown",
      "source": [
        "# Random forests - Bank marketing campaign"
      ],
      "metadata": {
        "id": "up8xetFoVb5D"
      }
    },
    {
      "cell_type": "code",
      "execution_count": null,
      "metadata": {
        "colab": {
          "base_uri": "https://localhost:8080/"
        },
        "outputId": "0ea1bb8f-e3c0-4e3d-9205-e36460cfc3a3",
        "id": "VdCLRBSkztyV"
      },
      "outputs": [
        {
          "output_type": "stream",
          "name": "stdout",
          "text": [
            "Accuracy= 1.0\n",
            "[[ 3700     0]\n",
            " [    0 29250]]\n",
            "Recall= 1.0\n",
            "Accuracy= 0.910536537994659\n",
            "[[ 399  541]\n",
            " [ 196 7102]]\n",
            "Recall= 0.42446808510638295\n"
          ]
        }
      ],
      "source": [
        "import pandas as pd\n",
        "import numpy as np\n",
        "from sklearn.impute import SimpleImputer\n",
        "from sklearn.pipeline import Pipeline\n",
        "from sklearn.preprocessing import OneHotEncoder\n",
        "from sklearn.compose import ColumnTransformer\n",
        "from sklearn.preprocessing import StandardScaler\n",
        "from sklearn.tree import DecisionTreeClassifier\n",
        "from sklearn.ensemble import RandomForestClassifier\n",
        "from sklearn.model_selection import train_test_split\n",
        "from sklearn.metrics import recall_score\n",
        "from sklearn.metrics import accuracy_score, confusion_matrix\n",
        "from sklearn.model_selection import GridSearchCV\n",
        "\n",
        "df = pd.read_csv('/content/bank_mark_campaign.csv', sep=';')\n",
        "\n",
        "df = df.replace('unknown', np.nan) \n",
        "\n",
        "col_nan = df.columns[df.isna().any(axis=0)].to_list()\n",
        "col_num = df.describe().columns.to_list()\n",
        "df.columns.difference(col_nan + col_num)\n",
        "col_cat = df.columns.difference(col_nan + col_num + ['y']).to_list()\n",
        "\n",
        "na_treat = Pipeline([\n",
        "    ('imp', SimpleImputer(strategy='most_frequent')),\n",
        "    ('oneh', OneHotEncoder(drop='first'))])\n",
        "\n",
        "preprocessor = ColumnTransformer([\n",
        "    ('na_tr', na_treat, col_nan),\n",
        "    ('cat_tr', OneHotEncoder(drop='first'), col_cat),\n",
        "    ('scale_tr', StandardScaler(), col_num)], \n",
        "    remainder='passthrough')\n",
        "\n",
        "# hyper = {\n",
        "#     'ccp_alpha': [0.001, 0.01, 0.1, 0.2, 0.5]\n",
        "# }\n",
        "\n",
        "# pipe = Pipeline([\n",
        "#     ('pre', preprocessor),\n",
        "#     ('grid', GridSearchCV(DecisionTreeClassifier(class_weight=\"balanced\"), hyper, cv=5, scoring='roc_auc'))])\n",
        "\n",
        "pipe = Pipeline([\n",
        "    ('pre', preprocessor),\n",
        "    ('rf', RandomForestClassifier(class_weight='balanced'))])\n",
        "\n",
        "X = df.drop('y', axis=1)\n",
        "y = df['y']\n",
        "\n",
        "X_train, X_test, y_train, y_test = train_test_split(X, y, test_size=0.2, random_state=45)\n",
        "\n",
        "pipe.fit(X_train, y_train)\n",
        "\n",
        "y_pred = pipe.predict(X_train)\n",
        "\n",
        "acur = accuracy_score(y_train, y_pred)\n",
        "print(f'Accuracy= {acur}')\n",
        "cm = confusion_matrix(y_train, y_pred, labels=['yes', 'no'])\n",
        "print(cm)\n",
        "recall = recall_score(y_train, y_pred, pos_label='yes')\n",
        "print(f'Recall= {recall}')\n",
        "\n",
        "y_pred = pipe.predict(X_test)\n",
        "\n",
        "acur = accuracy_score(y_test, y_pred)\n",
        "print(f'Accuracy= {acur}')\n",
        "cm = confusion_matrix(y_test, y_pred, labels=['yes', 'no'])\n",
        "print(cm)\n",
        "recall = recall_score(y_test, y_pred, pos_label='yes')\n",
        "print(f'Recall= {recall}')\n"
      ]
    },
    {
      "cell_type": "code",
      "source": [
        "y.value_counts(normalize=True)"
      ],
      "metadata": {
        "colab": {
          "base_uri": "https://localhost:8080/"
        },
        "id": "b-zcaZMexMQW",
        "outputId": "b01c6ddb-ce94-4397-f440-ef90a16eaaaf"
      },
      "execution_count": null,
      "outputs": [
        {
          "output_type": "execute_result",
          "data": {
            "text/plain": [
              "no     0.887346\n",
              "yes    0.112654\n",
              "Name: y, dtype: float64"
            ]
          },
          "metadata": {},
          "execution_count": 12
        }
      ]
    },
    {
      "cell_type": "code",
      "execution_count": null,
      "metadata": {
        "colab": {
          "base_uri": "https://localhost:8080/"
        },
        "outputId": "4d6c392f-f839-4d54-9161-a801693455d8",
        "id": "_f9SIA3iyD9L"
      },
      "outputs": [
        {
          "output_type": "stream",
          "name": "stdout",
          "text": [
            "Accuracy= 0.8279514415781487\n",
            "[[ 3531   169]\n",
            " [ 5500 23750]]\n",
            "Recall= 0.9543243243243243\n",
            "Accuracy= 0.8230152949745084\n",
            "[[ 891   49]\n",
            " [1409 5889]]\n",
            "Recall= 0.9478723404255319\n"
          ]
        }
      ],
      "source": [
        "import pandas as pd\n",
        "import numpy as np\n",
        "from sklearn.impute import SimpleImputer\n",
        "from sklearn.pipeline import Pipeline\n",
        "from sklearn.preprocessing import OneHotEncoder\n",
        "from sklearn.compose import ColumnTransformer\n",
        "from sklearn.preprocessing import StandardScaler\n",
        "from sklearn.tree import DecisionTreeClassifier\n",
        "from sklearn.ensemble import RandomForestClassifier\n",
        "from sklearn.model_selection import train_test_split\n",
        "from sklearn.metrics import recall_score\n",
        "from sklearn.metrics import accuracy_score, confusion_matrix\n",
        "from sklearn.model_selection import GridSearchCV\n",
        "\n",
        "df = pd.read_csv('/content/bank_mark_campaign.csv', sep=';')\n",
        "\n",
        "df = df.replace('unknown', np.nan) \n",
        "\n",
        "col_nan = df.columns[df.isna().any(axis=0)].to_list()\n",
        "col_num = df.describe().columns.to_list()\n",
        "df.columns.difference(col_nan + col_num)\n",
        "col_cat = df.columns.difference(col_nan + col_num + ['y']).to_list()\n",
        "\n",
        "na_treat = Pipeline([\n",
        "    ('imp', SimpleImputer(strategy='most_frequent')),\n",
        "    ('oneh', OneHotEncoder(drop='first'))])\n",
        "\n",
        "preprocessor = ColumnTransformer([\n",
        "    ('na_tr', na_treat, col_nan),\n",
        "    ('cat_tr', OneHotEncoder(drop='first'), col_cat),\n",
        "    ('scale_tr', StandardScaler(), col_num)], \n",
        "    remainder='passthrough')\n",
        "\n",
        "hyper = {\n",
        "    'ccp_alpha': [0.001, 0.01, 0.1, 0.2, 0.5]\n",
        "}\n",
        "\n",
        "# pipe = Pipeline([\n",
        "#     ('pre', preprocessor),\n",
        "#     ('grid', GridSearchCV(DecisionTreeClassifier(class_weight=\"balanced\"), hyper, cv=5, scoring='roc_auc'))])\n",
        "\n",
        "pipe = Pipeline([\n",
        "    ('pre', preprocessor),\n",
        "    ('grid', GridSearchCV(RandomForestClassifier(class_weight='balanced'), hyper, cv=5))])\n",
        "\n",
        "X = df.drop('y', axis=1)\n",
        "y = df['y']\n",
        "\n",
        "X_train, X_test, y_train, y_test = train_test_split(X, y, test_size=0.2, random_state=45)\n",
        "\n",
        "pipe.fit(X_train, y_train)\n",
        "\n",
        "y_pred = pipe.predict(X_train)\n",
        "\n",
        "acur = accuracy_score(y_train, y_pred)\n",
        "print(f'Accuracy= {acur}')\n",
        "cm = confusion_matrix(y_train, y_pred, labels=['yes', 'no'])\n",
        "print(cm)\n",
        "recall = recall_score(y_train, y_pred, pos_label='yes')\n",
        "print(f'Recall= {recall}')\n",
        "\n",
        "y_pred = pipe.predict(X_test)\n",
        "\n",
        "acur = accuracy_score(y_test, y_pred)\n",
        "print(f'Accuracy= {acur}')\n",
        "cm = confusion_matrix(y_test, y_pred, labels=['yes', 'no'])\n",
        "print(cm)\n",
        "recall = recall_score(y_test, y_pred, pos_label='yes')\n",
        "print(f'Recall= {recall}')\n"
      ]
    },
    {
      "cell_type": "markdown",
      "source": [
        "# Regression trees and Random forests - Data car radios"
      ],
      "metadata": {
        "id": "5-UwK5T2VTId"
      }
    },
    {
      "cell_type": "code",
      "source": [
        "import pandas as pd\n",
        "import numpy as np\n",
        "from sklearn.model_selection import train_test_split\n",
        "from sklearn.preprocessing import StandardScaler\n",
        "from sklearn.pipeline import Pipeline\n",
        "from sklearn.compose import ColumnTransformer\n",
        "from sklearn.preprocessing import FunctionTransformer\n",
        "from sklearn.preprocessing import OneHotEncoder\n",
        "from sklearn.metrics import r2_score, mean_absolute_error, mean_squared_error\n",
        "from sklearn.linear_model import LinearRegression\n",
        "from sklearn.tree import DecisionTreeRegressor\n",
        "\n",
        "import datetime\n",
        "\n",
        "df = pd.read_excel('/content/data_carradios.xlsx')\n",
        "\n",
        "def get_ages(col):\n",
        "  result = (datetime.datetime.now()-col).astype('<m8[Y]')\n",
        "  result = pd.DataFrame(result)\n",
        "  return result\n",
        "\n",
        "ager = Pipeline([\n",
        "    ('ages', FunctionTransformer(get_ages, feature_names_out='one-to-one')),\n",
        "    ('scale', StandardScaler())\n",
        "])\n",
        "\n",
        "def get_weekdays(col):\n",
        "  result = col.iloc[:,0].dt.weekday\n",
        "  result = pd.DataFrame(result)\n",
        "  return result\n",
        "\n",
        "weeker = Pipeline([\n",
        "    ('weekd', FunctionTransformer(get_weekdays, feature_names_out='one-to-one')),\n",
        "    ('oneh', OneHotEncoder(drop='first'))\n",
        "])\n",
        "\n",
        "preprocessor = ColumnTransformer([\n",
        "    ('ages_tr', ager, ['bdate']),\n",
        "    ('weekd_tr', weeker, ['datep']),\n",
        "    ('team_tr', OneHotEncoder(drop='first'), ['team']),\n",
        "    ('scaler', StandardScaler(), ['prized', 'prizeq'])],\n",
        "    remainder='passthrough')\n",
        "\n",
        "X = df.drop('perc_defec', axis=1)\n",
        "y = df['perc_defec']\n",
        "\n",
        "X_train, X_test, y_train, y_test = train_test_split(X, y, test_size=0.2, random_state=45)\n",
        "\n",
        "pipe = Pipeline([\n",
        "    ('pre', preprocessor),\n",
        "    ('tree', DecisionTreeRegressor())])\n",
        "\n",
        "pipe.fit(X_train, y_train)\n",
        "\n",
        "y_pred = pipe.predict(X_train)\n",
        "\n",
        "mae = mean_absolute_error(y_train, y_pred)\n",
        "rsme = mean_squared_error(y_train, y_pred, squared=False)\n",
        "r2 = r2_score(y_train, y_pred)\n",
        "\n",
        "print(f'MAE= {mae}')\n",
        "print(f'RSME= {rsme}')\n",
        "print(f'R2= {r2}')\n",
        "y_pred = pipe.predict(X_test)\n",
        "mae = mean_absolute_error(y_test, y_pred)\n",
        "rsme = mean_squared_error(y_test, y_pred, squared=False)\n",
        "r2 = r2_score(y_test, y_pred)\n",
        "\n",
        "print(f'MAE= {mae}')\n",
        "print(f'RSME= {rsme}')\n",
        "print(f'R2= {r2}')"
      ],
      "metadata": {
        "id": "OdmJO58ofCeY",
        "colab": {
          "base_uri": "https://localhost:8080/"
        },
        "outputId": "b5796363-59ee-43d5-d42c-be07592b6bed"
      },
      "execution_count": null,
      "outputs": [
        {
          "output_type": "stream",
          "name": "stdout",
          "text": [
            "MAE= 2.6502624234792984\n",
            "RSME= 3.676162025277643\n",
            "R2= 0.940571315604777\n",
            "MAE= 3.9040616774891777\n",
            "RSME= 5.212007208008061\n",
            "R2= 0.8846262266400601\n"
          ]
        }
      ]
    },
    {
      "cell_type": "code",
      "source": [],
      "metadata": {
        "id": "087CbFGRVhPz"
      },
      "execution_count": null,
      "outputs": []
    },
    {
      "cell_type": "code",
      "source": [
        "import pandas as pd\n",
        "import numpy as np\n",
        "from sklearn.model_selection import train_test_split\n",
        "from sklearn.preprocessing import StandardScaler\n",
        "from sklearn.pipeline import Pipeline\n",
        "from sklearn.compose import ColumnTransformer\n",
        "from sklearn.preprocessing import FunctionTransformer\n",
        "from sklearn.preprocessing import OneHotEncoder\n",
        "from sklearn.metrics import r2_score, mean_absolute_error, mean_squared_error\n",
        "from sklearn.linear_model import LinearRegression\n",
        "from sklearn.tree import DecisionTreeRegressor\n",
        "from sklearn.model_selection import GridSearchCV\n",
        "\n",
        "import datetime\n",
        "\n",
        "df = pd.read_excel('/content/data_carradios.xlsx')\n",
        "\n",
        "def get_ages(col):\n",
        "  result = (datetime.datetime.now()-col).astype('<m8[Y]')\n",
        "  result = pd.DataFrame(result)\n",
        "  return result\n",
        "\n",
        "ager = Pipeline([\n",
        "    ('ages', FunctionTransformer(get_ages, feature_names_out='one-to-one')),\n",
        "    ('scale', StandardScaler())\n",
        "])\n",
        "\n",
        "def get_weekdays(col):\n",
        "  result = col.iloc[:,0].dt.weekday\n",
        "  result = pd.DataFrame(result)\n",
        "  return result\n",
        "\n",
        "weeker = Pipeline([\n",
        "    ('weekd', FunctionTransformer(get_weekdays, feature_names_out='one-to-one')),\n",
        "    ('oneh', OneHotEncoder(drop='first'))\n",
        "])\n",
        "\n",
        "preprocessor = ColumnTransformer([\n",
        "    ('ages_tr', ager, ['bdate']),\n",
        "    ('weekd_tr', weeker, ['datep']),\n",
        "    ('team_tr', OneHotEncoder(drop='first'), ['team']),\n",
        "    ('scaler', StandardScaler(), ['prized', 'prizeq'])],\n",
        "    remainder='passthrough')\n",
        "\n",
        "X = df.drop('perc_defec', axis=1)\n",
        "y = df['perc_defec']\n",
        "\n",
        "X_train, X_test, y_train, y_test = train_test_split(X, y, test_size=0.2, random_state=45)\n",
        "\n",
        "hyper = {\n",
        "    'ccp_alpha': [0.001, 0.003, 0.1, 0.3, 0.5]\n",
        "}\n",
        "pipe = Pipeline([\n",
        "    ('pre', preprocessor),\n",
        "    ('grid', GridSearchCV(DecisionTreeRegressor(), hyper, cv=5))])\n",
        "\n",
        "pipe.fit(X_train, y_train)\n",
        "\n",
        "y_pred = pipe.predict(X_train)\n",
        "\n",
        "mae = mean_absolute_error(y_train, y_pred)\n",
        "rsme = mean_squared_error(y_train, y_pred, squared=False)\n",
        "r2 = r2_score(y_train, y_pred)\n",
        "\n",
        "print(f'MAE= {mae}')\n",
        "print(f'RSME= {rsme}')\n",
        "print(f'R2= {r2}')\n",
        "y_pred = pipe.predict(X_test)\n",
        "mae = mean_absolute_error(y_test, y_pred)\n",
        "rsme = mean_squared_error(y_test, y_pred, squared=False)\n",
        "r2 = r2_score(y_test, y_pred)\n",
        "\n",
        "print(f'MAE= {mae}')\n",
        "print(f'RSME= {rsme}')\n",
        "print(f'R2= {r2}')"
      ],
      "metadata": {
        "colab": {
          "base_uri": "https://localhost:8080/"
        },
        "outputId": "3b93b3a6-e340-4b33-81fb-b2ad17dc2d63",
        "id": "dHrgKjxCkYS4"
      },
      "execution_count": null,
      "outputs": [
        {
          "output_type": "stream",
          "name": "stdout",
          "text": [
            "MAE= 3.2898610178578025\n",
            "RSME= 4.271822451632366\n",
            "R2= 0.9197521852026403\n",
            "MAE= 3.6986164844013856\n",
            "RSME= 4.921032250811609\n",
            "R2= 0.8971487666569046\n"
          ]
        }
      ]
    },
    {
      "cell_type": "markdown",
      "source": [
        "# Random forest - Regression"
      ],
      "metadata": {
        "id": "3JUKAg5yrWrt"
      }
    },
    {
      "cell_type": "code",
      "source": [],
      "metadata": {
        "id": "4eT_sBxxrcRG"
      },
      "execution_count": null,
      "outputs": []
    },
    {
      "cell_type": "code",
      "source": [
        "import pandas as pd\n",
        "import numpy as np\n",
        "from sklearn.model_selection import train_test_split\n",
        "from sklearn.preprocessing import StandardScaler\n",
        "from sklearn.pipeline import Pipeline\n",
        "from sklearn.compose import ColumnTransformer\n",
        "from sklearn.preprocessing import FunctionTransformer\n",
        "from sklearn.preprocessing import OneHotEncoder\n",
        "from sklearn.metrics import r2_score, mean_absolute_error, mean_squared_error\n",
        "from sklearn.linear_model import LinearRegression\n",
        "from sklearn.tree import DecisionTreeRegressor\n",
        "from sklearn.model_selection import GridSearchCV\n",
        "from sklearn.ensemble import RandomForestRegressor\n",
        "\n",
        "import datetime\n",
        "\n",
        "df = pd.read_excel('/content/data_carradios.xlsx')\n",
        "\n",
        "def get_ages(col):\n",
        "  result = (datetime.datetime.now()-col).astype('<m8[Y]')\n",
        "  result = pd.DataFrame(result)\n",
        "  return result\n",
        "\n",
        "ager = Pipeline([\n",
        "    ('ages', FunctionTransformer(get_ages, feature_names_out='one-to-one')),\n",
        "    ('scale', StandardScaler())\n",
        "])\n",
        "\n",
        "def get_weekdays(col):\n",
        "  result = col.iloc[:,0].dt.weekday\n",
        "  result = pd.DataFrame(result)\n",
        "  return result\n",
        "\n",
        "weeker = Pipeline([\n",
        "    ('weekd', FunctionTransformer(get_weekdays, feature_names_out='one-to-one')),\n",
        "    ('oneh', OneHotEncoder(drop='first'))\n",
        "])\n",
        "\n",
        "preprocessor = ColumnTransformer([\n",
        "    ('ages_tr', ager, ['bdate']),\n",
        "    ('weekd_tr', weeker, ['datep']),\n",
        "    ('team_tr', OneHotEncoder(drop='first'), ['team']),\n",
        "    ('scaler', StandardScaler(), ['prized', 'prizeq'])],\n",
        "    remainder='passthrough')\n",
        "\n",
        "X = df.drop('perc_defec', axis=1)\n",
        "y = df['perc_defec']\n",
        "\n",
        "X_train, X_test, y_train, y_test = train_test_split(X, y, test_size=0.2, random_state=45)\n",
        "\n",
        "# hyper = {\n",
        "#     'ccp_alpha': [0.001, 0.003, 0.1, 0.3, 0.5]\n",
        "# }\n",
        "# pipe = Pipeline([\n",
        "#     ('pre', preprocessor),\n",
        "#     ('grid', GridSearchCV(DecisionTreeRegressor(), hyper, cv=5))])\n",
        "\n",
        "pipe = Pipeline([\n",
        "    ('pre', preprocessor),\n",
        "    ('rf', RandomForestRegressor())])\n",
        "\n",
        "\n",
        "pipe.fit(X_train, y_train)\n",
        "\n",
        "y_pred = pipe.predict(X_train)\n",
        "\n",
        "mae = mean_absolute_error(y_train, y_pred)\n",
        "rsme = mean_squared_error(y_train, y_pred, squared=False)\n",
        "r2 = r2_score(y_train, y_pred)\n",
        "\n",
        "print(f'MAE= {mae}')\n",
        "print(f'RSME= {rsme}')\n",
        "print(f'R2= {r2}')\n",
        "y_pred = pipe.predict(X_test)\n",
        "mae = mean_absolute_error(y_test, y_pred)\n",
        "rsme = mean_squared_error(y_test, y_pred, squared=False)\n",
        "r2 = r2_score(y_test, y_pred)\n",
        "\n",
        "print(f'MAE= {mae}')\n",
        "print(f'RSME= {rsme}')\n",
        "print(f'R2= {r2}')"
      ],
      "metadata": {
        "colab": {
          "base_uri": "https://localhost:8080/"
        },
        "outputId": "c955b52d-519b-4f42-edaa-5dc6985c3070",
        "id": "h_vbvU6lrvG0"
      },
      "execution_count": null,
      "outputs": [
        {
          "output_type": "stream",
          "name": "stdout",
          "text": [
            "MAE= 2.7557244240058334\n",
            "RSME= 3.7194822763778697\n",
            "R2= 0.9391624362414951\n",
            "MAE= 3.76134865916975\n",
            "RSME= 5.071643788127229\n",
            "R2= 0.8907567612934356\n"
          ]
        }
      ]
    },
    {
      "cell_type": "code",
      "source": [
        "import pandas as pd\n",
        "import numpy as np\n",
        "from sklearn.model_selection import train_test_split\n",
        "from sklearn.preprocessing import StandardScaler\n",
        "from sklearn.pipeline import Pipeline\n",
        "from sklearn.compose import ColumnTransformer\n",
        "from sklearn.preprocessing import FunctionTransformer\n",
        "from sklearn.preprocessing import OneHotEncoder\n",
        "from sklearn.metrics import r2_score, mean_absolute_error, mean_squared_error\n",
        "from sklearn.linear_model import LinearRegression\n",
        "from sklearn.tree import DecisionTreeRegressor\n",
        "from sklearn.model_selection import GridSearchCV\n",
        "from sklearn.ensemble import RandomForestRegressor\n",
        "\n",
        "import datetime\n",
        "\n",
        "df = pd.read_excel('/content/data_carradios.xlsx')\n",
        "\n",
        "def get_ages(col):\n",
        "  result = (datetime.datetime.now()-col).astype('<m8[Y]')\n",
        "  result = pd.DataFrame(result)\n",
        "  return result\n",
        "\n",
        "ager = Pipeline([\n",
        "    ('ages', FunctionTransformer(get_ages, feature_names_out='one-to-one')),\n",
        "    ('scale', StandardScaler())\n",
        "])\n",
        "\n",
        "def get_weekdays(col):\n",
        "  result = col.iloc[:,0].dt.weekday\n",
        "  result = pd.DataFrame(result)\n",
        "  return result\n",
        "\n",
        "weeker = Pipeline([\n",
        "    ('weekd', FunctionTransformer(get_weekdays, feature_names_out='one-to-one')),\n",
        "    ('oneh', OneHotEncoder(drop='first'))\n",
        "])\n",
        "\n",
        "preprocessor = ColumnTransformer([\n",
        "    ('ages_tr', ager, ['bdate']),\n",
        "    ('weekd_tr', weeker, ['datep']),\n",
        "    ('team_tr', OneHotEncoder(drop='first'), ['team']),\n",
        "    ('scaler', StandardScaler(), ['prized', 'prizeq'])],\n",
        "    remainder='passthrough')\n",
        "\n",
        "X = df.drop('perc_defec', axis=1)\n",
        "y = df['perc_defec']\n",
        "\n",
        "X_train, X_test, y_train, y_test = train_test_split(X, y, test_size=0.2, random_state=45)\n",
        "\n",
        "hyper = {\n",
        "    'ccp_alpha': [0.001, 0.003, 0.1, 0.3, 0.5],\n",
        "    'n_estimators': [10, 50, 100, 150]\n",
        "}\n",
        "pipe = Pipeline([\n",
        "    ('pre', preprocessor),\n",
        "    ('grid', GridSearchCV(RandomForestRegressor(), hyper, cv=5))])\n",
        "\n",
        "pipe.fit(X_train, y_train)\n",
        "\n",
        "y_pred = pipe.predict(X_train)\n",
        "\n",
        "mae = mean_absolute_error(y_train, y_pred)\n",
        "rsme = mean_squared_error(y_train, y_pred, squared=False)\n",
        "r2 = r2_score(y_train, y_pred)\n",
        "\n",
        "print(f'MAE= {mae}')\n",
        "print(f'RSME= {rsme}')\n",
        "print(f'R2= {r2}')\n",
        "y_pred = pipe.predict(X_test)\n",
        "mae = mean_absolute_error(y_test, y_pred)\n",
        "rsme = mean_squared_error(y_test, y_pred, squared=False)\n",
        "r2 = r2_score(y_test, y_pred)\n",
        "\n",
        "print(f'MAE= {mae}')\n",
        "print(f'RSME= {rsme}')\n",
        "print(f'R2= {r2}')"
      ],
      "metadata": {
        "colab": {
          "base_uri": "https://localhost:8080/"
        },
        "outputId": "4cc5e714-46d6-4792-edb1-a062adc81126",
        "id": "F9xah3fPto9g"
      },
      "execution_count": null,
      "outputs": [
        {
          "output_type": "stream",
          "name": "stdout",
          "text": [
            "MAE= 3.290890453747719\n",
            "RSME= 4.259988645928917\n",
            "R2= 0.9201961744913104\n",
            "MAE= 3.730504647155534\n",
            "RSME= 4.947784819175055\n",
            "R2= 0.8960274515768888\n"
          ]
        }
      ]
    },
    {
      "cell_type": "markdown",
      "source": [
        "# Logistic regression"
      ],
      "metadata": {
        "id": "JvwIH6MZ5w2x"
      }
    },
    {
      "cell_type": "code",
      "source": [
        "import numpy as np\n",
        "from matplotlib import pyplot as plt"
      ],
      "metadata": {
        "id": "wWPpdWeCuU6w"
      },
      "execution_count": null,
      "outputs": []
    },
    {
      "cell_type": "markdown",
      "source": [
        "Below, it is the plot of the logistic function"
      ],
      "metadata": {
        "id": "Pifh_EID5-eI"
      }
    },
    {
      "cell_type": "code",
      "source": [
        "#x = -1, -0.9, -0.8\n",
        "\n",
        "x = np.linspace(-1, 1, 3)\n",
        "x"
      ],
      "metadata": {
        "colab": {
          "base_uri": "https://localhost:8080/"
        },
        "id": "q-IPbVPw51Ip",
        "outputId": "be859717-9719-4d72-b4dc-835d0cf175b6"
      },
      "execution_count": null,
      "outputs": [
        {
          "output_type": "execute_result",
          "data": {
            "text/plain": [
              "array([-1.,  0.,  1.])"
            ]
          },
          "metadata": {},
          "execution_count": 18
        }
      ]
    },
    {
      "cell_type": "code",
      "source": [
        "x = np.linspace(-1, 1, 5)\n",
        "x"
      ],
      "metadata": {
        "colab": {
          "base_uri": "https://localhost:8080/"
        },
        "id": "Tw-oS1IS6y6d",
        "outputId": "2f71986a-2dd7-46cb-f32b-739b756ec65e"
      },
      "execution_count": null,
      "outputs": [
        {
          "output_type": "execute_result",
          "data": {
            "text/plain": [
              "array([-1. , -0.5,  0. ,  0.5,  1. ])"
            ]
          },
          "metadata": {},
          "execution_count": 19
        }
      ]
    },
    {
      "cell_type": "code",
      "source": [
        "x = np.linspace(-5, 5, 1000)\n",
        "y = 1 / (1+np.exp(-x)) # logistic function\n",
        "\n",
        "plt.xlabel('x')\n",
        "plt.ylabel('y')\n",
        "plt.title('Plot of the logistic function')\n",
        "\n",
        "plt.plot(x,y)"
      ],
      "metadata": {
        "colab": {
          "base_uri": "https://localhost:8080/",
          "height": 489
        },
        "id": "UFzqVnZG66Gp",
        "outputId": "fcac4da2-0e73-4b40-d15c-d4f8caaf679d"
      },
      "execution_count": null,
      "outputs": [
        {
          "output_type": "execute_result",
          "data": {
            "text/plain": [
              "[<matplotlib.lines.Line2D at 0x7fdb7df53a90>]"
            ]
          },
          "metadata": {},
          "execution_count": 22
        },
        {
          "output_type": "display_data",
          "data": {
            "text/plain": [
              "<Figure size 640x480 with 1 Axes>"
            ],
            "image/png": "[encoded data removed]"
          },
          "metadata": {}
        }
      ]
    },
    {
      "cell_type": "code",
      "source": [],
      "metadata": {
        "id": "H17N2bAR7Di5"
      },
      "execution_count": null,
      "outputs": []
    },
    {
      "cell_type": "code",
      "execution_count": null,
      "metadata": {
        "colab": {
          "base_uri": "https://localhost:8080/"
        },
        "outputId": "29d12790-f165-424a-e84e-428da68b2f0d",
        "id": "dNoZ_TRl-H1p"
      },
      "outputs": [
        {
          "output_type": "stream",
          "name": "stdout",
          "text": [
            "Accuracy= 0.8606980273141123\n",
            "[[ 3286   414]\n",
            " [ 4176 25074]]\n",
            "Recall= 0.8881081081081081\n",
            "Accuracy= 0.8608885651857247\n",
            "[[ 830  110]\n",
            " [1036 6262]]\n",
            "Recall= 0.8829787234042553\n"
          ]
        }
      ],
      "source": [
        "import pandas as pd\n",
        "import numpy as np\n",
        "from sklearn.impute import SimpleImputer\n",
        "from sklearn.pipeline import Pipeline\n",
        "from sklearn.preprocessing import OneHotEncoder\n",
        "from sklearn.compose import ColumnTransformer\n",
        "from sklearn.preprocessing import StandardScaler\n",
        "from sklearn.tree import DecisionTreeClassifier\n",
        "from sklearn.ensemble import RandomForestClassifier\n",
        "from sklearn.model_selection import train_test_split\n",
        "from sklearn.metrics import recall_score\n",
        "from sklearn.metrics import accuracy_score, confusion_matrix\n",
        "from sklearn.model_selection import GridSearchCV\n",
        "from sklearn.linear_model import LogisticRegression\n",
        "\n",
        "\n",
        "df = pd.read_csv('/content/bank_mark_campaign.csv', sep=';')\n",
        "\n",
        "df = df.replace('unknown', np.nan) \n",
        "\n",
        "col_nan = df.columns[df.isna().any(axis=0)].to_list()\n",
        "col_num = df.describe().columns.to_list()\n",
        "df.columns.difference(col_nan + col_num)\n",
        "col_cat = df.columns.difference(col_nan + col_num + ['y']).to_list()\n",
        "\n",
        "na_treat = Pipeline([\n",
        "    ('imp', SimpleImputer(strategy='most_frequent')),\n",
        "    ('oneh', OneHotEncoder(drop='first'))])\n",
        "\n",
        "preprocessor = ColumnTransformer([\n",
        "    ('na_tr', na_treat, col_nan),\n",
        "    ('cat_tr', OneHotEncoder(drop='first'), col_cat),\n",
        "    ('scale_tr', StandardScaler(), col_num)], \n",
        "    remainder='passthrough')\n",
        "\n",
        "# hyper = {\n",
        "#     'ccp_alpha': [0.001, 0.01, 0.1, 0.2, 0.5]\n",
        "# }\n",
        "\n",
        "# pipe = Pipeline([\n",
        "#     ('pre', preprocessor),\n",
        "#     ('grid', GridSearchCV(DecisionTreeClassifier(class_weight=\"balanced\"), hyper, cv=5, scoring='roc_auc'))])\n",
        "\n",
        "pipe = Pipeline([\n",
        "    ('pre', preprocessor),\n",
        "    ('logistic', LogisticRegression(max_iter=1000, class_weight='balanced'))])\n",
        "\n",
        "X = df.drop('y', axis=1)\n",
        "y = df['y']\n",
        "\n",
        "X_train, X_test, y_train, y_test = train_test_split(X, y, test_size=0.2, random_state=45)\n",
        "\n",
        "pipe.fit(X_train, y_train)\n",
        "\n",
        "y_pred = pipe.predict(X_train)\n",
        "\n",
        "acur = accuracy_score(y_train, y_pred)\n",
        "print(f'Accuracy= {acur}')\n",
        "cm = confusion_matrix(y_train, y_pred, labels=['yes', 'no'])\n",
        "print(cm)\n",
        "recall = recall_score(y_train, y_pred, pos_label='yes')\n",
        "print(f'Recall= {recall}')\n",
        "\n",
        "y_pred = pipe.predict(X_test)\n",
        "\n",
        "acur = accuracy_score(y_test, y_pred)\n",
        "print(f'Accuracy= {acur}')\n",
        "cm = confusion_matrix(y_test, y_pred, labels=['yes', 'no'])\n",
        "print(cm)\n",
        "recall = recall_score(y_test, y_pred, pos_label='yes')\n",
        "print(f'Recall= {recall}')\n"
      ]
    },
    {
      "cell_type": "code",
      "execution_count": null,
      "metadata": {
        "colab": {
          "base_uri": "https://localhost:8080/"
        },
        "outputId": "fbceed52-f326-4de2-d469-30775089ccea",
        "id": "XmGdSI0CAC_a"
      },
      "outputs": [
        {
          "output_type": "stream",
          "name": "stdout",
          "text": [
            "Accuracy= 0.860546282245827\n",
            "[[ 3288   412]\n",
            " [ 4183 25067]]\n",
            "Recall= 0.8886486486486487\n",
            "Accuracy= 0.8610099538722991\n",
            "[[ 830  110]\n",
            " [1035 6263]]\n",
            "Recall= 0.8829787234042553\n"
          ]
        }
      ],
      "source": [
        "import pandas as pd\n",
        "import numpy as np\n",
        "from sklearn.impute import SimpleImputer\n",
        "from sklearn.pipeline import Pipeline\n",
        "from sklearn.preprocessing import OneHotEncoder\n",
        "from sklearn.compose import ColumnTransformer\n",
        "from sklearn.preprocessing import StandardScaler\n",
        "from sklearn.tree import DecisionTreeClassifier\n",
        "from sklearn.ensemble import RandomForestClassifier\n",
        "from sklearn.model_selection import train_test_split\n",
        "from sklearn.metrics import recall_score\n",
        "from sklearn.metrics import accuracy_score, confusion_matrix\n",
        "from sklearn.model_selection import GridSearchCV\n",
        "from sklearn.linear_model import LogisticRegression\n",
        "\n",
        "\n",
        "df = pd.read_csv('/content/bank_mark_campaign.csv', sep=';')\n",
        "\n",
        "df = df.replace('unknown', np.nan) \n",
        "\n",
        "col_nan = df.columns[df.isna().any(axis=0)].to_list()\n",
        "col_num = df.describe().columns.to_list()\n",
        "df.columns.difference(col_nan + col_num)\n",
        "col_cat = df.columns.difference(col_nan + col_num + ['y']).to_list()\n",
        "\n",
        "na_treat = Pipeline([\n",
        "    ('imp', SimpleImputer(strategy='most_frequent')),\n",
        "    ('oneh', OneHotEncoder(drop='first'))])\n",
        "\n",
        "preprocessor = ColumnTransformer([\n",
        "    ('na_tr', na_treat, col_nan),\n",
        "    ('cat_tr', OneHotEncoder(drop='first'), col_cat),\n",
        "    ('scale_tr', StandardScaler(), col_num)], \n",
        "    remainder='passthrough')\n",
        "\n",
        "# hyper = {\n",
        "#     'ccp_alpha': [0.001, 0.01, 0.1, 0.2, 0.5]\n",
        "# }\n",
        "\n",
        "# pipe = Pipeline([\n",
        "#     ('pre', preprocessor),\n",
        "#     ('grid', GridSearchCV(DecisionTreeClassifier(class_weight=\"balanced\"), hyper, cv=5, scoring='roc_auc'))])\n",
        "\n",
        "pipe = Pipeline([\n",
        "    ('pre', preprocessor),\n",
        "    ('logistic', LogisticRegression(penalty='l1', \n",
        "                                    solver='saga', C=0.5,  max_iter=1000, \n",
        "                                    class_weight='balanced', random_state=45))])\n",
        "\n",
        "X = df.drop('y', axis=1)\n",
        "y = df['y']\n",
        "\n",
        "X_train, X_test, y_train, y_test = train_test_split(X, y, test_size=0.2, random_state=45)\n",
        "\n",
        "pipe.fit(X_train, y_train)\n",
        "\n",
        "y_pred = pipe.predict(X_train)\n",
        "\n",
        "acur = accuracy_score(y_train, y_pred)\n",
        "print(f'Accuracy= {acur}')\n",
        "cm = confusion_matrix(y_train, y_pred, labels=['yes', 'no'])\n",
        "print(cm)\n",
        "recall = recall_score(y_train, y_pred, pos_label='yes')\n",
        "print(f'Recall= {recall}')\n",
        "\n",
        "y_pred = pipe.predict(X_test)\n",
        "\n",
        "acur = accuracy_score(y_test, y_pred)\n",
        "print(f'Accuracy= {acur}')\n",
        "cm = confusion_matrix(y_test, y_pred, labels=['yes', 'no'])\n",
        "print(cm)\n",
        "recall = recall_score(y_test, y_pred, pos_label='yes')\n",
        "print(f'Recall= {recall}')\n"
      ]
    },
    {
      "cell_type": "code",
      "source": [],
      "metadata": {
        "colab": {
          "base_uri": "https://localhost:8080/",
          "height": 166
        },
        "id": "TIHX9cdw-wS8",
        "outputId": "f51bab51-1f05-4e10-f9d5-e699b5b8cdd3"
      },
      "execution_count": null,
      "outputs": [
        {
          "output_type": "error",
          "ename": "AttributeError",
          "evalue": "ignored",
          "traceback": [
            "\u001b[0;31m---------------------------------------------------------------------------\u001b[0m",
            "\u001b[0;31mAttributeError\u001b[0m                            Traceback (most recent call last)",
            "\u001b[0;32m<ipython-input-27-9989a8ef3bac>\u001b[0m in \u001b[0;36m<cell line: 1>\u001b[0;34m()\u001b[0m\n\u001b[0;32m----> 1\u001b[0;31m \u001b[0mpipe\u001b[0m\u001b[0;34m.\u001b[0m\u001b[0mnamed_steps\u001b[0m\u001b[0;34m[\u001b[0m\u001b[0;34m'logistic'\u001b[0m\u001b[0;34m]\u001b[0m\u001b[0;34m.\u001b[0m\u001b[0mbest_estimator_\u001b[0m\u001b[0;34m.\u001b[0m\u001b[0mcoef_\u001b[0m\u001b[0;34m\u001b[0m\u001b[0;34m\u001b[0m\u001b[0m\n\u001b[0m",
            "\u001b[0;31mAttributeError\u001b[0m: 'LogisticRegression' object has no attribute 'best_estimator_'"
          ]
        }
      ]
    },
    {
      "cell_type": "code",
      "source": [],
      "metadata": {
        "id": "j3hIiMm2BeHw"
      },
      "execution_count": null,
      "outputs": []
    }
  ]
}