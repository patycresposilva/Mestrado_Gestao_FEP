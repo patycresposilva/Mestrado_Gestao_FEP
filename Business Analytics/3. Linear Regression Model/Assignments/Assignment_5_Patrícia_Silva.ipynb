{
  "nbformat": 4,
  "nbformat_minor": 0,
  "metadata": {
    "colab": {
      "provenance": []
    },
    "kernelspec": {
      "name": "python3",
      "display_name": "Python 3"
    },
    "language_info": {
      "name": "python"
    }
  },
  "cells": [
    {
      "cell_type": "markdown",
      "source": [
        "# Regression problem\n"
      ],
      "metadata": {
        "id": "r0q9foXi0-iJ"
      }
    },
    {
      "cell_type": "markdown",
      "source": [
        "Dataset: Car radios"
      ],
      "metadata": {
        "id": "EJ612wWc1CWs"
      }
    },
    {
      "cell_type": "code",
      "source": [
        "import pandas as pd\n",
        "import numpy as np\n",
        "from sklearn.linear_model import LinearRegression\n",
        "from sklearn.model_selection import train_test_split\n",
        "from sklearn.preprocessing import StandardScaler\n",
        "from sklearn.pipeline import Pipeline\n",
        "from sklearn.compose import ColumnTransformer\n",
        "import datetime\n",
        "\n",
        "df = pd.read_excel('/content/data_carradios_assign.xlsx')\n",
        "df"
      ],
      "metadata": {
        "colab": {
          "base_uri": "https://localhost:8080/",
          "height": 423
        },
        "id": "oBY_fTEm2Pi6",
        "outputId": "4afa7b1b-1fad-4a92-e8fd-357ac09f508b"
      },
      "execution_count": 4,
      "outputs": [
        {
          "output_type": "execute_result",
          "data": {
            "text/plain": [
              "      perc_defec      bdate  team  training      datep  prizeq  prized\n",
              "0           0.00 1986-12-23     1         0 2021-07-01     500     600\n",
              "1           3.61 1981-07-02     7         1 2021-07-02     500       0\n",
              "2          21.17 1986-12-23     6         0 2021-07-05       0       0\n",
              "3          29.18 1981-07-02     4         0 2021-07-06       0       0\n",
              "4          15.63 1992-06-14     3         1 2021-07-07       0       0\n",
              "...          ...        ...   ...       ...        ...     ...     ...\n",
              "1195         NaN 1986-12-23     5         1        NaT       0     600\n",
              "1196         NaN 1992-06-14     6         0        NaT       0       0\n",
              "1197         NaN 1981-07-02     5         1        NaT       0     600\n",
              "1198         NaN 1981-07-02     1         0        NaT     500     600\n",
              "1199         NaN 1992-06-14     7         1        NaT     500       0\n",
              "\n",
              "[1200 rows x 7 columns]"
            ],
            "text/html": [
              "\n",
              "  <div id=\"df-00835b9a-dd9d-4411-b278-4a4c1f082140\">\n",
              "    <div class=\"colab-df-container\">\n",
              "      <div>\n",
              "<style scoped>\n",
              "    .dataframe tbody tr th:only-of-type {\n",
              "        vertical-align: middle;\n",
              "    }\n",
              "\n",
              "    .dataframe tbody tr th {\n",
              "        vertical-align: top;\n",
              "    }\n",
              "\n",
              "    .dataframe thead th {\n",
              "        text-align: right;\n",
              "    }\n",
              "</style>\n",
              "<table border=\"1\" class=\"dataframe\">\n",
              "  <thead>\n",
              "    <tr style=\"text-align: right;\">\n",
              "      <th></th>\n",
              "      <th>perc_defec</th>\n",
              "      <th>bdate</th>\n",
              "      <th>team</th>\n",
              "      <th>training</th>\n",
              "      <th>datep</th>\n",
              "      <th>prizeq</th>\n",
              "      <th>prized</th>\n",
              "    </tr>\n",
              "  </thead>\n",
              "  <tbody>\n",
              "    <tr>\n",
              "      <th>0</th>\n",
              "      <td>0.00</td>\n",
              "      <td>1986-12-23</td>\n",
              "      <td>1</td>\n",
              "      <td>0</td>\n",
              "      <td>2021-07-01</td>\n",
              "      <td>500</td>\n",
              "      <td>600</td>\n",
              "    </tr>\n",
              "    <tr>\n",
              "      <th>1</th>\n",
              "      <td>3.61</td>\n",
              "      <td>1981-07-02</td>\n",
              "      <td>7</td>\n",
              "      <td>1</td>\n",
              "      <td>2021-07-02</td>\n",
              "      <td>500</td>\n",
              "      <td>0</td>\n",
              "    </tr>\n",
              "    <tr>\n",
              "      <th>2</th>\n",
              "      <td>21.17</td>\n",
              "      <td>1986-12-23</td>\n",
              "      <td>6</td>\n",
              "      <td>0</td>\n",
              "      <td>2021-07-05</td>\n",
              "      <td>0</td>\n",
              "      <td>0</td>\n",
              "    </tr>\n",
              "    <tr>\n",
              "      <th>3</th>\n",
              "      <td>29.18</td>\n",
              "      <td>1981-07-02</td>\n",
              "      <td>4</td>\n",
              "      <td>0</td>\n",
              "      <td>2021-07-06</td>\n",
              "      <td>0</td>\n",
              "      <td>0</td>\n",
              "    </tr>\n",
              "    <tr>\n",
              "      <th>4</th>\n",
              "      <td>15.63</td>\n",
              "      <td>1992-06-14</td>\n",
              "      <td>3</td>\n",
              "      <td>1</td>\n",
              "      <td>2021-07-07</td>\n",
              "      <td>0</td>\n",
              "      <td>0</td>\n",
              "    </tr>\n",
              "    <tr>\n",
              "      <th>...</th>\n",
              "      <td>...</td>\n",
              "      <td>...</td>\n",
              "      <td>...</td>\n",
              "      <td>...</td>\n",
              "      <td>...</td>\n",
              "      <td>...</td>\n",
              "      <td>...</td>\n",
              "    </tr>\n",
              "    <tr>\n",
              "      <th>1195</th>\n",
              "      <td>NaN</td>\n",
              "      <td>1986-12-23</td>\n",
              "      <td>5</td>\n",
              "      <td>1</td>\n",
              "      <td>NaT</td>\n",
              "      <td>0</td>\n",
              "      <td>600</td>\n",
              "    </tr>\n",
              "    <tr>\n",
              "      <th>1196</th>\n",
              "      <td>NaN</td>\n",
              "      <td>1992-06-14</td>\n",
              "      <td>6</td>\n",
              "      <td>0</td>\n",
              "      <td>NaT</td>\n",
              "      <td>0</td>\n",
              "      <td>0</td>\n",
              "    </tr>\n",
              "    <tr>\n",
              "      <th>1197</th>\n",
              "      <td>NaN</td>\n",
              "      <td>1981-07-02</td>\n",
              "      <td>5</td>\n",
              "      <td>1</td>\n",
              "      <td>NaT</td>\n",
              "      <td>0</td>\n",
              "      <td>600</td>\n",
              "    </tr>\n",
              "    <tr>\n",
              "      <th>1198</th>\n",
              "      <td>NaN</td>\n",
              "      <td>1981-07-02</td>\n",
              "      <td>1</td>\n",
              "      <td>0</td>\n",
              "      <td>NaT</td>\n",
              "      <td>500</td>\n",
              "      <td>600</td>\n",
              "    </tr>\n",
              "    <tr>\n",
              "      <th>1199</th>\n",
              "      <td>NaN</td>\n",
              "      <td>1992-06-14</td>\n",
              "      <td>7</td>\n",
              "      <td>1</td>\n",
              "      <td>NaT</td>\n",
              "      <td>500</td>\n",
              "      <td>0</td>\n",
              "    </tr>\n",
              "  </tbody>\n",
              "</table>\n",
              "<p>1200 rows × 7 columns</p>\n",
              "</div>\n",
              "      <button class=\"colab-df-convert\" onclick=\"convertToInteractive('df-00835b9a-dd9d-4411-b278-4a4c1f082140')\"\n",
              "              title=\"Convert this dataframe to an interactive table.\"\n",
              "              style=\"display:none;\">\n",
              "        \n",
              "  <svg xmlns=\"http://www.w3.org/2000/svg\" height=\"24px\"viewBox=\"0 0 24 24\"\n",
              "       width=\"24px\">\n",
              "    <path d=\"M0 0h24v24H0V0z\" fill=\"none\"/>\n",
              "    <path d=\"M18.56 5.44l.94 2.06.94-2.06 2.06-.94-2.06-.94-.94-2.06-.94 2.06-2.06.94zm-11 1L8.5 8.5l.94-2.06 2.06-.94-2.06-.94L8.5 2.5l-.94 2.06-2.06.94zm10 10l.94 2.06.94-2.06 2.06-.94-2.06-.94-.94-2.06-.94 2.06-2.06.94z\"/><path d=\"M17.41 7.96l-1.37-1.37c-.4-.4-.92-.59-1.43-.59-.52 0-1.04.2-1.43.59L10.3 9.45l-7.72 7.72c-.78.78-.78 2.05 0 2.83L4 21.41c.39.39.9.59 1.41.59.51 0 1.02-.2 1.41-.59l7.78-7.78 2.81-2.81c.8-.78.8-2.07 0-2.86zM5.41 20L4 18.59l7.72-7.72 1.47 1.35L5.41 20z\"/>\n",
              "  </svg>\n",
              "      </button>\n",
              "      \n",
              "  <style>\n",
              "    .colab-df-container {\n",
              "      display:flex;\n",
              "      flex-wrap:wrap;\n",
              "      gap: 12px;\n",
              "    }\n",
              "\n",
              "    .colab-df-convert {\n",
              "      background-color: #E8F0FE;\n",
              "      border: none;\n",
              "      border-radius: 50%;\n",
              "      cursor: pointer;\n",
              "      display: none;\n",
              "      fill: #1967D2;\n",
              "      height: 32px;\n",
              "      padding: 0 0 0 0;\n",
              "      width: 32px;\n",
              "    }\n",
              "\n",
              "    .colab-df-convert:hover {\n",
              "      background-color: #E2EBFA;\n",
              "      box-shadow: 0px 1px 2px rgba(60, 64, 67, 0.3), 0px 1px 3px 1px rgba(60, 64, 67, 0.15);\n",
              "      fill: #174EA6;\n",
              "    }\n",
              "\n",
              "    [theme=dark] .colab-df-convert {\n",
              "      background-color: #3B4455;\n",
              "      fill: #D2E3FC;\n",
              "    }\n",
              "\n",
              "    [theme=dark] .colab-df-convert:hover {\n",
              "      background-color: #434B5C;\n",
              "      box-shadow: 0px 1px 3px 1px rgba(0, 0, 0, 0.15);\n",
              "      filter: drop-shadow(0px 1px 2px rgba(0, 0, 0, 0.3));\n",
              "      fill: #FFFFFF;\n",
              "    }\n",
              "  </style>\n",
              "\n",
              "      <script>\n",
              "        const buttonEl =\n",
              "          document.querySelector('#df-00835b9a-dd9d-4411-b278-4a4c1f082140 button.colab-df-convert');\n",
              "        buttonEl.style.display =\n",
              "          google.colab.kernel.accessAllowed ? 'block' : 'none';\n",
              "\n",
              "        async function convertToInteractive(key) {\n",
              "          const element = document.querySelector('#df-00835b9a-dd9d-4411-b278-4a4c1f082140');\n",
              "          const dataTable =\n",
              "            await google.colab.kernel.invokeFunction('convertToInteractive',\n",
              "                                                     [key], {});\n",
              "          if (!dataTable) return;\n",
              "\n",
              "          const docLinkHtml = 'Like what you see? Visit the ' +\n",
              "            '<a target=\"_blank\" href=https://colab.research.google.com/notebooks/data_table.ipynb>data table notebook</a>'\n",
              "            + ' to learn more about interactive tables.';\n",
              "          element.innerHTML = '';\n",
              "          dataTable['output_type'] = 'display_data';\n",
              "          await google.colab.output.renderOutput(dataTable, element);\n",
              "          const docLink = document.createElement('div');\n",
              "          docLink.innerHTML = docLinkHtml;\n",
              "          element.appendChild(docLink);\n",
              "        }\n",
              "      </script>\n",
              "    </div>\n",
              "  </div>\n",
              "  "
            ]
          },
          "metadata": {},
          "execution_count": 4
        }
      ]
    },
    {
      "cell_type": "markdown",
      "source": [
        "1st step\n",
        "\n",
        "create a column with the age of the people"
      ],
      "metadata": {
        "id": "8C-G9RZV2dXf"
      }
    },
    {
      "cell_type": "code",
      "source": [
        "def get_ages(col):\n",
        "  result = (datetime.datetime.now()-col.astype('<m8[Y]'))\n",
        "  result = pd.DataFrame(result)\n",
        "  return result"
      ],
      "metadata": {
        "id": "rqhvLSzI2Ydy"
      },
      "execution_count": 9,
      "outputs": []
    },
    {
      "cell_type": "code",
      "source": [
        "from sklearn.preprocessing import FunctionTransformer"
      ],
      "metadata": {
        "id": "udFNxr0U2oX4"
      },
      "execution_count": 7,
      "outputs": []
    },
    {
      "cell_type": "code",
      "source": [
        "ager = Pipeline([\n",
        "    ('ages', FunctionTransformer(get_ages,feature_names_out='one-to-one')),\n",
        "    ('scale', StandardScaler())\n",
        "])"
      ],
      "metadata": {
        "id": "pXaXbiVp2ot3"
      },
      "execution_count": 10,
      "outputs": []
    },
    {
      "cell_type": "markdown",
      "source": [
        "2step\n",
        "\n",
        "create a column with the days of the week"
      ],
      "metadata": {
        "id": "aphO9VOF2vp-"
      }
    },
    {
      "cell_type": "code",
      "source": [
        "def get_weekdays(col):\n",
        "  result = col.iloc[:, 1:].dt.get_weekday\n",
        "  result = pd.DataFrame(result)\n",
        "  return result"
      ],
      "metadata": {
        "id": "UbXk2a-i2q-n"
      },
      "execution_count": 11,
      "outputs": []
    },
    {
      "cell_type": "code",
      "source": [
        "from sklearn.preprocessing import OneHotEncoder"
      ],
      "metadata": {
        "id": "BtFZSlz221t8"
      },
      "execution_count": 12,
      "outputs": []
    },
    {
      "cell_type": "code",
      "source": [
        "weeker = Pipeline([\n",
        "    ('weekd', FunctionTransformer(get_weekdays, feature_names_out='one-to-one'),\n",
        "     ('oneh', OneHotEncoder(drop='first')))\n",
        "])"
      ],
      "metadata": {
        "id": "6FnTR2ZD24v9"
      },
      "execution_count": 13,
      "outputs": []
    },
    {
      "cell_type": "code",
      "source": [
        "preprocessor = ColumnTransformer([\n",
        "    ('ages_tr', ager, ['bdate']),\n",
        "    ('weekd_tr', weeker, ['datep']),\n",
        "    ('team_tr', OneHotEncoder(drop='first'), ['team']),\n",
        "    ('scaler', StandardScaler(), ['prized', 'prizeq'])\n",
        "],\n",
        "remainder='passthrough'\n",
        ")"
      ],
      "metadata": {
        "id": "QFq2q57A260c"
      },
      "execution_count": 14,
      "outputs": []
    },
    {
      "cell_type": "code",
      "source": [
        "x = df.drop('perc_defec', axis=1)\n",
        "y = df['perc_defec']"
      ],
      "metadata": {
        "id": "cBWCK7j-28Zv"
      },
      "execution_count": 15,
      "outputs": []
    },
    {
      "cell_type": "code",
      "source": [
        "x_train, x_test, y_train, y_test = train_test_split(x, y, test_size=0.2, random_state=45)"
      ],
      "metadata": {
        "id": "JJ53aql72_WW"
      },
      "execution_count": 16,
      "outputs": []
    },
    {
      "cell_type": "code",
      "source": [
        "pipe=Pipeline([\n",
        "    ('pre', preprocessor),\n",
        "    ('lm', LinearRegression())\n",
        "])"
      ],
      "metadata": {
        "id": "CqO8_VIS3BR2"
      },
      "execution_count": 17,
      "outputs": []
    },
    {
      "cell_type": "code",
      "source": [
        "# pipe.fit(x_train, y_train)"
      ],
      "metadata": {
        "id": "PcTTnYU93D6I"
      },
      "execution_count": 21,
      "outputs": []
    },
    {
      "cell_type": "code",
      "source": [
        "# y_pred = pipe.predict(x_train)"
      ],
      "metadata": {
        "id": "HbU9EDuF4AJE"
      },
      "execution_count": 20,
      "outputs": []
    }
  ]
}