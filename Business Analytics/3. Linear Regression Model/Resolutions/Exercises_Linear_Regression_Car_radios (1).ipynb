{
  "nbformat": 4,
  "nbformat_minor": 0,
  "metadata": {
    "colab": {
      "provenance": []
    },
    "kernelspec": {
      "name": "python3",
      "display_name": "Python 3"
    },
    "language_info": {
      "name": "python"
    }
  },
  "cells": [
    {
      "cell_type": "markdown",
      "source": [
        "# **LINEAR REGRESSION PROBLEM**"
      ],
      "metadata": {
        "id": "uNAJmIh_ZNtS"
      }
    },
    {
      "cell_type": "markdown",
      "source": [
        "Dataset: Car radios"
      ],
      "metadata": {
        "id": "lGUf_64WZRiT"
      }
    },
    {
      "cell_type": "markdown",
      "source": [
        "A prediction model based on the linear regression model will be developed, to\n",
        "predict the percentage of the defective radios.\n",
        "To predict the percentage of defective radios will help the company to better\n",
        "manage the factors leading to higher percentage of defective radios."
      ],
      "metadata": {
        "id": "VlsTfMiQZWoj"
      }
    },
    {
      "cell_type": "markdown",
      "source": [
        "# **1. INTRODUCTION**\n",
        "\n",
        "We have already explored the dataset of the de defective car radios, essential through plots in the third class. We have gained some intuitive understanding of important predictors. However, we have not yet developed a prediction model. That is what we are now going to do.\n",
        "We will use, as prediction model, the **linear regression model**.\n",
        "The code structure that we will create will be able to be used with other prediction models with minimal changes!"
      ],
      "metadata": {
        "id": "40zeFBiUZXxs"
      }
    },
    {
      "cell_type": "markdown",
      "source": [
        "# **2. DATASET READING**\n",
        "\n",
        "To read the dataset, we will use pandas as usual. We first need to load pandas. Since we will probably use numpy as well later, we can also load numpy too:"
      ],
      "metadata": {
        "id": "fmlPCLgGZoAR"
      }
    },
    {
      "cell_type": "code",
      "execution_count": 79,
      "metadata": {
        "id": "ZewS3010WyqO"
      },
      "outputs": [],
      "source": [
        "import pandas as pd\n",
        "import numpy as np"
      ]
    },
    {
      "cell_type": "code",
      "source": [
        "df = pd.read_excel('/content/data_carradios.xlsx')\n",
        "print(df)"
      ],
      "metadata": {
        "colab": {
          "base_uri": "https://localhost:8080/"
        },
        "id": "ZCkssDB8Z_QG",
        "outputId": "9d7ab6b2-288f-4cc8-dc04-e6396fd0f3f6"
      },
      "execution_count": 80,
      "outputs": [
        {
          "output_type": "stream",
          "name": "stdout",
          "text": [
            "     perc_defec      bdate  team  training      datep  prizeq  prized\n",
            "0          0.00 1981-07-02     8         1 2021-07-01       0       0\n",
            "1         36.32 1992-06-14     6         0 2021-07-02       0       0\n",
            "2         48.91 2003-05-28     7         0 2021-07-05     500       0\n",
            "3         20.36 1992-06-14    10         0 2021-07-06       0       0\n",
            "4         42.07 2003-05-28     7         0 2021-07-07     500       0\n",
            "..          ...        ...   ...       ...        ...     ...     ...\n",
            "995       21.50 1981-07-02     1         0 2021-12-13       0       0\n",
            "996        7.53 1981-07-02     2         0 2021-12-14     500     600\n",
            "997       27.70 1997-12-05    10         0 2021-12-15       0       0\n",
            "998        0.00 1986-12-23     5         0 2021-12-16       0     600\n",
            "999       38.39 1986-12-23     6         0 2021-12-17       0       0\n",
            "\n",
            "[1000 rows x 7 columns]\n"
          ]
        }
      ]
    },
    {
      "cell_type": "markdown",
      "source": [
        "**Preprocessing of data**\n",
        "\n",
        "This step aims to prepare the data to be used by the model. In general, it involves multiple steps. To automate the preprocessing stage, we will use `sklearn` pipelines.\n",
        "\n",
        "The `sklearn` functions need the original dataset separated into two dataframes:\n",
        "* X, which must contain all the predictors;\n",
        "* y, which must contain only the outcome variable.\n",
        "\n",
        "To create dataframes X and y:"
      ],
      "metadata": {
        "id": "OEsBx7D4aUOE"
      }
    },
    {
      "cell_type": "code",
      "source": [
        "X = df.drop('perc_defec', axis=1)\n",
        "y = df ['perc_defec']"
      ],
      "metadata": {
        "id": "4hrdxdQHaIgC"
      },
      "execution_count": 81,
      "outputs": []
    },
    {
      "cell_type": "code",
      "source": [
        "X"
      ],
      "metadata": {
        "colab": {
          "base_uri": "https://localhost:8080/",
          "height": 424
        },
        "id": "ELjx3PT8ak0_",
        "outputId": "59b743f4-eb67-47f5-81ec-0dbdaa2df3f8"
      },
      "execution_count": 82,
      "outputs": [
        {
          "output_type": "execute_result",
          "data": {
            "text/plain": [
              "         bdate  team  training      datep  prizeq  prized\n",
              "0   1981-07-02     8         1 2021-07-01       0       0\n",
              "1   1992-06-14     6         0 2021-07-02       0       0\n",
              "2   2003-05-28     7         0 2021-07-05     500       0\n",
              "3   1992-06-14    10         0 2021-07-06       0       0\n",
              "4   2003-05-28     7         0 2021-07-07     500       0\n",
              "..         ...   ...       ...        ...     ...     ...\n",
              "995 1981-07-02     1         0 2021-12-13       0       0\n",
              "996 1981-07-02     2         0 2021-12-14     500     600\n",
              "997 1997-12-05    10         0 2021-12-15       0       0\n",
              "998 1986-12-23     5         0 2021-12-16       0     600\n",
              "999 1986-12-23     6         0 2021-12-17       0       0\n",
              "\n",
              "[1000 rows x 6 columns]"
            ],
            "text/html": [
              "\n",
              "  <div id=\"df-6863d234-8e48-487e-87ca-b891b6f2ac73\">\n",
              "    <div class=\"colab-df-container\">\n",
              "      <div>\n",
              "<style scoped>\n",
              "    .dataframe tbody tr th:only-of-type {\n",
              "        vertical-align: middle;\n",
              "    }\n",
              "\n",
              "    .dataframe tbody tr th {\n",
              "        vertical-align: top;\n",
              "    }\n",
              "\n",
              "    .dataframe thead th {\n",
              "        text-align: right;\n",
              "    }\n",
              "</style>\n",
              "<table border=\"1\" class=\"dataframe\">\n",
              "  <thead>\n",
              "    <tr style=\"text-align: right;\">\n",
              "      <th></th>\n",
              "      <th>bdate</th>\n",
              "      <th>team</th>\n",
              "      <th>training</th>\n",
              "      <th>datep</th>\n",
              "      <th>prizeq</th>\n",
              "      <th>prized</th>\n",
              "    </tr>\n",
              "  </thead>\n",
              "  <tbody>\n",
              "    <tr>\n",
              "      <th>0</th>\n",
              "      <td>1981-07-02</td>\n",
              "      <td>8</td>\n",
              "      <td>1</td>\n",
              "      <td>2021-07-01</td>\n",
              "      <td>0</td>\n",
              "      <td>0</td>\n",
              "    </tr>\n",
              "    <tr>\n",
              "      <th>1</th>\n",
              "      <td>1992-06-14</td>\n",
              "      <td>6</td>\n",
              "      <td>0</td>\n",
              "      <td>2021-07-02</td>\n",
              "      <td>0</td>\n",
              "      <td>0</td>\n",
              "    </tr>\n",
              "    <tr>\n",
              "      <th>2</th>\n",
              "      <td>2003-05-28</td>\n",
              "      <td>7</td>\n",
              "      <td>0</td>\n",
              "      <td>2021-07-05</td>\n",
              "      <td>500</td>\n",
              "      <td>0</td>\n",
              "    </tr>\n",
              "    <tr>\n",
              "      <th>3</th>\n",
              "      <td>1992-06-14</td>\n",
              "      <td>10</td>\n",
              "      <td>0</td>\n",
              "      <td>2021-07-06</td>\n",
              "      <td>0</td>\n",
              "      <td>0</td>\n",
              "    </tr>\n",
              "    <tr>\n",
              "      <th>4</th>\n",
              "      <td>2003-05-28</td>\n",
              "      <td>7</td>\n",
              "      <td>0</td>\n",
              "      <td>2021-07-07</td>\n",
              "      <td>500</td>\n",
              "      <td>0</td>\n",
              "    </tr>\n",
              "    <tr>\n",
              "      <th>...</th>\n",
              "      <td>...</td>\n",
              "      <td>...</td>\n",
              "      <td>...</td>\n",
              "      <td>...</td>\n",
              "      <td>...</td>\n",
              "      <td>...</td>\n",
              "    </tr>\n",
              "    <tr>\n",
              "      <th>995</th>\n",
              "      <td>1981-07-02</td>\n",
              "      <td>1</td>\n",
              "      <td>0</td>\n",
              "      <td>2021-12-13</td>\n",
              "      <td>0</td>\n",
              "      <td>0</td>\n",
              "    </tr>\n",
              "    <tr>\n",
              "      <th>996</th>\n",
              "      <td>1981-07-02</td>\n",
              "      <td>2</td>\n",
              "      <td>0</td>\n",
              "      <td>2021-12-14</td>\n",
              "      <td>500</td>\n",
              "      <td>600</td>\n",
              "    </tr>\n",
              "    <tr>\n",
              "      <th>997</th>\n",
              "      <td>1997-12-05</td>\n",
              "      <td>10</td>\n",
              "      <td>0</td>\n",
              "      <td>2021-12-15</td>\n",
              "      <td>0</td>\n",
              "      <td>0</td>\n",
              "    </tr>\n",
              "    <tr>\n",
              "      <th>998</th>\n",
              "      <td>1986-12-23</td>\n",
              "      <td>5</td>\n",
              "      <td>0</td>\n",
              "      <td>2021-12-16</td>\n",
              "      <td>0</td>\n",
              "      <td>600</td>\n",
              "    </tr>\n",
              "    <tr>\n",
              "      <th>999</th>\n",
              "      <td>1986-12-23</td>\n",
              "      <td>6</td>\n",
              "      <td>0</td>\n",
              "      <td>2021-12-17</td>\n",
              "      <td>0</td>\n",
              "      <td>0</td>\n",
              "    </tr>\n",
              "  </tbody>\n",
              "</table>\n",
              "<p>1000 rows × 6 columns</p>\n",
              "</div>\n",
              "      <button class=\"colab-df-convert\" onclick=\"convertToInteractive('df-6863d234-8e48-487e-87ca-b891b6f2ac73')\"\n",
              "              title=\"Convert this dataframe to an interactive table.\"\n",
              "              style=\"display:none;\">\n",
              "        \n",
              "  <svg xmlns=\"http://www.w3.org/2000/svg\" height=\"24px\"viewBox=\"0 0 24 24\"\n",
              "       width=\"24px\">\n",
              "    <path d=\"M0 0h24v24H0V0z\" fill=\"none\"/>\n",
              "    <path d=\"M18.56 5.44l.94 2.06.94-2.06 2.06-.94-2.06-.94-.94-2.06-.94 2.06-2.06.94zm-11 1L8.5 8.5l.94-2.06 2.06-.94-2.06-.94L8.5 2.5l-.94 2.06-2.06.94zm10 10l.94 2.06.94-2.06 2.06-.94-2.06-.94-.94-2.06-.94 2.06-2.06.94z\"/><path d=\"M17.41 7.96l-1.37-1.37c-.4-.4-.92-.59-1.43-.59-.52 0-1.04.2-1.43.59L10.3 9.45l-7.72 7.72c-.78.78-.78 2.05 0 2.83L4 21.41c.39.39.9.59 1.41.59.51 0 1.02-.2 1.41-.59l7.78-7.78 2.81-2.81c.8-.78.8-2.07 0-2.86zM5.41 20L4 18.59l7.72-7.72 1.47 1.35L5.41 20z\"/>\n",
              "  </svg>\n",
              "      </button>\n",
              "      \n",
              "  <style>\n",
              "    .colab-df-container {\n",
              "      display:flex;\n",
              "      flex-wrap:wrap;\n",
              "      gap: 12px;\n",
              "    }\n",
              "\n",
              "    .colab-df-convert {\n",
              "      background-color: #E8F0FE;\n",
              "      border: none;\n",
              "      border-radius: 50%;\n",
              "      cursor: pointer;\n",
              "      display: none;\n",
              "      fill: #1967D2;\n",
              "      height: 32px;\n",
              "      padding: 0 0 0 0;\n",
              "      width: 32px;\n",
              "    }\n",
              "\n",
              "    .colab-df-convert:hover {\n",
              "      background-color: #E2EBFA;\n",
              "      box-shadow: 0px 1px 2px rgba(60, 64, 67, 0.3), 0px 1px 3px 1px rgba(60, 64, 67, 0.15);\n",
              "      fill: #174EA6;\n",
              "    }\n",
              "\n",
              "    [theme=dark] .colab-df-convert {\n",
              "      background-color: #3B4455;\n",
              "      fill: #D2E3FC;\n",
              "    }\n",
              "\n",
              "    [theme=dark] .colab-df-convert:hover {\n",
              "      background-color: #434B5C;\n",
              "      box-shadow: 0px 1px 3px 1px rgba(0, 0, 0, 0.15);\n",
              "      filter: drop-shadow(0px 1px 2px rgba(0, 0, 0, 0.3));\n",
              "      fill: #FFFFFF;\n",
              "    }\n",
              "  </style>\n",
              "\n",
              "      <script>\n",
              "        const buttonEl =\n",
              "          document.querySelector('#df-6863d234-8e48-487e-87ca-b891b6f2ac73 button.colab-df-convert');\n",
              "        buttonEl.style.display =\n",
              "          google.colab.kernel.accessAllowed ? 'block' : 'none';\n",
              "\n",
              "        async function convertToInteractive(key) {\n",
              "          const element = document.querySelector('#df-6863d234-8e48-487e-87ca-b891b6f2ac73');\n",
              "          const dataTable =\n",
              "            await google.colab.kernel.invokeFunction('convertToInteractive',\n",
              "                                                     [key], {});\n",
              "          if (!dataTable) return;\n",
              "\n",
              "          const docLinkHtml = 'Like what you see? Visit the ' +\n",
              "            '<a target=\"_blank\" href=https://colab.research.google.com/notebooks/data_table.ipynb>data table notebook</a>'\n",
              "            + ' to learn more about interactive tables.';\n",
              "          element.innerHTML = '';\n",
              "          dataTable['output_type'] = 'display_data';\n",
              "          await google.colab.output.renderOutput(dataTable, element);\n",
              "          const docLink = document.createElement('div');\n",
              "          docLink.innerHTML = docLinkHtml;\n",
              "          element.appendChild(docLink);\n",
              "        }\n",
              "      </script>\n",
              "    </div>\n",
              "  </div>\n",
              "  "
            ]
          },
          "metadata": {},
          "execution_count": 82
        }
      ]
    },
    {
      "cell_type": "code",
      "source": [
        "y"
      ],
      "metadata": {
        "colab": {
          "base_uri": "https://localhost:8080/"
        },
        "id": "e3UgfwZZalwv",
        "outputId": "1d54b3aa-d1eb-4572-b8a9-fb62cb8270d6"
      },
      "execution_count": 83,
      "outputs": [
        {
          "output_type": "execute_result",
          "data": {
            "text/plain": [
              "0       0.00\n",
              "1      36.32\n",
              "2      48.91\n",
              "3      20.36\n",
              "4      42.07\n",
              "       ...  \n",
              "995    21.50\n",
              "996     7.53\n",
              "997    27.70\n",
              "998     0.00\n",
              "999    38.39\n",
              "Name: perc_defec, Length: 1000, dtype: float64"
            ]
          },
          "metadata": {},
          "execution_count": 83
        }
      ]
    },
    {
      "cell_type": "markdown",
      "source": [
        "**Split of data into train and test sets**\n",
        "\n",
        "O `train data` é utilizado para ajustar os parâmetros do modelo, ou seja, para treinar o modelo, enquanto o `test data` é utilizado para avaliar o desempenho do modelo em dados não vistos durante o treinamento.\n",
        "Existem várias razões pelas quais esta divisão é importante: avaliação do desempenho do modelo e evitar o overfitting.\n",
        "\n",
        "We will randomly split the data into train and test sets:\n",
        "\n",
        "* train set - we will create the model (usual 80%)\n",
        "* test set - to get an idea about how the model will work with unseen cases (usual 20%)"
      ],
      "metadata": {
        "id": "tB9xAu8Uaswd"
      }
    },
    {
      "cell_type": "code",
      "source": [
        "from sklearn.model_selection import train_test_split"
      ],
      "metadata": {
        "id": "evWXm9EsamWu"
      },
      "execution_count": 84,
      "outputs": []
    },
    {
      "cell_type": "code",
      "source": [
        "X_train, X_test, y_train, y_test = train_test_split(X, y, test_size=0.2, random_state=45)"
      ],
      "metadata": {
        "id": "056Kf7xubaH0"
      },
      "execution_count": 85,
      "outputs": []
    },
    {
      "cell_type": "markdown",
      "source": [
        "# **3. PIPELINES CREATION**\n",
        "\n",
        "As already seen in the third classroom (plots on this dataset), we need to transform the birth date and the date of production to ages and weekdays, respectively. We can automate that transformation by using `pipelines` and `column transformer`."
      ],
      "metadata": {
        "id": "l5qzDPhbbosj"
      }
    },
    {
      "cell_type": "markdown",
      "source": [
        "**1ST - AGES**"
      ],
      "metadata": {
        "id": "ADkYtsCKkqL_"
      }
    },
    {
      "cell_type": "code",
      "source": [
        "from sklearn.pipeline import Pipeline\n",
        "from sklearn.compose import ColumnTransformer"
      ],
      "metadata": {
        "id": "cXu2yxX6blQy"
      },
      "execution_count": 86,
      "outputs": []
    },
    {
      "cell_type": "markdown",
      "source": [
        "Since we need to use function now of library `datetime`, we need to load that library:"
      ],
      "metadata": {
        "id": "hZEFYerHcaev"
      }
    },
    {
      "cell_type": "code",
      "source": [
        "import datetime"
      ],
      "metadata": {
        "id": "hN3ZCQT7cUJb"
      },
      "execution_count": 87,
      "outputs": []
    },
    {
      "cell_type": "markdown",
      "source": [
        "We now create a `function` that, **given a column of dates, returns a column of ages**. For the sake of a better integration with pipelines and column transformers, the column is expected to be a dataframe and the returned result is also expected to be a dataframe."
      ],
      "metadata": {
        "id": "U5EcvSGIdEGQ"
      }
    },
    {
      "cell_type": "code",
      "source": [
        "def get_ages(col):\n",
        "  result = (datetime.datetime.now() - col).astype('<m8[Y]') # Calculate the age difference in years between the current datetime and the values in the column\n",
        "  result = pd.DataFrame(result) # Convert the resulting numpy array to a pandas DataFrame\n",
        "  return result # Return the resulting DataFrame"
      ],
      "metadata": {
        "id": "74Ag32XOcfGA"
      },
      "execution_count": 88,
      "outputs": []
    },
    {
      "cell_type": "markdown",
      "source": [
        "The given code defines a function `get_ages` which takes a pandas DataFrame column `col` containing datetime values as input. It calculates the difference between the current datetime and the values in the column `col`, in years, using the astype method of the pandas DataFrame. The resulting values are then stored in a new pandas DataFrame `result` and returned by the function."
      ],
      "metadata": {
        "id": "DTPACWTtd57X"
      }
    },
    {
      "cell_type": "markdown",
      "source": [
        "Because get_ages is a user-defined function (and not an embedded Python function), we need to use `FunctionTransformer` function:"
      ],
      "metadata": {
        "id": "7JBg0mMneFAz"
      }
    },
    {
      "cell_type": "code",
      "source": [
        "from sklearn.preprocessing import FunctionTransformer"
      ],
      "metadata": {
        "id": "Ii-eUwPtdfn4"
      },
      "execution_count": 89,
      "outputs": []
    },
    {
      "cell_type": "markdown",
      "source": [
        "To create a pipeline with `get_ages` function, we can do:"
      ],
      "metadata": {
        "id": "pkD2y9EqeOzI"
      }
    },
    {
      "cell_type": "code",
      "source": [
        "from sklearn.pipeline import Pipeline"
      ],
      "metadata": {
        "id": "m0wn07HOeWZf"
      },
      "execution_count": 90,
      "outputs": []
    },
    {
      "cell_type": "code",
      "source": [
        "ager = Pipeline([\n",
        "    ('ages', FunctionTransformer(get_ages, feature_names_out='one-to-one'))\n",
        "])"
      ],
      "metadata": {
        "id": "yBPuOxTgeMoj"
      },
      "execution_count": 91,
      "outputs": []
    },
    {
      "cell_type": "markdown",
      "source": [
        "The purpose of setting `feature_names_out='one-to-one'` is to specify the name of the feature produced by the `FunctionTransformer`.\n",
        "\n",
        "Since we will use get_ages only on column bdate, the bdate name will be passed\n",
        "on to the respective chained pipelines and transformers. (If we do not use\n",
        "feature_names_out='one-to-one', we will not be able to get the names of the\n",
        "coefficients of the model, after the model is fit!)"
      ],
      "metadata": {
        "id": "cBas8yMogaqZ"
      }
    },
    {
      "cell_type": "markdown",
      "source": [
        "**Scaling the data**\n",
        "\n",
        "Considering that we need to scale the column bdate after having it converted to ages, we need to add a `scaler` to the pipeline ager and beforehand load the respective function:"
      ],
      "metadata": {
        "id": "pkdsQ6-ghDko"
      }
    },
    {
      "cell_type": "code",
      "source": [
        "from sklearn.preprocessing import StandardScaler"
      ],
      "metadata": {
        "id": "a5FTJeucetCM"
      },
      "execution_count": 92,
      "outputs": []
    },
    {
      "cell_type": "code",
      "source": [
        "ager = Pipeline([\n",
        "    ('ages', FunctionTransformer(get_ages, feature_names_out='one-to-one')),\n",
        "    ('scale', StandardScaler())\n",
        "])"
      ],
      "metadata": {
        "id": "SjQdkMtShXGU"
      },
      "execution_count": 93,
      "outputs": []
    },
    {
      "cell_type": "markdown",
      "source": [
        "Now that we have the `ager pipeline` ready, we can insert it into the ColumnTranformer.\n",
        "We must be warned that we will only define the ColumnTransformer, but, for now, we\n",
        "will not run it – we run it only when we run pipe.fit. Consequently, no change in any column of the dataframe will take place until we run `pipe.fit`.\n"
      ],
      "metadata": {
        "id": "vp9TXUZ9huN-"
      }
    },
    {
      "cell_type": "markdown",
      "source": [
        "**NOTE:** until now the scaler is just defined and is not applied to any column. Before the scaler is applied to any column, we need to tell Python which columns we want to scale. To accomplish that, we need to use `ColumnTransformer`. In this case, we only want to scale `bdate`.\n",
        "\n",
        "The `ColumnTransformer`:"
      ],
      "metadata": {
        "id": "x5xRSrOjiKTA"
      }
    },
    {
      "cell_type": "code",
      "source": [
        "from sklearn.compose import ColumnTransformer"
      ],
      "metadata": {
        "id": "Tb54YUREiP0d"
      },
      "execution_count": 94,
      "outputs": []
    },
    {
      "cell_type": "code",
      "source": [
        "preprocessor = ColumnTransformer([\n",
        "    ('age_tr', ager, ['bdate'])],\n",
        "    remainder = 'passthrough')"
      ],
      "metadata": {
        "id": "Ar8adMVuhnEp"
      },
      "execution_count": 95,
      "outputs": []
    },
    {
      "cell_type": "markdown",
      "source": [
        "NOTE - `remainder` stands for the remain (o que sobra) and not reminder (lembrar)."
      ],
      "metadata": {
        "id": "Ughw-HGhylHL"
      }
    },
    {
      "cell_type": "markdown",
      "source": [
        "# **RESUMO DOS PASSOS ATÉ AGORA:**\n",
        "\n",
        "O código que você mencionou está usando um pipeline que envolve várias etapas de processamento de dados:\n",
        "\n",
        "1. Definição da função `get_ages`: Esta função calcula a idade em anos a partir de uma coluna de datas de nascimento. A função recebe uma coluna de datas como entrada e retorna uma coluna de idades correspondentes.\n",
        "\n",
        "2. Criação do pipeline `ager`: Este pipeline usa a classe Pipeline do scikit-learn para construir uma sequência de etapas de processamento de dados. A única etapa neste pipeline é o transformador FunctionTransformer, que é usado para aplicar a função get_ages a uma coluna de dados. O parâmetro feature_names_out é usado para especificar o nome da coluna de saída produzida pelo transformador.\n",
        "\n",
        "3. Aplicação do `scaler`: Depois de obter as idades a partir da coluna de datas de nascimento, é comum escalar os dados para garantir que todas as variáveis tenham a mesma escala. Isso é feito para evitar que variáveis com unidades ou escalas diferentes tenham pesos desproporcionais em modelos de machine learning. O código que você mencionou não inclui o scaler, mas normalmente ele seria adicionado após a etapa ager.\n",
        "\n",
        "4. Criação do `preprocessor`: O preprocessor é um objeto ColumnTransformer que é usado para aplicar transformações específicas a colunas de dados específicas. Neste caso, o preprocessor está definido para aplicar o pipeline ager à coluna com o nome \"birth_date\". Isso significa que o preprocessor aplica a função get_ages a essa coluna para calcular as idades correspondentes e, em seguida, aplica o scaler aos dados resultantes.\n",
        "\n",
        "**=> O pipeline completo é usado para aplicar transformações específicas aos dados de entrada para prepará-los para a modelagem de machine learning. A função get_ages é usada para calcular as idades a partir da coluna de datas de nascimento, o scaler é usado para garantir que todas as variáveis tenham a mesma escala e o preprocessor é usado para aplicar essas transformações específicas às colunas de dados específicas.**\n",
        "\n",
        "\n",
        "\n"
      ],
      "metadata": {
        "id": "Bt-1IV2ejvEq"
      }
    },
    {
      "cell_type": "markdown",
      "source": [
        "How can we be sure the column transformation is being done correctly?"
      ],
      "metadata": {
        "id": "pcOsy_ohkPMb"
      }
    },
    {
      "cell_type": "code",
      "source": [
        "preprocessor.fit_transform(X_train)"
      ],
      "metadata": {
        "colab": {
          "base_uri": "https://localhost:8080/"
        },
        "id": "276thkJui8sw",
        "outputId": "9722a55b-fca2-4d72-cf9a-776667fd61f8"
      },
      "execution_count": 96,
      "outputs": [
        {
          "output_type": "execute_result",
          "data": {
            "text/plain": [
              "array([[-1.0050044058180092, 5, 0, Timestamp('2021-07-23 00:00:00'), 0,\n",
              "        600],\n",
              "       [0.07540346605801468, 10, 0, Timestamp('2021-10-06 00:00:00'), 0,\n",
              "        0],\n",
              "       [0.07540346605801468, 2, 0, Timestamp('2021-07-05 00:00:00'), 500,\n",
              "        600],\n",
              "       ...,\n",
              "       [0.07540346605801468, 9, 0, Timestamp('2021-09-30 00:00:00'), 500,\n",
              "        600],\n",
              "       [-1.9053442990480292, 10, 0, Timestamp('2021-08-30 00:00:00'), 0,\n",
              "        0],\n",
              "       [0.07540346605801468, 2, 0, Timestamp('2021-11-09 00:00:00'), 500,\n",
              "        600]], dtype=object)"
            ]
          },
          "metadata": {},
          "execution_count": 96
        }
      ]
    },
    {
      "cell_type": "markdown",
      "source": [
        "It is clear that the first column of the dataframe, `bdate` was transformed."
      ],
      "metadata": {
        "id": "b9hByMaFkhlo"
      }
    },
    {
      "cell_type": "markdown",
      "source": [
        "**2ND - WEEKDAYS**"
      ],
      "metadata": {
        "id": "j2app6Vdkwaf"
      }
    },
    {
      "cell_type": "markdown",
      "source": [
        "We first create a function, `get_weekdays`, that, given a column of dates, returns the respective weekdays. As already discussed, for the sake of a better integration with pipelines and column transformers, the column is expected to be a dataframe and the returned result is also expected to be a dataframe."
      ],
      "metadata": {
        "id": "1kd8CGFek3Ux"
      }
    },
    {
      "cell_type": "code",
      "source": [
        "def get_weekdays(col):\n",
        "  result = col.iloc[:,0].dt.weekday\n",
        "  result = pd.DataFrame(result)\n",
        "  return result"
      ],
      "metadata": {
        "id": "8e45P84kkZM1"
      },
      "execution_count": 104,
      "outputs": []
    },
    {
      "cell_type": "markdown",
      "source": [
        "Esta função `get_weekdays` recebe uma coluna de datas como entrada (`col`), extrai o dia da semana correspondente a cada data e retorna uma coluna de inteiros contendo os dias da semana correspondentes.\n",
        "\n",
        "A primeira linha da função (`col.iloc[:,0]`) extrai todas as linhas `:` da primeira coluna `0` ([:,0] é uma forma de indexação do pandas) da entrada, assumindo que a entrada é um DataFrame com apenas uma coluna.\n",
        "\n",
        "Em seguida, a função `dt.weekday` é aplicada a essa coluna para extrair o dia da semana correspondente a cada data.\n",
        "\n",
        "De seguida, o código cria um objeto pandas DataFrame a partir do resultado obtido.\n"
      ],
      "metadata": {
        "id": "eJeI3mvHpM8Q"
      }
    },
    {
      "cell_type": "markdown",
      "source": [
        "To create a pipeline with `get_weekdays` function, we can do:\n"
      ],
      "metadata": {
        "id": "V-kPpYdurYq2"
      }
    },
    {
      "cell_type": "code",
      "source": [
        "weeker = Pipeline([\n",
        "    ('weekd', FunctionTransformer(get_weekdays, feature_names_out='one-to-one'))\n",
        "])"
      ],
      "metadata": {
        "id": "0a5l9ygbpMZd"
      },
      "execution_count": 106,
      "outputs": []
    },
    {
      "cell_type": "markdown",
      "source": [
        "We can add this pipeline to the ColumnTransformer:"
      ],
      "metadata": {
        "id": "KUz_ch1Mr5Ci"
      }
    },
    {
      "cell_type": "code",
      "source": [
        "preprocessor = ColumnTransformer([\n",
        "    ('age_tr', ager, ['bdate']),\n",
        "    ('week_tr', weeker, ['datep'])],\n",
        "    remainder='passthrough')"
      ],
      "metadata": {
        "id": "ZdqKsZuFrr8H"
      },
      "execution_count": 107,
      "outputs": []
    },
    {
      "cell_type": "markdown",
      "source": [
        "The transformed column assumes values of 0, 1, 3 and 4. These numbers do not represent a numerical amount: They are instead categories. When a predictor is categorical, it is recommended to transform them to **dummy variables**, using an `one-hot conversion`."
      ],
      "metadata": {
        "id": "BK9YUh9dsXzm"
      }
    },
    {
      "cell_type": "markdown",
      "source": [
        "**NOTE:**\n",
        "\n",
        "To see how the one-hot conversion works, consider a categorical variable X, having three classes A, B and C. The one-hot conversion transforms the original categorical variable into as many variables as classes, one for each class, and, for each one of these newly created variables, it sets to 1 whether the value of X is of the respective class and 0\n",
        "otherwise.\n",
        "\n",
        "Notice that: if X_A and X_B are both zero, then the class is C; if X_A and X_C are both zero, then the class is B; if X_B and X_C are both zero, then the class is A. In sum, each of these binary variables is fully determined by the other binary variables. Consequently, we can remove one of these binary variable, as being redundant.\n",
        "\n",
        "Having us learned the one-hot encoding, we can add it to the pipeline weeker. But before, we need to load `OneHotEncoder` function:"
      ],
      "metadata": {
        "id": "uq0fBdmcs6av"
      }
    },
    {
      "cell_type": "code",
      "source": [
        "from sklearn.preprocessing import OneHotEncoder"
      ],
      "metadata": {
        "id": "nPKlsyhksVYk"
      },
      "execution_count": 100,
      "outputs": []
    },
    {
      "cell_type": "markdown",
      "source": [
        "Adding the one-hot encoding to the pipelien weeker:"
      ],
      "metadata": {
        "id": "q5VREdMhtmlK"
      }
    },
    {
      "cell_type": "code",
      "source": [
        "weeker = Pipeline([\n",
        "    ('weekd', FunctionTransformer(get_weekdays, feature_names_out='one-to-one')),\n",
        "    ('onehot', OneHotEncoder(drop='first'))\n",
        "])"
      ],
      "metadata": {
        "id": "naXnGjLrtSH4"
      },
      "execution_count": 108,
      "outputs": []
    },
    {
      "cell_type": "markdown",
      "source": [
        "We are dropping the first binary variable (`drop='first'`), because of **multicolinearity**. Since one of the binary variables, resulting from the `one-hot encoding`, is fully determined\n",
        "by the other binary variables, one binary variable is redundant and must be removed from the linear regression model, as it is known that multicolinearity impacts negatively the  predictive performance of the linear regression model."
      ],
      "metadata": {
        "id": "Z3pz34bYt1C9"
      }
    },
    {
      "cell_type": "markdown",
      "source": [
        "To check if the one-hot encoding was done correctly, we can do:"
      ],
      "metadata": {
        "id": "BJOKFZfcuL6c"
      }
    },
    {
      "cell_type": "code",
      "source": [
        "preprocessor = ColumnTransformer([\n",
        "    ('age_tr', ager, ['bdate']),\n",
        "    ('week_tr', weeker, ['datep'])],\n",
        "    remainder='passthrough')\n",
        "\n",
        "preprocessor.fit_transform(X_train)[:3, :]"
      ],
      "metadata": {
        "colab": {
          "base_uri": "https://localhost:8080/"
        },
        "id": "qJbYykHct0aA",
        "outputId": "6770c177-7dd9-4874-8a74-40f92cba4d27"
      },
      "execution_count": 109,
      "outputs": [
        {
          "output_type": "execute_result",
          "data": {
            "text/plain": [
              "array([[-1.00500441e+00,  0.00000000e+00,  0.00000000e+00,\n",
              "         0.00000000e+00,  1.00000000e+00,  5.00000000e+00,\n",
              "         0.00000000e+00,  0.00000000e+00,  6.00000000e+02],\n",
              "       [ 7.54034661e-02,  0.00000000e+00,  1.00000000e+00,\n",
              "         0.00000000e+00,  0.00000000e+00,  1.00000000e+01,\n",
              "         0.00000000e+00,  0.00000000e+00,  0.00000000e+00],\n",
              "       [ 7.54034661e-02,  0.00000000e+00,  0.00000000e+00,\n",
              "         0.00000000e+00,  0.00000000e+00,  2.00000000e+00,\n",
              "         0.00000000e+00,  5.00000000e+02,  6.00000000e+02]])"
            ]
          },
          "metadata": {},
          "execution_count": 109
        }
      ]
    },
    {
      "cell_type": "markdown",
      "source": [
        "Everything seems to be fine, as we see more columns than before, a sign that the onehot encoding is being performed (it creates more columns, corresponding to the binary variables)."
      ],
      "metadata": {
        "id": "Vu5Xo8AiuzfR"
      }
    },
    {
      "cell_type": "markdown",
      "source": [
        "Since the `team` variable is also categorical, we need to one-hot encode it:"
      ],
      "metadata": {
        "id": "VkWGICdwu73U"
      }
    },
    {
      "cell_type": "code",
      "source": [
        "preprocessor = ColumnTransformer([\n",
        "    ('age_tr', ager, ['bdate']),\n",
        "    ('week_tr', weeker, ['datep']),\n",
        "    ('team_tr', OneHotEncoder(drop='first'), ['team'])],\n",
        "    remainder='passthrough')"
      ],
      "metadata": {
        "id": "31BIxtIEubcg"
      },
      "execution_count": 110,
      "outputs": []
    },
    {
      "cell_type": "markdown",
      "source": [
        "Finnaly, we need to scale the prize columns:"
      ],
      "metadata": {
        "id": "zyl3UWo9vXii"
      }
    },
    {
      "cell_type": "code",
      "source": [
        "from sklearn.preprocessing import StandardScaler"
      ],
      "metadata": {
        "id": "eWF_THIfvTJO"
      },
      "execution_count": 111,
      "outputs": []
    },
    {
      "cell_type": "code",
      "source": [
        "preprocessor = ColumnTransformer([\n",
        "    ('age_tr', ager, ['bdate']),\n",
        "    ('week_tr', weeker, ['datep']),\n",
        "    ('team_tr', OneHotEncoder(drop='first'), ['team']),\n",
        "    ('scale_tr', StandardScaler(), ['prized', 'prizeq'])],\n",
        "    remainder='passthrough')"
      ],
      "metadata": {
        "id": "aHnT9P_bvi1i"
      },
      "execution_count": 113,
      "outputs": []
    },
    {
      "cell_type": "markdown",
      "source": [
        "We may wonder about the question: Why have not we used pipelines to transform columns\n",
        "team, prizeq and prized? We could have used pipelines as well – it would also work fine. However, since the transformation of the mentioned columns consists only of a single step,\n",
        "we can avoid using pipelines."
      ],
      "metadata": {
        "id": "LAuVt7qzwGhh"
      }
    },
    {
      "cell_type": "markdown",
      "source": [
        "# APANHADO DO QUE FIZEMOS ATÉ AGORA\n",
        "\n",
        "Primeiro criámos um preprocessor com a função e scaler para calcular os anos (ager), depois um preprocessor para os dias da semana com uma função em que tivemos que usar a functiontransformer para criar o pipeline, depois tivemos de usar nos dias da semana o onehot encoder (weeker). O preprocessor atualizou e ficou com dias da semana binárias e anos. A este preprocessor acrescentamos uma column transformer onde eliminarmos a primeira categoria da variável equipa e ainda escalamos duas variáveis (prized e prizeq).\n",
        "\n",
        "**=> Ao colocar todos esses componentes em um único pré-processador, tornou-se mais fácil criar e ajustar o modelo de regressão linear final, pois todas as etapas de pré-processamento foram consolidadas em um único objeto que pode ser facilmente passado como entrada para a função de ajuste do modelo.**\n"
      ],
      "metadata": {
        "id": "vu4bw5P0xjr5"
      }
    },
    {
      "cell_type": "markdown",
      "source": [
        "# **4.MODEL CREATION AND ESTIMATION**"
      ],
      "metadata": {
        "id": "P44GKml5x4-J"
      }
    },
    {
      "cell_type": "markdown",
      "source": [
        "All preprocessing if defined. Now, we need to define the pipeline with the model."
      ],
      "metadata": {
        "id": "uztORejiyFej"
      }
    },
    {
      "cell_type": "code",
      "source": [
        "from sklearn.linear_model import LinearRegression"
      ],
      "metadata": {
        "id": "R6l1kWhrvt4Z"
      },
      "execution_count": 114,
      "outputs": []
    },
    {
      "cell_type": "code",
      "source": [
        "pipe = Pipeline([\n",
        "    ('pre', preprocessor),\n",
        "    ('lm',  LinearRegression())\n",
        "])"
      ],
      "metadata": {
        "id": "Impc3Ys_ySCV"
      },
      "execution_count": 115,
      "outputs": []
    },
    {
      "cell_type": "markdown",
      "source": [
        "Now, we can adjust the linear regression model using the previously defined pipeline.\n",
        "\n",
        "\"fit\" significa que estamos ajustando todas as etapas de pré-processamento e o modelo de regressão linear em conjunto, usando o método `fit()` do objeto `Pipeline`."
      ],
      "metadata": {
        "id": "wZjbQD9Kyu6P"
      }
    },
    {
      "cell_type": "code",
      "source": [
        "pipe.fit(X_train, y_train)"
      ],
      "metadata": {
        "colab": {
          "base_uri": "https://localhost:8080/",
          "height": 227
        },
        "id": "JUh6bT0Xydx0",
        "outputId": "2eea62db-2cf7-47a2-acbd-b509f5be5ef9"
      },
      "execution_count": 116,
      "outputs": [
        {
          "output_type": "execute_result",
          "data": {
            "text/plain": [
              "Pipeline(steps=[('pre',\n",
              "                 ColumnTransformer(remainder='passthrough',\n",
              "                                   transformers=[('age_tr',\n",
              "                                                  Pipeline(steps=[('ages',\n",
              "                                                                   FunctionTransformer(feature_names_out='one-to-one',\n",
              "                                                                                       func=<function get_ages at 0x7fd359de3b80>)),\n",
              "                                                                  ('scale',\n",
              "                                                                   StandardScaler())]),\n",
              "                                                  ['bdate']),\n",
              "                                                 ('week_tr',\n",
              "                                                  Pipeline(steps=[('weekd',\n",
              "                                                                   FunctionTransformer(feature_names_out='one-to-one',\n",
              "                                                                                       func=<function get_weekdays at 0x7fd31e507430>)),\n",
              "                                                                  ('onehot',\n",
              "                                                                   OneHotEncoder(drop='first'))]),\n",
              "                                                  ['datep']),\n",
              "                                                 ('team_tr',\n",
              "                                                  OneHotEncoder(drop='first'),\n",
              "                                                  ['team']),\n",
              "                                                 ('scale_tr', StandardScaler(),\n",
              "                                                  ['prized', 'prizeq'])])),\n",
              "                ('lm', LinearRegression())])"
            ],
            "text/html": [
              "<style>#sk-container-id-3 {color: black;background-color: white;}#sk-container-id-3 pre{padding: 0;}#sk-container-id-3 div.sk-toggleable {background-color: white;}#sk-container-id-3 label.sk-toggleable__label {cursor: pointer;display: block;width: 100%;margin-bottom: 0;padding: 0.3em;box-sizing: border-box;text-align: center;}#sk-container-id-3 label.sk-toggleable__label-arrow:before {content: \"▸\";float: left;margin-right: 0.25em;color: #696969;}#sk-container-id-3 label.sk-toggleable__label-arrow:hover:before {color: black;}#sk-container-id-3 div.sk-estimator:hover label.sk-toggleable__label-arrow:before {color: black;}#sk-container-id-3 div.sk-toggleable__content {max-height: 0;max-width: 0;overflow: hidden;text-align: left;background-color: #f0f8ff;}#sk-container-id-3 div.sk-toggleable__content pre {margin: 0.2em;color: black;border-radius: 0.25em;background-color: #f0f8ff;}#sk-container-id-3 input.sk-toggleable__control:checked~div.sk-toggleable__content {max-height: 200px;max-width: 100%;overflow: auto;}#sk-container-id-3 input.sk-toggleable__control:checked~label.sk-toggleable__label-arrow:before {content: \"▾\";}#sk-container-id-3 div.sk-estimator input.sk-toggleable__control:checked~label.sk-toggleable__label {background-color: #d4ebff;}#sk-container-id-3 div.sk-label input.sk-toggleable__control:checked~label.sk-toggleable__label {background-color: #d4ebff;}#sk-container-id-3 input.sk-hidden--visually {border: 0;clip: rect(1px 1px 1px 1px);clip: rect(1px, 1px, 1px, 1px);height: 1px;margin: -1px;overflow: hidden;padding: 0;position: absolute;width: 1px;}#sk-container-id-3 div.sk-estimator {font-family: monospace;background-color: #f0f8ff;border: 1px dotted black;border-radius: 0.25em;box-sizing: border-box;margin-bottom: 0.5em;}#sk-container-id-3 div.sk-estimator:hover {background-color: #d4ebff;}#sk-container-id-3 div.sk-parallel-item::after {content: \"\";width: 100%;border-bottom: 1px solid gray;flex-grow: 1;}#sk-container-id-3 div.sk-label:hover label.sk-toggleable__label {background-color: #d4ebff;}#sk-container-id-3 div.sk-serial::before {content: \"\";position: absolute;border-left: 1px solid gray;box-sizing: border-box;top: 0;bottom: 0;left: 50%;z-index: 0;}#sk-container-id-3 div.sk-serial {display: flex;flex-direction: column;align-items: center;background-color: white;padding-right: 0.2em;padding-left: 0.2em;position: relative;}#sk-container-id-3 div.sk-item {position: relative;z-index: 1;}#sk-container-id-3 div.sk-parallel {display: flex;align-items: stretch;justify-content: center;background-color: white;position: relative;}#sk-container-id-3 div.sk-item::before, #sk-container-id-3 div.sk-parallel-item::before {content: \"\";position: absolute;border-left: 1px solid gray;box-sizing: border-box;top: 0;bottom: 0;left: 50%;z-index: -1;}#sk-container-id-3 div.sk-parallel-item {display: flex;flex-direction: column;z-index: 1;position: relative;background-color: white;}#sk-container-id-3 div.sk-parallel-item:first-child::after {align-self: flex-end;width: 50%;}#sk-container-id-3 div.sk-parallel-item:last-child::after {align-self: flex-start;width: 50%;}#sk-container-id-3 div.sk-parallel-item:only-child::after {width: 0;}#sk-container-id-3 div.sk-dashed-wrapped {border: 1px dashed gray;margin: 0 0.4em 0.5em 0.4em;box-sizing: border-box;padding-bottom: 0.4em;background-color: white;}#sk-container-id-3 div.sk-label label {font-family: monospace;font-weight: bold;display: inline-block;line-height: 1.2em;}#sk-container-id-3 div.sk-label-container {text-align: center;}#sk-container-id-3 div.sk-container {/* jupyter's `normalize.less` sets `[hidden] { display: none; }` but bootstrap.min.css set `[hidden] { display: none !important; }` so we also need the `!important` here to be able to override the default hidden behavior on the sphinx rendered scikit-learn.org. See: https://github.com/scikit-learn/scikit-learn/issues/21755 */display: inline-block !important;position: relative;}#sk-container-id-3 div.sk-text-repr-fallback {display: none;}</style><div id=\"sk-container-id-3\" class=\"sk-top-container\"><div class=\"sk-text-repr-fallback\"><pre>Pipeline(steps=[(&#x27;pre&#x27;,\n",
              "                 ColumnTransformer(remainder=&#x27;passthrough&#x27;,\n",
              "                                   transformers=[(&#x27;age_tr&#x27;,\n",
              "                                                  Pipeline(steps=[(&#x27;ages&#x27;,\n",
              "                                                                   FunctionTransformer(feature_names_out=&#x27;one-to-one&#x27;,\n",
              "                                                                                       func=&lt;function get_ages at 0x7fd359de3b80&gt;)),\n",
              "                                                                  (&#x27;scale&#x27;,\n",
              "                                                                   StandardScaler())]),\n",
              "                                                  [&#x27;bdate&#x27;]),\n",
              "                                                 (&#x27;week_tr&#x27;,\n",
              "                                                  Pipeline(steps=[(&#x27;weekd&#x27;,\n",
              "                                                                   FunctionTransformer(feature_names_out=&#x27;one-to-one&#x27;,\n",
              "                                                                                       func=&lt;function get_weekdays at 0x7fd31e507430&gt;)),\n",
              "                                                                  (&#x27;onehot&#x27;,\n",
              "                                                                   OneHotEncoder(drop=&#x27;first&#x27;))]),\n",
              "                                                  [&#x27;datep&#x27;]),\n",
              "                                                 (&#x27;team_tr&#x27;,\n",
              "                                                  OneHotEncoder(drop=&#x27;first&#x27;),\n",
              "                                                  [&#x27;team&#x27;]),\n",
              "                                                 (&#x27;scale_tr&#x27;, StandardScaler(),\n",
              "                                                  [&#x27;prized&#x27;, &#x27;prizeq&#x27;])])),\n",
              "                (&#x27;lm&#x27;, LinearRegression())])</pre><b>In a Jupyter environment, please rerun this cell to show the HTML representation or trust the notebook. <br />On GitHub, the HTML representation is unable to render, please try loading this page with nbviewer.org.</b></div><div class=\"sk-container\" hidden><div class=\"sk-item sk-dashed-wrapped\"><div class=\"sk-label-container\"><div class=\"sk-label sk-toggleable\"><input class=\"sk-toggleable__control sk-hidden--visually\" id=\"sk-estimator-id-31\" type=\"checkbox\" ><label for=\"sk-estimator-id-31\" class=\"sk-toggleable__label sk-toggleable__label-arrow\">Pipeline</label><div class=\"sk-toggleable__content\"><pre>Pipeline(steps=[(&#x27;pre&#x27;,\n",
              "                 ColumnTransformer(remainder=&#x27;passthrough&#x27;,\n",
              "                                   transformers=[(&#x27;age_tr&#x27;,\n",
              "                                                  Pipeline(steps=[(&#x27;ages&#x27;,\n",
              "                                                                   FunctionTransformer(feature_names_out=&#x27;one-to-one&#x27;,\n",
              "                                                                                       func=&lt;function get_ages at 0x7fd359de3b80&gt;)),\n",
              "                                                                  (&#x27;scale&#x27;,\n",
              "                                                                   StandardScaler())]),\n",
              "                                                  [&#x27;bdate&#x27;]),\n",
              "                                                 (&#x27;week_tr&#x27;,\n",
              "                                                  Pipeline(steps=[(&#x27;weekd&#x27;,\n",
              "                                                                   FunctionTransformer(feature_names_out=&#x27;one-to-one&#x27;,\n",
              "                                                                                       func=&lt;function get_weekdays at 0x7fd31e507430&gt;)),\n",
              "                                                                  (&#x27;onehot&#x27;,\n",
              "                                                                   OneHotEncoder(drop=&#x27;first&#x27;))]),\n",
              "                                                  [&#x27;datep&#x27;]),\n",
              "                                                 (&#x27;team_tr&#x27;,\n",
              "                                                  OneHotEncoder(drop=&#x27;first&#x27;),\n",
              "                                                  [&#x27;team&#x27;]),\n",
              "                                                 (&#x27;scale_tr&#x27;, StandardScaler(),\n",
              "                                                  [&#x27;prized&#x27;, &#x27;prizeq&#x27;])])),\n",
              "                (&#x27;lm&#x27;, LinearRegression())])</pre></div></div></div><div class=\"sk-serial\"><div class=\"sk-item sk-dashed-wrapped\"><div class=\"sk-label-container\"><div class=\"sk-label sk-toggleable\"><input class=\"sk-toggleable__control sk-hidden--visually\" id=\"sk-estimator-id-32\" type=\"checkbox\" ><label for=\"sk-estimator-id-32\" class=\"sk-toggleable__label sk-toggleable__label-arrow\">pre: ColumnTransformer</label><div class=\"sk-toggleable__content\"><pre>ColumnTransformer(remainder=&#x27;passthrough&#x27;,\n",
              "                  transformers=[(&#x27;age_tr&#x27;,\n",
              "                                 Pipeline(steps=[(&#x27;ages&#x27;,\n",
              "                                                  FunctionTransformer(feature_names_out=&#x27;one-to-one&#x27;,\n",
              "                                                                      func=&lt;function get_ages at 0x7fd359de3b80&gt;)),\n",
              "                                                 (&#x27;scale&#x27;, StandardScaler())]),\n",
              "                                 [&#x27;bdate&#x27;]),\n",
              "                                (&#x27;week_tr&#x27;,\n",
              "                                 Pipeline(steps=[(&#x27;weekd&#x27;,\n",
              "                                                  FunctionTransformer(feature_names_out=&#x27;one-to-one&#x27;,\n",
              "                                                                      func=&lt;function get_weekdays at 0x7fd31e507430&gt;)),\n",
              "                                                 (&#x27;onehot&#x27;,\n",
              "                                                  OneHotEncoder(drop=&#x27;first&#x27;))]),\n",
              "                                 [&#x27;datep&#x27;]),\n",
              "                                (&#x27;team_tr&#x27;, OneHotEncoder(drop=&#x27;first&#x27;),\n",
              "                                 [&#x27;team&#x27;]),\n",
              "                                (&#x27;scale_tr&#x27;, StandardScaler(),\n",
              "                                 [&#x27;prized&#x27;, &#x27;prizeq&#x27;])])</pre></div></div></div><div class=\"sk-parallel\"><div class=\"sk-parallel-item\"><div class=\"sk-item\"><div class=\"sk-label-container\"><div class=\"sk-label sk-toggleable\"><input class=\"sk-toggleable__control sk-hidden--visually\" id=\"sk-estimator-id-33\" type=\"checkbox\" ><label for=\"sk-estimator-id-33\" class=\"sk-toggleable__label sk-toggleable__label-arrow\">age_tr</label><div class=\"sk-toggleable__content\"><pre>[&#x27;bdate&#x27;]</pre></div></div></div><div class=\"sk-serial\"><div class=\"sk-item\"><div class=\"sk-serial\"><div class=\"sk-item\"><div class=\"sk-estimator sk-toggleable\"><input class=\"sk-toggleable__control sk-hidden--visually\" id=\"sk-estimator-id-34\" type=\"checkbox\" ><label for=\"sk-estimator-id-34\" class=\"sk-toggleable__label sk-toggleable__label-arrow\">FunctionTransformer</label><div class=\"sk-toggleable__content\"><pre>FunctionTransformer(feature_names_out=&#x27;one-to-one&#x27;,\n",
              "                    func=&lt;function get_ages at 0x7fd359de3b80&gt;)</pre></div></div></div><div class=\"sk-item\"><div class=\"sk-estimator sk-toggleable\"><input class=\"sk-toggleable__control sk-hidden--visually\" id=\"sk-estimator-id-35\" type=\"checkbox\" ><label for=\"sk-estimator-id-35\" class=\"sk-toggleable__label sk-toggleable__label-arrow\">StandardScaler</label><div class=\"sk-toggleable__content\"><pre>StandardScaler()</pre></div></div></div></div></div></div></div></div><div class=\"sk-parallel-item\"><div class=\"sk-item\"><div class=\"sk-label-container\"><div class=\"sk-label sk-toggleable\"><input class=\"sk-toggleable__control sk-hidden--visually\" id=\"sk-estimator-id-36\" type=\"checkbox\" ><label for=\"sk-estimator-id-36\" class=\"sk-toggleable__label sk-toggleable__label-arrow\">week_tr</label><div class=\"sk-toggleable__content\"><pre>[&#x27;datep&#x27;]</pre></div></div></div><div class=\"sk-serial\"><div class=\"sk-item\"><div class=\"sk-serial\"><div class=\"sk-item\"><div class=\"sk-estimator sk-toggleable\"><input class=\"sk-toggleable__control sk-hidden--visually\" id=\"sk-estimator-id-37\" type=\"checkbox\" ><label for=\"sk-estimator-id-37\" class=\"sk-toggleable__label sk-toggleable__label-arrow\">FunctionTransformer</label><div class=\"sk-toggleable__content\"><pre>FunctionTransformer(feature_names_out=&#x27;one-to-one&#x27;,\n",
              "                    func=&lt;function get_weekdays at 0x7fd31e507430&gt;)</pre></div></div></div><div class=\"sk-item\"><div class=\"sk-estimator sk-toggleable\"><input class=\"sk-toggleable__control sk-hidden--visually\" id=\"sk-estimator-id-38\" type=\"checkbox\" ><label for=\"sk-estimator-id-38\" class=\"sk-toggleable__label sk-toggleable__label-arrow\">OneHotEncoder</label><div class=\"sk-toggleable__content\"><pre>OneHotEncoder(drop=&#x27;first&#x27;)</pre></div></div></div></div></div></div></div></div><div class=\"sk-parallel-item\"><div class=\"sk-item\"><div class=\"sk-label-container\"><div class=\"sk-label sk-toggleable\"><input class=\"sk-toggleable__control sk-hidden--visually\" id=\"sk-estimator-id-39\" type=\"checkbox\" ><label for=\"sk-estimator-id-39\" class=\"sk-toggleable__label sk-toggleable__label-arrow\">team_tr</label><div class=\"sk-toggleable__content\"><pre>[&#x27;team&#x27;]</pre></div></div></div><div class=\"sk-serial\"><div class=\"sk-item\"><div class=\"sk-estimator sk-toggleable\"><input class=\"sk-toggleable__control sk-hidden--visually\" id=\"sk-estimator-id-40\" type=\"checkbox\" ><label for=\"sk-estimator-id-40\" class=\"sk-toggleable__label sk-toggleable__label-arrow\">OneHotEncoder</label><div class=\"sk-toggleable__content\"><pre>OneHotEncoder(drop=&#x27;first&#x27;)</pre></div></div></div></div></div></div><div class=\"sk-parallel-item\"><div class=\"sk-item\"><div class=\"sk-label-container\"><div class=\"sk-label sk-toggleable\"><input class=\"sk-toggleable__control sk-hidden--visually\" id=\"sk-estimator-id-41\" type=\"checkbox\" ><label for=\"sk-estimator-id-41\" class=\"sk-toggleable__label sk-toggleable__label-arrow\">scale_tr</label><div class=\"sk-toggleable__content\"><pre>[&#x27;prized&#x27;, &#x27;prizeq&#x27;]</pre></div></div></div><div class=\"sk-serial\"><div class=\"sk-item\"><div class=\"sk-estimator sk-toggleable\"><input class=\"sk-toggleable__control sk-hidden--visually\" id=\"sk-estimator-id-42\" type=\"checkbox\" ><label for=\"sk-estimator-id-42\" class=\"sk-toggleable__label sk-toggleable__label-arrow\">StandardScaler</label><div class=\"sk-toggleable__content\"><pre>StandardScaler()</pre></div></div></div></div></div></div><div class=\"sk-parallel-item\"><div class=\"sk-item\"><div class=\"sk-label-container\"><div class=\"sk-label sk-toggleable\"><input class=\"sk-toggleable__control sk-hidden--visually\" id=\"sk-estimator-id-43\" type=\"checkbox\" ><label for=\"sk-estimator-id-43\" class=\"sk-toggleable__label sk-toggleable__label-arrow\">remainder</label><div class=\"sk-toggleable__content\"><pre>[&#x27;training&#x27;]</pre></div></div></div><div class=\"sk-serial\"><div class=\"sk-item\"><div class=\"sk-estimator sk-toggleable\"><input class=\"sk-toggleable__control sk-hidden--visually\" id=\"sk-estimator-id-44\" type=\"checkbox\" ><label for=\"sk-estimator-id-44\" class=\"sk-toggleable__label sk-toggleable__label-arrow\">passthrough</label><div class=\"sk-toggleable__content\"><pre>passthrough</pre></div></div></div></div></div></div></div></div><div class=\"sk-item\"><div class=\"sk-estimator sk-toggleable\"><input class=\"sk-toggleable__control sk-hidden--visually\" id=\"sk-estimator-id-45\" type=\"checkbox\" ><label for=\"sk-estimator-id-45\" class=\"sk-toggleable__label sk-toggleable__label-arrow\">LinearRegression</label><div class=\"sk-toggleable__content\"><pre>LinearRegression()</pre></div></div></div></div></div></div></div>"
            ]
          },
          "metadata": {},
          "execution_count": 116
        }
      ]
    },
    {
      "cell_type": "markdown",
      "source": [
        "No caso específico de `pipe.fit(X_train, y_train)`, estamos ajustando o modelo de regressão linear e aplicando todas as etapas de pré-processamento definidas anteriormente ao conjunto de treinamento `X_train` e `y_train`.\n",
        "\n",
        "O primeiro argumento `X_train` é um array ou dataframe que contém as amostras de treinamento, enquanto o segundo argumento `y_train` é um array ou dataframe que contém o resultado esperado correspondentes a cada amostra de treinamento."
      ],
      "metadata": {
        "id": "iLeA33TV0JXr"
      }
    },
    {
      "cell_type": "markdown",
      "source": [
        "Now, to make predicitions for the outcome variable (train set):"
      ],
      "metadata": {
        "id": "LRpg6yD_0e87"
      }
    },
    {
      "cell_type": "code",
      "source": [
        "y_pred = pipe.predict(X_train)\n",
        "y_pred"
      ],
      "metadata": {
        "colab": {
          "base_uri": "https://localhost:8080/"
        },
        "id": "z3Z0-_-PzCqo",
        "outputId": "3519e27a-2ca5-464b-e7ec-7e36a40a595a"
      },
      "execution_count": 117,
      "outputs": [
        {
          "output_type": "execute_result",
          "data": {
            "text/plain": [
              "array([20.08740234, 20.41943359, 10.64794922,  2.07958984, 30.55419922,\n",
              "       20.18896484, 38.86279297, 20.26904297, 30.61669922, 20.64013672,\n",
              "       30.55419922, 38.41552734,  1.99755859, 20.46630859, 20.10888672,\n",
              "       20.63232422, 39.83154297, 20.32177734,  2.44287109, 20.34716797,\n",
              "       39.83154297, 57.99560547, 20.10888672,  9.65576172,  9.78857422,\n",
              "       20.40185547,  2.08740234,  1.78466797,  2.14990234, 29.56787109,\n",
              "       48.71044922, 17.26318359,  9.65576172, 20.46630859, 39.83154297,\n",
              "       11.29248047, 38.49560547, 30.18896484,  1.45849609, 39.60498047,\n",
              "        1.91943359,  2.31787109, 21.30029297, 39.60498047, 30.18896484,\n",
              "       20.56005859, 39.29052734, 39.15576172,  1.45849609, 39.55029297,\n",
              "       -0.88525391, 20.20458984, 39.97998047,  1.24169922, 39.60498047,\n",
              "       10.95654297,  1.10107422, 11.13623047, 10.64013672, 19.64599609,\n",
              "       29.67529297, -0.76025391, 20.33935547,  2.31787109, 11.65966797,\n",
              "       19.43310547, 19.13818359,  1.10107422, 20.84716797,  1.32568359,\n",
              "       28.79638672, 21.13232422, 38.71044922,  2.21240234,  2.09521484,\n",
              "       29.80810547, 10.53466797, -1.87744141, 17.10302734, -1.87744141,\n",
              "        2.15380859, 20.12451172, 10.53466797, -2.03759766, 38.65576172,\n",
              "       10.47998047, 39.15576172, 39.97216797, 30.61669922, 39.83154297,\n",
              "        1.63427734, 30.48388672, 39.83935547, 30.48388672, 39.15576172,\n",
              "       39.83935547, 20.33935547, 29.56787109, 10.66748047, 20.25146484,\n",
              "       -1.04541016,  1.10107422, 19.64599609, 38.84716797, -1.74462891,\n",
              "        2.31787109, 20.26904297, 10.47998047, 19.27294922, 10.54638672,\n",
              "        1.99755859, 17.26318359, 57.83154297, -0.75244141, 20.02880859,\n",
              "       -2.03759766, 30.71435547, 38.57568359, 20.84716797,  1.32568359,\n",
              "        1.85693359, 11.35498047, 30.85498047, -0.60009766, 38.99560547,\n",
              "       30.48388672, 19.43310547, 30.42724609, 39.97998047, 20.33935547,\n",
              "       -0.99462891, 48.71044922, 11.29248047, 39.97216797, 10.34716797,\n",
              "       38.99560547, -1.05322266, 20.76123047, 39.68310547, -0.89306641,\n",
              "        2.44287109, 20.33935547, 11.52685547, 11.29248047, 11.51904297,\n",
              "        2.21240234, 20.50732422, 20.83935547,  1.85693359, 20.18896484,\n",
              "       39.97998047,  1.93115234, 11.42529297, 17.10302734, 38.65576172,\n",
              "       -2.03759766, 10.53466797, 39.83935547, 28.63623047,  2.21240234,\n",
              "       30.72216797,  1.45849609, 20.18896484, 38.65576172, 10.19482422,\n",
              "       17.26318359, 20.38427734, 38.49560547, 19.43310547, 10.54638672,\n",
              "       20.18896484, 20.46630859,  1.79833984, 39.44873047, 28.79638672,\n",
              "       38.79052734, 20.63232422,  1.45849609, 10.47998047, 30.61669922,\n",
              "       20.50732422, 20.60888672, 21.00732422, 19.43310547,  1.10107422,\n",
              "       20.26904297, 19.56591797, 30.61669922, 20.25927734, 29.72802734,\n",
              "        1.93896484, 30.61669922, 30.32373047, 29.72802734, 11.13623047,\n",
              "       20.18896484, 20.63232422, -1.87744141, 39.74560547, -1.74462891,\n",
              "       30.84716797, 19.43310547, 11.29248047, 30.55419922, 20.46630859,\n",
              "        2.45068359, 20.46630859, 20.83935547, 29.97216797, 30.85498047,\n",
              "       19.64599609, 11.65966797, -1.12744141, 19.72607422, 20.32177734,\n",
              "        1.93115234, 38.71044922, 29.56787109, 39.83154297,  1.79833984,\n",
              "       20.25927734,  2.31005859,  1.85693359, 30.85498047, 57.83154297,\n",
              "       10.23779297, 39.97998047, -0.75244141, -1.87744141, 49.00537109,\n",
              "       -0.76025391, 10.64013672, 29.67529297, 19.43310547,  2.61083984,\n",
              "       11.13623047, 10.53466797, 29.97216797, 11.51904297, 38.28271484,\n",
              "       -1.12744141, 10.47998047, 20.64013672, 30.55419922, 21.00732422,\n",
              "       -1.05322266,  2.22802734, 10.47998047,  2.14990234, 38.99560547,\n",
              "       20.34716797,  2.08740234,  1.16552734, 20.64013672,  9.78857422,\n",
              "       30.56201172, 20.76904297, 11.35498047, 21.00732422, 39.83935547,\n",
              "       20.40185547, -1.05322266,  1.24169922,  9.78857422, -0.88525391,\n",
              "       10.64013672, 30.48388672, 10.78076172,  9.65576172, 20.40185547,\n",
              "        2.45068359, 11.37060547,  1.85693359,  1.99755859, 21.00732422,\n",
              "       11.13623047,  9.78857422,  2.08740234, 39.15576172, 57.83154297,\n",
              "       20.17333984, -1.74462891, 30.48388672, 38.71044922, 30.32373047,\n",
              "       30.32373047,  9.49560547, 39.44873047, -1.74462891, 11.52685547,\n",
              "       -0.59228516, 29.67529297, 39.97998047, 20.71240234, 11.35498047,\n",
              "       38.71044922, 11.42529297, 49.00537109, 39.44873047, 30.85498047,\n",
              "       39.15576172, 39.67529297, 30.48388672,  1.16552734, 39.83154297,\n",
              "       28.92919922,  2.15771484,  2.08740234, 20.18896484, 38.41552734,\n",
              "        1.32568359, 10.78076172, 20.46630859, 10.47998047, 20.33935547,\n",
              "       -1.05322266, 30.71435547, 20.64013672, 29.51123047,  1.70068359,\n",
              "        1.93896484, 38.57568359,  2.31787109, 10.54638672, 19.56591797,\n",
              "       20.46630859,  2.23583984, 28.50341797, 20.60107422,  1.85693359,\n",
              "       39.83935547, 39.97998047, 39.67529297, 10.41357422,  1.39794922,\n",
              "       -1.18017578,  9.78857422, 48.71044922, 20.60107422, 20.41943359,\n",
              "       -1.05322266, 30.61669922,  2.08740234, 39.74560547, 20.01318359,\n",
              "       10.41357422, 19.27294922, 29.72802734, 20.84716797, 40.12841797,\n",
              "        2.07958984, 10.35498047, 49.00537109, 20.42724609, 58.12841797,\n",
              "        9.65576172, 39.74560547,  2.45068359, 11.52685547, 39.90185547,\n",
              "       20.54052734, 11.29248047, 30.56201172,  1.10107422, 30.56201172,\n",
              "       20.54052734,  2.09521484, -1.12744141,  9.49560547, 39.83154297,\n",
              "       10.64013672, 29.67529297, 38.65576172, 20.49951172,  1.10107422,\n",
              "        2.31787109, 38.65576172, 19.27294922, 20.18896484, 20.12451172,\n",
              "        1.10107422, 20.60888672,  2.44287109, 20.42724609, 29.80810547,\n",
              "       29.67529297, 39.44873047, 38.57568359, 19.56591797, 20.01318359,\n",
              "       20.84716797, 20.46630859, 20.60888672, -0.99462891, 10.54638672,\n",
              "        1.70068359, 19.27294922, 19.56591797, 10.34716797, 10.54638672,\n",
              "       49.16552734,  0.94482422, 11.65185547,  2.08740234, 11.65185547,\n",
              "        1.10107422, 29.43310547, 19.43310547, -1.74462891,  2.08740234,\n",
              "       20.18896484, 39.68310547, 19.43310547, 20.48193359, 10.25341797,\n",
              "       40.13623047, 38.98779297, 30.48388672, 20.26904297,  2.08740234,\n",
              "       28.92919922, 10.53466797, 19.56591797, 20.40185547, 31.01513672,\n",
              "       29.56787109, 39.97998047, 19.56591797, 20.60107422, 20.50732422,\n",
              "       49.29833984, 20.48193359, 48.71044922, 30.42724609, 10.66748047,\n",
              "       20.76904297,  2.08740234, 20.80029297, -2.03759766, 39.97998047,\n",
              "       -1.05322266, 21.14013672, 11.52685547, 38.98779297, 20.42724609,\n",
              "       20.46630859, 20.50732422, 20.33935547, 20.64013672, 11.65966797,\n",
              "       19.43310547, 28.79638672, 38.99560547, 20.18896484, 11.52685547,\n",
              "       10.64013672, 30.61669922, -0.89306641, 10.25341797, 20.18896484,\n",
              "       -0.83447266, 10.53466797, -1.74462891, 11.52685547, 39.83935547,\n",
              "       -1.05322266, 11.13623047, 11.35498047, 10.48779297, 39.55029297,\n",
              "       38.65576172, 39.44873047, 20.30615234, 17.26318359, 28.79638672,\n",
              "        9.65576172, 17.26318359,  2.07958984, 11.29248047, 30.56201172,\n",
              "       20.42724609, 19.64599609, 38.49560547, 17.39794922,  2.08740234,\n",
              "        0.94482422, -1.74462891, 10.47998047, -1.87744141, 19.80615234,\n",
              "       38.98779297, 10.78076172, 20.60107422, 10.48779297, 20.83935547,\n",
              "       29.51123047, 11.52685547, -1.18017578, 19.43310547, 40.12841797,\n",
              "       20.60888672, 29.72802734,  0.64794922, 19.27294922, 29.56787109,\n",
              "       -1.28759766, 30.61669922, 19.85302734, 49.00537109, 20.26904297,\n",
              "       38.65576172, -1.74462891, 11.37060547, -1.12744141, 30.72216797,\n",
              "       11.52685547, 17.26318359, 38.84716797, 20.76904297, 20.08740234,\n",
              "       29.67529297, 20.12451172, -1.12744141, 28.63623047, 17.10302734,\n",
              "       38.65576172, 30.84716797,  2.31005859, 30.72216797, -0.89306641,\n",
              "       29.56787109,  2.14990234, 21.00732422,  1.32568359,  2.31787109,\n",
              "       10.64794922, 11.37060547, 20.30615234,  2.31005859, 38.57568359,\n",
              "       28.50341797, 19.85302734, 10.53466797,  2.37255859,  1.93896484,\n",
              "       19.85302734, 10.78076172, 29.72802734,  2.14990234,  1.85693359,\n",
              "       11.52685547, 38.99560547, -0.75244141, 20.64013672, 21.14013672,\n",
              "       19.51318359, 19.43310547, 20.46630859, 17.10302734, 20.32177734,\n",
              "        2.09521484, 10.47998047, 30.85498047, 40.13623047, 20.26708984,\n",
              "       19.27294922, 10.12060547, 11.37060547, 20.26708984, 57.69873047,\n",
              "        1.99755859, 30.18896484,  9.49560547, 38.65576172, 20.12451172,\n",
              "       10.64794922,  1.16552734, 29.86083984, 48.71044922, 39.83935547,\n",
              "        1.24169922, 20.46630859, 39.44873047, 58.12841797,  1.93115234,\n",
              "       38.87060547, 38.84716797,  9.65576172,  1.32568359, 30.71435547,\n",
              "       20.55224609, 29.80810547, 17.26318359, 30.71435547, 20.02880859,\n",
              "       10.53466797, 48.87060547, -1.12744141, 20.64013672, 20.25927734,\n",
              "       29.86083984, 20.70458984, 20.49951172, 57.83154297, -0.76025391,\n",
              "        2.31005859, 20.14599609, -1.28759766, 29.38623047, 10.66748047,\n",
              "       19.27294922,  1.85693359, -2.03759766, 20.10888672, 49.00537109,\n",
              "       20.42724609, 48.71044922, 21.14013672,  1.10107422, 20.38427734,\n",
              "       20.25927734,  1.93115234, 20.12451172, 19.85302734, -0.70166016,\n",
              "       58.12841797, 20.25927734, 11.51904297, -0.76025391, 19.64599609,\n",
              "       30.85498047, -0.75244141, 11.22998047, -0.88525391, 19.27294922,\n",
              "       30.32373047, 11.52685547, 38.71044922, 39.83935547, 20.08740234,\n",
              "       11.51904297,  9.65576172, 38.84716797,  1.16552734, 20.10888672,\n",
              "        9.78857422, 38.98779297,  1.85693359,  1.93115234,  9.78857422,\n",
              "       20.26904297, 48.71044922, 29.97216797, 20.60107422, 29.80810547,\n",
              "       20.38427734, 10.77294922,  2.14990234, 20.25146484, 29.80810547,\n",
              "        2.22802734, 30.84716797, 20.61474609, -1.45166016, 39.68310547,\n",
              "        1.78466797, 19.35302734,  2.44287109, 58.12841797, 17.10302734,\n",
              "       30.32373047, 30.56201172, 29.51123047, 39.38623047, 10.54638672,\n",
              "       20.76904297, 38.99560547, 20.99951172, 29.56787109, 30.56201172,\n",
              "       20.18896484, -0.88525391, -1.12744141,  1.85693359, 39.55029297,\n",
              "       20.34716797,  2.09521484, 10.53466797, 38.49560547,  2.07958984,\n",
              "       39.15576172, 10.77294922, 20.55224609, 57.99560547, 19.13818359,\n",
              "       20.64013672, 29.51123047, 28.79638672,  2.31787109,  2.31787109,\n",
              "       38.87060547, -1.12744141, 20.18896484, 20.25927734, 17.39794922,\n",
              "       39.44873047,  2.15771484, 11.51904297, 20.76904297,  2.08740234,\n",
              "       39.68310547, 21.00732422, -2.03759766, 20.26708984, 20.30615234,\n",
              "        1.99755859, 38.95068359, 28.79638672, 38.28271484, 20.99951172,\n",
              "       20.30615234, 20.46630859, 20.25927734,  2.45068359, 20.40185547,\n",
              "        2.44287109, 20.99951172,  1.93896484, 39.67529297, -0.75244141,\n",
              "        1.80615234, 30.71435547,  2.31005859, 30.32373047, 39.15576172,\n",
              "        2.44287109, 10.66748047, -1.87744141, 38.84716797, 10.78076172,\n",
              "       20.99951172, 20.79248047, 11.37060547, 38.49560547, 20.46630859,\n",
              "       17.39794922,  1.32568359,  1.32568359,  2.22802734, 19.97412109,\n",
              "       38.69091797, 29.67529297, 20.13232422, 48.87060547, 58.12841797,\n",
              "       20.41943359, 38.84716797, -1.42236328, 19.27294922,  1.24169922,\n",
              "       20.02880859,  2.31005859, 28.63623047, 19.51318359, 20.38427734,\n",
              "       11.51904297,  2.08740234,  1.85693359, 29.67529297, 39.83935547,\n",
              "       20.71240234, 20.50732422, 20.49951172, 20.49951172, -1.74462891,\n",
              "       20.34716797, 10.54638672,  2.74365234, 20.10888672,  2.44287109,\n",
              "       29.67529297, 30.71435547,  1.16552734, -1.04541016, 11.42529297,\n",
              "       29.80810547, 21.06201172, 39.31591797, 11.65185547, -1.28759766,\n",
              "       30.85498047,  2.22802734, 17.26318359, 11.65185547, -0.46728516,\n",
              "       20.50732422, 30.55419922, 11.29248047, 20.13232422,  9.65576172])"
            ]
          },
          "metadata": {},
          "execution_count": 117
        }
      ]
    },
    {
      "cell_type": "markdown",
      "source": [
        "No caso específico de `pipe.predict(X_train)`, estamos fazendo previsões nos dados de treinamento após o modelo de regressão linear ter sido treinado com as etapas de pré-processamento definidas anteriormente. O resultado é uma matriz `y_pred` que contém as previsões de rótulo para cada amostra no conjunto de treinamento `X_train`."
      ],
      "metadata": {
        "id": "oI-5fM-314e4"
      }
    },
    {
      "cell_type": "markdown",
      "source": [
        "The estimates of the parameters can also be obtained, i.e., the coefficients:"
      ],
      "metadata": {
        "id": "u1HcFz3R1G0b"
      }
    },
    {
      "cell_type": "code",
      "source": [
        "print(preprocessor.get_feature_names_out())\n",
        "print(pipe.named_steps['lm'].coef_)"
      ],
      "metadata": {
        "colab": {
          "base_uri": "https://localhost:8080/"
        },
        "id": "reQzFX8o0zV7",
        "outputId": "61460cf6-9dfb-4d28-a1b2-e38a8fe73e13"
      },
      "execution_count": 118,
      "outputs": [
        {
          "output_type": "stream",
          "name": "stdout",
          "text": [
            "['age_tr__bdate' 'week_tr__datep_1' 'week_tr__datep_2' 'week_tr__datep_3'\n",
            " 'week_tr__datep_4' 'team_tr__team_2' 'team_tr__team_3' 'team_tr__team_4'\n",
            " 'team_tr__team_5' 'team_tr__team_6' 'team_tr__team_7' 'team_tr__team_8'\n",
            " 'team_tr__team_9' 'team_tr__team_10' 'scale_tr__prized'\n",
            " 'scale_tr__prizeq' 'remainder__training']\n",
            "[ 1.48278793e-01 -9.93714999e-01 -8.04527352e-03 -2.39038972e-01\n",
            "  1.81492952e+01  1.07374212e+13  9.71476103e+00  6.05878660e+12\n",
            " -4.05963195e+13 -4.99624694e-01  5.13337407e+13  6.05878660e+12\n",
            "  1.07374212e+13 -5.80508847e-01  1.85589461e+13 -2.34391196e+13\n",
            " -6.05878660e+12]\n"
          ]
        }
      ]
    },
    {
      "cell_type": "code",
      "source": [
        "feature_names = preprocessor.get_feature_names_out()\n",
        "coefficients = pipe.named_steps['lm'].coef_\n",
        "df2 = pd.DataFrame({'Feature Name': feature_names, 'Coefficient': coefficients})\n",
        "print(df2)"
      ],
      "metadata": {
        "colab": {
          "base_uri": "https://localhost:8080/"
        },
        "id": "v6dNZXtGLMK6",
        "outputId": "c81b3c27-261a-4649-a501-2e145290a7af"
      },
      "execution_count": 119,
      "outputs": [
        {
          "output_type": "stream",
          "name": "stdout",
          "text": [
            "           Feature Name   Coefficient\n",
            "0         age_tr__bdate  1.482788e-01\n",
            "1      week_tr__datep_1 -9.937150e-01\n",
            "2      week_tr__datep_2 -8.045274e-03\n",
            "3      week_tr__datep_3 -2.390390e-01\n",
            "4      week_tr__datep_4  1.814930e+01\n",
            "5       team_tr__team_2  1.073742e+13\n",
            "6       team_tr__team_3  9.714761e+00\n",
            "7       team_tr__team_4  6.058787e+12\n",
            "8       team_tr__team_5 -4.059632e+13\n",
            "9       team_tr__team_6 -4.996247e-01\n",
            "10      team_tr__team_7  5.133374e+13\n",
            "11      team_tr__team_8  6.058787e+12\n",
            "12      team_tr__team_9  1.073742e+13\n",
            "13     team_tr__team_10 -5.805088e-01\n",
            "14     scale_tr__prized  1.855895e+13\n",
            "15     scale_tr__prizeq -2.343912e+13\n",
            "16  remainder__training -6.058787e+12\n"
          ]
        }
      ]
    },
    {
      "cell_type": "markdown",
      "source": [
        "A primeira linha, `preprocessor.get_feature_names_out()`, imprime os nomes das variáveis ​​no formato transformado pelo preprocessor definido anteriormente. O `get_feature_names_out()` é um método do `ColumnTransformer` que retorna os **nomes das colunas após o processamento pelo transformador**.\n",
        "\n",
        "A segunda linha, `pipe.named_steps['lm'].coef_`, imprime os **coeficientes de regressão estimados para cada variável no modelo de regressão linear**. O `named_steps['lm']` é uma referência ao objeto `LinearRegression` criado durante a definição do pipeline. A propriedade `coef_` desse objeto retorna os coeficientes estimados para cada variável.\n",
        "\n",
        "**=> Essas informações podem ser úteis para interpretar o modelo e entender quais variáveis ​​estão mais fortemente relacionadas com a variável de saída.**"
      ],
      "metadata": {
        "id": "D2iBLY182XcW"
      }
    },
    {
      "cell_type": "code",
      "source": [
        "# Obter nomes das variáveis transformadas pelo preprocessor\n",
        "feature_names = preprocessor.get_feature_names_out()\n",
        "\n",
        "# Obter coeficientes estimados do modelo de regressão linear\n",
        "coeficients = pipe.named_steps['lm'].coef_\n",
        "\n",
        "# Criar um dicionário que associa cada variável ao seu coeficiente estimado\n",
        "coef_dict = dict(zip(feature_names, coeficients))\n",
        "\n",
        "# Imprimir o dicionário\n",
        "print(coef_dict)"
      ],
      "metadata": {
        "colab": {
          "base_uri": "https://localhost:8080/"
        },
        "id": "9OJ0yPfN28cn",
        "outputId": "2e4c6125-8e63-4214-addc-39b1bd258db3"
      },
      "execution_count": 120,
      "outputs": [
        {
          "output_type": "stream",
          "name": "stdout",
          "text": [
            "{'age_tr__bdate': 0.1482787934887428, 'week_tr__datep_1': -0.9937149987957152, 'week_tr__datep_2': -0.008045273522656986, 'week_tr__datep_3': -0.2390389717036645, 'week_tr__datep_4': 18.149295187787168, 'team_tr__team_2': 10737421192986.375, 'team_tr__team_3': 9.714761029577394, 'team_tr__team_4': 6058786601898.11, 'team_tr__team_5': -40596319482563.55, 'team_tr__team_6': -0.499624693923916, 'team_tr__team_7': 51333740675560.21, 'team_tr__team_8': 6058786601894.906, 'team_tr__team_9': 10737421192987.254, 'team_tr__team_10': -0.5805088469060941, 'scale_tr__prized': 18558946121030.258, 'scale_tr__prizeq': -23439119638554.37, 'remainder__training': -6058786601916.801}\n"
          ]
        }
      ]
    },
    {
      "cell_type": "markdown",
      "source": [
        "Este código criará um dicionário `var_coef_dict` que associa o nome de cada variável ao seu coeficiente estimado no modelo de regressão linear."
      ],
      "metadata": {
        "id": "TWGTDSN93EVV"
      }
    },
    {
      "cell_type": "markdown",
      "source": [
        "# **5. PREDICTIVE PERFORMANCE OF THE MODEL**"
      ],
      "metadata": {
        "id": "KmxAcBkK3MX-"
      }
    },
    {
      "cell_type": "markdown",
      "source": [
        "To determine the predictive performance of the model:"
      ],
      "metadata": {
        "id": "xpxd3Ei53ac_"
      }
    },
    {
      "cell_type": "code",
      "source": [
        "from sklearn.metrics import r2_score, mean_absolute_error, mean_squared_error"
      ],
      "metadata": {
        "id": "6EMkxlaz1Szm"
      },
      "execution_count": 121,
      "outputs": []
    },
    {
      "cell_type": "code",
      "source": [
        "print(f'MAE={mean_absolute_error(y_train, y_pred)}')\n",
        "print(f'MSE={mean_squared_error(y_train, y_pred)}')\n",
        "print(f'RMSE={mean_squared_error(y_train, y_pred, squared=False)}')\n",
        "print(f'R2={r2_score(y_train, y_pred)}')"
      ],
      "metadata": {
        "colab": {
          "base_uri": "https://localhost:8080/"
        },
        "id": "Km2sCRQT3k2w",
        "outputId": "6fe57036-193d-45c3-9cb1-fe1551691b7a"
      },
      "execution_count": 122,
      "outputs": [
        {
          "output_type": "stream",
          "name": "stdout",
          "text": [
            "MAE=3.3389007324218745\n",
            "MSE=18.77517794458008\n",
            "RMSE=4.333033342195751\n",
            "R2=0.9174359688584746\n"
          ]
        }
      ]
    },
    {
      "cell_type": "markdown",
      "source": [
        "These are code snippets in Python that compute various evaluation metrics for a machine learning model. Assuming that 'y_train' is the true target variable for the training set, and 'y_pred' is the predicted target variable obtained by applying the pipeline to the training set.\n",
        "\n",
        "'mean_absolute_error(y_train, y_pred)' computes the mean absolute error (MAE) between the true and predicted target variable. This metric gives an idea of how far off the predictions are on average from the true target variable, regardless of the direction (i.e., overestimation or underestimation).\n",
        "\n",
        "'mean_squared_error(y_train, y_pred)' computes the mean squared error (MSE) between the true and predicted target variable. This metric gives an idea of the average squared distance between the predicted and true target variable. MSE is a common metric used in regression problems, and it gives more weight to larger errors than the MAE.\n",
        "\n",
        "'mean_squared_error(y_train, y_pred, squared=False)' computes the root mean squared error (RMSE) between the true and predicted target variable. This metric is the square root of the MSE, and it gives an idea of the average distance between the predicted and true target variable in the original units of the target variable.\n",
        "\n",
        "'r2_score(y_train, y_pred)' computes the R^2 (coefficient of determination) score between the true and predicted target variable. This metric measures the proportion of the variance in the target variable that is explained by the model. An R^2 score of 1.0 indicates a perfect fit, while a score of 0.0 indicates that the model does not explain any of the variance in the target variable. A negative R^2 score indicates that the model is worse than simply predicting the mean of the target variable."
      ],
      "metadata": {
        "id": "Y-ky-8vmkcPi"
      }
    },
    {
      "cell_type": "markdown",
      "source": [
        "#ANALYSIS\n",
        "\n",
        "Esses resultados indicam que o modelo tem um bom desempenho ao prever a percentagem de rádios com defeito tendo em conta as variáveis explicativas do modelo. O R2 indica que o modelo explica cerca de 91,74% da variação dos dados. No entanto, é importante relembrar que estas `metrics` são calculadas com base nos dados de treinamento e é necessário avaliar o desempenho do modelo em dados de teste para verificar se ele é capaz de generalizar bem.\n",
        "Portanto, é recomendável que você use um conjunto de teste separado para avaliar a precisão do modelo em dados não vistos, em vez de avaliá-lo nos dados de treinamento."
      ],
      "metadata": {
        "id": "0_Df7yoF79F2"
      }
    },
    {
      "cell_type": "markdown",
      "source": [
        "To get an idea about our model works with unseen data, we will use the `test set`, which has not been used for anything up to now."
      ],
      "metadata": {
        "id": "IxvgkwpB8_jC"
      }
    },
    {
      "cell_type": "code",
      "source": [
        "y_pred2 = pipe.predict(X_test)"
      ],
      "metadata": {
        "id": "KcCWMSLA8_4s"
      },
      "execution_count": 123,
      "outputs": []
    },
    {
      "cell_type": "code",
      "source": [
        "mae = mean_absolute_error(y_test, y_pred2)\n",
        "mse = mean_squared_error(y_test, y_pred2)\n",
        "rmse = mean_squared_error(y_test, y_pred2, squared=False)\n",
        "r22 = r2_score(y_test, y_pred2)"
      ],
      "metadata": {
        "id": "LzBaE_GC9Gcr"
      },
      "execution_count": 124,
      "outputs": []
    },
    {
      "cell_type": "code",
      "source": [
        "print(f'MAE={mae}')\n",
        "print(f'MSE={mse}')\n",
        "print(f'RMSE={rmse}')\n",
        "print(f'R22={r22}')"
      ],
      "metadata": {
        "colab": {
          "base_uri": "https://localhost:8080/"
        },
        "id": "QuJNFuKw9Hqi",
        "outputId": "59a8900d-711a-41e3-a9e1-59cdf1f7f159"
      },
      "execution_count": 125,
      "outputs": [
        {
          "output_type": "stream",
          "name": "stdout",
          "text": [
            "MAE=3.8249537109375003\n",
            "MSE=25.228629709472656\n",
            "RMSE=5.0228109370622995\n",
            "R22=0.8928503531812346\n"
          ]
        }
      ]
    },
    {
      "cell_type": "markdown",
      "source": [
        "Since the measure of errors are similar for the test set, we can expect good performance of the model in unseen new cases."
      ],
      "metadata": {
        "id": "ozAYwDgNJqb6"
      }
    },
    {
      "cell_type": "markdown",
      "source": [
        "#ANALYSIS\n",
        "\n",
        "Os resultados indicam que o modelo tem um desempenho semelhante nos dados de treino e de teste, o que é positivo. No entanto, o erro absoluto médio (MAE) e o erro quadrático médio (MSE) são maiores nos dados de teste, o que pode indicar que o modelo não está generalizando tão bem para dados não vistos. O coeficiente de determinação (R2) também é um pouco menor nos dados de teste, o que sugere que o modelo explica um pouco menos da variância nos dados de teste do que nos dados de treino."
      ],
      "metadata": {
        "id": "p8Lu5d_M9Zv6"
      }
    },
    {
      "cell_type": "markdown",
      "source": [
        "**Concluindo, os valores obtidos sugerem que o modelo se ajusta bem e generaliza bem para os dados e o modelo utilizado é adequado.**"
      ],
      "metadata": {
        "id": "4A-tdTAG9g7a"
      }
    },
    {
      "cell_type": "markdown",
      "source": [
        "**NO ENTANTO**\n",
        "\n",
        "O valor do R2 de 92% indica que 92% da variação na variável dependente (percentagem de rádios para carros com defeito) é explicada pelas variáveis independentes do modelo. No entanto, mesmo com um bom valor de R2, ainda é importante **avaliar a qualidade dos resíduos**, pois eles podem revelar possíveis problemas no modelo, como heterocedasticidade, multicolinearidade ou outliers => fazer gráficos"
      ],
      "metadata": {
        "id": "UGCaj4YnExFg"
      }
    },
    {
      "cell_type": "markdown",
      "source": [
        "#**PLOTS**"
      ],
      "metadata": {
        "id": "RnGTSHko99CY"
      }
    },
    {
      "cell_type": "markdown",
      "source": [
        "**1st PLOT**\n",
        "\n",
        "We can plot the residuals (that is, the prediction errors), to have a broader understanding.\n",
        "\n",
        "O **plot de resíduos** pode ajudar a identificar padrões nos erros, como heterocedasticidade ou não-linearidade, que podem indicar que o modelo não está capturando adequadamente a relação entre as variáveis independentes e dependentes."
      ],
      "metadata": {
        "id": "nk4sWCSeDAuB"
      }
    },
    {
      "cell_type": "code",
      "source": [
        "from matplotlib import pyplot as plt"
      ],
      "metadata": {
        "id": "iDOrpQEEDSf2"
      },
      "execution_count": 126,
      "outputs": []
    },
    {
      "cell_type": "code",
      "source": [
        "import seaborn as sns"
      ],
      "metadata": {
        "id": "axH3BehtDWxn"
      },
      "execution_count": 127,
      "outputs": []
    },
    {
      "cell_type": "code",
      "source": [
        "residuals = y_train - y_pred\n",
        "residuals"
      ],
      "metadata": {
        "colab": {
          "base_uri": "https://localhost:8080/"
        },
        "id": "p9TSsA9EDZOq",
        "outputId": "72f2ed06-b3ef-4c76-c678-dcf8b1a8cacd"
      },
      "execution_count": 128,
      "outputs": [
        {
          "output_type": "execute_result",
          "data": {
            "text/plain": [
              "791   -1.787402\n",
              "143    6.280566\n",
              "880    2.892051\n",
              "339   -0.079590\n",
              "992   -6.584199\n",
              "         ...   \n",
              "544    2.642676\n",
              "892   -5.554199\n",
              "643    1.057520\n",
              "414   -2.172324\n",
              "971    4.474238\n",
              "Name: perc_defec, Length: 800, dtype: float64"
            ]
          },
          "metadata": {},
          "execution_count": 128
        }
      ]
    },
    {
      "cell_type": "code",
      "source": [
        "sns.scatterplot(residuals)\n",
        "plt.xlabel('Rows of X_train')\n",
        "plt.ylabel('Residuals')\n",
        "plt.title('Scatter plot of the residuals (X_train)')\n",
        "plt.show()"
      ],
      "metadata": {
        "colab": {
          "base_uri": "https://localhost:8080/",
          "height": 472
        },
        "id": "k5TfcRL1EBr2",
        "outputId": "aa60928d-6c8d-45dd-bfe5-2a074555cfe2"
      },
      "execution_count": 129,
      "outputs": [
        {
          "output_type": "display_data",
          "data": {
            "text/plain": [
              "<Figure size 640x480 with 1 Axes>"
            ],
            "image/png": "[encoded data removed]"
          },
          "metadata": {}
        }
      ]
    },
    {
      "cell_type": "markdown",
      "source": [
        "A **análise dos resíduos** é importante para avaliar a qualidade do ajuste do modelo. Neste caso, apesar de os valores variarem entre -15 e 15 isso não significa que os o modelo tem uma má performance. Porque os resíduos estão à mesma escala que a variável dependente. Então aqui temos -15% e 15%, não é muito, é bastante próximo de 0 uma vez que o máximo da variável é 66.\n",
        "\n",
        "# **Tentar fazer a dividir pela média.**\n",
        "\n"
      ],
      "metadata": {
        "id": "OS9eaE7RFuTV"
      }
    },
    {
      "cell_type": "code",
      "source": [
        "residuals2 = y_train - y_pred\n",
        "residuals2"
      ],
      "metadata": {
        "id": "yk0eb7LCr0SC",
        "colab": {
          "base_uri": "https://localhost:8080/"
        },
        "outputId": "2b5ad686-66e6-4be5-e279-48e6753b9e54"
      },
      "execution_count": 130,
      "outputs": [
        {
          "output_type": "execute_result",
          "data": {
            "text/plain": [
              "791   -1.787402\n",
              "143    6.280566\n",
              "880    2.892051\n",
              "339   -0.079590\n",
              "992   -6.584199\n",
              "         ...   \n",
              "544    2.642676\n",
              "892   -5.554199\n",
              "643    1.057520\n",
              "414   -2.172324\n",
              "971    4.474238\n",
              "Name: perc_defec, Length: 800, dtype: float64"
            ]
          },
          "metadata": {},
          "execution_count": 130
        }
      ]
    },
    {
      "cell_type": "code",
      "source": [
        "mean_residuals2 = np.mean(residuals2)\n"
      ],
      "metadata": {
        "id": "-qF7wy6Xr232"
      },
      "execution_count": 131,
      "outputs": []
    },
    {
      "cell_type": "code",
      "source": [
        "residuals2_normalized = (residuals2 - mean_residuals2)/np.sqrt(residuals2)"
      ],
      "metadata": {
        "id": "qwnZDLPcsDg9",
        "colab": {
          "base_uri": "https://localhost:8080/"
        },
        "outputId": "ce9e0474-6d30-4b1f-c465-faed87512549"
      },
      "execution_count": 132,
      "outputs": [
        {
          "output_type": "stream",
          "name": "stderr",
          "text": [
            "/usr/local/lib/python3.9/dist-packages/pandas/core/arraylike.py:402: RuntimeWarning: invalid value encountered in sqrt\n",
            "  result = getattr(ufunc, method)(*inputs, **kwargs)\n"
          ]
        }
      ]
    },
    {
      "cell_type": "code",
      "source": [
        "sns.scatterplot(residuals2_normalized)\n",
        "plt.xlabel('Rows of X_train')\n",
        "plt.ylabel('Residuals')\n",
        "plt.title('Scatter plot of the residuals (X_train)')\n",
        "plt.show()"
      ],
      "metadata": {
        "colab": {
          "base_uri": "https://localhost:8080/",
          "height": 472
        },
        "id": "-Gf9z5TBsJUl",
        "outputId": "1a09f49d-784c-43aa-b188-4c951b1d17bb"
      },
      "execution_count": 133,
      "outputs": [
        {
          "output_type": "display_data",
          "data": {
            "text/plain": [
              "<Figure size 640x480 with 1 Axes>"
            ],
            "image/png": "[encoded data removed]"
          },
          "metadata": {}
        }
      ]
    },
    {
      "cell_type": "markdown",
      "source": [
        "Let's find outliers, i.e., examples where the prediction error is extreme:"
      ],
      "metadata": {
        "id": "qU1vepihFFZu"
      }
    },
    {
      "cell_type": "code",
      "source": [
        "import numpy as np\n"
      ],
      "metadata": {
        "id": "TzyhfyZjFL3N"
      },
      "execution_count": 134,
      "outputs": []
    },
    {
      "cell_type": "code",
      "source": [
        "extreme_e = pd.DataFrame({\n",
        "    'y_train': y_train[np.abs(residuals>2.5)].values,\n",
        "    'y_pred': np.round(y_pred[np.abs(residuals>2.5)], 2)})\n",
        "extreme_e"
      ],
      "metadata": {
        "colab": {
          "base_uri": "https://localhost:8080/",
          "height": 424
        },
        "id": "3yXuve1NFNLN",
        "outputId": "7dc1ba1a-ea1a-4fd6-aacd-81771bbad774"
      },
      "execution_count": 135,
      "outputs": [
        {
          "output_type": "execute_result",
          "data": {
            "text/plain": [
              "     y_train  y_pred\n",
              "0      26.70   20.42\n",
              "1      13.54   10.65\n",
              "2       6.61    2.00\n",
              "3      17.69    9.66\n",
              "4      13.72    9.66\n",
              "..       ...     ...\n",
              "197    43.24   39.32\n",
              "198    14.27   11.65\n",
              "199    33.68   30.85\n",
              "200    23.15   20.51\n",
              "201    14.13    9.66\n",
              "\n",
              "[202 rows x 2 columns]"
            ],
            "text/html": [
              "\n",
              "  <div id=\"df-213fc349-b663-4d33-ba65-8fd70b816939\">\n",
              "    <div class=\"colab-df-container\">\n",
              "      <div>\n",
              "<style scoped>\n",
              "    .dataframe tbody tr th:only-of-type {\n",
              "        vertical-align: middle;\n",
              "    }\n",
              "\n",
              "    .dataframe tbody tr th {\n",
              "        vertical-align: top;\n",
              "    }\n",
              "\n",
              "    .dataframe thead th {\n",
              "        text-align: right;\n",
              "    }\n",
              "</style>\n",
              "<table border=\"1\" class=\"dataframe\">\n",
              "  <thead>\n",
              "    <tr style=\"text-align: right;\">\n",
              "      <th></th>\n",
              "      <th>y_train</th>\n",
              "      <th>y_pred</th>\n",
              "    </tr>\n",
              "  </thead>\n",
              "  <tbody>\n",
              "    <tr>\n",
              "      <th>0</th>\n",
              "      <td>26.70</td>\n",
              "      <td>20.42</td>\n",
              "    </tr>\n",
              "    <tr>\n",
              "      <th>1</th>\n",
              "      <td>13.54</td>\n",
              "      <td>10.65</td>\n",
              "    </tr>\n",
              "    <tr>\n",
              "      <th>2</th>\n",
              "      <td>6.61</td>\n",
              "      <td>2.00</td>\n",
              "    </tr>\n",
              "    <tr>\n",
              "      <th>3</th>\n",
              "      <td>17.69</td>\n",
              "      <td>9.66</td>\n",
              "    </tr>\n",
              "    <tr>\n",
              "      <th>4</th>\n",
              "      <td>13.72</td>\n",
              "      <td>9.66</td>\n",
              "    </tr>\n",
              "    <tr>\n",
              "      <th>...</th>\n",
              "      <td>...</td>\n",
              "      <td>...</td>\n",
              "    </tr>\n",
              "    <tr>\n",
              "      <th>197</th>\n",
              "      <td>43.24</td>\n",
              "      <td>39.32</td>\n",
              "    </tr>\n",
              "    <tr>\n",
              "      <th>198</th>\n",
              "      <td>14.27</td>\n",
              "      <td>11.65</td>\n",
              "    </tr>\n",
              "    <tr>\n",
              "      <th>199</th>\n",
              "      <td>33.68</td>\n",
              "      <td>30.85</td>\n",
              "    </tr>\n",
              "    <tr>\n",
              "      <th>200</th>\n",
              "      <td>23.15</td>\n",
              "      <td>20.51</td>\n",
              "    </tr>\n",
              "    <tr>\n",
              "      <th>201</th>\n",
              "      <td>14.13</td>\n",
              "      <td>9.66</td>\n",
              "    </tr>\n",
              "  </tbody>\n",
              "</table>\n",
              "<p>202 rows × 2 columns</p>\n",
              "</div>\n",
              "      <button class=\"colab-df-convert\" onclick=\"convertToInteractive('df-213fc349-b663-4d33-ba65-8fd70b816939')\"\n",
              "              title=\"Convert this dataframe to an interactive table.\"\n",
              "              style=\"display:none;\">\n",
              "        \n",
              "  <svg xmlns=\"http://www.w3.org/2000/svg\" height=\"24px\"viewBox=\"0 0 24 24\"\n",
              "       width=\"24px\">\n",
              "    <path d=\"M0 0h24v24H0V0z\" fill=\"none\"/>\n",
              "    <path d=\"M18.56 5.44l.94 2.06.94-2.06 2.06-.94-2.06-.94-.94-2.06-.94 2.06-2.06.94zm-11 1L8.5 8.5l.94-2.06 2.06-.94-2.06-.94L8.5 2.5l-.94 2.06-2.06.94zm10 10l.94 2.06.94-2.06 2.06-.94-2.06-.94-.94-2.06-.94 2.06-2.06.94z\"/><path d=\"M17.41 7.96l-1.37-1.37c-.4-.4-.92-.59-1.43-.59-.52 0-1.04.2-1.43.59L10.3 9.45l-7.72 7.72c-.78.78-.78 2.05 0 2.83L4 21.41c.39.39.9.59 1.41.59.51 0 1.02-.2 1.41-.59l7.78-7.78 2.81-2.81c.8-.78.8-2.07 0-2.86zM5.41 20L4 18.59l7.72-7.72 1.47 1.35L5.41 20z\"/>\n",
              "  </svg>\n",
              "      </button>\n",
              "      \n",
              "  <style>\n",
              "    .colab-df-container {\n",
              "      display:flex;\n",
              "      flex-wrap:wrap;\n",
              "      gap: 12px;\n",
              "    }\n",
              "\n",
              "    .colab-df-convert {\n",
              "      background-color: #E8F0FE;\n",
              "      border: none;\n",
              "      border-radius: 50%;\n",
              "      cursor: pointer;\n",
              "      display: none;\n",
              "      fill: #1967D2;\n",
              "      height: 32px;\n",
              "      padding: 0 0 0 0;\n",
              "      width: 32px;\n",
              "    }\n",
              "\n",
              "    .colab-df-convert:hover {\n",
              "      background-color: #E2EBFA;\n",
              "      box-shadow: 0px 1px 2px rgba(60, 64, 67, 0.3), 0px 1px 3px 1px rgba(60, 64, 67, 0.15);\n",
              "      fill: #174EA6;\n",
              "    }\n",
              "\n",
              "    [theme=dark] .colab-df-convert {\n",
              "      background-color: #3B4455;\n",
              "      fill: #D2E3FC;\n",
              "    }\n",
              "\n",
              "    [theme=dark] .colab-df-convert:hover {\n",
              "      background-color: #434B5C;\n",
              "      box-shadow: 0px 1px 3px 1px rgba(0, 0, 0, 0.15);\n",
              "      filter: drop-shadow(0px 1px 2px rgba(0, 0, 0, 0.3));\n",
              "      fill: #FFFFFF;\n",
              "    }\n",
              "  </style>\n",
              "\n",
              "      <script>\n",
              "        const buttonEl =\n",
              "          document.querySelector('#df-213fc349-b663-4d33-ba65-8fd70b816939 button.colab-df-convert');\n",
              "        buttonEl.style.display =\n",
              "          google.colab.kernel.accessAllowed ? 'block' : 'none';\n",
              "\n",
              "        async function convertToInteractive(key) {\n",
              "          const element = document.querySelector('#df-213fc349-b663-4d33-ba65-8fd70b816939');\n",
              "          const dataTable =\n",
              "            await google.colab.kernel.invokeFunction('convertToInteractive',\n",
              "                                                     [key], {});\n",
              "          if (!dataTable) return;\n",
              "\n",
              "          const docLinkHtml = 'Like what you see? Visit the ' +\n",
              "            '<a target=\"_blank\" href=https://colab.research.google.com/notebooks/data_table.ipynb>data table notebook</a>'\n",
              "            + ' to learn more about interactive tables.';\n",
              "          element.innerHTML = '';\n",
              "          dataTable['output_type'] = 'display_data';\n",
              "          await google.colab.output.renderOutput(dataTable, element);\n",
              "          const docLink = document.createElement('div');\n",
              "          docLink.innerHTML = docLinkHtml;\n",
              "          element.appendChild(docLink);\n",
              "        }\n",
              "      </script>\n",
              "    </div>\n",
              "  </div>\n",
              "  "
            ]
          },
          "metadata": {},
          "execution_count": 135
        }
      ]
    },
    {
      "cell_type": "markdown",
      "source": [
        "Este código cria um DataFrame chamado `extreme_e` que contém duas colunas, `y_train` e `y_pred`.\n",
        "\n",
        "A primeira coluna, `y_train`, contém os valores reais da variável dependente y_train que têm resíduos maiores do que 2.5 (ou seja, aqueles que estão acima ou abaixo da linha de regressão por mais de 2.5 unidades).\n",
        "\n",
        "A segunda coluna, `y_pred`, contém as previsões correspondentes para esses valores, arredondados para 2 casas decimais.\n",
        "\n",
        "**=> O objetivo de criar esse DataFrame é analisar os casos em que o modelo tem maiores desvios em relação às previsões.**"
      ],
      "metadata": {
        "id": "jHCHsMTnHrra"
      }
    },
    {
      "cell_type": "markdown",
      "source": [
        "**2nd HISTOGRAM**\n",
        "\n",
        "To plot the histogram of the residuals will help to further understand the structure of the prediciton errors:\n",
        "\n",
        "Um **histograma dos resíduos** pode ajudar a avaliar se a distribuição dos erros é normalmente distribuída, o que é uma suposição comum em muitos modelos de regressão.\n"
      ],
      "metadata": {
        "id": "uNVTgzp4DJTy"
      }
    },
    {
      "cell_type": "code",
      "source": [
        "sns.histplot(residuals)\n",
        "plt.xlabel('Residuals')\n",
        "plt.ylabel('Counts')\n",
        "plt.title('Histogram of the residuals (X_train)')\n",
        "plt.show()"
      ],
      "metadata": {
        "colab": {
          "base_uri": "https://localhost:8080/",
          "height": 472
        },
        "id": "_6oULMAG9JFs",
        "outputId": "2dec6f0d-e198-4f50-e937-0003528d46ef"
      },
      "execution_count": 136,
      "outputs": [
        {
          "output_type": "display_data",
          "data": {
            "text/plain": [
              "<Figure size 640x480 with 1 Axes>"
            ],
            "image/png": "[encoded data removed]"
          },
          "metadata": {}
        }
      ]
    },
    {
      "cell_type": "markdown",
      "source": [
        "**ANALYSIS** \n"
      ],
      "metadata": {
        "id": "mD0jRwLaJapo"
      }
    },
    {
      "cell_type": "markdown",
      "source": [
        "#**6. LASSO REGRESSION**\n",
        "\n",
        "Pode ser uma opção útil se houver muitas variáveis independentes e houver suspeitas de que algumas delas não contribuam significativamente para a previsão da variável dependente. A Lasso regression pode ajudar a identificar e remover essas variáveis desnecessárias, melhorando a precisão do modelo e reduzindo a chance de overfitting. No entanto, é importante lembrar que a escolha do modelo ideal dependerá dos dados específicos e da natureza do problema em questão.\n",
        "\n",
        "1. Sometimes, some predictors are week, in the sense that the respective coeficient is close to zero, but not zero.\n",
        "\n",
        "2. When a predictor has little impact on the prediction, we should remove it from the model:\n",
        "* A parsimonious model (smaller number of predictors) can be better and more easily interpreted;\n",
        "* The larger the number of predictors, the more data we need to ensure good predictive performance of the models.\n",
        "\n",
        "To remove weak predictors, Lasso Regression is a great tool, as it removes them automatically. Lasso Regression sets to zero the weaker predictors automatically. To load the `Lasso` function:"
      ],
      "metadata": {
        "id": "D54tZlxiJ1iG"
      }
    },
    {
      "cell_type": "code",
      "source": [
        "from sklearn.linear_model import Lasso\n"
      ],
      "metadata": {
        "id": "3hZSUlWBICRB"
      },
      "execution_count": 137,
      "outputs": []
    },
    {
      "cell_type": "markdown",
      "source": [
        "To apply the Lasso Regression we just need to replace the linear regression model by the Lasso one.\n"
      ],
      "metadata": {
        "id": "qEfD_r_HKlma"
      }
    },
    {
      "cell_type": "code",
      "source": [
        "pipe2 = Pipeline([\n",
        "    ('pre', preprocessor),\n",
        "    ('lasso',  Lasso(alpha=0.1))\n",
        "])"
      ],
      "metadata": {
        "id": "DZ7_LCdfKlAI"
      },
      "execution_count": 138,
      "outputs": []
    },
    {
      "cell_type": "code",
      "source": [
        "pipe2.fit(X_train, y_train)"
      ],
      "metadata": {
        "colab": {
          "base_uri": "https://localhost:8080/",
          "height": 227
        },
        "id": "rQ2SaLbZK1GM",
        "outputId": "2710395b-6d2c-4f88-c4aa-770f28f90826"
      },
      "execution_count": 139,
      "outputs": [
        {
          "output_type": "execute_result",
          "data": {
            "text/plain": [
              "Pipeline(steps=[('pre',\n",
              "                 ColumnTransformer(remainder='passthrough',\n",
              "                                   transformers=[('age_tr',\n",
              "                                                  Pipeline(steps=[('ages',\n",
              "                                                                   FunctionTransformer(feature_names_out='one-to-one',\n",
              "                                                                                       func=<function get_ages at 0x7fd359de3b80>)),\n",
              "                                                                  ('scale',\n",
              "                                                                   StandardScaler())]),\n",
              "                                                  ['bdate']),\n",
              "                                                 ('week_tr',\n",
              "                                                  Pipeline(steps=[('weekd',\n",
              "                                                                   FunctionTransformer(feature_names_out='one-to-one',\n",
              "                                                                                       func=<function get_weekdays at 0x7fd31e507430>)),\n",
              "                                                                  ('onehot',\n",
              "                                                                   OneHotEncoder(drop='first'))]),\n",
              "                                                  ['datep']),\n",
              "                                                 ('team_tr',\n",
              "                                                  OneHotEncoder(drop='first'),\n",
              "                                                  ['team']),\n",
              "                                                 ('scale_tr', StandardScaler(),\n",
              "                                                  ['prized', 'prizeq'])])),\n",
              "                ('lasso', Lasso(alpha=0.1))])"
            ],
            "text/html": [
              "<style>#sk-container-id-4 {color: black;background-color: white;}#sk-container-id-4 pre{padding: 0;}#sk-container-id-4 div.sk-toggleable {background-color: white;}#sk-container-id-4 label.sk-toggleable__label {cursor: pointer;display: block;width: 100%;margin-bottom: 0;padding: 0.3em;box-sizing: border-box;text-align: center;}#sk-container-id-4 label.sk-toggleable__label-arrow:before {content: \"▸\";float: left;margin-right: 0.25em;color: #696969;}#sk-container-id-4 label.sk-toggleable__label-arrow:hover:before {color: black;}#sk-container-id-4 div.sk-estimator:hover label.sk-toggleable__label-arrow:before {color: black;}#sk-container-id-4 div.sk-toggleable__content {max-height: 0;max-width: 0;overflow: hidden;text-align: left;background-color: #f0f8ff;}#sk-container-id-4 div.sk-toggleable__content pre {margin: 0.2em;color: black;border-radius: 0.25em;background-color: #f0f8ff;}#sk-container-id-4 input.sk-toggleable__control:checked~div.sk-toggleable__content {max-height: 200px;max-width: 100%;overflow: auto;}#sk-container-id-4 input.sk-toggleable__control:checked~label.sk-toggleable__label-arrow:before {content: \"▾\";}#sk-container-id-4 div.sk-estimator input.sk-toggleable__control:checked~label.sk-toggleable__label {background-color: #d4ebff;}#sk-container-id-4 div.sk-label input.sk-toggleable__control:checked~label.sk-toggleable__label {background-color: #d4ebff;}#sk-container-id-4 input.sk-hidden--visually {border: 0;clip: rect(1px 1px 1px 1px);clip: rect(1px, 1px, 1px, 1px);height: 1px;margin: -1px;overflow: hidden;padding: 0;position: absolute;width: 1px;}#sk-container-id-4 div.sk-estimator {font-family: monospace;background-color: #f0f8ff;border: 1px dotted black;border-radius: 0.25em;box-sizing: border-box;margin-bottom: 0.5em;}#sk-container-id-4 div.sk-estimator:hover {background-color: #d4ebff;}#sk-container-id-4 div.sk-parallel-item::after {content: \"\";width: 100%;border-bottom: 1px solid gray;flex-grow: 1;}#sk-container-id-4 div.sk-label:hover label.sk-toggleable__label {background-color: #d4ebff;}#sk-container-id-4 div.sk-serial::before {content: \"\";position: absolute;border-left: 1px solid gray;box-sizing: border-box;top: 0;bottom: 0;left: 50%;z-index: 0;}#sk-container-id-4 div.sk-serial {display: flex;flex-direction: column;align-items: center;background-color: white;padding-right: 0.2em;padding-left: 0.2em;position: relative;}#sk-container-id-4 div.sk-item {position: relative;z-index: 1;}#sk-container-id-4 div.sk-parallel {display: flex;align-items: stretch;justify-content: center;background-color: white;position: relative;}#sk-container-id-4 div.sk-item::before, #sk-container-id-4 div.sk-parallel-item::before {content: \"\";position: absolute;border-left: 1px solid gray;box-sizing: border-box;top: 0;bottom: 0;left: 50%;z-index: -1;}#sk-container-id-4 div.sk-parallel-item {display: flex;flex-direction: column;z-index: 1;position: relative;background-color: white;}#sk-container-id-4 div.sk-parallel-item:first-child::after {align-self: flex-end;width: 50%;}#sk-container-id-4 div.sk-parallel-item:last-child::after {align-self: flex-start;width: 50%;}#sk-container-id-4 div.sk-parallel-item:only-child::after {width: 0;}#sk-container-id-4 div.sk-dashed-wrapped {border: 1px dashed gray;margin: 0 0.4em 0.5em 0.4em;box-sizing: border-box;padding-bottom: 0.4em;background-color: white;}#sk-container-id-4 div.sk-label label {font-family: monospace;font-weight: bold;display: inline-block;line-height: 1.2em;}#sk-container-id-4 div.sk-label-container {text-align: center;}#sk-container-id-4 div.sk-container {/* jupyter's `normalize.less` sets `[hidden] { display: none; }` but bootstrap.min.css set `[hidden] { display: none !important; }` so we also need the `!important` here to be able to override the default hidden behavior on the sphinx rendered scikit-learn.org. See: https://github.com/scikit-learn/scikit-learn/issues/21755 */display: inline-block !important;position: relative;}#sk-container-id-4 div.sk-text-repr-fallback {display: none;}</style><div id=\"sk-container-id-4\" class=\"sk-top-container\"><div class=\"sk-text-repr-fallback\"><pre>Pipeline(steps=[(&#x27;pre&#x27;,\n",
              "                 ColumnTransformer(remainder=&#x27;passthrough&#x27;,\n",
              "                                   transformers=[(&#x27;age_tr&#x27;,\n",
              "                                                  Pipeline(steps=[(&#x27;ages&#x27;,\n",
              "                                                                   FunctionTransformer(feature_names_out=&#x27;one-to-one&#x27;,\n",
              "                                                                                       func=&lt;function get_ages at 0x7fd359de3b80&gt;)),\n",
              "                                                                  (&#x27;scale&#x27;,\n",
              "                                                                   StandardScaler())]),\n",
              "                                                  [&#x27;bdate&#x27;]),\n",
              "                                                 (&#x27;week_tr&#x27;,\n",
              "                                                  Pipeline(steps=[(&#x27;weekd&#x27;,\n",
              "                                                                   FunctionTransformer(feature_names_out=&#x27;one-to-one&#x27;,\n",
              "                                                                                       func=&lt;function get_weekdays at 0x7fd31e507430&gt;)),\n",
              "                                                                  (&#x27;onehot&#x27;,\n",
              "                                                                   OneHotEncoder(drop=&#x27;first&#x27;))]),\n",
              "                                                  [&#x27;datep&#x27;]),\n",
              "                                                 (&#x27;team_tr&#x27;,\n",
              "                                                  OneHotEncoder(drop=&#x27;first&#x27;),\n",
              "                                                  [&#x27;team&#x27;]),\n",
              "                                                 (&#x27;scale_tr&#x27;, StandardScaler(),\n",
              "                                                  [&#x27;prized&#x27;, &#x27;prizeq&#x27;])])),\n",
              "                (&#x27;lasso&#x27;, Lasso(alpha=0.1))])</pre><b>In a Jupyter environment, please rerun this cell to show the HTML representation or trust the notebook. <br />On GitHub, the HTML representation is unable to render, please try loading this page with nbviewer.org.</b></div><div class=\"sk-container\" hidden><div class=\"sk-item sk-dashed-wrapped\"><div class=\"sk-label-container\"><div class=\"sk-label sk-toggleable\"><input class=\"sk-toggleable__control sk-hidden--visually\" id=\"sk-estimator-id-46\" type=\"checkbox\" ><label for=\"sk-estimator-id-46\" class=\"sk-toggleable__label sk-toggleable__label-arrow\">Pipeline</label><div class=\"sk-toggleable__content\"><pre>Pipeline(steps=[(&#x27;pre&#x27;,\n",
              "                 ColumnTransformer(remainder=&#x27;passthrough&#x27;,\n",
              "                                   transformers=[(&#x27;age_tr&#x27;,\n",
              "                                                  Pipeline(steps=[(&#x27;ages&#x27;,\n",
              "                                                                   FunctionTransformer(feature_names_out=&#x27;one-to-one&#x27;,\n",
              "                                                                                       func=&lt;function get_ages at 0x7fd359de3b80&gt;)),\n",
              "                                                                  (&#x27;scale&#x27;,\n",
              "                                                                   StandardScaler())]),\n",
              "                                                  [&#x27;bdate&#x27;]),\n",
              "                                                 (&#x27;week_tr&#x27;,\n",
              "                                                  Pipeline(steps=[(&#x27;weekd&#x27;,\n",
              "                                                                   FunctionTransformer(feature_names_out=&#x27;one-to-one&#x27;,\n",
              "                                                                                       func=&lt;function get_weekdays at 0x7fd31e507430&gt;)),\n",
              "                                                                  (&#x27;onehot&#x27;,\n",
              "                                                                   OneHotEncoder(drop=&#x27;first&#x27;))]),\n",
              "                                                  [&#x27;datep&#x27;]),\n",
              "                                                 (&#x27;team_tr&#x27;,\n",
              "                                                  OneHotEncoder(drop=&#x27;first&#x27;),\n",
              "                                                  [&#x27;team&#x27;]),\n",
              "                                                 (&#x27;scale_tr&#x27;, StandardScaler(),\n",
              "                                                  [&#x27;prized&#x27;, &#x27;prizeq&#x27;])])),\n",
              "                (&#x27;lasso&#x27;, Lasso(alpha=0.1))])</pre></div></div></div><div class=\"sk-serial\"><div class=\"sk-item sk-dashed-wrapped\"><div class=\"sk-label-container\"><div class=\"sk-label sk-toggleable\"><input class=\"sk-toggleable__control sk-hidden--visually\" id=\"sk-estimator-id-47\" type=\"checkbox\" ><label for=\"sk-estimator-id-47\" class=\"sk-toggleable__label sk-toggleable__label-arrow\">pre: ColumnTransformer</label><div class=\"sk-toggleable__content\"><pre>ColumnTransformer(remainder=&#x27;passthrough&#x27;,\n",
              "                  transformers=[(&#x27;age_tr&#x27;,\n",
              "                                 Pipeline(steps=[(&#x27;ages&#x27;,\n",
              "                                                  FunctionTransformer(feature_names_out=&#x27;one-to-one&#x27;,\n",
              "                                                                      func=&lt;function get_ages at 0x7fd359de3b80&gt;)),\n",
              "                                                 (&#x27;scale&#x27;, StandardScaler())]),\n",
              "                                 [&#x27;bdate&#x27;]),\n",
              "                                (&#x27;week_tr&#x27;,\n",
              "                                 Pipeline(steps=[(&#x27;weekd&#x27;,\n",
              "                                                  FunctionTransformer(feature_names_out=&#x27;one-to-one&#x27;,\n",
              "                                                                      func=&lt;function get_weekdays at 0x7fd31e507430&gt;)),\n",
              "                                                 (&#x27;onehot&#x27;,\n",
              "                                                  OneHotEncoder(drop=&#x27;first&#x27;))]),\n",
              "                                 [&#x27;datep&#x27;]),\n",
              "                                (&#x27;team_tr&#x27;, OneHotEncoder(drop=&#x27;first&#x27;),\n",
              "                                 [&#x27;team&#x27;]),\n",
              "                                (&#x27;scale_tr&#x27;, StandardScaler(),\n",
              "                                 [&#x27;prized&#x27;, &#x27;prizeq&#x27;])])</pre></div></div></div><div class=\"sk-parallel\"><div class=\"sk-parallel-item\"><div class=\"sk-item\"><div class=\"sk-label-container\"><div class=\"sk-label sk-toggleable\"><input class=\"sk-toggleable__control sk-hidden--visually\" id=\"sk-estimator-id-48\" type=\"checkbox\" ><label for=\"sk-estimator-id-48\" class=\"sk-toggleable__label sk-toggleable__label-arrow\">age_tr</label><div class=\"sk-toggleable__content\"><pre>[&#x27;bdate&#x27;]</pre></div></div></div><div class=\"sk-serial\"><div class=\"sk-item\"><div class=\"sk-serial\"><div class=\"sk-item\"><div class=\"sk-estimator sk-toggleable\"><input class=\"sk-toggleable__control sk-hidden--visually\" id=\"sk-estimator-id-49\" type=\"checkbox\" ><label for=\"sk-estimator-id-49\" class=\"sk-toggleable__label sk-toggleable__label-arrow\">FunctionTransformer</label><div class=\"sk-toggleable__content\"><pre>FunctionTransformer(feature_names_out=&#x27;one-to-one&#x27;,\n",
              "                    func=&lt;function get_ages at 0x7fd359de3b80&gt;)</pre></div></div></div><div class=\"sk-item\"><div class=\"sk-estimator sk-toggleable\"><input class=\"sk-toggleable__control sk-hidden--visually\" id=\"sk-estimator-id-50\" type=\"checkbox\" ><label for=\"sk-estimator-id-50\" class=\"sk-toggleable__label sk-toggleable__label-arrow\">StandardScaler</label><div class=\"sk-toggleable__content\"><pre>StandardScaler()</pre></div></div></div></div></div></div></div></div><div class=\"sk-parallel-item\"><div class=\"sk-item\"><div class=\"sk-label-container\"><div class=\"sk-label sk-toggleable\"><input class=\"sk-toggleable__control sk-hidden--visually\" id=\"sk-estimator-id-51\" type=\"checkbox\" ><label for=\"sk-estimator-id-51\" class=\"sk-toggleable__label sk-toggleable__label-arrow\">week_tr</label><div class=\"sk-toggleable__content\"><pre>[&#x27;datep&#x27;]</pre></div></div></div><div class=\"sk-serial\"><div class=\"sk-item\"><div class=\"sk-serial\"><div class=\"sk-item\"><div class=\"sk-estimator sk-toggleable\"><input class=\"sk-toggleable__control sk-hidden--visually\" id=\"sk-estimator-id-52\" type=\"checkbox\" ><label for=\"sk-estimator-id-52\" class=\"sk-toggleable__label sk-toggleable__label-arrow\">FunctionTransformer</label><div class=\"sk-toggleable__content\"><pre>FunctionTransformer(feature_names_out=&#x27;one-to-one&#x27;,\n",
              "                    func=&lt;function get_weekdays at 0x7fd31e507430&gt;)</pre></div></div></div><div class=\"sk-item\"><div class=\"sk-estimator sk-toggleable\"><input class=\"sk-toggleable__control sk-hidden--visually\" id=\"sk-estimator-id-53\" type=\"checkbox\" ><label for=\"sk-estimator-id-53\" class=\"sk-toggleable__label sk-toggleable__label-arrow\">OneHotEncoder</label><div class=\"sk-toggleable__content\"><pre>OneHotEncoder(drop=&#x27;first&#x27;)</pre></div></div></div></div></div></div></div></div><div class=\"sk-parallel-item\"><div class=\"sk-item\"><div class=\"sk-label-container\"><div class=\"sk-label sk-toggleable\"><input class=\"sk-toggleable__control sk-hidden--visually\" id=\"sk-estimator-id-54\" type=\"checkbox\" ><label for=\"sk-estimator-id-54\" class=\"sk-toggleable__label sk-toggleable__label-arrow\">team_tr</label><div class=\"sk-toggleable__content\"><pre>[&#x27;team&#x27;]</pre></div></div></div><div class=\"sk-serial\"><div class=\"sk-item\"><div class=\"sk-estimator sk-toggleable\"><input class=\"sk-toggleable__control sk-hidden--visually\" id=\"sk-estimator-id-55\" type=\"checkbox\" ><label for=\"sk-estimator-id-55\" class=\"sk-toggleable__label sk-toggleable__label-arrow\">OneHotEncoder</label><div class=\"sk-toggleable__content\"><pre>OneHotEncoder(drop=&#x27;first&#x27;)</pre></div></div></div></div></div></div><div class=\"sk-parallel-item\"><div class=\"sk-item\"><div class=\"sk-label-container\"><div class=\"sk-label sk-toggleable\"><input class=\"sk-toggleable__control sk-hidden--visually\" id=\"sk-estimator-id-56\" type=\"checkbox\" ><label for=\"sk-estimator-id-56\" class=\"sk-toggleable__label sk-toggleable__label-arrow\">scale_tr</label><div class=\"sk-toggleable__content\"><pre>[&#x27;prized&#x27;, &#x27;prizeq&#x27;]</pre></div></div></div><div class=\"sk-serial\"><div class=\"sk-item\"><div class=\"sk-estimator sk-toggleable\"><input class=\"sk-toggleable__control sk-hidden--visually\" id=\"sk-estimator-id-57\" type=\"checkbox\" ><label for=\"sk-estimator-id-57\" class=\"sk-toggleable__label sk-toggleable__label-arrow\">StandardScaler</label><div class=\"sk-toggleable__content\"><pre>StandardScaler()</pre></div></div></div></div></div></div><div class=\"sk-parallel-item\"><div class=\"sk-item\"><div class=\"sk-label-container\"><div class=\"sk-label sk-toggleable\"><input class=\"sk-toggleable__control sk-hidden--visually\" id=\"sk-estimator-id-58\" type=\"checkbox\" ><label for=\"sk-estimator-id-58\" class=\"sk-toggleable__label sk-toggleable__label-arrow\">remainder</label><div class=\"sk-toggleable__content\"><pre>[&#x27;training&#x27;]</pre></div></div></div><div class=\"sk-serial\"><div class=\"sk-item\"><div class=\"sk-estimator sk-toggleable\"><input class=\"sk-toggleable__control sk-hidden--visually\" id=\"sk-estimator-id-59\" type=\"checkbox\" ><label for=\"sk-estimator-id-59\" class=\"sk-toggleable__label sk-toggleable__label-arrow\">passthrough</label><div class=\"sk-toggleable__content\"><pre>passthrough</pre></div></div></div></div></div></div></div></div><div class=\"sk-item\"><div class=\"sk-estimator sk-toggleable\"><input class=\"sk-toggleable__control sk-hidden--visually\" id=\"sk-estimator-id-60\" type=\"checkbox\" ><label for=\"sk-estimator-id-60\" class=\"sk-toggleable__label sk-toggleable__label-arrow\">Lasso</label><div class=\"sk-toggleable__content\"><pre>Lasso(alpha=0.1)</pre></div></div></div></div></div></div></div>"
            ]
          },
          "metadata": {},
          "execution_count": 139
        }
      ]
    },
    {
      "cell_type": "code",
      "source": [
        "print(preprocessor.get_feature_names_out())\n",
        "print(pipe2.named_steps['lasso'].coef_)\n"
      ],
      "metadata": {
        "colab": {
          "base_uri": "https://localhost:8080/"
        },
        "id": "THgwkuYlK6_D",
        "outputId": "42463143-a883-43ac-e555-eb82131f803a"
      },
      "execution_count": 140,
      "outputs": [
        {
          "output_type": "stream",
          "name": "stdout",
          "text": [
            "['age_tr__bdate' 'week_tr__datep_1' 'week_tr__datep_2' 'week_tr__datep_3'\n",
            " 'week_tr__datep_4' 'team_tr__team_2' 'team_tr__team_3' 'team_tr__team_4'\n",
            " 'team_tr__team_5' 'team_tr__team_6' 'team_tr__team_7' 'team_tr__team_8'\n",
            " 'team_tr__team_9' 'team_tr__team_10' 'scale_tr__prized'\n",
            " 'scale_tr__prizeq' 'remainder__training']\n",
            "[  0.03130011  -0.55160365  -0.          -0.          17.69430722\n",
            "  -0.           9.01272689  -0.           0.          -0.\n",
            "   8.55764264  -2.29761405   0.          -0.          -8.59784934\n",
            "   4.31942568 -18.42309227]\n"
          ]
        }
      ]
    },
    {
      "cell_type": "code",
      "source": [
        "feature_names = preprocessor.get_feature_names_out()\n",
        "coefficients = pipe2.named_steps['lasso'].coef_\n",
        "df3 = pd.DataFrame({'Feature Name': feature_names, 'Coefficient': coefficients})\n",
        "print(df3)"
      ],
      "metadata": {
        "colab": {
          "base_uri": "https://localhost:8080/"
        },
        "id": "KlJ_LJRxLf4p",
        "outputId": "a8d8662e-8484-40af-c61f-e33110f2157e"
      },
      "execution_count": 141,
      "outputs": [
        {
          "output_type": "stream",
          "name": "stdout",
          "text": [
            "           Feature Name  Coefficient\n",
            "0         age_tr__bdate     0.031300\n",
            "1      week_tr__datep_1    -0.551604\n",
            "2      week_tr__datep_2    -0.000000\n",
            "3      week_tr__datep_3    -0.000000\n",
            "4      week_tr__datep_4    17.694307\n",
            "5       team_tr__team_2    -0.000000\n",
            "6       team_tr__team_3     9.012727\n",
            "7       team_tr__team_4    -0.000000\n",
            "8       team_tr__team_5     0.000000\n",
            "9       team_tr__team_6    -0.000000\n",
            "10      team_tr__team_7     8.557643\n",
            "11      team_tr__team_8    -2.297614\n",
            "12      team_tr__team_9     0.000000\n",
            "13     team_tr__team_10    -0.000000\n",
            "14     scale_tr__prized    -8.597849\n",
            "15     scale_tr__prizeq     4.319426\n",
            "16  remainder__training   -18.423092\n"
          ]
        }
      ]
    },
    {
      "cell_type": "markdown",
      "source": [
        "As discussed previously, some of the coefficients were forced down to zero, the weaker ones.\n",
        "Let’s us now evaluate the predictive performance of the model in the train set:"
      ],
      "metadata": {
        "id": "6iTZ8_6RMkqp"
      }
    },
    {
      "cell_type": "markdown",
      "source": [
        "**PREDICTIVE PERFORMANCE**"
      ],
      "metadata": {
        "id": "GMcBmPYFNbFY"
      }
    },
    {
      "cell_type": "code",
      "source": [
        "y_pred = pipe2.predict(X_train)\n",
        "print(f'R2= {r2_score(y_train, y_pred):0.03f}')\n",
        "print(f'MAE= {mean_absolute_error(y_train, y_pred):0.03f}')\n",
        "print(f'RMSE= {mean_squared_error(y_train, y_pred, squared=False):0.03f}')"
      ],
      "metadata": {
        "colab": {
          "base_uri": "https://localhost:8080/"
        },
        "id": "3pYOi0mDLo5M",
        "outputId": "35387eeb-4147-4e3f-a381-8cc25308ba51"
      },
      "execution_count": 142,
      "outputs": [
        {
          "output_type": "stream",
          "name": "stdout",
          "text": [
            "R2= 0.915\n",
            "MAE= 3.304\n",
            "RMSE= 4.389\n"
          ]
        }
      ]
    },
    {
      "cell_type": "markdown",
      "source": [
        "The predictive performance of our model seems to be quite good. Should we expect it to also perform good in the test set?"
      ],
      "metadata": {
        "id": "MAwNTtJrNnOb"
      }
    },
    {
      "cell_type": "code",
      "source": [
        "y_pred = pipe2.predict(X_test)\n",
        "print(f'R2= {r2_score(y_test, y_pred):0.03f}')\n",
        "print(f'MAE= {mean_absolute_error(y_test, y_pred):0.03f}')\n",
        "print(f'RMSE= {mean_squared_error(y_test, y_pred, squared=False):0.03f}')"
      ],
      "metadata": {
        "colab": {
          "base_uri": "https://localhost:8080/"
        },
        "id": "KGp5l4cWNk1p",
        "outputId": "7863292f-9a2c-4764-f62a-f0242cfcc46f"
      },
      "execution_count": 143,
      "outputs": [
        {
          "output_type": "stream",
          "name": "stdout",
          "text": [
            "R2= 0.892\n",
            "MAE= 3.758\n",
            "RMSE= 5.037\n"
          ]
        }
      ]
    },
    {
      "cell_type": "markdown",
      "source": [
        "The predictive performance of the model seems to be similar in both\n",
        "sets, train and test."
      ],
      "metadata": {
        "id": "hNCWT_0xNvOe"
      }
    },
    {
      "cell_type": "markdown",
      "source": [
        "# **OPTIMIZATION OF HYPERPARAMETERS**\n",
        "\n",
        "In machine learning, a hyperparameter is a parameter whose value is set before the training process begins, as opposed to the model parameters that are learned during the training process. Hyperparameters are external to the model and cannot be learned from the data, but they have a significant influence on the performance of the model.\n",
        "Hyperparameters are used to configure the model architecture, learning process, and optimization algorithm. They can include learning rate, number of layers in a neural network, batch size, activation function, regularization techniques, and many others.\n",
        "Tuning hyperparameters is an important step in the model development process, as it helps to find the optimal configuration for a given problem. This process often involves techniques such as **grid search**, random search, or more advanced methods like Bayesian optimization to systematically explore different combinations of hyperparameters and identify the best-performing set. In our course, we will focus only on grid search."
      ],
      "metadata": {
        "id": "E7xb4ZAt973P"
      }
    },
    {
      "cell_type": "markdown",
      "source": [
        "**GRID SEARCH**\n",
        "\n",
        "Grid search is a popular and straightforward technique used for hyperparameter tuning in machine learning. It works by exhaustively evaluating all possible combinations of hyperparameter values in a predefined search space to find the best configuration for a given model. Grid search can be applied to various machine learning algorithms, such as **Lasso regression** and K-Nearest Neighbors (KNN)."
      ],
      "metadata": {
        "id": "J3C6gZS_-VCD"
      }
    },
    {
      "cell_type": "markdown",
      "source": [
        "We will apply the hyperparameter optimization in the Lasso Regression on the car radios dataset.\n",
        "\n",
        "The diference is once again in the definition of the pipeline. Before we have this..."
      ],
      "metadata": {
        "id": "jQunT23Y-iHI"
      }
    },
    {
      "cell_type": "code",
      "source": [
        "pipe = Pipeline([\n",
        "    ('pre', preprocessor),\n",
        "    ('lasso', Lasso(alpha=0.1))\n",
        "])"
      ],
      "metadata": {
        "id": "GUISjQc3-Thg"
      },
      "execution_count": 144,
      "outputs": []
    },
    {
      "cell_type": "markdown",
      "source": [
        "ALPHA - is a hyperparameter. It controls the magnitude of penalty Lasso regression introduces. A larger value of alpha will increase the penalty, which in turn will shrink the coefficients toward zero. Consequently, with a larger alpha, more coefficients are likely to be exactly zero, effectively reducing the number of features used in the model. On the other hand, a smaller value of alpha will result in a weaker penalty, leading to fewer coefficients being forced to zero.\n",
        "Typically, it is used alpha=0.1, but we do not know whether there is a better value for alpha. Then, we can **create a grid of values for alpha** and **search for the best value**. To accomplish this in Python, we first need to define a dictionary with the values for alpha we want to test (and we want, for instance, to test 0.01, 0.02, 0.03, 0.04, 0.05, 0.5):"
      ],
      "metadata": {
        "id": "Mj1-OxB0_DVM"
      }
    },
    {
      "cell_type": "markdown",
      "source": [
        "Now, with optimization of hyperparameter we will have this..."
      ],
      "metadata": {
        "id": "DVm2p7CK--Xw"
      }
    },
    {
      "cell_type": "code",
      "source": [
        "hyper = {\n",
        "    'alpha': [0.01, 0.02, 0.03, 0.04, 0.05, 0.5]\n",
        "}"
      ],
      "metadata": {
        "id": "Pw8jOB-K-6iF"
      },
      "execution_count": 145,
      "outputs": []
    },
    {
      "cell_type": "markdown",
      "source": [
        "To load the library with the `GridSearchCV` function:"
      ],
      "metadata": {
        "id": "JyXgHtdE_j28"
      }
    },
    {
      "cell_type": "code",
      "source": [
        "from sklearn.model_selection import GridSearchCV"
      ],
      "metadata": {
        "id": "0LdDQqdc_iYD"
      },
      "execution_count": 146,
      "outputs": []
    },
    {
      "cell_type": "markdown",
      "source": [
        "To apply the grid search, we need to redefine the final pipeline:"
      ],
      "metadata": {
        "id": "PxNmFGEy_w9R"
      }
    },
    {
      "cell_type": "code",
      "source": [
        "pipe = Pipeline([\n",
        "    ('pre', preprocessor),\n",
        "    ('grid', GridSearchCV(Lasso(),hyper, cv=5))])"
      ],
      "metadata": {
        "id": "DF2X6Xq6_vm8"
      },
      "execution_count": 147,
      "outputs": []
    },
    {
      "cell_type": "markdown",
      "source": [
        "After fitting the new pipeline, we will get the best value for alpha (among the ones tried out):"
      ],
      "metadata": {
        "id": "1Kpn3blS_6Va"
      }
    },
    {
      "cell_type": "code",
      "source": [
        "pipe.fit(X_train, y_train)\n",
        "pipe.named_steps['grid'].best_params_"
      ],
      "metadata": {
        "colab": {
          "base_uri": "https://localhost:8080/"
        },
        "id": "dEFu0g-H_5AW",
        "outputId": "bd898f66-d7a6-443a-cfb0-4d546c477b41"
      },
      "execution_count": 148,
      "outputs": [
        {
          "output_type": "execute_result",
          "data": {
            "text/plain": [
              "{'alpha': 0.03}"
            ]
          },
          "metadata": {},
          "execution_count": 148
        }
      ]
    },
    {
      "cell_type": "markdown",
      "source": [
        "In our case, the best value for alpha that was found is 0.03.\n",
        "\n",
        "To make predictions using the optimized value for alpha, we just use the usual command, as pipe learns to uses the best value for alpha:"
      ],
      "metadata": {
        "id": "ciMyxCKLAB5g"
      }
    },
    {
      "cell_type": "code",
      "source": [
        "pipe.predict(X_train)"
      ],
      "metadata": {
        "colab": {
          "base_uri": "https://localhost:8080/"
        },
        "id": "JYppaKXB__Fc",
        "outputId": "2e66679a-135d-48d4-b512-8b658c7d2bdf"
      },
      "execution_count": 149,
      "outputs": [
        {
          "output_type": "execute_result",
          "data": {
            "text/plain": [
              "array([19.96056509, 20.59117733, 10.93514512,  2.23575999, 30.25658068,\n",
              "       20.57505505, 38.45164548, 20.57505505, 30.46105352, 20.69144784,\n",
              "       30.25658068, 38.55191599,  2.08397466, 20.33294553, 20.45473044,\n",
              "       20.69144784, 39.44519634, 20.67532556,  2.35215277, 20.47085272,\n",
              "       39.44519634, 57.52625961, 20.45473044, 10.10744827, 10.20771878,\n",
              "       20.67532556,  1.99982643,  2.01516487,  2.13155766, 29.42888384,\n",
              "       48.33764395, 17.42326514, 10.10744827, 20.33294553, 39.44519634,\n",
              "       11.35199257, 38.55191599, 30.14018789,  1.52445593, 39.42907406,\n",
              "        2.11543538,  2.25188227, 20.81177245, 39.42907406, 30.14018789,\n",
              "       20.69144784, 38.7725111 , 38.6722406 ,  1.52445593, 39.22460123,\n",
              "       -0.65779812, 20.37058221, 39.54546685,  1.27240009, 39.42907406,\n",
              "       10.86128363,  1.17212959, 11.23166796, 10.93514512, 19.86375099,\n",
              "       29.44917812, -0.55752762, 20.47085272,  2.25188227, 11.46838536,\n",
              "       19.76348049, 19.54288537,  1.17212959, 20.47085272,  1.42418542,\n",
              "       29.01620838, 20.69144784, 38.7725111 ,  2.33603049,  1.99982643,\n",
              "       29.54944862, 10.54041801, -1.48549497, 17.30294054, -1.48549497,\n",
              "        2.20429927, 20.37058221, 10.54041801, -1.60581957, 38.6722406 ,\n",
              "       10.81482051, 38.6722406 , 39.54546685, 30.46105352, 39.44519634,\n",
              "        1.65890671, 30.36078301, 39.44519634, 30.36078301, 38.6722406 ,\n",
              "       39.44519634, 20.47085272, 29.42888384, 10.64068851, 20.0808897 ,\n",
              "       -0.77812273,  1.17212959, 19.86375099, 38.6174995 , -1.38522446,\n",
              "        2.25188227, 20.57505505, 10.81482051, 19.64315588, 11.01929334,\n",
              "        2.08397466, 17.42326514, 57.405935  , -0.55752762, 20.45473044,\n",
              "       -1.60581957, 30.37690529, 38.6722406 , 20.47085272,  1.42418542,\n",
              "        1.98370415, 11.24779024, 30.4771758 , -0.43720301, 38.55191599,\n",
              "       30.36078301, 19.76348049, 30.15631017, 39.54546685, 20.47085272,\n",
              "       -0.5736499 , 48.33764395, 11.35199257, 39.54546685, 10.71455   ,\n",
              "       38.55191599, -0.77812273, 20.55354065, 39.32487174, -0.65779812,\n",
              "        2.35215277, 20.47085272, 11.36811485, 11.35199257, 11.36811485,\n",
              "        2.33603049, 20.59117733, 20.47085272,  1.98370415, 20.57505505,\n",
              "       39.54546685,  1.87950182, 11.45226308, 17.30294054, 38.6722406 ,\n",
              "       -1.60581957, 10.54041801, 39.44519634, 28.89588377,  2.33603049,\n",
              "       30.37690529,  1.52445593, 20.57505505, 38.6722406 , 10.59422539,\n",
              "       17.42326514, 20.1811602 , 38.55191599, 19.76348049, 11.01929334,\n",
              "       20.57505505, 20.33294553,  1.77923132, 39.30874946, 29.01620838,\n",
              "       38.7725111 , 20.69144784,  1.52445593, 10.81482051, 30.46105352,\n",
              "       20.59117733, 20.45473044, 20.59117733, 19.76348049,  1.17212959,\n",
              "       20.57505505, 19.86375099, 30.46105352, 20.47085272, 29.54920845,\n",
              "        1.87950182, 30.46105352, 30.2404584 , 29.54920845, 11.23166796,\n",
              "       20.57505505, 20.69144784, -1.48549497, 39.52934457, -1.38522446,\n",
              "       30.4771758 , 19.76348049, 11.35199257, 30.25658068, 20.33294553,\n",
              "        2.35215277, 20.33294553, 20.47085272, 29.66977323, 30.4771758 ,\n",
              "       19.86375099, 11.46838536, -0.6739204 , 19.9840756 , 20.67532556,\n",
              "        1.87950182, 38.7725111 , 29.42888384, 39.44519634,  1.77923132,\n",
              "       20.47085272,  2.25188227,  1.98370415, 30.4771758 , 57.405935  ,\n",
              "       10.31982289, 39.54546685, -0.55752762, -1.48549497, 48.55823906,\n",
              "       -0.55752762, 10.93514512, 29.44917812, 19.76348049,  2.47247738,\n",
              "       11.23166796, 10.54041801, 29.66977323, 11.36811485, 38.45164548,\n",
              "       -0.6739204 , 10.81482051, 20.69144784, 30.25658068, 20.59117733,\n",
              "       -0.77812273,  2.10009694, 10.81482051,  2.13155766, 38.55191599,\n",
              "       20.47085272,  1.99982643,  1.30386082, 20.69144784, 10.20771878,\n",
              "       30.25658068, 20.57505505, 11.24779024, 20.59117733, 39.44519634,\n",
              "       20.67532556, -0.77812273,  1.27240009, 10.20771878, -0.65779812,\n",
              "       10.93514512, 30.36078301, 11.03541562, 10.10744827, 20.67532556,\n",
              "        2.35215277, 11.24779024,  1.98370415,  2.08397466, 20.59117733,\n",
              "       11.23166796, 10.20771878,  1.99982643, 38.6722406 , 57.405935  ,\n",
              "       20.11235042, -1.38522446, 30.36078301, 38.7725111 , 30.2404584 ,\n",
              "       30.2404584 ,  9.98712366, 39.30874946, -1.38522446, 11.36811485,\n",
              "       -0.43720301, 29.44917812, 39.54546685, 20.37058221, 11.24779024,\n",
              "       38.7725111 , 11.45226308, 48.55823906, 39.30874946, 30.4771758 ,\n",
              "       38.6722406 , 39.32487174, 30.36078301,  1.30386082, 39.44519634,\n",
              "       29.11647889,  2.13155766,  1.99982643, 20.57505505, 38.55191599,\n",
              "        1.42418542, 11.03541562, 20.33294553, 10.81482051, 20.47085272,\n",
              "       -0.77812273, 30.37690529, 20.69144784, 29.32885351,  1.86337954,\n",
              "        1.87950182, 38.6722406 ,  2.25188227, 11.01929334, 19.86375099,\n",
              "       20.33294553,  2.10009694, 28.79561327, 20.43321604,  1.98370415,\n",
              "       39.44519634, 39.54546685, 39.32487174, 10.91902284,  1.3927247 ,\n",
              "       -0.87839324, 10.20771878, 48.33764395, 20.43321604, 20.59117733,\n",
              "       -0.77812273, 30.46105352,  1.99982643, 39.52934457, 19.76348049,\n",
              "       10.91902284, 19.64315588, 29.54920845, 20.47085272, 39.66579146,\n",
              "        2.23575999, 10.71455   , 48.55823906, 20.59117733, 57.62653012,\n",
              "       10.10744827, 39.52934457,  2.35215277, 11.36811485, 39.64966918,\n",
              "       20.30148481, 11.35199257, 30.25658068,  1.17212959, 30.25658068,\n",
              "       20.30148481,  1.99982643, -0.6739204 ,  9.98712366, 39.44519634,\n",
              "       10.93514512, 29.44917812, 38.6722406 , 20.59117733,  1.17212959,\n",
              "        2.25188227, 38.6722406 , 19.64315588, 20.57505505, 20.37058221,\n",
              "        1.17212959, 20.45473044,  2.35215277, 20.59117733, 29.54944862,\n",
              "       29.44917812, 39.30874946, 38.6722406 , 19.86375099, 19.76348049,\n",
              "       20.47085272, 20.33294553, 20.45473044, -0.5736499 , 11.01929334,\n",
              "        1.86337954, 19.64315588, 19.86375099, 10.71455   , 11.01929334,\n",
              "       48.67856367,  1.05180498, 11.46838536,  1.99982643, 11.46838536,\n",
              "        1.17212959, 29.32861333, 19.76348049, -1.38522446,  1.99982643,\n",
              "       20.57505505, 39.32487174, 19.76348049, 20.79565017, 10.79869823,\n",
              "       39.66579146, 38.71777001, 30.36078301, 20.57505505,  1.99982643,\n",
              "       29.11647889, 10.54041801, 19.86375099, 20.67532556, 30.5975004 ,\n",
              "       29.42888384, 39.54546685, 19.86375099, 20.43321604, 20.59117733,\n",
              "       48.77883418, 20.79565017, 48.33764395, 30.15631017, 10.64068851,\n",
              "       20.57505505,  1.99982643, 20.81177245, -1.60581957, 39.54546685,\n",
              "       -0.77812273, 20.69144784, 11.36811485, 38.71777001, 20.59117733,\n",
              "       20.33294553, 20.59117733, 20.47085272, 20.69144784, 11.46838536,\n",
              "       19.76348049, 29.01620838, 38.55191599, 20.57505505, 11.36811485,\n",
              "       10.93514512, 30.46105352, -0.65779812, 10.79869823, 20.57505505,\n",
              "       -0.45332529, 10.54041801, -1.38522446, 11.36811485, 39.44519634,\n",
              "       -0.77812273, 11.23166796, 11.24779024, 10.81482051, 39.22460123,\n",
              "       38.6722406 , 39.30874946, 19.9840756 , 17.42326514, 29.01620838,\n",
              "       10.10744827, 17.42326514,  2.23575999, 11.35199257, 30.25658068,\n",
              "       20.59117733, 19.86375099, 38.55191599, 17.52353565,  1.99982643,\n",
              "        1.05180498, -1.38522446, 10.81482051, -1.48549497, 19.9840756 ,\n",
              "       38.71777001, 11.03541562, 20.43321604, 10.81482051, 20.47085272,\n",
              "       29.32885351, 11.36811485, -0.87839324, 19.76348049, 39.66579146,\n",
              "       20.45473044, 29.54920845,  0.83120986, 19.64315588, 29.42888384,\n",
              "       -0.79424501, 30.46105352, 19.64315588, 48.55823906, 20.57505505,\n",
              "       38.6722406 , -1.38522446, 11.24779024, -0.6739204 , 30.37690529,\n",
              "       11.36811485, 17.42326514, 38.6174995 , 20.57505505, 19.96056509,\n",
              "       29.44917812, 20.37058221, -0.6739204 , 28.89588377, 17.30294054,\n",
              "       38.6722406 , 30.4771758 ,  2.25188227, 30.37690529, -0.65779812,\n",
              "       29.42888384,  2.13155766, 20.59117733,  1.42418542,  2.25188227,\n",
              "       10.93514512, 11.24779024, 20.21262092,  2.25188227, 38.6722406 ,\n",
              "       28.79561327, 19.64315588, 10.54041801,  2.4563551 ,  1.87950182,\n",
              "       19.64315588, 11.03541562, 29.54920845,  2.13155766,  1.98370415,\n",
              "       11.36811485, 38.55191599, -0.55752762, 20.69144784, 20.69144784,\n",
              "       19.76348049, 19.76348049, 20.33294553, 17.30294054, 20.67532556,\n",
              "        1.99982643, 10.81482051, 30.4771758 , 39.66579146, 20.47085272,\n",
              "       19.64315588, 10.69842772, 11.24779024, 20.47085272, 57.3056645 ,\n",
              "        2.08397466, 30.14018789,  9.98712366, 38.6722406 , 20.37058221,\n",
              "       10.93514512,  1.30386082, 29.64947895, 48.33764395, 39.44519634,\n",
              "        1.27240009, 20.33294553, 39.30874946, 57.62653012,  1.87950182,\n",
              "       38.89283571, 38.6174995 , 10.10744827,  1.42418542, 30.37690529,\n",
              "       20.69144784, 29.54944862, 17.42326514, 30.37690529, 20.45473044,\n",
              "       10.54041801, 48.45796856, -0.6739204 , 20.69144784, 20.47085272,\n",
              "       29.64947895, 20.37058221, 20.59117733, 57.405935  , -0.55752762,\n",
              "        2.25188227, 19.86375099, -0.79424501, 29.228583  , 10.64068851,\n",
              "       19.64315588,  1.98370415, -1.60581957, 20.45473044, 48.55823906,\n",
              "       20.59117733, 48.33764395, 20.69144784,  1.17212959, 20.1811602 ,\n",
              "       20.47085272,  1.87950182, 20.37058221, 19.64315588, -0.35305478,\n",
              "       57.62653012, 20.47085272, 11.36811485, -0.55752762, 19.86375099,\n",
              "       30.4771758 , -0.55752762, 11.14751974, -0.65779812, 19.64315588,\n",
              "       30.2404584 , 11.36811485, 38.7725111 , 39.44519634, 19.96056509,\n",
              "       11.36811485, 10.10744827, 38.6174995 ,  1.30386082, 20.45473044,\n",
              "       10.20771878, 38.71777001,  1.98370415,  1.87950182, 10.20771878,\n",
              "       20.57505505, 48.33764395, 29.66977323, 20.43321604, 29.54944862,\n",
              "       20.1811602 , 11.03541562,  2.13155766, 20.0808897 , 29.54944862,\n",
              "        2.10009694, 30.4771758 , 20.89592067, -1.16462934, 39.32487174,\n",
              "        2.01516487, 19.64315588,  2.35215277, 57.62653012, 17.30294054,\n",
              "       30.2404584 , 30.25658068, 29.32885351, 39.10427662, 11.01929334,\n",
              "       20.57505505, 38.55191599, 20.59117733, 29.42888384, 30.25658068,\n",
              "       20.57505505, -0.65779812, -0.6739204 ,  1.98370415, 39.22460123,\n",
              "       20.47085272,  1.99982643, 10.54041801, 38.55191599,  2.23575999,\n",
              "       38.6722406 , 11.03541562, 20.69144784, 57.52625961, 19.54288537,\n",
              "       20.69144784, 29.32885351, 29.01620838,  2.25188227,  2.25188227,\n",
              "       38.89283571, -0.6739204 , 20.57505505, 20.47085272, 17.52353565,\n",
              "       39.30874946,  2.13155766, 11.36811485, 20.57505505,  1.99982643,\n",
              "       39.32487174, 20.59117733, -1.60581957, 20.47085272, 20.21262092,\n",
              "        2.08397466, 38.89283571, 29.01620838, 38.45164548, 20.59117733,\n",
              "       20.21262092, 20.33294553, 20.47085272,  2.35215277, 20.67532556,\n",
              "        2.35215277, 20.59117733,  1.87950182, 39.32487174, -0.55752762,\n",
              "        1.77923132, 30.37690529,  2.25188227, 30.2404584 , 38.6722406 ,\n",
              "        2.35215277, 10.64068851, -1.48549497, 38.6174995 , 11.03541562,\n",
              "       20.59117733, 20.81177245, 11.24779024, 38.55191599, 20.33294553,\n",
              "       17.52353565,  1.42418542,  1.42418542,  2.10009694, 20.35445993,\n",
              "       38.49717489, 29.44917812, 20.37058221, 48.45796856, 57.62653012,\n",
              "       20.59117733, 38.6174995 , -0.89451552, 19.64315588,  1.27240009,\n",
              "       20.45473044,  2.25188227, 28.89588377, 19.76348049, 20.1811602 ,\n",
              "       11.36811485,  1.99982643,  1.98370415, 29.44917812, 39.44519634,\n",
              "       20.81177245, 20.59117733, 20.59117733, 20.59117733, -1.38522446,\n",
              "       20.47085272, 11.01929334,  2.57274789, 20.45473044,  2.35215277,\n",
              "       29.44917812, 30.37690529,  1.30386082, -0.77812273, 11.45226308,\n",
              "       29.54944862, 20.79565017, 39.20847895, 11.46838536, -0.79424501,\n",
              "       30.4771758 ,  2.10009694, 17.42326514, 11.46838536, -0.3369325 ,\n",
              "       20.59117733, 30.25658068, 11.35199257, 20.37058221, 10.10744827])"
            ]
          },
          "metadata": {},
          "execution_count": 149
        }
      ]
    },
    {
      "cell_type": "code",
      "source": [
        "y_pred = pipe.predict(X_train)\n",
        "print(f'R2= {r2_score(y_train, y_pred):0.03f}')\n",
        "print(f'MAE= {mean_absolute_error(y_train, y_pred):0.03f}')\n",
        "print(f'RMSE= {mean_squared_error(y_train, y_pred, squared=False):0.03f}')"
      ],
      "metadata": {
        "colab": {
          "base_uri": "https://localhost:8080/"
        },
        "id": "l9FypdKZAWSi",
        "outputId": "07011c7d-fe7a-436b-98e7-8b17cf76902a"
      },
      "execution_count": 150,
      "outputs": [
        {
          "output_type": "stream",
          "name": "stdout",
          "text": [
            "R2= 0.917\n",
            "MAE= 3.319\n",
            "RMSE= 4.341\n"
          ]
        }
      ]
    },
    {
      "cell_type": "code",
      "source": [
        "y_pred = pipe.predict(X_test)\n",
        "print(f'R2= {r2_score(y_test, y_pred):0.03f}')\n",
        "print(f'MAE= {mean_absolute_error(y_test, y_pred):0.03f}')\n",
        "print(f'RMSE= {mean_squared_error(y_test, y_pred, squared=False):0.03f}')"
      ],
      "metadata": {
        "colab": {
          "base_uri": "https://localhost:8080/"
        },
        "id": "WPIWD-WjAfkD",
        "outputId": "ae2d1d70-e872-49d1-8103-30c7956175e0"
      },
      "execution_count": 151,
      "outputs": [
        {
          "output_type": "stream",
          "name": "stdout",
          "text": [
            "R2= 0.893\n",
            "MAE= 3.782\n",
            "RMSE= 5.009\n"
          ]
        }
      ]
    },
    {
      "cell_type": "markdown",
      "source": [
        "**CROSS-VALIDATION**"
      ],
      "metadata": {
        "id": "ytg7D4thA052"
      }
    },
    {
      "cell_type": "markdown",
      "source": [
        "Cross-validation is used to **measure the predictive performance corresponding to each value of the hyperparameter** considered.\n",
        "It starts by dividing the training set into k equally-sized subsets, or folds. In each iteration of the cross-validation process, one of these folds is used as the test fold, and the remaining k-1 folds are used, together, as the training set (do not confuse this training set with the original training set – this training set is a set resulting from the union of all mentioned k-1 folds).\n",
        "For each value of the hyperparameter in the grid, the model is trained using the training set (formed by the k-1 folds) and evaluated on the test fold. This process is repeated k times, with each fold serving as the test fold once. A predictive performance metric, such as accuracy or mean squared error, is averaged across the k iterations to produce a single performance score for the given hyperparameter value.\n",
        "After evaluating all possible values of the hyperparameter, the value that yields the best performance score is selected as the optimal value of the hyperparameter for the model. The parameter cv=5 used in the GridSearchCV function instructs the function to use 5 folds."
      ],
      "metadata": {
        "id": "Zo79lGxCA5iN"
      }
    }
  ]
}