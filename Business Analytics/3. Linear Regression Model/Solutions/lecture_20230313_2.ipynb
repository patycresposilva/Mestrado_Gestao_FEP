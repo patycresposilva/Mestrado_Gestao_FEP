{
  "cells": [
    {
      "cell_type": "code",
      "execution_count": null,
      "metadata": {
        "colab": {
          "base_uri": "https://localhost:8080/"
        },
        "id": "HJu0W6q7vpHF",
        "outputId": "b1e86f41-efbf-4096-f618-caf539fe1e44"
      },
      "outputs": [
        {
          "output_type": "execute_result",
          "data": {
            "text/plain": [
              "array([6.48553273, 4.72694379, 5.84088531, ..., 5.48660099, 6.34047368,\n",
              "       5.4922784 ])"
            ]
          },
          "metadata": {},
          "execution_count": 36
        }
      ],
      "source": [
        "import pandas as pd\n",
        "import numpy as np\n",
        "from sklearn.model_selection import train_test_split\n",
        "from sklearn.preprocessing import StandardScaler\n",
        "from sklearn.pipeline import Pipeline\n",
        "from sklearn.compose import ColumnTransformer\n",
        "from sklearn.linear_model import LinearRegression\n",
        "\n",
        "df = pd.read_csv('/content/winequality-red.csv',\n",
        "    sep=';')\n",
        "\n",
        "X = df.drop('quality', axis=1)\n",
        "y = df['quality']\n",
        "\n",
        "\n",
        "X_train, X_test, y_train, y_test = train_test_split(X, y, test_size=0.2, random_state=45)\n",
        "\n",
        "scaler = Pipeline([\n",
        "    ('any_name1', StandardScaler())\n",
        "    ])\n",
        "\n",
        "preprocessor = ColumnTransformer([\n",
        "    ('any_name_does', scaler, X.columns.to_list())],\n",
        "    remainder='passthrough')\n",
        "\n",
        "pipe = Pipeline([\n",
        "    ('pre', preprocessor),\n",
        "    ('lm', LinearRegression())])\n",
        "\n",
        "pipe.fit(X_train, y_train)\n",
        "\n",
        "y_pred = pipe.predict(X_train)\n",
        "y_pred\n"
      ]
    },
    {
      "cell_type": "code",
      "execution_count": null,
      "metadata": {
        "id": "GxL1QZ4wvpHH",
        "colab": {
          "base_uri": "https://localhost:8080/",
          "height": 423
        },
        "outputId": "d069b8dc-97ae-432e-dede-62cad18f0271"
      },
      "outputs": [
        {
          "output_type": "execute_result",
          "data": {
            "text/plain": [
              "      y_true    y_pred\n",
              "1108       7  6.485533\n",
              "709        5  4.726944\n",
              "823        6  5.840885\n",
              "4109       6  6.496332\n",
              "1243       7  6.425209\n",
              "...      ...       ...\n",
              "4473       5  5.191853\n",
              "580        5  5.176507\n",
              "163        6  5.486601\n",
              "4703       7  6.340474\n",
              "3616       5  5.492278\n",
              "\n",
              "[3918 rows x 2 columns]"
            ],
            "text/html": [
              "\n",
              "  <div id=\"df-f94f0bd0-54d0-41db-b569-9ed23cc42390\">\n",
              "    <div class=\"colab-df-container\">\n",
              "      <div>\n",
              "<style scoped>\n",
              "    .dataframe tbody tr th:only-of-type {\n",
              "        vertical-align: middle;\n",
              "    }\n",
              "\n",
              "    .dataframe tbody tr th {\n",
              "        vertical-align: top;\n",
              "    }\n",
              "\n",
              "    .dataframe thead th {\n",
              "        text-align: right;\n",
              "    }\n",
              "</style>\n",
              "<table border=\"1\" class=\"dataframe\">\n",
              "  <thead>\n",
              "    <tr style=\"text-align: right;\">\n",
              "      <th></th>\n",
              "      <th>y_true</th>\n",
              "      <th>y_pred</th>\n",
              "    </tr>\n",
              "  </thead>\n",
              "  <tbody>\n",
              "    <tr>\n",
              "      <th>1108</th>\n",
              "      <td>7</td>\n",
              "      <td>6.485533</td>\n",
              "    </tr>\n",
              "    <tr>\n",
              "      <th>709</th>\n",
              "      <td>5</td>\n",
              "      <td>4.726944</td>\n",
              "    </tr>\n",
              "    <tr>\n",
              "      <th>823</th>\n",
              "      <td>6</td>\n",
              "      <td>5.840885</td>\n",
              "    </tr>\n",
              "    <tr>\n",
              "      <th>4109</th>\n",
              "      <td>6</td>\n",
              "      <td>6.496332</td>\n",
              "    </tr>\n",
              "    <tr>\n",
              "      <th>1243</th>\n",
              "      <td>7</td>\n",
              "      <td>6.425209</td>\n",
              "    </tr>\n",
              "    <tr>\n",
              "      <th>...</th>\n",
              "      <td>...</td>\n",
              "      <td>...</td>\n",
              "    </tr>\n",
              "    <tr>\n",
              "      <th>4473</th>\n",
              "      <td>5</td>\n",
              "      <td>5.191853</td>\n",
              "    </tr>\n",
              "    <tr>\n",
              "      <th>580</th>\n",
              "      <td>5</td>\n",
              "      <td>5.176507</td>\n",
              "    </tr>\n",
              "    <tr>\n",
              "      <th>163</th>\n",
              "      <td>6</td>\n",
              "      <td>5.486601</td>\n",
              "    </tr>\n",
              "    <tr>\n",
              "      <th>4703</th>\n",
              "      <td>7</td>\n",
              "      <td>6.340474</td>\n",
              "    </tr>\n",
              "    <tr>\n",
              "      <th>3616</th>\n",
              "      <td>5</td>\n",
              "      <td>5.492278</td>\n",
              "    </tr>\n",
              "  </tbody>\n",
              "</table>\n",
              "<p>3918 rows × 2 columns</p>\n",
              "</div>\n",
              "      <button class=\"colab-df-convert\" onclick=\"convertToInteractive('df-f94f0bd0-54d0-41db-b569-9ed23cc42390')\"\n",
              "              title=\"Convert this dataframe to an interactive table.\"\n",
              "              style=\"display:none;\">\n",
              "        \n",
              "  <svg xmlns=\"http://www.w3.org/2000/svg\" height=\"24px\"viewBox=\"0 0 24 24\"\n",
              "       width=\"24px\">\n",
              "    <path d=\"M0 0h24v24H0V0z\" fill=\"none\"/>\n",
              "    <path d=\"M18.56 5.44l.94 2.06.94-2.06 2.06-.94-2.06-.94-.94-2.06-.94 2.06-2.06.94zm-11 1L8.5 8.5l.94-2.06 2.06-.94-2.06-.94L8.5 2.5l-.94 2.06-2.06.94zm10 10l.94 2.06.94-2.06 2.06-.94-2.06-.94-.94-2.06-.94 2.06-2.06.94z\"/><path d=\"M17.41 7.96l-1.37-1.37c-.4-.4-.92-.59-1.43-.59-.52 0-1.04.2-1.43.59L10.3 9.45l-7.72 7.72c-.78.78-.78 2.05 0 2.83L4 21.41c.39.39.9.59 1.41.59.51 0 1.02-.2 1.41-.59l7.78-7.78 2.81-2.81c.8-.78.8-2.07 0-2.86zM5.41 20L4 18.59l7.72-7.72 1.47 1.35L5.41 20z\"/>\n",
              "  </svg>\n",
              "      </button>\n",
              "      \n",
              "  <style>\n",
              "    .colab-df-container {\n",
              "      display:flex;\n",
              "      flex-wrap:wrap;\n",
              "      gap: 12px;\n",
              "    }\n",
              "\n",
              "    .colab-df-convert {\n",
              "      background-color: #E8F0FE;\n",
              "      border: none;\n",
              "      border-radius: 50%;\n",
              "      cursor: pointer;\n",
              "      display: none;\n",
              "      fill: #1967D2;\n",
              "      height: 32px;\n",
              "      padding: 0 0 0 0;\n",
              "      width: 32px;\n",
              "    }\n",
              "\n",
              "    .colab-df-convert:hover {\n",
              "      background-color: #E2EBFA;\n",
              "      box-shadow: 0px 1px 2px rgba(60, 64, 67, 0.3), 0px 1px 3px 1px rgba(60, 64, 67, 0.15);\n",
              "      fill: #174EA6;\n",
              "    }\n",
              "\n",
              "    [theme=dark] .colab-df-convert {\n",
              "      background-color: #3B4455;\n",
              "      fill: #D2E3FC;\n",
              "    }\n",
              "\n",
              "    [theme=dark] .colab-df-convert:hover {\n",
              "      background-color: #434B5C;\n",
              "      box-shadow: 0px 1px 3px 1px rgba(0, 0, 0, 0.15);\n",
              "      filter: drop-shadow(0px 1px 2px rgba(0, 0, 0, 0.3));\n",
              "      fill: #FFFFFF;\n",
              "    }\n",
              "  </style>\n",
              "\n",
              "      <script>\n",
              "        const buttonEl =\n",
              "          document.querySelector('#df-f94f0bd0-54d0-41db-b569-9ed23cc42390 button.colab-df-convert');\n",
              "        buttonEl.style.display =\n",
              "          google.colab.kernel.accessAllowed ? 'block' : 'none';\n",
              "\n",
              "        async function convertToInteractive(key) {\n",
              "          const element = document.querySelector('#df-f94f0bd0-54d0-41db-b569-9ed23cc42390');\n",
              "          const dataTable =\n",
              "            await google.colab.kernel.invokeFunction('convertToInteractive',\n",
              "                                                     [key], {});\n",
              "          if (!dataTable) return;\n",
              "\n",
              "          const docLinkHtml = 'Like what you see? Visit the ' +\n",
              "            '<a target=\"_blank\" href=https://colab.research.google.com/notebooks/data_table.ipynb>data table notebook</a>'\n",
              "            + ' to learn more about interactive tables.';\n",
              "          element.innerHTML = '';\n",
              "          dataTable['output_type'] = 'display_data';\n",
              "          await google.colab.output.renderOutput(dataTable, element);\n",
              "          const docLink = document.createElement('div');\n",
              "          docLink.innerHTML = docLinkHtml;\n",
              "          element.appendChild(docLink);\n",
              "        }\n",
              "      </script>\n",
              "    </div>\n",
              "  </div>\n",
              "  "
            ]
          },
          "metadata": {},
          "execution_count": 2
        }
      ],
      "source": [
        "pd.DataFrame({\n",
        "    'y_true': y_train,\n",
        "    'y_pred': y_pred\n",
        "})"
      ]
    },
    {
      "cell_type": "markdown",
      "source": [
        "Python has a function to calculate the mean absolute error. We need first to load the function."
      ],
      "metadata": {
        "id": "UVup90D7WHZK"
      }
    },
    {
      "cell_type": "code",
      "source": [
        "from sklearn.metrics import mean_absolute_error"
      ],
      "metadata": {
        "id": "5HfSuuB8VN_O"
      },
      "execution_count": null,
      "outputs": []
    },
    {
      "cell_type": "code",
      "source": [
        "mean_absolute_error(y_train, y_pred)"
      ],
      "metadata": {
        "colab": {
          "base_uri": "https://localhost:8080/"
        },
        "id": "qkzM5W_JWcwK",
        "outputId": "c0916f19-99ec-42cf-b2d5-12ea7d01679b"
      },
      "execution_count": null,
      "outputs": [
        {
          "output_type": "execute_result",
          "data": {
            "text/plain": [
              "0.5859156936493961"
            ]
          },
          "metadata": {},
          "execution_count": 4
        }
      ]
    },
    {
      "cell_type": "markdown",
      "source": [
        "Python has a function to calculate the mean squared error. We need first to load the function."
      ],
      "metadata": {
        "id": "0NuxR2ymXMqs"
      }
    },
    {
      "cell_type": "code",
      "source": [
        "from sklearn.metrics import mean_squared_error"
      ],
      "metadata": {
        "id": "IR-a_HzjWiAp"
      },
      "execution_count": null,
      "outputs": []
    },
    {
      "cell_type": "code",
      "source": [
        "mean_squared_error(y_train, y_pred)"
      ],
      "metadata": {
        "colab": {
          "base_uri": "https://localhost:8080/"
        },
        "id": "z7lrbazpXfSF",
        "outputId": "a73791e0-fefc-4e5f-96a9-04f609069426"
      },
      "execution_count": null,
      "outputs": [
        {
          "output_type": "execute_result",
          "data": {
            "text/plain": [
              "0.5656942908707611"
            ]
          },
          "metadata": {},
          "execution_count": 6
        }
      ]
    },
    {
      "cell_type": "markdown",
      "source": [
        "Since the errors are squared, to better compare with the outcome variable, we can use square root of the mean squared error:"
      ],
      "metadata": {
        "id": "hxVfPgtLXsM6"
      }
    },
    {
      "cell_type": "code",
      "source": [
        "mean_squared_error(y_train, y_pred, squared=False)"
      ],
      "metadata": {
        "colab": {
          "base_uri": "https://localhost:8080/"
        },
        "id": "J8r2egbEXjii",
        "outputId": "5bab2537-bc97-452c-b99c-f3c238388c0e"
      },
      "execution_count": null,
      "outputs": [
        {
          "output_type": "execute_result",
          "data": {
            "text/plain": [
              "0.7521265125434424"
            ]
          },
          "metadata": {},
          "execution_count": 7
        }
      ]
    },
    {
      "cell_type": "code",
      "source": [
        "y_train.mean()"
      ],
      "metadata": {
        "colab": {
          "base_uri": "https://localhost:8080/"
        },
        "id": "gV8or3s_YF2A",
        "outputId": "f558722e-b585-4b4b-c0a7-50deb290e9fe"
      },
      "execution_count": null,
      "outputs": [
        {
          "output_type": "execute_result",
          "data": {
            "text/plain": [
              "5.8797856049004595"
            ]
          },
          "metadata": {},
          "execution_count": 8
        }
      ]
    },
    {
      "cell_type": "code",
      "source": [
        "np.sqrt(0.5656942908707611)"
      ],
      "metadata": {
        "colab": {
          "base_uri": "https://localhost:8080/"
        },
        "id": "TTRwhEVCYYYC",
        "outputId": "f180dbe3-38a7-4617-9ce8-272854de72e6"
      },
      "execution_count": null,
      "outputs": [
        {
          "output_type": "execute_result",
          "data": {
            "text/plain": [
              "0.7521265125434424"
            ]
          },
          "metadata": {},
          "execution_count": 9
        }
      ]
    },
    {
      "cell_type": "code",
      "source": [
        "mae = mean_absolute_error(y_train, y_pred)\n",
        "mse = mean_squared_error(y_train, y_pred)\n",
        "rmse = mean_squared_error(y_train, y_pred, squared=False)"
      ],
      "metadata": {
        "id": "n5g87zWCYx1A"
      },
      "execution_count": null,
      "outputs": []
    },
    {
      "cell_type": "code",
      "source": [
        "print(f'MAE= {mae}')\n",
        "print(f'MSE= {mse}')\n",
        "print(f'RMSE= {rmse}')"
      ],
      "metadata": {
        "colab": {
          "base_uri": "https://localhost:8080/"
        },
        "id": "HYcMxumuZHEM",
        "outputId": "4e9d7482-1645-4781-9198-701f1f334436"
      },
      "execution_count": null,
      "outputs": [
        {
          "output_type": "stream",
          "name": "stdout",
          "text": [
            "MAE= 0.5859156936493961\n",
            "MSE= 0.5656942908707611\n",
            "RMSE= 0.7521265125434424\n"
          ]
        }
      ]
    },
    {
      "cell_type": "markdown",
      "source": [
        "To calculate R2, we need to load r2_score function."
      ],
      "metadata": {
        "id": "8Um7l8lWaQHF"
      }
    },
    {
      "cell_type": "code",
      "source": [
        "from sklearn.metrics import r2_score"
      ],
      "metadata": {
        "id": "KV8dO9g3ZcJT"
      },
      "execution_count": null,
      "outputs": []
    },
    {
      "cell_type": "code",
      "source": [
        "r2 = r2_score(y_train, y_pred)"
      ],
      "metadata": {
        "id": "rZfDVqpYadGc"
      },
      "execution_count": null,
      "outputs": []
    },
    {
      "cell_type": "code",
      "source": [
        "print(f'R2= {r2}')"
      ],
      "metadata": {
        "colab": {
          "base_uri": "https://localhost:8080/"
        },
        "id": "Wx85SwSsagws",
        "outputId": "66920bb2-3105-46e1-f64d-7a08f517a550"
      },
      "execution_count": null,
      "outputs": [
        {
          "output_type": "stream",
          "name": "stdout",
          "text": [
            "R2= 0.27577917074526737\n"
          ]
        }
      ]
    },
    {
      "cell_type": "markdown",
      "source": [
        "The predictive performance of this model is not good, since the R2 is low. This means that we should try another model. Or this is suggesting that some important predictors are missing."
      ],
      "metadata": {
        "id": "mUlJyd3Ib32s"
      }
    },
    {
      "cell_type": "markdown",
      "source": [
        "To get an idea how our model works with unseen data, we will use the test set, which has not been used for anything up to now. "
      ],
      "metadata": {
        "id": "uKv_FGP9cySl"
      }
    },
    {
      "cell_type": "code",
      "source": [
        "y_pred = pipe.predict(X_test)\n"
      ],
      "metadata": {
        "id": "zFtXo1qMb1F8"
      },
      "execution_count": null,
      "outputs": []
    },
    {
      "cell_type": "code",
      "source": [
        "mae = mean_absolute_error(y_test, y_pred)\n",
        "mse = mean_squared_error(y_test, y_pred)\n",
        "rmse = mean_squared_error(y_test, y_pred, squared=False)\n",
        "r2 = r2_score(y_test, y_pred)\n",
        "\n",
        "print(f'MAE= {mae}')\n",
        "print(f'MSE= {mse}')\n",
        "print(f'RMSE= {rmse}')\n",
        "print(f'R2= {r2}')\n"
      ],
      "metadata": {
        "colab": {
          "base_uri": "https://localhost:8080/"
        },
        "id": "n-eUrdzRdUl_",
        "outputId": "948132b8-bae8-4a4d-9358-b4198f1ebcd0"
      },
      "execution_count": null,
      "outputs": [
        {
          "output_type": "stream",
          "name": "stdout",
          "text": [
            "MAE= 0.5730106620077944\n",
            "MSE= 0.5543180198119331\n",
            "RMSE= 0.7445253654590508\n",
            "R2= 0.30403261702378337\n"
          ]
        }
      ]
    },
    {
      "cell_type": "markdown",
      "source": [
        "# Car radios problem"
      ],
      "metadata": {
        "id": "NhRcEAbceF1G"
      }
    },
    {
      "cell_type": "code",
      "source": [
        "import pandas as pd\n",
        "import numpy as np\n",
        "from sklearn.model_selection import train_test_split\n",
        "from sklearn.preprocessing import StandardScaler\n",
        "from sklearn.pipeline import Pipeline\n",
        "from sklearn.compose import ColumnTransformer\n",
        "from sklearn.linear_model import LinearRegression\n",
        "from sklearn.preprocessing import FunctionTransformer\n",
        "from sklearn.preprocessing import OneHotEncoder\n",
        "import datetime\n",
        "\n",
        "df = pd.read_excel('/content/data_carradios.xlsx')\n",
        "\n",
        "def get_ages(col):\n",
        "  result = (datetime.datetime.now()-col).astype('<m8[Y]')\n",
        "  result = pd.DataFrame(result)\n",
        "  return result\n",
        "\n",
        "ager = Pipeline([\n",
        "    ('ages', FunctionTransformer(get_ages, feature_names_out='one-to-one')),\n",
        "    ('scale', StandardScaler())\n",
        "])\n",
        "\n",
        "def get_weekdays(col):\n",
        "  result = col.iloc[:,0].dt.weekday\n",
        "  result = pd.DataFrame(result)\n",
        "  return result\n",
        "\n",
        "weeker = Pipeline([\n",
        "    ('weekd', FunctionTransformer(get_weekdays, feature_names_out='one-to-one')),\n",
        "    ('oneh', OneHotEncoder(drop='first'))\n",
        "])\n",
        "\n",
        "preprocessor = ColumnTransformer([\n",
        "    ('ages_tr', ager, ['bdate']),\n",
        "    ('weekd_tr', weeker, ['datep']),\n",
        "    ('team_tr', OneHotEncoder(drop='first'), ['team']),\n",
        "    ('scaler', StandardScaler(), ['prized', 'prizeq'])],\n",
        "    remainder='passthrough')\n",
        "\n",
        "X = df.drop('perc_defec', axis=1)\n",
        "y = df['perc_defec']\n",
        "\n",
        "X_train, X_test, y_train, y_test = train_test_split(X, y, test_size=0.2, random_state=45)\n",
        "\n",
        "pipe = Pipeline([\n",
        "    ('pre', preprocessor),\n",
        "    ('lm', LinearRegression())])\n",
        "\n",
        "pipe.fit(X_train, y_train)\n",
        "\n",
        "y_pred = pipe.predict(X_train)\n",
        "y_pred"
      ],
      "metadata": {
        "colab": {
          "base_uri": "https://localhost:8080/"
        },
        "id": "OdmJO58ofCeY",
        "outputId": "c5ebc1bf-1d45-4b5e-d71a-3b5578b74d95"
      },
      "execution_count": 5,
      "outputs": [
        {
          "output_type": "execute_result",
          "data": {
            "text/plain": [
              "array([20.08740234, 20.41943359, 10.64794922,  2.07958984, 30.55419922,\n",
              "       20.18896484, 38.86279297, 20.26904297, 30.61669922, 20.64013672,\n",
              "       30.55419922, 38.41552734,  1.99755859, 20.46630859, 20.10888672,\n",
              "       20.63232422, 39.83154297, 20.32177734,  2.44287109, 20.34716797,\n",
              "       39.83154297, 57.99560547, 20.10888672,  9.65576172,  9.78857422,\n",
              "       20.40185547,  2.08740234,  1.78466797,  2.14990234, 29.56787109,\n",
              "       48.71044922, 17.26318359,  9.65576172, 20.46630859, 39.83154297,\n",
              "       11.29248047, 38.49560547, 30.18896484,  1.45849609, 39.60498047,\n",
              "        1.91943359,  2.31787109, 21.30029297, 39.60498047, 30.18896484,\n",
              "       20.56005859, 39.29052734, 39.15576172,  1.45849609, 39.55029297,\n",
              "       -0.88525391, 20.20458984, 39.97998047,  1.24169922, 39.60498047,\n",
              "       10.95654297,  1.10107422, 11.13623047, 10.64013672, 19.64599609,\n",
              "       29.67529297, -0.76025391, 20.33935547,  2.31787109, 11.65966797,\n",
              "       19.43310547, 19.13818359,  1.10107422, 20.84716797,  1.32568359,\n",
              "       28.79638672, 21.13232422, 38.71044922,  2.21240234,  2.09521484,\n",
              "       29.80810547, 10.53466797, -1.87744141, 17.10302734, -1.87744141,\n",
              "        2.15380859, 20.12451172, 10.53466797, -2.03759766, 38.65576172,\n",
              "       10.47998047, 39.15576172, 39.97216797, 30.61669922, 39.83154297,\n",
              "        1.63427734, 30.48388672, 39.83935547, 30.48388672, 39.15576172,\n",
              "       39.83935547, 20.33935547, 29.56787109, 10.66748047, 20.25146484,\n",
              "       -1.04541016,  1.10107422, 19.64599609, 38.84716797, -1.74462891,\n",
              "        2.31787109, 20.26904297, 10.47998047, 19.27294922, 10.54638672,\n",
              "        1.99755859, 17.26318359, 57.83154297, -0.75244141, 20.02880859,\n",
              "       -2.03759766, 30.71435547, 38.57568359, 20.84716797,  1.32568359,\n",
              "        1.85693359, 11.35498047, 30.85498047, -0.60009766, 38.99560547,\n",
              "       30.48388672, 19.43310547, 30.42724609, 39.97998047, 20.33935547,\n",
              "       -0.99462891, 48.71044922, 11.29248047, 39.97216797, 10.34716797,\n",
              "       38.99560547, -1.05322266, 20.76123047, 39.68310547, -0.89306641,\n",
              "        2.44287109, 20.33935547, 11.52685547, 11.29248047, 11.51904297,\n",
              "        2.21240234, 20.50732422, 20.83935547,  1.85693359, 20.18896484,\n",
              "       39.97998047,  1.93115234, 11.42529297, 17.10302734, 38.65576172,\n",
              "       -2.03759766, 10.53466797, 39.83935547, 28.63623047,  2.21240234,\n",
              "       30.72216797,  1.45849609, 20.18896484, 38.65576172, 10.19482422,\n",
              "       17.26318359, 20.38427734, 38.49560547, 19.43310547, 10.54638672,\n",
              "       20.18896484, 20.46630859,  1.79833984, 39.44873047, 28.79638672,\n",
              "       38.79052734, 20.63232422,  1.45849609, 10.47998047, 30.61669922,\n",
              "       20.50732422, 20.60888672, 21.00732422, 19.43310547,  1.10107422,\n",
              "       20.26904297, 19.56591797, 30.61669922, 20.25927734, 29.72802734,\n",
              "        1.93896484, 30.61669922, 30.32373047, 29.72802734, 11.13623047,\n",
              "       20.18896484, 20.63232422, -1.87744141, 39.74560547, -1.74462891,\n",
              "       30.84716797, 19.43310547, 11.29248047, 30.55419922, 20.46630859,\n",
              "        2.45068359, 20.46630859, 20.83935547, 29.97216797, 30.85498047,\n",
              "       19.64599609, 11.65966797, -1.12744141, 19.72607422, 20.32177734,\n",
              "        1.93115234, 38.71044922, 29.56787109, 39.83154297,  1.79833984,\n",
              "       20.25927734,  2.31005859,  1.85693359, 30.85498047, 57.83154297,\n",
              "       10.23779297, 39.97998047, -0.75244141, -1.87744141, 49.00537109,\n",
              "       -0.76025391, 10.64013672, 29.67529297, 19.43310547,  2.61083984,\n",
              "       11.13623047, 10.53466797, 29.97216797, 11.51904297, 38.28271484,\n",
              "       -1.12744141, 10.47998047, 20.64013672, 30.55419922, 21.00732422,\n",
              "       -1.05322266,  2.22802734, 10.47998047,  2.14990234, 38.99560547,\n",
              "       20.34716797,  2.08740234,  1.16552734, 20.64013672,  9.78857422,\n",
              "       30.56201172, 20.76904297, 11.35498047, 21.00732422, 39.83935547,\n",
              "       20.40185547, -1.05322266,  1.24169922,  9.78857422, -0.88525391,\n",
              "       10.64013672, 30.48388672, 10.78076172,  9.65576172, 20.40185547,\n",
              "        2.45068359, 11.37060547,  1.85693359,  1.99755859, 21.00732422,\n",
              "       11.13623047,  9.78857422,  2.08740234, 39.15576172, 57.83154297,\n",
              "       20.17333984, -1.74462891, 30.48388672, 38.71044922, 30.32373047,\n",
              "       30.32373047,  9.49560547, 39.44873047, -1.74462891, 11.52685547,\n",
              "       -0.59228516, 29.67529297, 39.97998047, 20.71240234, 11.35498047,\n",
              "       38.71044922, 11.42529297, 49.00537109, 39.44873047, 30.85498047,\n",
              "       39.15576172, 39.67529297, 30.48388672,  1.16552734, 39.83154297,\n",
              "       28.92919922,  2.15771484,  2.08740234, 20.18896484, 38.41552734,\n",
              "        1.32568359, 10.78076172, 20.46630859, 10.47998047, 20.33935547,\n",
              "       -1.05322266, 30.71435547, 20.64013672, 29.51123047,  1.70068359,\n",
              "        1.93896484, 38.57568359,  2.31787109, 10.54638672, 19.56591797,\n",
              "       20.46630859,  2.23583984, 28.50341797, 20.60107422,  1.85693359,\n",
              "       39.83935547, 39.97998047, 39.67529297, 10.41357422,  1.39794922,\n",
              "       -1.18017578,  9.78857422, 48.71044922, 20.60107422, 20.41943359,\n",
              "       -1.05322266, 30.61669922,  2.08740234, 39.74560547, 20.01318359,\n",
              "       10.41357422, 19.27294922, 29.72802734, 20.84716797, 40.12841797,\n",
              "        2.07958984, 10.35498047, 49.00537109, 20.42724609, 58.12841797,\n",
              "        9.65576172, 39.74560547,  2.45068359, 11.52685547, 39.90185547,\n",
              "       20.54052734, 11.29248047, 30.56201172,  1.10107422, 30.56201172,\n",
              "       20.54052734,  2.09521484, -1.12744141,  9.49560547, 39.83154297,\n",
              "       10.64013672, 29.67529297, 38.65576172, 20.49951172,  1.10107422,\n",
              "        2.31787109, 38.65576172, 19.27294922, 20.18896484, 20.12451172,\n",
              "        1.10107422, 20.60888672,  2.44287109, 20.42724609, 29.80810547,\n",
              "       29.67529297, 39.44873047, 38.57568359, 19.56591797, 20.01318359,\n",
              "       20.84716797, 20.46630859, 20.60888672, -0.99462891, 10.54638672,\n",
              "        1.70068359, 19.27294922, 19.56591797, 10.34716797, 10.54638672,\n",
              "       49.16552734,  0.94482422, 11.65185547,  2.08740234, 11.65185547,\n",
              "        1.10107422, 29.43310547, 19.43310547, -1.74462891,  2.08740234,\n",
              "       20.18896484, 39.68310547, 19.43310547, 20.48193359, 10.25341797,\n",
              "       40.13623047, 38.98779297, 30.48388672, 20.26904297,  2.08740234,\n",
              "       28.92919922, 10.53466797, 19.56591797, 20.40185547, 31.01513672,\n",
              "       29.56787109, 39.97998047, 19.56591797, 20.60107422, 20.50732422,\n",
              "       49.29833984, 20.48193359, 48.71044922, 30.42724609, 10.66748047,\n",
              "       20.76904297,  2.08740234, 20.80029297, -2.03759766, 39.97998047,\n",
              "       -1.05322266, 21.14013672, 11.52685547, 38.98779297, 20.42724609,\n",
              "       20.46630859, 20.50732422, 20.33935547, 20.64013672, 11.65966797,\n",
              "       19.43310547, 28.79638672, 38.99560547, 20.18896484, 11.52685547,\n",
              "       10.64013672, 30.61669922, -0.89306641, 10.25341797, 20.18896484,\n",
              "       -0.83447266, 10.53466797, -1.74462891, 11.52685547, 39.83935547,\n",
              "       -1.05322266, 11.13623047, 11.35498047, 10.48779297, 39.55029297,\n",
              "       38.65576172, 39.44873047, 20.30615234, 17.26318359, 28.79638672,\n",
              "        9.65576172, 17.26318359,  2.07958984, 11.29248047, 30.56201172,\n",
              "       20.42724609, 19.64599609, 38.49560547, 17.39794922,  2.08740234,\n",
              "        0.94482422, -1.74462891, 10.47998047, -1.87744141, 19.80615234,\n",
              "       38.98779297, 10.78076172, 20.60107422, 10.48779297, 20.83935547,\n",
              "       29.51123047, 11.52685547, -1.18017578, 19.43310547, 40.12841797,\n",
              "       20.60888672, 29.72802734,  0.64794922, 19.27294922, 29.56787109,\n",
              "       -1.28759766, 30.61669922, 19.85302734, 49.00537109, 20.26904297,\n",
              "       38.65576172, -1.74462891, 11.37060547, -1.12744141, 30.72216797,\n",
              "       11.52685547, 17.26318359, 38.84716797, 20.76904297, 20.08740234,\n",
              "       29.67529297, 20.12451172, -1.12744141, 28.63623047, 17.10302734,\n",
              "       38.65576172, 30.84716797,  2.31005859, 30.72216797, -0.89306641,\n",
              "       29.56787109,  2.14990234, 21.00732422,  1.32568359,  2.31787109,\n",
              "       10.64794922, 11.37060547, 20.30615234,  2.31005859, 38.57568359,\n",
              "       28.50341797, 19.85302734, 10.53466797,  2.37255859,  1.93896484,\n",
              "       19.85302734, 10.78076172, 29.72802734,  2.14990234,  1.85693359,\n",
              "       11.52685547, 38.99560547, -0.75244141, 20.64013672, 21.14013672,\n",
              "       19.51318359, 19.43310547, 20.46630859, 17.10302734, 20.32177734,\n",
              "        2.09521484, 10.47998047, 30.85498047, 40.13623047, 20.26708984,\n",
              "       19.27294922, 10.12060547, 11.37060547, 20.26708984, 57.69873047,\n",
              "        1.99755859, 30.18896484,  9.49560547, 38.65576172, 20.12451172,\n",
              "       10.64794922,  1.16552734, 29.86083984, 48.71044922, 39.83935547,\n",
              "        1.24169922, 20.46630859, 39.44873047, 58.12841797,  1.93115234,\n",
              "       38.87060547, 38.84716797,  9.65576172,  1.32568359, 30.71435547,\n",
              "       20.55224609, 29.80810547, 17.26318359, 30.71435547, 20.02880859,\n",
              "       10.53466797, 48.87060547, -1.12744141, 20.64013672, 20.25927734,\n",
              "       29.86083984, 20.70458984, 20.49951172, 57.83154297, -0.76025391,\n",
              "        2.31005859, 20.14599609, -1.28759766, 29.38623047, 10.66748047,\n",
              "       19.27294922,  1.85693359, -2.03759766, 20.10888672, 49.00537109,\n",
              "       20.42724609, 48.71044922, 21.14013672,  1.10107422, 20.38427734,\n",
              "       20.25927734,  1.93115234, 20.12451172, 19.85302734, -0.70166016,\n",
              "       58.12841797, 20.25927734, 11.51904297, -0.76025391, 19.64599609,\n",
              "       30.85498047, -0.75244141, 11.22998047, -0.88525391, 19.27294922,\n",
              "       30.32373047, 11.52685547, 38.71044922, 39.83935547, 20.08740234,\n",
              "       11.51904297,  9.65576172, 38.84716797,  1.16552734, 20.10888672,\n",
              "        9.78857422, 38.98779297,  1.85693359,  1.93115234,  9.78857422,\n",
              "       20.26904297, 48.71044922, 29.97216797, 20.60107422, 29.80810547,\n",
              "       20.38427734, 10.77294922,  2.14990234, 20.25146484, 29.80810547,\n",
              "        2.22802734, 30.84716797, 20.61474609, -1.45166016, 39.68310547,\n",
              "        1.78466797, 19.35302734,  2.44287109, 58.12841797, 17.10302734,\n",
              "       30.32373047, 30.56201172, 29.51123047, 39.38623047, 10.54638672,\n",
              "       20.76904297, 38.99560547, 20.99951172, 29.56787109, 30.56201172,\n",
              "       20.18896484, -0.88525391, -1.12744141,  1.85693359, 39.55029297,\n",
              "       20.34716797,  2.09521484, 10.53466797, 38.49560547,  2.07958984,\n",
              "       39.15576172, 10.77294922, 20.55224609, 57.99560547, 19.13818359,\n",
              "       20.64013672, 29.51123047, 28.79638672,  2.31787109,  2.31787109,\n",
              "       38.87060547, -1.12744141, 20.18896484, 20.25927734, 17.39794922,\n",
              "       39.44873047,  2.15771484, 11.51904297, 20.76904297,  2.08740234,\n",
              "       39.68310547, 21.00732422, -2.03759766, 20.26708984, 20.30615234,\n",
              "        1.99755859, 38.95068359, 28.79638672, 38.28271484, 20.99951172,\n",
              "       20.30615234, 20.46630859, 20.25927734,  2.45068359, 20.40185547,\n",
              "        2.44287109, 20.99951172,  1.93896484, 39.67529297, -0.75244141,\n",
              "        1.80615234, 30.71435547,  2.31005859, 30.32373047, 39.15576172,\n",
              "        2.44287109, 10.66748047, -1.87744141, 38.84716797, 10.78076172,\n",
              "       20.99951172, 20.79248047, 11.37060547, 38.49560547, 20.46630859,\n",
              "       17.39794922,  1.32568359,  1.32568359,  2.22802734, 19.97412109,\n",
              "       38.69091797, 29.67529297, 20.13232422, 48.87060547, 58.12841797,\n",
              "       20.41943359, 38.84716797, -1.42236328, 19.27294922,  1.24169922,\n",
              "       20.02880859,  2.31005859, 28.63623047, 19.51318359, 20.38427734,\n",
              "       11.51904297,  2.08740234,  1.85693359, 29.67529297, 39.83935547,\n",
              "       20.71240234, 20.50732422, 20.49951172, 20.49951172, -1.74462891,\n",
              "       20.34716797, 10.54638672,  2.74365234, 20.10888672,  2.44287109,\n",
              "       29.67529297, 30.71435547,  1.16552734, -1.04541016, 11.42529297,\n",
              "       29.80810547, 21.06201172, 39.31591797, 11.65185547, -1.28759766,\n",
              "       30.85498047,  2.22802734, 17.26318359, 11.65185547, -0.46728516,\n",
              "       20.50732422, 30.55419922, 11.29248047, 20.13232422,  9.65576172])"
            ]
          },
          "metadata": {},
          "execution_count": 5
        }
      ]
    },
    {
      "cell_type": "code",
      "source": [],
      "metadata": {
        "id": "_iJlm9jWMlo7"
      },
      "execution_count": null,
      "outputs": []
    }
  ],
  "metadata": {
    "kernelspec": {
      "display_name": "Python 3",
      "name": "python3"
    },
    "language_info": {
      "name": "python"
    },
    "orig_nbformat": 4,
    "colab": {
      "provenance": []
    },
    "gpuClass": "standard"
  },
  "nbformat": 4,
  "nbformat_minor": 0
}