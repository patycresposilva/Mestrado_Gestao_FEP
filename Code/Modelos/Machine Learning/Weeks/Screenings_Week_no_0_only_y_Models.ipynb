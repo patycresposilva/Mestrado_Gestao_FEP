{
 "cells": [
  {
   "cell_type": "code",
   "execution_count": 1,
   "metadata": {},
   "outputs": [],
   "source": [
    "import pandas as pd\n",
    "import numpy as np\n",
    "from sklearn.model_selection import train_test_split\n",
    "from sklearn.metrics import mean_absolute_error, mean_squared_error, r2_score\n",
    "import matplotlib.pyplot as plt\n",
    "import statsmodels.api as sm"
   ]
  },
  {
   "cell_type": "code",
   "execution_count": 2,
   "metadata": {},
   "outputs": [],
   "source": [
    "# Carregar o DataFrame\n",
    "df = pd.read_excel('C:/Users/Patyc/OneDrive/Desktop/Dissertation/Data/Skin_clean and treated/Skin_clean.xlsx')\n",
    "\n",
    "## Converter a data para datetime e ordenar de forma crescente\n",
    "df['Screening_date'] = pd.to_datetime(df['Screening_date'])\n",
    "df = df.sort_values(by='Screening_date')"
   ]
  },
  {
   "cell_type": "code",
   "execution_count": 3,
   "metadata": {},
   "outputs": [
    {
     "data": {
      "text/html": [
       "<div>\n",
       "<style scoped>\n",
       "    .dataframe tbody tr th:only-of-type {\n",
       "        vertical-align: middle;\n",
       "    }\n",
       "\n",
       "    .dataframe tbody tr th {\n",
       "        vertical-align: top;\n",
       "    }\n",
       "\n",
       "    .dataframe thead th {\n",
       "        text-align: right;\n",
       "    }\n",
       "</style>\n",
       "<table border=\"1\" class=\"dataframe\">\n",
       "  <thead>\n",
       "    <tr style=\"text-align: right;\">\n",
       "      <th></th>\n",
       "      <th>Week</th>\n",
       "      <th>total_screenings_per_week</th>\n",
       "    </tr>\n",
       "  </thead>\n",
       "  <tbody>\n",
       "    <tr>\n",
       "      <th>0</th>\n",
       "      <td>2022-09</td>\n",
       "      <td>92</td>\n",
       "    </tr>\n",
       "    <tr>\n",
       "      <th>1</th>\n",
       "      <td>2022-11</td>\n",
       "      <td>62</td>\n",
       "    </tr>\n",
       "    <tr>\n",
       "      <th>2</th>\n",
       "      <td>2022-12</td>\n",
       "      <td>90</td>\n",
       "    </tr>\n",
       "    <tr>\n",
       "      <th>3</th>\n",
       "      <td>2022-14</td>\n",
       "      <td>139</td>\n",
       "    </tr>\n",
       "    <tr>\n",
       "      <th>4</th>\n",
       "      <td>2022-16</td>\n",
       "      <td>173</td>\n",
       "    </tr>\n",
       "    <tr>\n",
       "      <th>...</th>\n",
       "      <td>...</td>\n",
       "      <td>...</td>\n",
       "    </tr>\n",
       "    <tr>\n",
       "      <th>70</th>\n",
       "      <td>2024-11</td>\n",
       "      <td>168</td>\n",
       "    </tr>\n",
       "    <tr>\n",
       "      <th>71</th>\n",
       "      <td>2024-12</td>\n",
       "      <td>198</td>\n",
       "    </tr>\n",
       "    <tr>\n",
       "      <th>72</th>\n",
       "      <td>2024-13</td>\n",
       "      <td>242</td>\n",
       "    </tr>\n",
       "    <tr>\n",
       "      <th>73</th>\n",
       "      <td>2024-15</td>\n",
       "      <td>186</td>\n",
       "    </tr>\n",
       "    <tr>\n",
       "      <th>74</th>\n",
       "      <td>2024-16</td>\n",
       "      <td>184</td>\n",
       "    </tr>\n",
       "  </tbody>\n",
       "</table>\n",
       "<p>75 rows × 2 columns</p>\n",
       "</div>"
      ],
      "text/plain": [
       "       Week  total_screenings_per_week\n",
       "0   2022-09                         92\n",
       "1   2022-11                         62\n",
       "2   2022-12                         90\n",
       "3   2022-14                        139\n",
       "4   2022-16                        173\n",
       "..      ...                        ...\n",
       "70  2024-11                        168\n",
       "71  2024-12                        198\n",
       "72  2024-13                        242\n",
       "73  2024-15                        186\n",
       "74  2024-16                        184\n",
       "\n",
       "[75 rows x 2 columns]"
      ]
     },
     "execution_count": 3,
     "metadata": {},
     "output_type": "execute_result"
    }
   ],
   "source": [
    "# 2. Criar uma coluna para representar a semana e o ano\n",
    "df['Week'] = df['Screening_date'].dt.strftime('%Y-%U')\n",
    "\n",
    "# 3. Contar o número de screenings por semana\n",
    "df = df.groupby('Week').size().reset_index(name='total_screenings_per_week')\n",
    "\n",
    "df"
   ]
  },
  {
   "cell_type": "code",
   "execution_count": 6,
   "metadata": {},
   "outputs": [
    {
     "name": "stdout",
     "output_type": "stream",
     "text": [
      "\n",
      "Resultados do teste ADF:\n",
      "ADF Statistic: -2.5089171433396316\n",
      "p-value: 0.11331973560316377\n",
      "Used Lag: 2\n",
      "Number of Observations: 72\n",
      "Critical Values:\n",
      "   1%: -3.524624466842421\n",
      "   5%: -2.9026070739026064\n",
      "   10%: -2.5886785262345677\n",
      "Não rejeitamos a hipótese nula: a série não é estacionária.\n"
     ]
    }
   ],
   "source": [
    "# 4. Realizar o teste ADF para verificar a estacionaridade\n",
    "result = adfuller(df['total_screenings_per_week'])\n",
    "\n",
    "# Extrair e imprimir os resultados\n",
    "adf_statistic = result[0]\n",
    "p_value = result[1]\n",
    "used_lag = result[2]\n",
    "n_observations = result[3]\n",
    "critical_values = result[4]\n",
    "\n",
    "print('\\nResultados do teste ADF:')\n",
    "print('ADF Statistic:', adf_statistic)\n",
    "print('p-value:', p_value)\n",
    "print('Used Lag:', used_lag)\n",
    "print('Number of Observations:', n_observations)\n",
    "print('Critical Values:')\n",
    "for key, value in critical_values.items():\n",
    "    print(f'   {key}: {value}')\n",
    "    \n",
    "# Interpretação dos resultados\n",
    "if p_value < 0.05:\n",
    "    print(\"Rejeitamos a hipótese nula: a série é estacionária.\")\n",
    "else:\n",
    "    print(\"Não rejeitamos a hipótese nula: a série não é estacionária.\")\n"
   ]
  },
  {
   "cell_type": "code",
   "execution_count": 4,
   "metadata": {},
   "outputs": [
    {
     "name": "stdout",
     "output_type": "stream",
     "text": [
      "ADF Statistic: -2.5089171433396316\n",
      "p-value: 0.11331973560316377\n",
      "Critical Values:\n",
      "   1%: -3.524624466842421\n",
      "   5%: -2.9026070739026064\n",
      "   10%: -2.5886785262345677\n"
     ]
    }
   ],
   "source": [
    "from statsmodels.tsa.stattools import adfuller\n",
    "\n",
    "# Realizar o teste ADF na coluna 'total_screenings_per_week'\n",
    "adf_result = adfuller(df['total_screenings_per_week'].dropna())\n",
    "\n",
    "# Exibir os resultados do teste\n",
    "print('ADF Statistic:', adf_result[0])\n",
    "print('p-value:', adf_result[1])\n",
    "print('Critical Values:')\n",
    "for key, value in adf_result[4].items():\n",
    "    print(f'   {key}: {value}')"
   ]
  },
  {
   "cell_type": "code",
   "execution_count": 95,
   "metadata": {},
   "outputs": [],
   "source": [
    "df['total_screenings_diff'] = df['total_screenings_per_week'].diff().dropna()\n",
    "adf_result_diff = adfuller(df['total_screenings_diff'].dropna())\n"
   ]
  },
  {
   "cell_type": "code",
   "execution_count": 97,
   "metadata": {},
   "outputs": [
    {
     "name": "stdout",
     "output_type": "stream",
     "text": [
      "ADF Statistic: -10.191121840419315\n",
      "p-value: 6.318315042041935e-18\n",
      "Critical Values:\n",
      "   1%: -3.524624466842421\n",
      "   5%: -2.9026070739026064\n",
      "   10%: -2.5886785262345677\n"
     ]
    }
   ],
   "source": [
    "# Realizar o teste ADF na coluna 'total_screenings_per_week'\n",
    "adf_result = adfuller(df['total_screenings_diff'].dropna())\n",
    "\n",
    "# Exibir os resultados do teste\n",
    "print('ADF Statistic:', adf_result[0])\n",
    "print('p-value:', adf_result[1])\n",
    "print('Critical Values:')\n",
    "for key, value in adf_result[4].items():\n",
    "    print(f'   {key}: {value}')"
   ]
  },
  {
   "cell_type": "code",
   "execution_count": 98,
   "metadata": {},
   "outputs": [
    {
     "data": {
      "text/html": [
       "<div>\n",
       "<style scoped>\n",
       "    .dataframe tbody tr th:only-of-type {\n",
       "        vertical-align: middle;\n",
       "    }\n",
       "\n",
       "    .dataframe tbody tr th {\n",
       "        vertical-align: top;\n",
       "    }\n",
       "\n",
       "    .dataframe thead th {\n",
       "        text-align: right;\n",
       "    }\n",
       "</style>\n",
       "<table border=\"1\" class=\"dataframe\">\n",
       "  <thead>\n",
       "    <tr style=\"text-align: right;\">\n",
       "      <th></th>\n",
       "      <th>Week</th>\n",
       "      <th>total_screenings_per_week</th>\n",
       "      <th>Total_screenings</th>\n",
       "    </tr>\n",
       "  </thead>\n",
       "  <tbody>\n",
       "    <tr>\n",
       "      <th>0</th>\n",
       "      <td>2022-09</td>\n",
       "      <td>92</td>\n",
       "      <td>NaN</td>\n",
       "    </tr>\n",
       "    <tr>\n",
       "      <th>1</th>\n",
       "      <td>2022-11</td>\n",
       "      <td>62</td>\n",
       "      <td>-30.0</td>\n",
       "    </tr>\n",
       "    <tr>\n",
       "      <th>2</th>\n",
       "      <td>2022-12</td>\n",
       "      <td>90</td>\n",
       "      <td>28.0</td>\n",
       "    </tr>\n",
       "    <tr>\n",
       "      <th>3</th>\n",
       "      <td>2022-14</td>\n",
       "      <td>139</td>\n",
       "      <td>49.0</td>\n",
       "    </tr>\n",
       "    <tr>\n",
       "      <th>4</th>\n",
       "      <td>2022-16</td>\n",
       "      <td>173</td>\n",
       "      <td>34.0</td>\n",
       "    </tr>\n",
       "    <tr>\n",
       "      <th>...</th>\n",
       "      <td>...</td>\n",
       "      <td>...</td>\n",
       "      <td>...</td>\n",
       "    </tr>\n",
       "    <tr>\n",
       "      <th>70</th>\n",
       "      <td>2024-11</td>\n",
       "      <td>168</td>\n",
       "      <td>-240.0</td>\n",
       "    </tr>\n",
       "    <tr>\n",
       "      <th>71</th>\n",
       "      <td>2024-12</td>\n",
       "      <td>198</td>\n",
       "      <td>30.0</td>\n",
       "    </tr>\n",
       "    <tr>\n",
       "      <th>72</th>\n",
       "      <td>2024-13</td>\n",
       "      <td>242</td>\n",
       "      <td>44.0</td>\n",
       "    </tr>\n",
       "    <tr>\n",
       "      <th>73</th>\n",
       "      <td>2024-15</td>\n",
       "      <td>186</td>\n",
       "      <td>-56.0</td>\n",
       "    </tr>\n",
       "    <tr>\n",
       "      <th>74</th>\n",
       "      <td>2024-16</td>\n",
       "      <td>184</td>\n",
       "      <td>-2.0</td>\n",
       "    </tr>\n",
       "  </tbody>\n",
       "</table>\n",
       "<p>75 rows × 3 columns</p>\n",
       "</div>"
      ],
      "text/plain": [
       "       Week  total_screenings_per_week  Total_screenings\n",
       "0   2022-09                         92               NaN\n",
       "1   2022-11                         62             -30.0\n",
       "2   2022-12                         90              28.0\n",
       "3   2022-14                        139              49.0\n",
       "4   2022-16                        173              34.0\n",
       "..      ...                        ...               ...\n",
       "70  2024-11                        168            -240.0\n",
       "71  2024-12                        198              30.0\n",
       "72  2024-13                        242              44.0\n",
       "73  2024-15                        186             -56.0\n",
       "74  2024-16                        184              -2.0\n",
       "\n",
       "[75 rows x 3 columns]"
      ]
     },
     "execution_count": 98,
     "metadata": {},
     "output_type": "execute_result"
    }
   ],
   "source": [
    "df.rename(columns={'total_screenings_diff': 'Total_screenings'}, inplace=True)\n",
    "\n",
    "df"
   ]
  },
  {
   "cell_type": "code",
   "execution_count": 99,
   "metadata": {},
   "outputs": [
    {
     "data": {
      "text/html": [
       "<div>\n",
       "<style scoped>\n",
       "    .dataframe tbody tr th:only-of-type {\n",
       "        vertical-align: middle;\n",
       "    }\n",
       "\n",
       "    .dataframe tbody tr th {\n",
       "        vertical-align: top;\n",
       "    }\n",
       "\n",
       "    .dataframe thead th {\n",
       "        text-align: right;\n",
       "    }\n",
       "</style>\n",
       "<table border=\"1\" class=\"dataframe\">\n",
       "  <thead>\n",
       "    <tr style=\"text-align: right;\">\n",
       "      <th></th>\n",
       "      <th>Week</th>\n",
       "      <th>Total_screenings</th>\n",
       "    </tr>\n",
       "  </thead>\n",
       "  <tbody>\n",
       "    <tr>\n",
       "      <th>0</th>\n",
       "      <td>2022-09</td>\n",
       "      <td>NaN</td>\n",
       "    </tr>\n",
       "    <tr>\n",
       "      <th>1</th>\n",
       "      <td>2022-11</td>\n",
       "      <td>-30.0</td>\n",
       "    </tr>\n",
       "    <tr>\n",
       "      <th>2</th>\n",
       "      <td>2022-12</td>\n",
       "      <td>28.0</td>\n",
       "    </tr>\n",
       "    <tr>\n",
       "      <th>3</th>\n",
       "      <td>2022-14</td>\n",
       "      <td>49.0</td>\n",
       "    </tr>\n",
       "    <tr>\n",
       "      <th>4</th>\n",
       "      <td>2022-16</td>\n",
       "      <td>34.0</td>\n",
       "    </tr>\n",
       "    <tr>\n",
       "      <th>...</th>\n",
       "      <td>...</td>\n",
       "      <td>...</td>\n",
       "    </tr>\n",
       "    <tr>\n",
       "      <th>70</th>\n",
       "      <td>2024-11</td>\n",
       "      <td>-240.0</td>\n",
       "    </tr>\n",
       "    <tr>\n",
       "      <th>71</th>\n",
       "      <td>2024-12</td>\n",
       "      <td>30.0</td>\n",
       "    </tr>\n",
       "    <tr>\n",
       "      <th>72</th>\n",
       "      <td>2024-13</td>\n",
       "      <td>44.0</td>\n",
       "    </tr>\n",
       "    <tr>\n",
       "      <th>73</th>\n",
       "      <td>2024-15</td>\n",
       "      <td>-56.0</td>\n",
       "    </tr>\n",
       "    <tr>\n",
       "      <th>74</th>\n",
       "      <td>2024-16</td>\n",
       "      <td>-2.0</td>\n",
       "    </tr>\n",
       "  </tbody>\n",
       "</table>\n",
       "<p>75 rows × 2 columns</p>\n",
       "</div>"
      ],
      "text/plain": [
       "       Week  Total_screenings\n",
       "0   2022-09               NaN\n",
       "1   2022-11             -30.0\n",
       "2   2022-12              28.0\n",
       "3   2022-14              49.0\n",
       "4   2022-16              34.0\n",
       "..      ...               ...\n",
       "70  2024-11            -240.0\n",
       "71  2024-12              30.0\n",
       "72  2024-13              44.0\n",
       "73  2024-15             -56.0\n",
       "74  2024-16              -2.0\n",
       "\n",
       "[75 rows x 2 columns]"
      ]
     },
     "execution_count": 99,
     "metadata": {},
     "output_type": "execute_result"
    }
   ],
   "source": [
    "# Eliminar a coluna 'Week' e 'total_screenings_per_week'\n",
    "df = df.drop(columns=['total_screenings_per_week'])\n",
    "\n",
    "df"
   ]
  },
  {
   "cell_type": "code",
   "execution_count": 100,
   "metadata": {},
   "outputs": [
    {
     "data": {
      "text/html": [
       "<div>\n",
       "<style scoped>\n",
       "    .dataframe tbody tr th:only-of-type {\n",
       "        vertical-align: middle;\n",
       "    }\n",
       "\n",
       "    .dataframe tbody tr th {\n",
       "        vertical-align: top;\n",
       "    }\n",
       "\n",
       "    .dataframe thead th {\n",
       "        text-align: right;\n",
       "    }\n",
       "</style>\n",
       "<table border=\"1\" class=\"dataframe\">\n",
       "  <thead>\n",
       "    <tr style=\"text-align: right;\">\n",
       "      <th></th>\n",
       "      <th>Week</th>\n",
       "      <th>Total_screenings</th>\n",
       "    </tr>\n",
       "  </thead>\n",
       "  <tbody>\n",
       "    <tr>\n",
       "      <th>1</th>\n",
       "      <td>2022-11</td>\n",
       "      <td>-30.0</td>\n",
       "    </tr>\n",
       "    <tr>\n",
       "      <th>2</th>\n",
       "      <td>2022-12</td>\n",
       "      <td>28.0</td>\n",
       "    </tr>\n",
       "    <tr>\n",
       "      <th>3</th>\n",
       "      <td>2022-14</td>\n",
       "      <td>49.0</td>\n",
       "    </tr>\n",
       "    <tr>\n",
       "      <th>4</th>\n",
       "      <td>2022-16</td>\n",
       "      <td>34.0</td>\n",
       "    </tr>\n",
       "    <tr>\n",
       "      <th>5</th>\n",
       "      <td>2022-19</td>\n",
       "      <td>-170.0</td>\n",
       "    </tr>\n",
       "    <tr>\n",
       "      <th>...</th>\n",
       "      <td>...</td>\n",
       "      <td>...</td>\n",
       "    </tr>\n",
       "    <tr>\n",
       "      <th>70</th>\n",
       "      <td>2024-11</td>\n",
       "      <td>-240.0</td>\n",
       "    </tr>\n",
       "    <tr>\n",
       "      <th>71</th>\n",
       "      <td>2024-12</td>\n",
       "      <td>30.0</td>\n",
       "    </tr>\n",
       "    <tr>\n",
       "      <th>72</th>\n",
       "      <td>2024-13</td>\n",
       "      <td>44.0</td>\n",
       "    </tr>\n",
       "    <tr>\n",
       "      <th>73</th>\n",
       "      <td>2024-15</td>\n",
       "      <td>-56.0</td>\n",
       "    </tr>\n",
       "    <tr>\n",
       "      <th>74</th>\n",
       "      <td>2024-16</td>\n",
       "      <td>-2.0</td>\n",
       "    </tr>\n",
       "  </tbody>\n",
       "</table>\n",
       "<p>74 rows × 2 columns</p>\n",
       "</div>"
      ],
      "text/plain": [
       "       Week  Total_screenings\n",
       "1   2022-11             -30.0\n",
       "2   2022-12              28.0\n",
       "3   2022-14              49.0\n",
       "4   2022-16              34.0\n",
       "5   2022-19            -170.0\n",
       "..      ...               ...\n",
       "70  2024-11            -240.0\n",
       "71  2024-12              30.0\n",
       "72  2024-13              44.0\n",
       "73  2024-15             -56.0\n",
       "74  2024-16              -2.0\n",
       "\n",
       "[74 rows x 2 columns]"
      ]
     },
     "execution_count": 100,
     "metadata": {},
     "output_type": "execute_result"
    }
   ],
   "source": [
    "# Remover linhas onde Total_screenings contém NaN\n",
    "df = df.dropna(subset=['Total_screenings'])\n",
    "\n",
    "# Exibir o DataFrame para confirmar a remoção\n",
    "df"
   ]
  },
  {
   "cell_type": "markdown",
   "metadata": {},
   "source": [
    "# LR MODEL"
   ]
  },
  {
   "cell_type": "code",
   "execution_count": 101,
   "metadata": {},
   "outputs": [],
   "source": [
    "from sklearn.model_selection import train_test_split\n",
    "from sklearn.linear_model import LinearRegression"
   ]
  },
  {
   "cell_type": "code",
   "execution_count": 102,
   "metadata": {},
   "outputs": [
    {
     "name": "stderr",
     "output_type": "stream",
     "text": [
      "C:\\Users\\Patyc\\AppData\\Local\\Temp\\ipykernel_16756\\1909281005.py:2: SettingWithCopyWarning: \n",
      "A value is trying to be set on a copy of a slice from a DataFrame.\n",
      "Try using .loc[row_indexer,col_indexer] = value instead\n",
      "\n",
      "See the caveats in the documentation: https://pandas.pydata.org/pandas-docs/stable/user_guide/indexing.html#returning-a-view-versus-a-copy\n",
      "  df['Week'] = np.arange(len(df))  # Transformando as semanas em um índice numérico para o modelo\n"
     ]
    }
   ],
   "source": [
    "# Supõe-se que o dataframe está carregado na variável df\n",
    "df['Week'] = np.arange(len(df))  # Transformando as semanas em um índice numérico para o modelo\n",
    "\n",
    "X = df[['Week']]  # Variável independente\n",
    "y = df['Total_screenings']  # Variável dependente\n",
    "\n"
   ]
  },
  {
   "cell_type": "code",
   "execution_count": null,
   "metadata": {},
   "outputs": [],
   "source": [
    "X_train, X_test, y_train, y_test = train_test_split(X, y, test_size=0.2, shuffle=False)"
   ]
  },
  {
   "cell_type": "code",
   "execution_count": 103,
   "metadata": {},
   "outputs": [
    {
     "data": {
      "text/html": [
       "<div>\n",
       "<style scoped>\n",
       "    .dataframe tbody tr th:only-of-type {\n",
       "        vertical-align: middle;\n",
       "    }\n",
       "\n",
       "    .dataframe tbody tr th {\n",
       "        vertical-align: top;\n",
       "    }\n",
       "\n",
       "    .dataframe thead th {\n",
       "        text-align: right;\n",
       "    }\n",
       "</style>\n",
       "<table border=\"1\" class=\"dataframe\">\n",
       "  <thead>\n",
       "    <tr style=\"text-align: right;\">\n",
       "      <th></th>\n",
       "      <th>Week</th>\n",
       "      <th>Total_screenings</th>\n",
       "    </tr>\n",
       "  </thead>\n",
       "  <tbody>\n",
       "    <tr>\n",
       "      <th>1</th>\n",
       "      <td>0</td>\n",
       "      <td>-30.0</td>\n",
       "    </tr>\n",
       "    <tr>\n",
       "      <th>2</th>\n",
       "      <td>1</td>\n",
       "      <td>28.0</td>\n",
       "    </tr>\n",
       "    <tr>\n",
       "      <th>3</th>\n",
       "      <td>2</td>\n",
       "      <td>49.0</td>\n",
       "    </tr>\n",
       "    <tr>\n",
       "      <th>4</th>\n",
       "      <td>3</td>\n",
       "      <td>34.0</td>\n",
       "    </tr>\n",
       "    <tr>\n",
       "      <th>5</th>\n",
       "      <td>4</td>\n",
       "      <td>-170.0</td>\n",
       "    </tr>\n",
       "    <tr>\n",
       "      <th>...</th>\n",
       "      <td>...</td>\n",
       "      <td>...</td>\n",
       "    </tr>\n",
       "    <tr>\n",
       "      <th>70</th>\n",
       "      <td>69</td>\n",
       "      <td>-240.0</td>\n",
       "    </tr>\n",
       "    <tr>\n",
       "      <th>71</th>\n",
       "      <td>70</td>\n",
       "      <td>30.0</td>\n",
       "    </tr>\n",
       "    <tr>\n",
       "      <th>72</th>\n",
       "      <td>71</td>\n",
       "      <td>44.0</td>\n",
       "    </tr>\n",
       "    <tr>\n",
       "      <th>73</th>\n",
       "      <td>72</td>\n",
       "      <td>-56.0</td>\n",
       "    </tr>\n",
       "    <tr>\n",
       "      <th>74</th>\n",
       "      <td>73</td>\n",
       "      <td>-2.0</td>\n",
       "    </tr>\n",
       "  </tbody>\n",
       "</table>\n",
       "<p>74 rows × 2 columns</p>\n",
       "</div>"
      ],
      "text/plain": [
       "    Week  Total_screenings\n",
       "1      0             -30.0\n",
       "2      1              28.0\n",
       "3      2              49.0\n",
       "4      3              34.0\n",
       "5      4            -170.0\n",
       "..   ...               ...\n",
       "70    69            -240.0\n",
       "71    70              30.0\n",
       "72    71              44.0\n",
       "73    72             -56.0\n",
       "74    73              -2.0\n",
       "\n",
       "[74 rows x 2 columns]"
      ]
     },
     "execution_count": 103,
     "metadata": {},
     "output_type": "execute_result"
    }
   ],
   "source": [
    "df"
   ]
  },
  {
   "cell_type": "code",
   "execution_count": 104,
   "metadata": {},
   "outputs": [
    {
     "name": "stderr",
     "output_type": "stream",
     "text": [
      "C:\\Users\\Patyc\\AppData\\Local\\Temp\\ipykernel_16756\\754540653.py:5: SettingWithCopyWarning: \n",
      "A value is trying to be set on a copy of a slice from a DataFrame.\n",
      "Try using .loc[row_indexer,col_indexer] = value instead\n",
      "\n",
      "See the caveats in the documentation: https://pandas.pydata.org/pandas-docs/stable/user_guide/indexing.html#returning-a-view-versus-a-copy\n",
      "  df['Week'] = df['Week'].astype(str)\n"
     ]
    }
   ],
   "source": [
    "# Define a semana de corte\n",
    "split_week = '2024-09'\n",
    "\n",
    "# Certifique-se de que a coluna 'Week' é do tipo string\n",
    "df['Week'] = df['Week'].astype(str)\n",
    "\n",
    "# Agora, divida os dados com base na semana de corte\n",
    "train = df[df['Week'] < split_week]\n",
    "test = df[df['Week'] >= split_week]\n",
    "\n",
    "# Separando X e y para cada conjunto\n",
    "X_train = train.drop(columns=['Total_screenings', 'Week'])\n",
    "y_train = train['Total_screenings']\n",
    "\n",
    "X_test = test.drop(columns=['Total_screenings', 'Week'])\n",
    "y_test = test['Total_screenings']"
   ]
  },
  {
   "cell_type": "code",
   "execution_count": 105,
   "metadata": {},
   "outputs": [
    {
     "data": {
      "text/plain": [
       "1      0\n",
       "2      1\n",
       "3      2\n",
       "4      3\n",
       "5      4\n",
       "      ..\n",
       "70    69\n",
       "71    70\n",
       "72    71\n",
       "73    72\n",
       "74    73\n",
       "Name: Week, Length: 74, dtype: object"
      ]
     },
     "execution_count": 105,
     "metadata": {},
     "output_type": "execute_result"
    }
   ],
   "source": [
    "df['Week']"
   ]
  },
  {
   "cell_type": "code",
   "execution_count": 106,
   "metadata": {},
   "outputs": [
    {
     "name": "stdout",
     "output_type": "stream",
     "text": [
      "                            OLS Regression Results                            \n",
      "==============================================================================\n",
      "Dep. Variable:       Total_screenings   R-squared:                       0.000\n",
      "Model:                            OLS   Adj. R-squared:                  0.000\n",
      "Method:                 Least Squares   F-statistic:                       nan\n",
      "Date:                Fri, 16 Aug 2024   Prob (F-statistic):                nan\n",
      "Time:                        16:25:52   Log-Likelihood:                -75.352\n",
      "No. Observations:                  14   AIC:                             152.7\n",
      "Df Residuals:                      13   BIC:                             153.3\n",
      "Df Model:                           0                                         \n",
      "Covariance Type:            nonrobust                                         \n",
      "==============================================================================\n",
      "                 coef    std err          t      P>|t|      [0.025      0.975]\n",
      "------------------------------------------------------------------------------\n",
      "const         -4.7857     14.598     -0.328      0.748     -36.323      26.751\n",
      "==============================================================================\n",
      "Omnibus:                        0.423   Durbin-Watson:                   2.293\n",
      "Prob(Omnibus):                  0.809   Jarque-Bera (JB):                0.106\n",
      "Skew:                          -0.196   Prob(JB):                        0.948\n",
      "Kurtosis:                       2.831   Cond. No.                         1.00\n",
      "==============================================================================\n",
      "\n",
      "Notes:\n",
      "[1] Standard Errors assume that the covariance matrix of the errors is correctly specified.\n"
     ]
    },
    {
     "name": "stderr",
     "output_type": "stream",
     "text": [
      "c:\\Users\\Patyc\\AppData\\Local\\Programs\\Python\\Python312\\Lib\\site-packages\\scipy\\stats\\_axis_nan_policy.py:418: UserWarning: `kurtosistest` p-value may be inaccurate with fewer than 20 observations; only n=14 observations were given.\n",
      "  return hypotest_fun_in(*args, **kwds)\n"
     ]
    }
   ],
   "source": [
    "# Adicionar uma constante aos dados\n",
    "X_train_sm = sm.add_constant(X_train)\n",
    "X_test_sm = X_test.copy()  # Certifique-se de que não está sobrescrevendo X_test original\n",
    "X_test_sm.insert(0, 'const', 1.0)\n",
    "\n",
    "# print(X_train_sm.head())\n",
    "# print(X_test_sm.head())\n",
    "\n",
    "# Ajustar o modelo\n",
    "model_sm = sm.OLS(y_train, X_train_sm).fit()\n",
    "\n",
    "# Obter o resumo do modelo\n",
    "print(model_sm.summary())\n",
    "\n",
    "# Fazer previsões no conjunto de teste\n",
    "y_pred = model_sm.predict(X_test_sm)\n",
    "\n",
    "# Calcular e imprimir as métricas de avaliação\n",
    "mae = mean_absolute_error(y_test, y_pred)\n",
    "mse = mean_squared_error(y_test, y_pred)\n",
    "rmse = np.sqrt(mse)\n",
    "r2 = r2_score(y_test, y_pred)\n",
    "me = np.mean(y_test - y_pred)\n",
    "mav = np.mean(np.abs(y_test))\n",
    "mpv = np.mean(np.abs((y_test - y_pred) / y_test))\n",
    "rme = np.mean((y_test - y_pred) / y_test)\n",
    "rmae = np.mean(np.abs(y_test - y_pred) / np.abs(y_test))"
   ]
  },
  {
   "cell_type": "code",
   "execution_count": 107,
   "metadata": {},
   "outputs": [
    {
     "name": "stdout",
     "output_type": "stream",
     "text": [
      "Modelo: LR\n",
      "MAE: 73.56190476190477\n",
      "MSE: 10809.384013605442\n",
      "RMSE: 103.96818750755176\n",
      "R2: -0.0051412835039283955\n",
      "ME: 7.435714285714285\n",
      "MAV: 73.21666666666667\n",
      "MPV: 1.1333033737837097\n",
      "RME: 0.8344938499741856\n",
      "RMAE: 1.1333033737837097\n"
     ]
    }
   ],
   "source": [
    "print(\"Modelo: LR\")\n",
    "print(f'MAE: {mae}')\n",
    "print(f'MSE: {mse}')\n",
    "print(f'RMSE: {rmse}')\n",
    "print(f'R2: {r2}')\n",
    "print(f'ME: {me}')\n",
    "print(f'MAV: {mav}')\n",
    "print(f'MPV: {mpv}')\n",
    "print(f'RME: {rme}')\n",
    "print(f'RMAE: {rmae}')\n",
    "\n",
    "# Modelo: LR shuffle\n",
    "# MAE: 99.7851431911163\n",
    "# MSE: 15949.548258569848\n",
    "# RMSE: 126.29152092903881\n",
    "# R2: -0.0015887323702037381\n",
    "# ME: 4.9245080849405785\n",
    "# MAV: 99.66666666666667\n",
    "# MPV: 1.0710098169084572\n",
    "# RME: 1.0710098169084572\n",
    "# RMAE: 1.0710098169084572\n",
    "\n",
    "# Modelo: LR split date\n",
    "# MAE: 73.56190476190477\n",
    "# MSE: 10809.384013605442\n",
    "# RMSE: 103.96818750755176\n",
    "# R2: -0.0051412835039283955\n",
    "# ME: 7.435714285714285\n",
    "# MAV: 73.21666666666667\n",
    "# MPV: 1.1333033737837097\n",
    "# RME: 0.8344938499741856\n",
    "# RMAE: 1.1333033737837097"
   ]
  },
  {
   "cell_type": "markdown",
   "metadata": {},
   "source": [
    "# LSTM MODEL"
   ]
  },
  {
   "cell_type": "code",
   "execution_count": 70,
   "metadata": {},
   "outputs": [],
   "source": [
    "from tensorflow.keras.models import Sequential # type: ignore\n",
    "from tensorflow.keras.layers import LSTM, Dense # type: ignore\n",
    "from tensorflow.keras.optimizers import Adam # type: ignore\n",
    "from sklearn.preprocessing import MinMaxScaler"
   ]
  },
  {
   "cell_type": "code",
   "execution_count": 71,
   "metadata": {},
   "outputs": [
    {
     "name": "stderr",
     "output_type": "stream",
     "text": [
      "c:\\Users\\Patyc\\AppData\\Local\\Programs\\Python\\Python312\\Lib\\site-packages\\keras\\src\\layers\\rnn\\rnn.py:204: UserWarning: Do not pass an `input_shape`/`input_dim` argument to a layer. When using Sequential models, prefer using an `Input(shape)` object as the first layer in the model instead.\n",
      "  super().__init__(**kwargs)\n"
     ]
    },
    {
     "name": "stdout",
     "output_type": "stream",
     "text": [
      "Epoch 1/20\n",
      "\u001b[1m2/2\u001b[0m \u001b[32m━━━━━━━━━━━━━━━━━━━━\u001b[0m\u001b[37m\u001b[0m \u001b[1m3s\u001b[0m 12ms/step - loss: 0.2310\n",
      "Epoch 2/20\n",
      "\u001b[1m2/2\u001b[0m \u001b[32m━━━━━━━━━━━━━━━━━━━━\u001b[0m\u001b[37m\u001b[0m \u001b[1m0s\u001b[0m 8ms/step - loss: 0.1581 \n",
      "Epoch 3/20\n",
      "\u001b[1m2/2\u001b[0m \u001b[32m━━━━━━━━━━━━━━━━━━━━\u001b[0m\u001b[37m\u001b[0m \u001b[1m0s\u001b[0m 8ms/step - loss: 0.1150 \n",
      "Epoch 4/20\n",
      "\u001b[1m2/2\u001b[0m \u001b[32m━━━━━━━━━━━━━━━━━━━━\u001b[0m\u001b[37m\u001b[0m \u001b[1m0s\u001b[0m 8ms/step - loss: 0.0655 \n",
      "Epoch 5/20\n",
      "\u001b[1m2/2\u001b[0m \u001b[32m━━━━━━━━━━━━━━━━━━━━\u001b[0m\u001b[37m\u001b[0m \u001b[1m0s\u001b[0m 7ms/step - loss: 0.0301 \n",
      "Epoch 6/20\n",
      "\u001b[1m2/2\u001b[0m \u001b[32m━━━━━━━━━━━━━━━━━━━━\u001b[0m\u001b[37m\u001b[0m \u001b[1m0s\u001b[0m 8ms/step - loss: 0.0253 \n",
      "Epoch 7/20\n",
      "\u001b[1m2/2\u001b[0m \u001b[32m━━━━━━━━━━━━━━━━━━━━\u001b[0m\u001b[37m\u001b[0m \u001b[1m0s\u001b[0m 8ms/step - loss: 0.0390 \n",
      "Epoch 8/20\n",
      "\u001b[1m2/2\u001b[0m \u001b[32m━━━━━━━━━━━━━━━━━━━━\u001b[0m\u001b[37m\u001b[0m \u001b[1m0s\u001b[0m 7ms/step - loss: 0.0395 \n",
      "Epoch 9/20\n",
      "\u001b[1m2/2\u001b[0m \u001b[32m━━━━━━━━━━━━━━━━━━━━\u001b[0m\u001b[37m\u001b[0m \u001b[1m0s\u001b[0m 7ms/step - loss: 0.0320 \n",
      "Epoch 10/20\n",
      "\u001b[1m2/2\u001b[0m \u001b[32m━━━━━━━━━━━━━━━━━━━━\u001b[0m\u001b[37m\u001b[0m \u001b[1m0s\u001b[0m 8ms/step - loss: 0.0243 \n",
      "Epoch 11/20\n",
      "\u001b[1m2/2\u001b[0m \u001b[32m━━━━━━━━━━━━━━━━━━━━\u001b[0m\u001b[37m\u001b[0m \u001b[1m0s\u001b[0m 7ms/step - loss: 0.0223 \n",
      "Epoch 12/20\n",
      "\u001b[1m2/2\u001b[0m \u001b[32m━━━━━━━━━━━━━━━━━━━━\u001b[0m\u001b[37m\u001b[0m \u001b[1m0s\u001b[0m 9ms/step - loss: 0.0288 \n",
      "Epoch 13/20\n",
      "\u001b[1m2/2\u001b[0m \u001b[32m━━━━━━━━━━━━━━━━━━━━\u001b[0m\u001b[37m\u001b[0m \u001b[1m0s\u001b[0m 10ms/step - loss: 0.0275\n",
      "Epoch 14/20\n",
      "\u001b[1m2/2\u001b[0m \u001b[32m━━━━━━━━━━━━━━━━━━━━\u001b[0m\u001b[37m\u001b[0m \u001b[1m0s\u001b[0m 8ms/step - loss: 0.0284 \n",
      "Epoch 15/20\n",
      "\u001b[1m2/2\u001b[0m \u001b[32m━━━━━━━━━━━━━━━━━━━━\u001b[0m\u001b[37m\u001b[0m \u001b[1m0s\u001b[0m 9ms/step - loss: 0.0313 \n",
      "Epoch 16/20\n",
      "\u001b[1m2/2\u001b[0m \u001b[32m━━━━━━━━━━━━━━━━━━━━\u001b[0m\u001b[37m\u001b[0m \u001b[1m0s\u001b[0m 10ms/step - loss: 0.0263\n",
      "Epoch 17/20\n",
      "\u001b[1m2/2\u001b[0m \u001b[32m━━━━━━━━━━━━━━━━━━━━\u001b[0m\u001b[37m\u001b[0m \u001b[1m0s\u001b[0m 11ms/step - loss: 0.0247\n",
      "Epoch 18/20\n",
      "\u001b[1m2/2\u001b[0m \u001b[32m━━━━━━━━━━━━━━━━━━━━\u001b[0m\u001b[37m\u001b[0m \u001b[1m0s\u001b[0m 10ms/step - loss: 0.0191\n",
      "Epoch 19/20\n",
      "\u001b[1m2/2\u001b[0m \u001b[32m━━━━━━━━━━━━━━━━━━━━\u001b[0m\u001b[37m\u001b[0m \u001b[1m0s\u001b[0m 9ms/step - loss: 0.0245 \n",
      "Epoch 20/20\n",
      "\u001b[1m2/2\u001b[0m \u001b[32m━━━━━━━━━━━━━━━━━━━━\u001b[0m\u001b[37m\u001b[0m \u001b[1m0s\u001b[0m 9ms/step - loss: 0.0222 \n"
     ]
    },
    {
     "data": {
      "text/plain": [
       "<keras.src.callbacks.history.History at 0x21afa4d5520>"
      ]
     },
     "execution_count": 71,
     "metadata": {},
     "output_type": "execute_result"
    }
   ],
   "source": [
    "# Supondo que seu dataframe seja chamado df e a coluna de interesse seja 'Total_screenings'\n",
    "data = df[['Total_screenings']].values\n",
    "\n",
    "# Normalizando os dados para ficar entre 0 e 1\n",
    "scaler = MinMaxScaler(feature_range=(0, 1))\n",
    "scaled_data = scaler.fit_transform(data)\n",
    "\n",
    "# Função para criar sequências para o LSTM\n",
    "def create_sequences(data, seq_length):\n",
    "    x = []\n",
    "    y = []\n",
    "    for i in range(seq_length, len(data)):\n",
    "        x.append(data[i-seq_length:i, 0])\n",
    "        y.append(data[i, 0])\n",
    "    return np.array(x), np.array(y)\n",
    "\n",
    "# Definir o comprimento da sequência (número de passos de tempo usados para prever o próximo valor)\n",
    "seq_length = 10\n",
    "x, y = create_sequences(scaled_data, seq_length)\n",
    "\n",
    "# Remodelando os dados para a forma [amostras, tempo, características]\n",
    "x = np.reshape(x, (x.shape[0], x.shape[1], 1))\n",
    "\n",
    "# Dividindo os dados em treino e teste\n",
    "train_size = int(len(x) * 0.8)\n",
    "x_train, x_test = x[:train_size], x[train_size:]\n",
    "y_train, y_test = y[:train_size], y[train_size:]\n",
    "\n",
    "model = Sequential()\n",
    "model.add(LSTM(units=50, return_sequences=True, input_shape=(x_train.shape[1], 1)))\n",
    "model.add(LSTM(units=50))\n",
    "model.add(Dense(1))\n",
    "\n",
    "model.compile(optimizer='adam', loss='mean_squared_error')\n",
    "\n",
    "model.fit(x_train, y_train, epochs=20, batch_size=32)"
   ]
  },
  {
   "cell_type": "code",
   "execution_count": 72,
   "metadata": {},
   "outputs": [
    {
     "name": "stdout",
     "output_type": "stream",
     "text": [
      "\u001b[1m1/1\u001b[0m \u001b[32m━━━━━━━━━━━━━━━━━━━━\u001b[0m\u001b[37m\u001b[0m \u001b[1m1s\u001b[0m 523ms/step\n"
     ]
    }
   ],
   "source": [
    "# Fazer previsões\n",
    "y_pred = model.predict(x_test)\n",
    "\n",
    "# Desnormalizar as previsões para o formato original\n",
    "y_pred = scaler.inverse_transform(y_pred.reshape(-1, 1))\n",
    "y_test = scaler.inverse_transform(y_test.reshape(-1, 1))\n",
    "\n",
    "# Calcular e imprimir as métricas de avaliação\n",
    "mae = mean_absolute_error(y_test, y_pred)\n",
    "mse = mean_squared_error(y_test, y_pred)\n",
    "rmse = np.sqrt(mse)\n",
    "r2 = r2_score(y_test, y_pred)\n",
    "me = np.mean(y_test - y_pred)\n",
    "mav = np.mean(np.abs(y_test))\n",
    "mpv = np.mean(np.abs((y_test - y_pred) / y_test))\n",
    "rme = np.mean((y_test - y_pred) / y_test)\n",
    "rmae = np.mean(np.abs(y_test - y_pred) / np.abs(y_test))"
   ]
  },
  {
   "cell_type": "code",
   "execution_count": 73,
   "metadata": {},
   "outputs": [
    {
     "name": "stdout",
     "output_type": "stream",
     "text": [
      "Modelo: LSTM\n",
      "MAE: 104.81201641376202\n",
      "MSE: 17056.0495501771\n",
      "RMSE: 130.59881144243656\n",
      "R2: -0.06992907183085695\n",
      "ME: -32.243974538949814\n",
      "MAV: 96.84615384615384\n",
      "MPV: 4.957557399315164\n",
      "RME: 4.915422248699178\n",
      "RMAE: 4.957557399315164\n"
     ]
    }
   ],
   "source": [
    "print(\"Modelo: LSTM\")\n",
    "print(f'MAE: {mae}')\n",
    "print(f'MSE: {mse}')\n",
    "print(f'RMSE: {rmse}')\n",
    "print(f'R2: {r2}')\n",
    "print(f'ME: {me}')\n",
    "print(f'MAV: {mav}')\n",
    "print(f'MPV: {mpv}')\n",
    "print(f'RME: {rme}')\n",
    "print(f'RMAE: {rmae}')\n",
    "\n",
    "# Modelo: LSTM shuffle\n",
    "# MAE: 104.81201641376202\n",
    "# MSE: 17056.0495501771\n",
    "# RMSE: 130.59881144243656\n",
    "# R2: -0.06992907183085695\n",
    "# ME: -32.243974538949814\n",
    "# MAV: 96.84615384615384\n",
    "# MPV: 4.957557399315164\n",
    "# RME: 4.915422248699178\n",
    "# RMAE: 4.957557399315164"
   ]
  },
  {
   "cell_type": "code",
   "execution_count": 85,
   "metadata": {},
   "outputs": [
    {
     "name": "stderr",
     "output_type": "stream",
     "text": [
      "C:\\Users\\Patyc\\AppData\\Local\\Temp\\ipykernel_16756\\3143327643.py:2: SettingWithCopyWarning: \n",
      "A value is trying to be set on a copy of a slice from a DataFrame.\n",
      "Try using .loc[row_indexer,col_indexer] = value instead\n",
      "\n",
      "See the caveats in the documentation: https://pandas.pydata.org/pandas-docs/stable/user_guide/indexing.html#returning-a-view-versus-a-copy\n",
      "  df['Week'] = np.arange(len(df))  # Transformando as semanas em um índice numérico para o modelo\n"
     ]
    }
   ],
   "source": [
    "# Supõe-se que o dataframe está carregado na variável df\n",
    "df['Week'] = np.arange(len(df))  # Transformando as semanas em um índice numérico para o modelo\n",
    "\n",
    "X = df[['Week']]  # Variável independente\n",
    "y = df['Total_screenings']  # Variável dependente"
   ]
  },
  {
   "cell_type": "code",
   "execution_count": 87,
   "metadata": {},
   "outputs": [
    {
     "name": "stderr",
     "output_type": "stream",
     "text": [
      "C:\\Users\\Patyc\\AppData\\Local\\Temp\\ipykernel_16756\\754540653.py:5: SettingWithCopyWarning: \n",
      "A value is trying to be set on a copy of a slice from a DataFrame.\n",
      "Try using .loc[row_indexer,col_indexer] = value instead\n",
      "\n",
      "See the caveats in the documentation: https://pandas.pydata.org/pandas-docs/stable/user_guide/indexing.html#returning-a-view-versus-a-copy\n",
      "  df['Week'] = df['Week'].astype(str)\n"
     ]
    }
   ],
   "source": [
    "# Define a semana de corte\n",
    "split_week = '2024-09'\n",
    "\n",
    "# Certifique-se de que a coluna 'Week' é do tipo string\n",
    "df['Week'] = df['Week'].astype(str)\n",
    "\n",
    "# Agora, divida os dados com base na semana de corte\n",
    "train = df[df['Week'] < split_week]\n",
    "test = df[df['Week'] >= split_week]\n",
    "\n",
    "# Separando X e y para cada conjunto\n",
    "X_train = train.drop(columns=['Total_screenings', 'Week'])\n",
    "y_train = train['Total_screenings']\n",
    "\n",
    "X_test = test.drop(columns=['Total_screenings', 'Week'])\n",
    "y_test = test['Total_screenings']"
   ]
  },
  {
   "cell_type": "code",
   "execution_count": 88,
   "metadata": {},
   "outputs": [
    {
     "name": "stdout",
     "output_type": "stream",
     "text": [
      "Epoch 1/20\n"
     ]
    },
    {
     "name": "stderr",
     "output_type": "stream",
     "text": [
      "c:\\Users\\Patyc\\AppData\\Local\\Programs\\Python\\Python312\\Lib\\site-packages\\keras\\src\\layers\\rnn\\rnn.py:204: UserWarning: Do not pass an `input_shape`/`input_dim` argument to a layer. When using Sequential models, prefer using an `Input(shape)` object as the first layer in the model instead.\n",
      "  super().__init__(**kwargs)\n"
     ]
    },
    {
     "name": "stdout",
     "output_type": "stream",
     "text": [
      "\u001b[1m2/2\u001b[0m \u001b[32m━━━━━━━━━━━━━━━━━━━━\u001b[0m\u001b[37m\u001b[0m \u001b[1m3s\u001b[0m 8ms/step - loss: 0.2671\n",
      "Epoch 2/20\n",
      "\u001b[1m2/2\u001b[0m \u001b[32m━━━━━━━━━━━━━━━━━━━━\u001b[0m\u001b[37m\u001b[0m \u001b[1m0s\u001b[0m 7ms/step - loss: 0.1757 \n",
      "Epoch 3/20\n",
      "\u001b[1m2/2\u001b[0m \u001b[32m━━━━━━━━━━━━━━━━━━━━\u001b[0m\u001b[37m\u001b[0m \u001b[1m0s\u001b[0m 8ms/step - loss: 0.1122 \n",
      "Epoch 4/20\n",
      "\u001b[1m2/2\u001b[0m \u001b[32m━━━━━━━━━━━━━━━━━━━━\u001b[0m\u001b[37m\u001b[0m \u001b[1m0s\u001b[0m 7ms/step - loss: 0.0600 \n",
      "Epoch 5/20\n",
      "\u001b[1m2/2\u001b[0m \u001b[32m━━━━━━━━━━━━━━━━━━━━\u001b[0m\u001b[37m\u001b[0m \u001b[1m0s\u001b[0m 7ms/step - loss: 0.0280 \n",
      "Epoch 6/20\n",
      "\u001b[1m2/2\u001b[0m \u001b[32m━━━━━━━━━━━━━━━━━━━━\u001b[0m\u001b[37m\u001b[0m \u001b[1m0s\u001b[0m 7ms/step - loss: 0.0258 \n",
      "Epoch 7/20\n",
      "\u001b[1m2/2\u001b[0m \u001b[32m━━━━━━━━━━━━━━━━━━━━\u001b[0m\u001b[37m\u001b[0m \u001b[1m0s\u001b[0m 8ms/step - loss: 0.0378 \n",
      "Epoch 8/20\n",
      "\u001b[1m2/2\u001b[0m \u001b[32m━━━━━━━━━━━━━━━━━━━━\u001b[0m\u001b[37m\u001b[0m \u001b[1m0s\u001b[0m 6ms/step - loss: 0.0413 \n",
      "Epoch 9/20\n",
      "\u001b[1m2/2\u001b[0m \u001b[32m━━━━━━━━━━━━━━━━━━━━\u001b[0m\u001b[37m\u001b[0m \u001b[1m0s\u001b[0m 6ms/step - loss: 0.0323 \n",
      "Epoch 10/20\n",
      "\u001b[1m2/2\u001b[0m \u001b[32m━━━━━━━━━━━━━━━━━━━━\u001b[0m\u001b[37m\u001b[0m \u001b[1m0s\u001b[0m 6ms/step - loss: 0.0227 \n",
      "Epoch 11/20\n",
      "\u001b[1m2/2\u001b[0m \u001b[32m━━━━━━━━━━━━━━━━━━━━\u001b[0m\u001b[37m\u001b[0m \u001b[1m0s\u001b[0m 8ms/step - loss: 0.0268 \n",
      "Epoch 12/20\n",
      "\u001b[1m2/2\u001b[0m \u001b[32m━━━━━━━━━━━━━━━━━━━━\u001b[0m\u001b[37m\u001b[0m \u001b[1m0s\u001b[0m 5ms/step - loss: 0.0246 \n",
      "Epoch 13/20\n",
      "\u001b[1m2/2\u001b[0m \u001b[32m━━━━━━━━━━━━━━━━━━━━\u001b[0m\u001b[37m\u001b[0m \u001b[1m0s\u001b[0m 10ms/step - loss: 0.0299\n",
      "Epoch 14/20\n",
      "\u001b[1m2/2\u001b[0m \u001b[32m━━━━━━━━━━━━━━━━━━━━\u001b[0m\u001b[37m\u001b[0m \u001b[1m0s\u001b[0m 9ms/step - loss: 0.0311 \n",
      "Epoch 15/20\n",
      "\u001b[1m2/2\u001b[0m \u001b[32m━━━━━━━━━━━━━━━━━━━━\u001b[0m\u001b[37m\u001b[0m \u001b[1m0s\u001b[0m 11ms/step - loss: 0.0248\n",
      "Epoch 16/20\n",
      "\u001b[1m2/2\u001b[0m \u001b[32m━━━━━━━━━━━━━━━━━━━━\u001b[0m\u001b[37m\u001b[0m \u001b[1m0s\u001b[0m 8ms/step - loss: 0.0277 \n",
      "Epoch 17/20\n",
      "\u001b[1m2/2\u001b[0m \u001b[32m━━━━━━━━━━━━━━━━━━━━\u001b[0m\u001b[37m\u001b[0m \u001b[1m0s\u001b[0m 9ms/step - loss: 0.0244 \n",
      "Epoch 18/20\n",
      "\u001b[1m2/2\u001b[0m \u001b[32m━━━━━━━━━━━━━━━━━━━━\u001b[0m\u001b[37m\u001b[0m \u001b[1m0s\u001b[0m 10ms/step - loss: 0.0256\n",
      "Epoch 19/20\n",
      "\u001b[1m2/2\u001b[0m \u001b[32m━━━━━━━━━━━━━━━━━━━━\u001b[0m\u001b[37m\u001b[0m \u001b[1m0s\u001b[0m 8ms/step - loss: 0.0236 \n",
      "Epoch 20/20\n",
      "\u001b[1m2/2\u001b[0m \u001b[32m━━━━━━━━━━━━━━━━━━━━\u001b[0m\u001b[37m\u001b[0m \u001b[1m0s\u001b[0m 8ms/step - loss: 0.0265 \n"
     ]
    },
    {
     "data": {
      "text/plain": [
       "<keras.src.callbacks.history.History at 0x21aff89a570>"
      ]
     },
     "execution_count": 88,
     "metadata": {},
     "output_type": "execute_result"
    }
   ],
   "source": [
    "# Supondo que seu dataframe seja chamado df e a coluna de interesse seja 'Total_screenings'\n",
    "data = df[['Total_screenings']].values\n",
    "\n",
    "# Normalizando os dados para ficar entre 0 e 1\n",
    "scaler = MinMaxScaler(feature_range=(0, 1))\n",
    "scaled_data = scaler.fit_transform(data)\n",
    "\n",
    "# Função para criar sequências para o LSTM\n",
    "def create_sequences(data, seq_length):\n",
    "    x = []\n",
    "    y = []\n",
    "    for i in range(seq_length, len(data)):\n",
    "        x.append(data[i-seq_length:i, 0])\n",
    "        y.append(data[i, 0])\n",
    "    return np.array(x), np.array(y)\n",
    "\n",
    "# Definir o comprimento da sequência (número de passos de tempo usados para prever o próximo valor)\n",
    "seq_length = 10\n",
    "x, y = create_sequences(scaled_data, seq_length)\n",
    "\n",
    "# Remodelando os dados para a forma [amostras, tempo, características]\n",
    "x = np.reshape(x, (x.shape[0], x.shape[1], 1))\n",
    "\n",
    "# Dividindo os dados em treino e teste\n",
    "train_size = int(len(x) * 0.8)\n",
    "x_train, x_test = x[:train_size], x[train_size:]\n",
    "y_train, y_test = y[:train_size], y[train_size:]\n",
    "\n",
    "model = Sequential()\n",
    "model.add(LSTM(units=50, return_sequences=True, input_shape=(x_train.shape[1], 1)))\n",
    "model.add(LSTM(units=50))\n",
    "model.add(Dense(1))\n",
    "\n",
    "model.compile(optimizer='adam', loss='mean_squared_error')\n",
    "\n",
    "model.fit(x_train, y_train, epochs=20, batch_size=32)"
   ]
  },
  {
   "cell_type": "code",
   "execution_count": 89,
   "metadata": {},
   "outputs": [
    {
     "name": "stdout",
     "output_type": "stream",
     "text": [
      "\u001b[1m1/1\u001b[0m \u001b[32m━━━━━━━━━━━━━━━━━━━━\u001b[0m\u001b[37m\u001b[0m \u001b[1m0s\u001b[0m 306ms/step\n"
     ]
    }
   ],
   "source": [
    "# Fazer previsões\n",
    "y_pred = model.predict(x_test)\n",
    "\n",
    "# Desnormalizar as previsões para o formato original\n",
    "y_pred = scaler.inverse_transform(y_pred.reshape(-1, 1))\n",
    "y_test = scaler.inverse_transform(y_test.reshape(-1, 1))\n",
    "\n",
    "# Calcular e imprimir as métricas de avaliação\n",
    "mae = mean_absolute_error(y_test, y_pred)\n",
    "mse = mean_squared_error(y_test, y_pred)\n",
    "rmse = np.sqrt(mse)\n",
    "r2 = r2_score(y_test, y_pred)\n",
    "me = np.mean(y_test - y_pred)\n",
    "mav = np.mean(np.abs(y_test))\n",
    "mpv = np.mean(np.abs((y_test - y_pred) / y_test))\n",
    "rme = np.mean((y_test - y_pred) / y_test)\n",
    "rmae = np.mean(np.abs(y_test - y_pred) / np.abs(y_test))"
   ]
  },
  {
   "cell_type": "code",
   "execution_count": 90,
   "metadata": {},
   "outputs": [
    {
     "name": "stdout",
     "output_type": "stream",
     "text": [
      "Modelo: LSTM\n",
      "MAE: 103.74068128145657\n",
      "MSE: 16983.456576509074\n",
      "RMSE: 130.3205915291558\n",
      "R2: -0.06537530146864134\n",
      "ME: -28.67636519211988\n",
      "MAV: 96.84615384615384\n",
      "MPV: 4.417209739304278\n",
      "RME: 4.398065299607012\n",
      "RMAE: 4.417209739304278\n"
     ]
    }
   ],
   "source": [
    "print(\"Modelo: LSTM\")\n",
    "print(f'MAE: {mae}')\n",
    "print(f'MSE: {mse}')\n",
    "print(f'RMSE: {rmse}')\n",
    "print(f'R2: {r2}')\n",
    "print(f'ME: {me}')\n",
    "print(f'MAV: {mav}')\n",
    "print(f'MPV: {mpv}')\n",
    "print(f'RME: {rme}')\n",
    "print(f'RMAE: {rmae}')\n",
    "\n",
    "# Modelo: LSTM split\n",
    "# MAE: 103.74068128145657\n",
    "# MSE: 16983.456576509074\n",
    "# RMSE: 130.3205915291558\n",
    "# R2: -0.06537530146864134\n",
    "# ME: -28.67636519211988\n",
    "# MAV: 96.84615384615384\n",
    "# MPV: 4.417209739304278\n",
    "# RME: 4.398065299607012\n",
    "# RMAE: 4.417209739304278"
   ]
  }
 ],
 "metadata": {
  "kernelspec": {
   "display_name": "Python 3",
   "language": "python",
   "name": "python3"
  },
  "language_info": {
   "codemirror_mode": {
    "name": "ipython",
    "version": 3
   },
   "file_extension": ".py",
   "mimetype": "text/x-python",
   "name": "python",
   "nbconvert_exporter": "python",
   "pygments_lexer": "ipython3",
   "version": "3.12.4"
  }
 },
 "nbformat": 4,
 "nbformat_minor": 2
}
