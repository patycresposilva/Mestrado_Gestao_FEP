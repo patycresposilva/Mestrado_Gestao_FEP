{
 "cells": [
  {
   "cell_type": "code",
   "execution_count": 1,
   "metadata": {},
   "outputs": [],
   "source": [
    "import pandas as pd\n",
    "import numpy as np"
   ]
  },
  {
   "cell_type": "code",
   "execution_count": 2,
   "metadata": {},
   "outputs": [
    {
     "name": "stdout",
     "output_type": "stream",
     "text": [
      "    Screening_date   nscreens\n",
      "0       2022-03-03  11.169861\n",
      "1       2022-03-04  11.169861\n",
      "2       2022-03-05  11.169861\n",
      "3       2022-03-06  11.169861\n",
      "4       2022-03-07  11.169861\n",
      "..             ...        ...\n",
      "775     2024-04-16  12.874846\n",
      "776     2024-04-17  12.874846\n",
      "777     2024-04-18  12.874846\n",
      "778     2024-04-19  12.874846\n",
      "779     2024-04-20  12.874846\n",
      "\n",
      "[780 rows x 2 columns]\n"
     ]
    }
   ],
   "source": [
    "df = pd.read_excel('C:/Users/Patyc/OneDrive/Desktop/Dissertation/Data/Skin_clean and treated/Skin_clean_location.xlsx')\n",
    "df['Location'] = df['Location'].str.strip()\n",
    "df.loc[df['Location'].eq('Faro') & df['Screening_date'].eq('2022-08-13'), 'Screening_date'] = '2022-08-14'\n",
    "df.loc[df['Location'].eq('Lisboa') & df['Screening_date'].eq('2023-05-15'), 'Screening_date'] = '2023-05-19'\n",
    "\n",
    "df.head()\n",
    "\n",
    "## Converter a data para datetime e ordenar de forma crescente\n",
    "df['Screening_date'] = pd.to_datetime(df['Screening_date'])\n",
    "df = df.sort_values(by='Screening_date')\n",
    "\n",
    "d1 = df.groupby(['Location', 'Screening_date'], as_index=False).size().sort_values(['Location', 'Screening_date'])\n",
    "d2 = d1.assign(count = d1.groupby(['Location'])['Location'].transform('count'))\n",
    "d2 = d2[d2['count'].ne(1)]\n",
    "\n",
    "d2['ndays'] = d2.groupby('Location')['Screening_date'].diff()\n",
    "d2['nscreens'] = d2['size'].values/d2['ndays'].dt.days\n",
    "d2\n",
    "\n",
    "date_range = pd.date_range(start='2022-03-03', end='2024-04-20') #datas mais extremas no dataset\n",
    "\n",
    "datesdf = pd.DataFrame(date_range, columns=['Screening_date'])\n",
    "\n",
    "list_dfs = []\n",
    "\n",
    "groups = d2.groupby('Location')\n",
    "\n",
    "for _, group in groups:\n",
    "    list_dfs.append(datesdf.merge(group, how='left').bfill().ffill())\n",
    "\n",
    "d3 = pd.concat(list_dfs)\n",
    "d3\n",
    "\n",
    "# Agrupar por 'Screening_date' e somar a coluna 'nscreens'\n",
    "d4 = d3.groupby('Screening_date', as_index=False)['nscreens'].sum()\n",
    "\n",
    "# Exibir o resultado\n",
    "print(d4)"
   ]
  },
  {
   "cell_type": "markdown",
   "metadata": {},
   "source": [
    "ADD DATE RELATED VARIABLES"
   ]
  },
  {
   "cell_type": "code",
   "execution_count": 3,
   "metadata": {},
   "outputs": [],
   "source": [
    "# Criar variável de tendência linear\n",
    "d4['days_since_start'] = (d4['Screening_date'] - d4['Screening_date'].min()).dt.days\n",
    "\n",
    "# Se houver um padrão sazonal claro, você pode criar variáveis sazonais\n",
    "# Por exemplo, seno e cosseno para capturar padrões sazonais anuais\n",
    "d4['sin_seasonal'] = np.sin(2 * np.pi * d4['days_since_start'] / 365.25)\n",
    "d4['cos_seasonal'] = np.cos(2 * np.pi * d4['days_since_start'] / 365.25)"
   ]
  },
  {
   "cell_type": "code",
   "execution_count": 4,
   "metadata": {},
   "outputs": [
    {
     "data": {
      "text/html": [
       "<div>\n",
       "<style scoped>\n",
       "    .dataframe tbody tr th:only-of-type {\n",
       "        vertical-align: middle;\n",
       "    }\n",
       "\n",
       "    .dataframe tbody tr th {\n",
       "        vertical-align: top;\n",
       "    }\n",
       "\n",
       "    .dataframe thead th {\n",
       "        text-align: right;\n",
       "    }\n",
       "</style>\n",
       "<table border=\"1\" class=\"dataframe\">\n",
       "  <thead>\n",
       "    <tr style=\"text-align: right;\">\n",
       "      <th></th>\n",
       "      <th>Screening_date</th>\n",
       "      <th>nscreens</th>\n",
       "      <th>days_since_start</th>\n",
       "      <th>sin_seasonal</th>\n",
       "      <th>cos_seasonal</th>\n",
       "    </tr>\n",
       "  </thead>\n",
       "  <tbody>\n",
       "    <tr>\n",
       "      <th>0</th>\n",
       "      <td>2022-03-03</td>\n",
       "      <td>11.169861</td>\n",
       "      <td>0</td>\n",
       "      <td>0.000000</td>\n",
       "      <td>1.000000</td>\n",
       "    </tr>\n",
       "    <tr>\n",
       "      <th>1</th>\n",
       "      <td>2022-03-04</td>\n",
       "      <td>11.169861</td>\n",
       "      <td>1</td>\n",
       "      <td>0.017202</td>\n",
       "      <td>0.999852</td>\n",
       "    </tr>\n",
       "    <tr>\n",
       "      <th>2</th>\n",
       "      <td>2022-03-05</td>\n",
       "      <td>11.169861</td>\n",
       "      <td>2</td>\n",
       "      <td>0.034398</td>\n",
       "      <td>0.999408</td>\n",
       "    </tr>\n",
       "    <tr>\n",
       "      <th>3</th>\n",
       "      <td>2022-03-06</td>\n",
       "      <td>11.169861</td>\n",
       "      <td>3</td>\n",
       "      <td>0.051584</td>\n",
       "      <td>0.998669</td>\n",
       "    </tr>\n",
       "    <tr>\n",
       "      <th>4</th>\n",
       "      <td>2022-03-07</td>\n",
       "      <td>11.169861</td>\n",
       "      <td>4</td>\n",
       "      <td>0.068755</td>\n",
       "      <td>0.997634</td>\n",
       "    </tr>\n",
       "    <tr>\n",
       "      <th>...</th>\n",
       "      <td>...</td>\n",
       "      <td>...</td>\n",
       "      <td>...</td>\n",
       "      <td>...</td>\n",
       "      <td>...</td>\n",
       "    </tr>\n",
       "    <tr>\n",
       "      <th>775</th>\n",
       "      <td>2024-04-16</td>\n",
       "      <td>12.874846</td>\n",
       "      <td>775</td>\n",
       "      <td>0.692903</td>\n",
       "      <td>0.721031</td>\n",
       "    </tr>\n",
       "    <tr>\n",
       "      <th>776</th>\n",
       "      <td>2024-04-17</td>\n",
       "      <td>12.874846</td>\n",
       "      <td>776</td>\n",
       "      <td>0.705204</td>\n",
       "      <td>0.709005</td>\n",
       "    </tr>\n",
       "    <tr>\n",
       "      <th>777</th>\n",
       "      <td>2024-04-18</td>\n",
       "      <td>12.874846</td>\n",
       "      <td>777</td>\n",
       "      <td>0.717295</td>\n",
       "      <td>0.696769</td>\n",
       "    </tr>\n",
       "    <tr>\n",
       "      <th>778</th>\n",
       "      <td>2024-04-19</td>\n",
       "      <td>12.874846</td>\n",
       "      <td>778</td>\n",
       "      <td>0.729175</td>\n",
       "      <td>0.684328</td>\n",
       "    </tr>\n",
       "    <tr>\n",
       "      <th>779</th>\n",
       "      <td>2024-04-20</td>\n",
       "      <td>12.874846</td>\n",
       "      <td>779</td>\n",
       "      <td>0.740838</td>\n",
       "      <td>0.671683</td>\n",
       "    </tr>\n",
       "  </tbody>\n",
       "</table>\n",
       "<p>780 rows × 5 columns</p>\n",
       "</div>"
      ],
      "text/plain": [
       "    Screening_date   nscreens  days_since_start  sin_seasonal  cos_seasonal\n",
       "0       2022-03-03  11.169861                 0      0.000000      1.000000\n",
       "1       2022-03-04  11.169861                 1      0.017202      0.999852\n",
       "2       2022-03-05  11.169861                 2      0.034398      0.999408\n",
       "3       2022-03-06  11.169861                 3      0.051584      0.998669\n",
       "4       2022-03-07  11.169861                 4      0.068755      0.997634\n",
       "..             ...        ...               ...           ...           ...\n",
       "775     2024-04-16  12.874846               775      0.692903      0.721031\n",
       "776     2024-04-17  12.874846               776      0.705204      0.709005\n",
       "777     2024-04-18  12.874846               777      0.717295      0.696769\n",
       "778     2024-04-19  12.874846               778      0.729175      0.684328\n",
       "779     2024-04-20  12.874846               779      0.740838      0.671683\n",
       "\n",
       "[780 rows x 5 columns]"
      ]
     },
     "execution_count": 4,
     "metadata": {},
     "output_type": "execute_result"
    }
   ],
   "source": [
    "d4"
   ]
  },
  {
   "cell_type": "markdown",
   "metadata": {},
   "source": [
    "CORRELAÇÃO VVS"
   ]
  },
  {
   "cell_type": "code",
   "execution_count": 4,
   "metadata": {},
   "outputs": [
    {
     "name": "stdout",
     "output_type": "stream",
     "text": [
      "                  Screening_date  nscreens  days_since_start  sin_seasonal  \\\n",
      "Screening_date          1.000000 -0.084516          1.000000     -0.289133   \n",
      "nscreens               -0.084516  1.000000         -0.084516      0.298890   \n",
      "days_since_start        1.000000 -0.084516          1.000000     -0.289133   \n",
      "sin_seasonal           -0.289133  0.298890         -0.289133      1.000000   \n",
      "cos_seasonal            0.123695  0.413998          0.123695      0.038901   \n",
      "\n",
      "                  cos_seasonal  \n",
      "Screening_date        0.123695  \n",
      "nscreens              0.413998  \n",
      "days_since_start      0.123695  \n",
      "sin_seasonal          0.038901  \n",
      "cos_seasonal          1.000000  \n"
     ]
    },
    {
     "data": {
      "image/png": "[encoded data removed]",
      "text/plain": [
       "<Figure size 1000x800 with 2 Axes>"
      ]
     },
     "metadata": {},
     "output_type": "display_data"
    }
   ],
   "source": [
    "import matplotlib.pyplot as plt\n",
    "import seaborn as sns\n",
    "\n",
    "# Calcular a matriz de correlação\n",
    "correlation_matrix = d4[['Screening_date','nscreens', 'days_since_start', 'sin_seasonal', 'cos_seasonal']].corr()\n",
    "\n",
    "# Exibir a matriz de correlação\n",
    "print(correlation_matrix)\n",
    "\n",
    "# Plotar a matriz de correlação como um heatmap\n",
    "plt.figure(figsize=(10, 8))\n",
    "sns.heatmap(correlation_matrix, annot=True, cmap='coolwarm', fmt='.2f', vmin=-1, vmax=1)\n",
    "plt.title('Matriz de Correlação')\n",
    "plt.show()"
   ]
  },
  {
   "cell_type": "markdown",
   "metadata": {},
   "source": [
    "# SARIMAX"
   ]
  },
  {
   "cell_type": "code",
   "execution_count": 5,
   "metadata": {},
   "outputs": [],
   "source": [
    "# Dividir os dados em treino e teste\n",
    "train_size = int(len(d4) * 0.8)  # Usar 80% dos dados para treino\n",
    "train = d4.iloc[:train_size]\n",
    "test = d4.iloc[train_size:]\n",
    "\n",
    "# Definir as variáveis de treino e teste\n",
    "y_train = train['nscreens']\n",
    "X_train = train[['days_since_start', 'sin_seasonal', 'cos_seasonal']]\n",
    "y_test = test['nscreens']\n",
    "X_test = test[['days_since_start', 'sin_seasonal', 'cos_seasonal']]"
   ]
  },
  {
   "cell_type": "code",
   "execution_count": 6,
   "metadata": {},
   "outputs": [
    {
     "name": "stdout",
     "output_type": "stream",
     "text": [
      "Modelo: SARIMA \n",
      "MAE: 2.587979598386678\n",
      "MSE: 10.797161007843679\n",
      "RMSE: 3.2859033777400817\n",
      "R2: -1.847062915299889\n",
      "ME: 2.587979598386678\n",
      "MAV: 11.228988121444878\n",
      "MPV: 0.20377932207449226\n",
      "RME: 0.20377932207449226\n",
      "RMAE: 0.20377932207449226\n"
     ]
    }
   ],
   "source": [
    "from sklearn.metrics import mean_absolute_error, mean_squared_error, r2_score\n",
    "import statsmodels.api as sm\n",
    "\n",
    "# Ajustar o modelo SARIMAX com dados de treino\n",
    "model = sm.tsa.SARIMAX(y_train, exog=X_train, order=(1, 0, 1), seasonal_order=(1, 1, 1, 7))\n",
    "model_fit = model.fit(disp=False)\n",
    "\n",
    "# Previsão com dados de teste\n",
    "forecast = model_fit.get_forecast(steps=len(y_test), exog=X_test)\n",
    "forecast_values = forecast.predicted_mean\n",
    "forecast_conf_int = forecast.conf_int()\n",
    "\n",
    "# Avaliar o modelo com métricas de desempenho\n",
    "mae = mean_absolute_error(y_test, forecast_values)\n",
    "mse = mean_squared_error(y_test, forecast_values)\n",
    "rmse = np.sqrt(mse)\n",
    "r2 = r2_score(y_test, forecast_values)\n",
    "me = np.mean(y_test - forecast_values)\n",
    "mav = np.mean(np.abs(y_test))\n",
    "mpv = np.mean(np.abs((y_test - forecast_values) / y_test))\n",
    "rme = np.mean((y_test - forecast_values) / y_test)\n",
    "rmae = np.mean(np.abs(y_test - forecast_values) / np.abs(y_test))\n",
    "\n",
    "# Imprimir as métricas\n",
    "print(\"Modelo: SARIMA \")\n",
    "print(f'MAE: {mae}')\n",
    "print(f'MSE: {mse}')\n",
    "print(f'RMSE: {rmse}')\n",
    "print(f'R2: {r2}')\n",
    "print(f'ME: {me}')\n",
    "print(f'MAV: {mav}')\n",
    "print(f'MPV: {mpv}')\n",
    "print(f'RME: {rme}')\n",
    "print(f'RMAE: {rmae}')\n",
    "\n",
    "# Modelo: SARIMA \n",
    "# MAE: 2.587979598386678\n",
    "# MSE: 10.797161007843679\n",
    "# RMSE: 3.2859033777400817\n",
    "# R2: -1.847062915299889\n",
    "# ME: 2.587979598386678\n",
    "# MAV: 11.228988121444878\n",
    "# MPV: 0.20377932207449226\n",
    "# RME: 0.20377932207449226\n",
    "# RMAE: 0.20377932207449226\n"
   ]
  },
  {
   "cell_type": "markdown",
   "metadata": {},
   "source": [
    "Sem vv altamente corr - days_since_start"
   ]
  },
  {
   "cell_type": "code",
   "execution_count": 7,
   "metadata": {},
   "outputs": [],
   "source": [
    "# Dividir os dados em treino e teste\n",
    "train_size = int(len(d4) * 0.8)  # Usar 80% dos dados para treino\n",
    "train = d4.iloc[:train_size]\n",
    "test = d4.iloc[train_size:]\n",
    "\n",
    "# Definir as variáveis de treino e teste\n",
    "y_train = train['nscreens']\n",
    "X_train = train[['sin_seasonal', 'cos_seasonal']]\n",
    "y_test = test['nscreens']\n",
    "X_test = test[['sin_seasonal', 'cos_seasonal']]"
   ]
  },
  {
   "cell_type": "code",
   "execution_count": 8,
   "metadata": {},
   "outputs": [
    {
     "name": "stderr",
     "output_type": "stream",
     "text": [
      "c:\\Users\\Patyc\\AppData\\Local\\Programs\\Python\\Python312\\Lib\\site-packages\\statsmodels\\base\\model.py:607: ConvergenceWarning: Maximum Likelihood optimization failed to converge. Check mle_retvals\n",
      "  warnings.warn(\"Maximum Likelihood optimization failed to \"\n"
     ]
    },
    {
     "name": "stdout",
     "output_type": "stream",
     "text": [
      "Modelo: SARIMA \n",
      "MAE: 2.0197811228082796\n",
      "MSE: 6.607635906861251\n",
      "RMSE: 2.5705322224903644\n",
      "R2: -0.74234274496437\n",
      "ME: 1.8998991254639106\n",
      "MAV: 11.228988121444878\n",
      "MPV: 0.1589387907985102\n",
      "RME: 0.14550631453201074\n",
      "RMAE: 0.1589387907985102\n"
     ]
    }
   ],
   "source": [
    "from sklearn.metrics import mean_absolute_error, mean_squared_error, r2_score\n",
    "import statsmodels.api as sm\n",
    "\n",
    "# Ajustar o modelo SARIMAX com dados de treino\n",
    "model = sm.tsa.SARIMAX(y_train, exog=X_train, order=(1, 0, 1), seasonal_order=(1, 1, 1, 7))\n",
    "model_fit = model.fit(disp=False)\n",
    "\n",
    "# Previsão com dados de teste\n",
    "forecast = model_fit.get_forecast(steps=len(y_test), exog=X_test)\n",
    "forecast_values = forecast.predicted_mean\n",
    "forecast_conf_int = forecast.conf_int()\n",
    "\n",
    "# Avaliar o modelo com métricas de desempenho\n",
    "mae = mean_absolute_error(y_test, forecast_values)\n",
    "mse = mean_squared_error(y_test, forecast_values)\n",
    "rmse = np.sqrt(mse)\n",
    "r2 = r2_score(y_test, forecast_values)\n",
    "me = np.mean(y_test - forecast_values)\n",
    "mav = np.mean(np.abs(y_test))\n",
    "mpv = np.mean(np.abs((y_test - forecast_values) / y_test))\n",
    "rme = np.mean((y_test - forecast_values) / y_test)\n",
    "rmae = np.mean(np.abs(y_test - forecast_values) / np.abs(y_test))\n",
    "\n",
    "# Imprimir as métricas\n",
    "print(\"Modelo: SARIMA \")\n",
    "print(f'MAE: {mae}')\n",
    "print(f'MSE: {mse}')\n",
    "print(f'RMSE: {rmse}')\n",
    "print(f'R2: {r2}')\n",
    "print(f'ME: {me}')\n",
    "print(f'MAV: {mav}')\n",
    "print(f'MPV: {mpv}')\n",
    "print(f'RME: {rme}')\n",
    "print(f'RMAE: {rmae}')\n",
    "\n",
    "# SARIMAX SEM 'days_since_start'\n",
    "# MAE: 2.0197811228082796\n",
    "# MSE: 6.607635906861251\n",
    "# RMSE: 2.5705322224903644\n",
    "# R2: -0.74234274496437\n",
    "# ME: 1.8998991254639106\n",
    "# MAV: 11.228988121444878\n",
    "# MPV: 0.1589387907985102\n",
    "# RME: 0.14550631453201074\n",
    "# RMAE: 0.1589387907985102\n"
   ]
  }
 ],
 "metadata": {
  "kernelspec": {
   "display_name": "Python 3",
   "language": "python",
   "name": "python3"
  },
  "language_info": {
   "codemirror_mode": {
    "name": "ipython",
    "version": 3
   },
   "file_extension": ".py",
   "mimetype": "text/x-python",
   "name": "python",
   "nbconvert_exporter": "python",
   "pygments_lexer": "ipython3",
   "version": "3.12.4"
  }
 },
 "nbformat": 4,
 "nbformat_minor": 2
}
